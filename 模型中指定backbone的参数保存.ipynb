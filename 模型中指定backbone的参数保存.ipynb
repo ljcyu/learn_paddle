{
 "cells": [
  {
   "cell_type": "markdown",
   "metadata": {},
   "source": [
    "# 在参数前边增加了backbone作为名字"
   ]
  },
  {
   "cell_type": "code",
   "execution_count": null,
   "metadata": {
    "collapsed": true
   },
   "outputs": [],
   "source": [
    "import paddle\n",
    "import paddle.nn as nn"
   ]
  },
  {
   "cell_type": "code",
   "execution_count": null,
   "metadata": {
    "collapsed": false
   },
   "outputs": [],
   "source": [
    "class SelfModel(nn.Layer):\n",
    "    def __init__(self,num_classes,embedding_size=128,mode='train'):\n",
    "        super(SelfModel,self).__init__()\n",
    "        self.backbone=paddle.vision.resnet50(pretrained=True)\n",
    "        del self.backbone.fc\n",
    "        self.avg=nn.AdaptiveAvgPool2D((1,1))\n",
    "        self.drop=nn.Dropout(0.5)\n",
    "        self.fc=nn.Linear(1024,embedding_size,bias_attr=False)\n",
    "        self.last_bn=nn.BatchNorm1D(embedding_size)\n",
    "        if mode=='train':\n",
    "            self.classifier=nn.Linear(embedding_size,num_classes)\n",
    "    def forward(self,input):\n",
    "        x=self.backbone(input)\n",
    "        x=self.avg(x)\n",
    "        x=self.drop(x)\n",
    "        x=self.fc(x)\n",
    "        x=self.last_bn(x)\n",
    "        x=self.classifier(x)\n",
    "        return x\n",
    "    def forward_feature(self,x):\n",
    "        x=self.backbone(input)\n",
    "        x=self.avg(x)\n",
    "        x=self.drop(x)\n",
    "        x=self.fc(x)\n",
    "        before_bn=self.last_bn(x)\n",
    "        x=self.classifier(before_bn)\n",
    "        return before_bn,x\n",
    "    def forward_classifier(self,x):\n",
    "        x=self.classifier(x)\n",
    "        return x"
   ]
  },
  {
   "cell_type": "code",
   "execution_count": null,
   "metadata": {
    "collapsed": false
   },
   "outputs": [],
   "source": [
    "# 在参数千百年 \n",
    "_model=SelfModel(128,45000)\n",
    "paddle.save(_model.state_dict(),'test.pdparams')\n",
    "_model_dict = paddle.load('test.pdparams')\n",
    "for key in _model_dict:\n",
    "    print(key,_model_dict[key].shape)"
   ]
  }
 ],
 "metadata": {
  "kernelspec": {
   "display_name": "Python 3",
   "language": "python",
   "name": "python3"
  },
  "language_info": {
   "codemirror_mode": {
    "name": "ipython",
    "version": 2
   },
   "file_extension": ".py",
   "mimetype": "text/x-python",
   "name": "python",
   "nbconvert_exporter": "python",
   "pygments_lexer": "ipython2",
   "version": "2.7.6"
  }
 },
 "nbformat": 4,
 "nbformat_minor": 0
}
