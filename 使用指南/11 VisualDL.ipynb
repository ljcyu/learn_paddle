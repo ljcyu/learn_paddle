{
 "cells": [
  {
   "cell_type": "code",
   "execution_count": null,
   "outputs": [],
   "source": [
    "from visualdl import LogWriter\n",
    "\n",
    "if __name__ == '__main__':\n",
    "    value = [i/1000.0 for i in range(1000)]\n",
    "    # 初始化一个记录器\n",
    "    with LogWriter(logdir=\"./log/scalar_test/train\") as writer:\n",
    "        for step in range(1000):\n",
    "            # 向记录器添加一个tag为`acc`的数据\n",
    "            writer.add_scalar(tag=\"acc\", step=step, value=value[step])\n",
    "            # 向记录器添加一个tag为`loss`的数据\n",
    "            writer.add_scalar(tag=\"loss\", step=step, value=1/(value[step] + 1))"
   ],
   "metadata": {
    "collapsed": false
   }
  },
  {
   "cell_type": "code",
   "execution_count": null,
   "outputs": [],
   "source": [
    "from visualdl import LogWriter\n",
    "\n",
    "if __name__ == '__main__':\n",
    "    value = [i/1000.0 for i in range(1000)]\n",
    "    # 步骤一：创建父文件夹：log与子文件夹：scalar_test\n",
    "    with LogWriter(logdir=\"./log/scalar_test\") as writer:\n",
    "        for step in range(1000):\n",
    "            # 步骤二：向记录器添加一个tag为`train/acc`的数据\n",
    "            writer.add_scalar(tag=\"train/acc\", step=step, value=value[step])\n",
    "            # 步骤二：向记录器添加一个tag为`train/loss`的数据\n",
    "            writer.add_scalar(tag=\"train/loss\", step=step, value=1/(value[step] + 1))\n",
    "    # 步骤一：创建第二个子文件夹scalar_test2\n",
    "    value = [i/500.0 for i in range(1000)]\n",
    "    with LogWriter(logdir=\"./log/scalar_test2\") as writer:\n",
    "        for step in range(1000):\n",
    "            # 步骤二：在同样名为`train/acc`下添加scalar_test2的accuracy的数据\n",
    "            writer.add_scalar(tag=\"train/acc\", step=step, value=value[step])\n",
    "            # 步骤二：在同样名为`train/loss`下添加scalar_test2的loss的数据\n",
    "            writer.add_scalar(tag=\"train/loss\", step=step, value=1/(value[step] + 1))\n"
   ],
   "metadata": {
    "collapsed": false
   }
  },
  {
   "cell_type": "markdown",
   "source": [
    "# 图片\n",
    "如果有问题，把visual更新到最新，pillow也更新到最新\n",
    "pillow=9.3.0，visual=2.4.1"
   ],
   "metadata": {
    "collapsed": false
   }
  },
  {
   "cell_type": "code",
   "execution_count": 1,
   "outputs": [
    {
     "ename": "FileNotFoundError",
     "evalue": "[Errno 2] No such file or directory: '/home/aistudio/data/data55032/alexandrite_18.jpg'",
     "output_type": "error",
     "traceback": [
      "\u001B[1;31m---------------------------------------------------------------------------\u001B[0m",
      "\u001B[1;31mFileNotFoundError\u001B[0m                         Traceback (most recent call last)",
      "\u001B[1;32m<ipython-input-1-3652181fee1a>\u001B[0m in \u001B[0;36m<module>\u001B[1;34m\u001B[0m\n\u001B[0;32m     22\u001B[0m             \u001B[1;31m# 添加一个图片数据\u001B[0m\u001B[1;33m\u001B[0m\u001B[1;33m\u001B[0m\u001B[1;33m\u001B[0m\u001B[0m\n\u001B[0;32m     23\u001B[0m             writer.add_image(tag=\"eye\",\n\u001B[1;32m---> 24\u001B[1;33m                              \u001B[0mimg\u001B[0m\u001B[1;33m=\u001B[0m\u001B[0mrandom_crop\u001B[0m\u001B[1;33m(\u001B[0m\u001B[1;34m\"/home/aistudio/data/data55032/alexandrite_18.jpg\"\u001B[0m\u001B[1;33m)\u001B[0m\u001B[1;33m,\u001B[0m\u001B[1;33m\u001B[0m\u001B[1;33m\u001B[0m\u001B[0m\n\u001B[0m\u001B[0;32m     25\u001B[0m                              step=step)\n",
      "\u001B[1;32m<ipython-input-1-3652181fee1a>\u001B[0m in \u001B[0;36mrandom_crop\u001B[1;34m(img)\u001B[0m\n\u001B[0;32m      8\u001B[0m     \"\"\"获取图片的随机 100x100 分片\n\u001B[0;32m      9\u001B[0m     \"\"\"\n\u001B[1;32m---> 10\u001B[1;33m     \u001B[0mimg\u001B[0m \u001B[1;33m=\u001B[0m \u001B[0mImage\u001B[0m\u001B[1;33m.\u001B[0m\u001B[0mopen\u001B[0m\u001B[1;33m(\u001B[0m\u001B[0mimg\u001B[0m\u001B[1;33m)\u001B[0m\u001B[1;33m\u001B[0m\u001B[1;33m\u001B[0m\u001B[0m\n\u001B[0m\u001B[0;32m     11\u001B[0m     \u001B[0mw\u001B[0m\u001B[1;33m,\u001B[0m \u001B[0mh\u001B[0m \u001B[1;33m=\u001B[0m \u001B[0mimg\u001B[0m\u001B[1;33m.\u001B[0m\u001B[0msize\u001B[0m\u001B[1;33m\u001B[0m\u001B[1;33m\u001B[0m\u001B[0m\n\u001B[0;32m     12\u001B[0m     \u001B[0mrandom_w\u001B[0m \u001B[1;33m=\u001B[0m \u001B[0mnp\u001B[0m\u001B[1;33m.\u001B[0m\u001B[0mrandom\u001B[0m\u001B[1;33m.\u001B[0m\u001B[0mrandint\u001B[0m\u001B[1;33m(\u001B[0m\u001B[1;36m0\u001B[0m\u001B[1;33m,\u001B[0m \u001B[0mw\u001B[0m \u001B[1;33m-\u001B[0m \u001B[1;36m100\u001B[0m\u001B[1;33m)\u001B[0m\u001B[1;33m\u001B[0m\u001B[1;33m\u001B[0m\u001B[0m\n",
      "\u001B[1;32md:\\tool\\python36\\lib\\site-packages\\PIL\\Image.py\u001B[0m in \u001B[0;36mopen\u001B[1;34m(fp, mode, formats)\u001B[0m\n\u001B[0;32m   2910\u001B[0m \u001B[1;33m\u001B[0m\u001B[0m\n\u001B[0;32m   2911\u001B[0m     \u001B[1;32mif\u001B[0m \u001B[0mfilename\u001B[0m\u001B[1;33m:\u001B[0m\u001B[1;33m\u001B[0m\u001B[1;33m\u001B[0m\u001B[0m\n\u001B[1;32m-> 2912\u001B[1;33m         \u001B[0mfp\u001B[0m \u001B[1;33m=\u001B[0m \u001B[0mbuiltins\u001B[0m\u001B[1;33m.\u001B[0m\u001B[0mopen\u001B[0m\u001B[1;33m(\u001B[0m\u001B[0mfilename\u001B[0m\u001B[1;33m,\u001B[0m \u001B[1;34m\"rb\"\u001B[0m\u001B[1;33m)\u001B[0m\u001B[1;33m\u001B[0m\u001B[1;33m\u001B[0m\u001B[0m\n\u001B[0m\u001B[0;32m   2913\u001B[0m         \u001B[0mexclusive_fp\u001B[0m \u001B[1;33m=\u001B[0m \u001B[1;32mTrue\u001B[0m\u001B[1;33m\u001B[0m\u001B[1;33m\u001B[0m\u001B[0m\n\u001B[0;32m   2914\u001B[0m \u001B[1;33m\u001B[0m\u001B[0m\n",
      "\u001B[1;31mFileNotFoundError\u001B[0m: [Errno 2] No such file or directory: '/home/aistudio/data/data55032/alexandrite_18.jpg'"
     ]
    }
   ],
   "source": [
    "\n",
    "import numpy as np\n",
    "from PIL import Image\n",
    "from visualdl import LogWriter\n",
    "\n",
    "\n",
    "def random_crop(img):\n",
    "    \"\"\"获取图片的随机 100x100 分片\n",
    "    \"\"\"\n",
    "    img = Image.open(img)\n",
    "    w, h = img.size\n",
    "    random_w = np.random.randint(0, w - 100)\n",
    "    random_h = np.random.randint(0, h - 100)\n",
    "    r = img.crop((random_w, random_h, random_w + 100, random_h + 100))\n",
    "    return np.asarray(r)\n",
    "\n",
    "\n",
    "if __name__ == '__main__':\n",
    "    # 初始化一个记录器\n",
    "    with LogWriter(logdir=\"./image_test/train\") as writer:\n",
    "        for step in range(6):\n",
    "            # 添加一个图片数据\n",
    "            writer.add_image(tag=\"eye\",\n",
    "                             img=random_crop(\"/home/aistudio/data/data55032/alexandrite_18.jpg\"),\n",
    "                             step=step)"
   ],
   "metadata": {
    "collapsed": false
   }
  },
  {
   "cell_type": "markdown",
   "source": [
    "# Histogram--直方图组件[¶](https://www.paddlepaddle.org.cn/documentation/docs/zh/guides/advanced/visualdl_usage_cn.html#histogram \"永久链接至标题\")\n",
    "\n",
    "### 介绍[¶](https://www.paddlepaddle.org.cn/documentation/docs/zh/guides/advanced/visualdl_usage_cn.html#id12 \"永久链接至标题\")\n",
    "\n",
    "Histogram组件以直方图形式展示Tensor（weight、bias、gradient等）数据在训练过程中的变化趋势。深入了解模型各层效果，帮助开发者精准调整模型结构。\n",
    "\n",
    "### 记录接口[¶](https://www.paddlepaddle.org.cn/documentation/docs/zh/guides/advanced/visualdl_usage_cn.html#id13 \"永久链接至标题\")\n",
    "\n",
    "Histogram 组件的记录接口如下：\n",
    "\n",
    "add\\_histogram(tag, values, step, walltime\\=None, buckets\\=10)\n",
    "\n",
    "接口参数说明如下：\n",
    "\n",
    "| 参数 | 格式 | 含义 |\n",
    "| --- | --- | --- |\n",
    "| tag | string | 记录指标的标志，如`train/loss`，不能含有`%` |\n",
    "| values | numpy.ndarray or list | 以ndarray或list格式表示的数据 |\n",
    "| step | int | 记录的步数 |\n",
    "| walltime | int | 记录数据的时间戳，默认为当前时间戳 |\n",
    "| buckets | int | 生成直方图的分段数，默认为10 |"
   ],
   "metadata": {
    "collapsed": false
   }
  },
  {
   "cell_type": "code",
   "execution_count": null,
   "outputs": [],
   "source": [
    "from visualdl import LogWriter\n",
    "import numpy as np\n",
    "\n",
    "\n",
    "if __name__ == '__main__':\n",
    "    values = np.arange(0, 1000)\n",
    "    with LogWriter(logdir=\"./log/histogram_test/train\") as writer:\n",
    "        for index in range(1, 101):\n",
    "            interval_start = 1 + 2 * index / 100.0\n",
    "            interval_end = 6 - 2 * index / 100.0\n",
    "            data = np.random.uniform(interval_start, interval_end, size=(10000))\n",
    "            writer.add_histogram(tag='default tag',\n",
    "                                 values=data,\n",
    "                                 step=index,\n",
    "                                 buckets=10)\n"
   ],
   "metadata": {
    "collapsed": false
   }
  },
  {
   "cell_type": "markdown",
   "source": [
    "## PR Curve--PR曲线组件[¶](https://www.paddlepaddle.org.cn/documentation/docs/zh/guides/advanced/visualdl_usage_cn.html#pr-curve-pr \"永久链接至标题\")\n",
    "\n",
    "### 介绍[¶](https://www.paddlepaddle.org.cn/documentation/docs/zh/guides/advanced/visualdl_usage_cn.html#id16 \"永久链接至标题\")\n",
    "\n",
    "PR Curve以折线图形式呈现精度与召回率的权衡分析，清晰直观了解模型训练效果，便于分析模型是否达到理想标准。\n",
    "\n",
    "### 记录接口[¶](https://www.paddlepaddle.org.cn/documentation/docs/zh/guides/advanced/visualdl_usage_cn.html#id17 \"永久链接至标题\")\n",
    "\n",
    "PR Curve组件的记录接口如下：\n",
    "\n",
    "add\\_pr\\_curve(tag, labels, predictions, step\\=None, num\\_thresholds\\=10)\n",
    "\n",
    "接口参数说明如下：\n",
    "\n",
    "| 参数 | 格式 | 含义 |\n",
    "| --- | --- | --- |\n",
    "| tag | string | 记录指标的标志，如`train/loss`，不能含有`%` |\n",
    "| labels | numpy.ndarray or list | 以ndarray或list格式表示的实际类别 |\n",
    "| predictions | numpy.ndarray or list | 以ndarray或list格式表示的预测类别 |\n",
    "| step | int | 记录的步数 |\n",
    "| num\\_thresholds | int | 阈值设置的个数，默认为10，最大值为127 |"
   ],
   "metadata": {
    "collapsed": false
   }
  },
  {
   "cell_type": "code",
   "execution_count": 2,
   "outputs": [],
   "source": [
    "from visualdl import LogWriter\n",
    "import numpy as np\n",
    "\n",
    "with LogWriter(\"./log/pr_curve_test/train\") as writer:\n",
    "    for step in range(3):\n",
    "        labels = np.random.randint(2, size=100)\n",
    "        predictions = np.random.rand(100)\n",
    "        writer.add_pr_curve(tag='pr_curve',\n",
    "                            labels=labels,\n",
    "                            predictions=predictions,\n",
    "                            step=step,\n",
    "                            num_thresholds=5)"
   ],
   "metadata": {
    "collapsed": false
   }
  }
 ],
 "metadata": {
  "kernelspec": {
   "display_name": "Python 3",
   "language": "python",
   "name": "python3"
  },
  "language_info": {
   "codemirror_mode": {
    "name": "ipython",
    "version": 2
   },
   "file_extension": ".py",
   "mimetype": "text/x-python",
   "name": "python",
   "nbconvert_exporter": "python",
   "pygments_lexer": "ipython2",
   "version": "2.7.6"
  }
 },
 "nbformat": 4,
 "nbformat_minor": 0
}
