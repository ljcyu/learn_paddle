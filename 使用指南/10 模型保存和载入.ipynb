{
 "cells": [
  {
   "cell_type": "code",
   "execution_count": 7,
   "outputs": [
    {
     "name": "stdout",
     "output_type": "stream",
     "text": [
      "Epoch 0 batch 0: loss = 2.9415159225463867\n",
      "Epoch 0 batch 1: loss = 2.4194467067718506\n",
      "Epoch 0 batch 2: loss = 2.3176610469818115\n",
      "Epoch 0 batch 3: loss = 2.5523810386657715\n",
      "Epoch 1 batch 0: loss = 2.217099189758301\n",
      "Epoch 1 batch 1: loss = 2.6772921085357666\n",
      "Epoch 1 batch 2: loss = 2.2865443229675293\n",
      "Epoch 1 batch 3: loss = 2.4641644954681396\n",
      "Epoch 2 batch 0: loss = 2.396103620529175\n",
      "Epoch 2 batch 1: loss = 2.57643461227417\n",
      "Epoch 2 batch 2: loss = 2.2850711345672607\n",
      "Epoch 2 batch 3: loss = 2.4605910778045654\n",
      "Epoch 3 batch 0: loss = 2.365332841873169\n",
      "Epoch 3 batch 1: loss = 2.3683786392211914\n",
      "Epoch 3 batch 2: loss = 2.3753390312194824\n",
      "Epoch 3 batch 3: loss = 2.178776741027832\n"
     ]
    },
    {
     "name": "stderr",
     "output_type": "stream",
     "text": [
      "d:\\tool\\python36\\lib\\site-packages\\paddle\\fluid\\reader.py:352: UserWarning: DataLoader with multi-process mode is not supported on MacOs and Windows currently. Please use signle-process mode with num_workers = 0 instead\n",
      "  \"DataLoader with multi-process mode is not supported on MacOs and Windows currently.\" \\\n"
     ]
    }
   ],
   "source": [
    "import numpy as np\n",
    "import paddle\n",
    "import paddle.nn as nn\n",
    "import paddle.optimizer as opt\n",
    "\n",
    "BATCH_SIZE = 16\n",
    "BATCH_NUM = 4\n",
    "EPOCH_NUM = 4\n",
    "\n",
    "IMAGE_SIZE = 784\n",
    "CLASS_NUM = 10\n",
    "\n",
    "# define a random dataset\n",
    "class RandomDataset(paddle.io.Dataset):\n",
    "    def __init__(self, num_samples):\n",
    "        self.num_samples = num_samples\n",
    "\n",
    "    def __getitem__(self, idx):\n",
    "        image = np.random.random([IMAGE_SIZE]).astype('float32')\n",
    "        label = np.random.randint(0, CLASS_NUM - 1, (1, )).astype('int64')\n",
    "        return image, label\n",
    "\n",
    "    def __len__(self):\n",
    "        return self.num_samples\n",
    "\n",
    "class LinearNet(nn.Layer):\n",
    "    def __init__(self):\n",
    "        super(LinearNet, self).__init__()\n",
    "        self._linear = nn.Linear(IMAGE_SIZE, CLASS_NUM)\n",
    "\n",
    "    def forward(self, x):\n",
    "        return self._linear(x)\n",
    "\n",
    "def train(layer, loader, loss_fn, opt):\n",
    "    for epoch_id in range(EPOCH_NUM):\n",
    "        for batch_id, (image, label) in enumerate(loader()):\n",
    "            out = layer(image)\n",
    "            loss = loss_fn(out, label)\n",
    "            loss.backward()\n",
    "            opt.step()\n",
    "            opt.clear_grad()\n",
    "            print(\"Epoch {} batch {}: loss = {}\".format(\n",
    "                epoch_id, batch_id, np.mean(loss.numpy())))\n",
    "\n",
    "# create network\n",
    "layer = LinearNet()\n",
    "loss_fn = nn.CrossEntropyLoss()\n",
    "adam = opt.Adam(learning_rate=0.001, parameters=layer.parameters())\n",
    "\n",
    "# create data loader\n",
    "dataset = RandomDataset(BATCH_NUM * BATCH_SIZE)\n",
    "loader = paddle.io.DataLoader(dataset,\n",
    "    batch_size=BATCH_SIZE,\n",
    "    shuffle=True,\n",
    "    drop_last=True,\n",
    "    num_workers=2)\n",
    "\n",
    "# train\n",
    "train(layer, loader, loss_fn, adam)\n"
   ],
   "metadata": {
    "collapsed": false
   }
  },
  {
   "cell_type": "markdown",
   "source": [
    "# save分别保存net和opt参数"
   ],
   "metadata": {
    "collapsed": false
   }
  },
  {
   "cell_type": "code",
   "execution_count": 8,
   "outputs": [],
   "source": [
    "# save\n",
    "paddle.save(layer.state_dict(), \"linear_net.pdparams\")\n",
    "paddle.save(adam.state_dict(), \"adam.pdopt\")\n"
   ],
   "metadata": {
    "collapsed": false
   }
  },
  {
   "cell_type": "code",
   "execution_count": 9,
   "outputs": [],
   "source": [
    "layer_state_dict = paddle.load(\"linear_net.pdparams\")\n",
    "opt_state_dict = paddle.load(\"adam.pdopt\")\n",
    "\n",
    "layer.set_state_dict(layer_state_dict)\n",
    "adam.set_state_dict(opt_state_dict)"
   ],
   "metadata": {
    "collapsed": false
   }
  },
  {
   "cell_type": "code",
   "execution_count": null,
   "outputs": [],
   "source": [
    "# 包装为Model保存"
   ],
   "metadata": {
    "collapsed": false
   }
  },
  {
   "cell_type": "code",
   "execution_count": 10,
   "outputs": [],
   "source": [
    "model=paddle.Model(layer)\n",
    "model.save('model') #会自动加.pdparams\n"
   ],
   "metadata": {
    "collapsed": false
   }
  },
  {
   "cell_type": "code",
   "execution_count": 12,
   "outputs": [
    {
     "ename": "TypeError",
     "evalue": "can't pickle ParamBase objects",
     "output_type": "error",
     "traceback": [
      "\u001B[1;31m---------------------------------------------------------------------------\u001B[0m",
      "\u001B[1;31mTypeError\u001B[0m                                 Traceback (most recent call last)",
      "\u001B[1;32m<ipython-input-12-afcd50a4e948>\u001B[0m in \u001B[0;36m<module>\u001B[1;34m\u001B[0m\n\u001B[0;32m      1\u001B[0m \u001B[0mobj_data\u001B[0m\u001B[1;33m=\u001B[0m\u001B[1;33m{\u001B[0m\u001B[1;34m'model'\u001B[0m\u001B[1;33m:\u001B[0m\u001B[0mlayer\u001B[0m\u001B[1;33m.\u001B[0m\u001B[0mstate_dict\u001B[0m\u001B[1;33m(\u001B[0m\u001B[1;33m)\u001B[0m\u001B[1;33m,\u001B[0m\u001B[1;34m'opt'\u001B[0m\u001B[1;33m:\u001B[0m\u001B[0madam\u001B[0m\u001B[1;33m.\u001B[0m\u001B[0mstate_dict\u001B[0m\u001B[1;33m(\u001B[0m\u001B[1;33m)\u001B[0m\u001B[1;33m}\u001B[0m\u001B[1;33m\u001B[0m\u001B[1;33m\u001B[0m\u001B[0m\n\u001B[1;32m----> 2\u001B[1;33m \u001B[0mpaddle\u001B[0m\u001B[1;33m.\u001B[0m\u001B[0msave\u001B[0m\u001B[1;33m(\u001B[0m\u001B[0mobj_data\u001B[0m\u001B[1;33m,\u001B[0m\u001B[1;34m'model_opt'\u001B[0m\u001B[1;33m)\u001B[0m\u001B[1;33m\u001B[0m\u001B[1;33m\u001B[0m\u001B[0m\n\u001B[0m",
      "\u001B[1;32md:\\tool\\python36\\lib\\site-packages\\paddle\\framework\\io.py\u001B[0m in \u001B[0;36msave\u001B[1;34m(obj, path, pickle_protocol)\u001B[0m\n\u001B[0;32m    287\u001B[0m     \u001B[1;32melse\u001B[0m\u001B[1;33m:\u001B[0m\u001B[1;33m\u001B[0m\u001B[1;33m\u001B[0m\u001B[0m\n\u001B[0;32m    288\u001B[0m         \u001B[1;32mwith\u001B[0m \u001B[0mopen\u001B[0m\u001B[1;33m(\u001B[0m\u001B[0mpath\u001B[0m\u001B[1;33m,\u001B[0m \u001B[1;34m'wb'\u001B[0m\u001B[1;33m)\u001B[0m \u001B[1;32mas\u001B[0m \u001B[0mf\u001B[0m\u001B[1;33m:\u001B[0m\u001B[1;33m\u001B[0m\u001B[1;33m\u001B[0m\u001B[0m\n\u001B[1;32m--> 289\u001B[1;33m             \u001B[0mpickle\u001B[0m\u001B[1;33m.\u001B[0m\u001B[0mdump\u001B[0m\u001B[1;33m(\u001B[0m\u001B[0msaved_obj\u001B[0m\u001B[1;33m,\u001B[0m \u001B[0mf\u001B[0m\u001B[1;33m,\u001B[0m \u001B[0mprotocol\u001B[0m\u001B[1;33m=\u001B[0m\u001B[0mpickle_protocol\u001B[0m\u001B[1;33m)\u001B[0m\u001B[1;33m\u001B[0m\u001B[1;33m\u001B[0m\u001B[0m\n\u001B[0m\u001B[0;32m    290\u001B[0m \u001B[1;33m\u001B[0m\u001B[0m\n\u001B[0;32m    291\u001B[0m \u001B[1;33m\u001B[0m\u001B[0m\n",
      "\u001B[1;31mTypeError\u001B[0m: can't pickle ParamBase objects"
     ]
    }
   ],
   "source": [
    "# paddle2.3可运行\n",
    "obj_data={'model':layer.state_dict(),'opt':adam.state_dict()}\n",
    "paddle.save(obj_data,'model_opt')"
   ],
   "metadata": {
    "collapsed": false
   }
  }
 ],
 "metadata": {
  "kernelspec": {
   "display_name": "Python 3",
   "language": "python",
   "name": "python3"
  },
  "language_info": {
   "codemirror_mode": {
    "name": "ipython",
    "version": 2
   },
   "file_extension": ".py",
   "mimetype": "text/x-python",
   "name": "python",
   "nbconvert_exporter": "python",
   "pygments_lexer": "ipython2",
   "version": "2.7.6"
  }
 },
 "nbformat": 4,
 "nbformat_minor": 0
}
