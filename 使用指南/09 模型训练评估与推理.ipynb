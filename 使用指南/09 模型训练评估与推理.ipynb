{
 "cells": [
  {
   "cell_type": "code",
   "execution_count": 3,
   "metadata": {
    "collapsed": true
   },
   "outputs": [],
   "source": [
    "import paddle\n",
    "from paddle.vision.transforms import Normalize\n",
    "\n",
    "transform = Normalize(mean=[127.5], std=[127.5], data_format='CHW')\n",
    "# 加载 MNIST 训练集和测试集\n",
    "train_dataset = paddle.vision.datasets.MNIST(mode='train', transform=transform)\n",
    "test_dataset = paddle.vision.datasets.MNIST(mode='test', transform=transform)\n",
    "\n",
    "# 模型组网，构建并初始化一个模型 mnist\n",
    "mnist = paddle.nn.Sequential(\n",
    "    paddle.nn.Flatten(1, -1),\n",
    "    paddle.nn.Linear(784, 512),\n",
    "    paddle.nn.ReLU(),\n",
    "    paddle.nn.Dropout(0.2),\n",
    "    paddle.nn.Linear(512, 10)\n",
    ")\n"
   ]
  },
  {
   "cell_type": "code",
   "execution_count": 10,
   "outputs": [],
   "source": [
    "class MyDataset(paddle.io.Dataset):\n",
    "    def __init__(self,dataset):\n",
    "        super(MyDataset,self).__init__()\n",
    "        self.dataset=dataset\n",
    "    def __getitem__(self, index):\n",
    "        return self.dataset[index]\n",
    "\n",
    "    def __len__(self):\n",
    "        return len(self.dataset)//5\n",
    "\n",
    "self_train_dataset=MyDataset(train_dataset)\n",
    "self_test_dataset=MyDataset(test_dataset)\n",
    "\n"
   ],
   "metadata": {
    "collapsed": false
   }
  },
  {
   "cell_type": "code",
   "execution_count": 8,
   "outputs": [],
   "source": [
    "# 封装模型为一个 model 实例，便于进行后续的训练、评估和推理\n",
    "model = paddle.Model(mnist)\n",
    "# 为模型训练做准备，设置优化器及其学习率，并将网络的参数传入优化器，设置损失函数和精度计算方式\n",
    "model.prepare(optimizer=paddle.optimizer.Adam(learning_rate=0.001, parameters=model.parameters()),\n",
    "              loss=paddle.nn.CrossEntropyLoss(),\n",
    "              metrics=paddle.metric.Accuracy())\n"
   ],
   "metadata": {
    "collapsed": false
   }
  },
  {
   "cell_type": "code",
   "execution_count": 11,
   "outputs": [
    {
     "name": "stdout",
     "output_type": "stream",
     "text": [
      "The loss value printed in the log is the current step, and the metric is the average value of previous step.\n",
      "Epoch 1/5\n",
      "step 188/188 [==============================] - loss: 0.3066 - acc: 0.8209 - 10ms/step          \n",
      "Eval begin...\n",
      "The loss value printed in the log is the current batch, and the metric is the average value of previous step.\n",
      "step 32/32 [==============================] - loss: 0.2979 - acc: 0.8610 - 8ms/step          \n",
      "Eval samples: 2000\n",
      "Epoch 2/5\n",
      "step 188/188 [==============================] - loss: 0.2239 - acc: 0.9100 - 9ms/step           \n",
      "Eval begin...\n",
      "The loss value printed in the log is the current batch, and the metric is the average value of previous step.\n",
      "step 32/32 [==============================] - loss: 0.2277 - acc: 0.9005 - 7ms/step          \n",
      "Eval samples: 2000\n",
      "Epoch 3/5\n",
      "step 188/188 [==============================] - loss: 0.1078 - acc: 0.9326 - 7ms/step          \n",
      "Eval begin...\n",
      "The loss value printed in the log is the current batch, and the metric is the average value of previous step.\n",
      "step 32/32 [==============================] - loss: 0.1217 - acc: 0.9160 - 6ms/step          \n",
      "Eval samples: 2000\n",
      "Epoch 4/5\n",
      "step 188/188 [==============================] - loss: 0.0602 - acc: 0.9459 - 8ms/step          \n",
      "Eval begin...\n",
      "The loss value printed in the log is the current batch, and the metric is the average value of previous step.\n",
      "step 32/32 [==============================] - loss: 0.2935 - acc: 0.9240 - 7ms/step          \n",
      "Eval samples: 2000\n",
      "Epoch 5/5\n",
      "step 188/188 [==============================] - loss: 0.0811 - acc: 0.9539 - 9ms/step          \n",
      "Eval begin...\n",
      "The loss value printed in the log is the current batch, and the metric is the average value of previous step.\n",
      "step 32/32 [==============================] - loss: 0.3350 - acc: 0.9190 - 8ms/step          \n",
      "Eval samples: 2000\n"
     ]
    }
   ],
   "source": [
    "# 启动模型训练，指定训练数据集，设置训练轮次，设置每次数据集计算的批次大小，设置日志格式\n",
    "model.fit(self_train_dataset,eval_data=self_test_dataset,\n",
    "          epochs=5,\n",
    "          batch_size=64,\n",
    "          verbose=1)\n"
   ],
   "metadata": {
    "collapsed": false
   }
  },
  {
   "cell_type": "code",
   "execution_count": 12,
   "outputs": [
    {
     "name": "stdout",
     "output_type": "stream",
     "text": [
      "Eval begin...\n",
      "The loss value printed in the log is the current batch, and the metric is the average value of previous step.\n",
      "step 10000/10000 [==============================] - loss: 6.6757e-06 - acc: 0.9398 - 3ms/step          \n",
      "Eval samples: 10000\n",
      "{'loss': [6.675698e-06], 'acc': 0.9398}\n"
     ]
    }
   ],
   "source": [
    "# 用 evaluate 在测试集上对模型进行验证\n",
    "eval_result = model.evaluate(self_test_dataset, verbose=1)\n",
    "print(eval_result)\n"
   ],
   "metadata": {
    "collapsed": false
   }
  },
  {
   "cell_type": "markdown",
   "source": [
    "# predict输出\n",
    "模型是单一输出：结果为[1,n批，m种类数],[(numpy_ndarray_1, numpy_ndarray_2, …, numpy_ndarray_n)]，\n",
    "模型是多输出：结果为[m,n],[(numpy_ndarray_1, numpy_ndarray_2, …, numpy_ndarray_n), (numpy_ndarray_1, numpy_ndarray_2, …, numpy_ndarray_n), …]\n",
    "\n",
    "如果模型是单一输出，则输出的形状为 [1, n]，n 表示数据集的样本数。其中每个 numpy_ndarray_n 是对应原始数据经过模型计算后得到的预测结果，类型为 numpy 数组，例如 mnist 分类任务中，每个 numpy_ndarray_n 是长度为 10 的 numpy 数组。\n",
    "\n",
    "如果模型是多输出，则输出的形状为[m, n]，m 表示标签的种类数，在多标签分类任务中，m 会根据标签的数目而定。"
   ],
   "metadata": {
    "collapsed": false
   }
  },
  {
   "cell_type": "code",
   "execution_count": 22,
   "outputs": [
    {
     "name": "stdout",
     "output_type": "stream",
     "text": [
      "Predict begin...\n",
      "step 2000/2000 [==============================] - 3ms/step          \n",
      "Predict samples: 2000\n",
      "1\n",
      "2000\n",
      "[[-2.6724722 -3.3764327  1.6130106  4.3637486 -6.9111414 -0.8649532\n",
      "  -8.738144  10.380799  -0.8362608  1.0366589]]\n"
     ]
    }
   ],
   "source": [
    "test_result=model.predict(self_test_dataset)\n",
    "print(len(test_result)) #1\n",
    "print(len(test_result[0]))#2000\n",
    "print(test_result[0][0])"
   ],
   "metadata": {
    "collapsed": false
   }
  },
  {
   "cell_type": "code",
   "execution_count": 17,
   "outputs": [
    {
     "name": "stdout",
     "output_type": "stream",
     "text": [
      "pred_label:9 true_label：[9]\n"
     ]
    }
   ],
   "source": [
    "pred_label=test_result[0][20].argmax()\n",
    "img,true_label=self_test_dataset[20]\n",
    "print(f'pred_label:{pred_label} true_label：{true_label}')"
   ],
   "metadata": {
    "collapsed": false
   }
  },
  {
   "cell_type": "code",
   "execution_count": 21,
   "outputs": [
    {
     "name": "stdout",
     "output_type": "stream",
     "text": [
      "(1, 28, 28)\n"
     ]
    },
    {
     "data": {
      "text/plain": "<matplotlib.image.AxesImage at 0x29814824c50>"
     },
     "execution_count": 21,
     "metadata": {},
     "output_type": "execute_result"
    },
    {
     "data": {
      "text/plain": "<Figure size 432x288 with 1 Axes>",
      "image/png": "[encoded data removed]"
     },
     "metadata": {
      "needs_background": "light"
     },
     "output_type": "display_data"
    }
   ],
   "source": [
    "print(img.shape)\n",
    "from matplotlib import pyplot as plt\n",
    "plt.imshow(img[0])"
   ],
   "metadata": {
    "collapsed": false
   }
  },
  {
   "cell_type": "markdown",
   "source": [
    "# fit拆解\n",
    "飞桨框架通过基础 API 对模型进行训练，对应高层 API 的 Model.prepare 与 Model.fit ，一般包括如下几个步骤：\n",
    "\n",
    "加载训练数据集、声明模型、设置模型实例为 train 模式\n",
    "\n",
    "设置优化器、损失函数与各个超参数\n",
    "\n",
    "设置模型训练的二层循环嵌套，并在内层循环嵌套中设置如下内容\n",
    "\n",
    "3.1 从数据读取器 DataLoader 获取一批次训练数据\n",
    "\n",
    "3.2 执行一次预测，即经过模型计算获得输入数据的预测值\n",
    "\n",
    "3.3 计算预测值与数据集标签的损失\n",
    "\n",
    "3.4 计算预测值与数据集标签的准确率\n",
    "\n",
    "3.5 将损失进行反向传播\n",
    "\n",
    "3.6 打印模型的轮数、批次、损失值、准确率等信息\n",
    "\n",
    "3.7 执行一次优化器步骤，即按照选择的优化算法，根据当前批次数据的梯度更新传入优化器的参数\n",
    "\n",
    "3.8 将优化器的梯度进行清零"
   ],
   "metadata": {
    "collapsed": false
   }
  },
  {
   "cell_type": "code",
   "execution_count": 28,
   "outputs": [
    {
     "name": "stdout",
     "output_type": "stream",
     "text": [
      "epoch: 0, batch_id: 50, loss is: [0.04622211], acc is: [0.96875]\n",
      "epoch: 0, batch_id: 100, loss is: [0.04025707], acc is: [0.984375]\n",
      "epoch: 0, batch_id: 150, loss is: [0.01878752], acc is: [1.]\n",
      "epoch: 1, batch_id: 50, loss is: [0.04404696], acc is: [0.984375]\n",
      "epoch: 1, batch_id: 100, loss is: [0.00445972], acc is: [1.]\n",
      "epoch: 1, batch_id: 150, loss is: [0.0383167], acc is: [0.96875]\n",
      "epoch: 2, batch_id: 50, loss is: [0.00124187], acc is: [1.]\n",
      "epoch: 2, batch_id: 100, loss is: [0.00665052], acc is: [1.]\n",
      "epoch: 2, batch_id: 150, loss is: [0.01051711], acc is: [1.]\n",
      "epoch: 3, batch_id: 50, loss is: [0.00524316], acc is: [1.]\n",
      "epoch: 3, batch_id: 100, loss is: [0.06856215], acc is: [0.96875]\n",
      "epoch: 3, batch_id: 150, loss is: [0.03784144], acc is: [0.984375]\n",
      "epoch: 4, batch_id: 50, loss is: [0.04834902], acc is: [0.96875]\n",
      "epoch: 4, batch_id: 100, loss is: [0.02801925], acc is: [0.984375]\n",
      "epoch: 4, batch_id: 150, loss is: [0.00773724], acc is: [1.]\n"
     ]
    }
   ],
   "source": [
    "\n"
   ],
   "metadata": {
    "collapsed": false
   }
  },
  {
   "cell_type": "code",
   "execution_count": null,
   "outputs": [],
   "source": [],
   "metadata": {
    "collapsed": false
   }
  }
 ],
 "metadata": {
  "kernelspec": {
   "display_name": "Python 3",
   "language": "python",
   "name": "python3"
  },
  "language_info": {
   "codemirror_mode": {
    "name": "ipython",
    "version": 2
   },
   "file_extension": ".py",
   "mimetype": "text/x-python",
   "name": "python",
   "nbconvert_exporter": "python",
   "pygments_lexer": "ipython2",
   "version": "2.7.6"
  }
 },
 "nbformat": 4,
 "nbformat_minor": 0
}
