{
 "cells": [
  {
   "cell_type": "code",
   "execution_count": 3,
   "metadata": {
    "collapsed": true
   },
   "outputs": [],
   "source": [
    "import paddle\n",
    "from paddle.vision.transforms import Normalize\n",
    "\n",
    "transform = Normalize(mean=[127.5], std=[127.5], data_format='CHW')\n",
    "# 加载 MNIST 训练集和测试集\n",
    "train_dataset = paddle.vision.datasets.MNIST(mode='train', transform=transform)\n",
    "test_dataset = paddle.vision.datasets.MNIST(mode='test', transform=transform)\n",
    "\n",
    "# 模型组网，构建并初始化一个模型 mnist\n",
    "mnist = paddle.nn.Sequential(\n",
    "    paddle.nn.Flatten(1, -1),\n",
    "    paddle.nn.Linear(784, 512),\n",
    "    paddle.nn.ReLU(),\n",
    "    paddle.nn.Dropout(0.2),\n",
    "    paddle.nn.Linear(512, 10)\n",
    ")\n"
   ]
  },
  {
   "cell_type": "code",
   "execution_count": 10,
   "outputs": [],
   "source": [
    "class MyDataset(paddle.io.Dataset):\n",
    "    def __init__(self,dataset):\n",
    "        super(MyDataset,self).__init__()\n",
    "        self.dataset=dataset\n",
    "    def __getitem__(self, index):\n",
    "        return self.dataset[index]\n",
    "\n",
    "    def __len__(self):\n",
    "        return len(self.dataset)//5\n",
    "\n",
    "self_train_dataset=MyDataset(train_dataset)\n",
    "self_test_dataset=MyDataset(test_dataset)\n",
    "\n"
   ],
   "metadata": {
    "collapsed": false
   }
  },
  {
   "cell_type": "code",
   "execution_count": 8,
   "outputs": [],
   "source": [
    "# 封装模型为一个 model 实例，便于进行后续的训练、评估和推理\n",
    "model = paddle.Model(mnist)\n",
    "# 为模型训练做准备，设置优化器及其学习率，并将网络的参数传入优化器，设置损失函数和精度计算方式\n",
    "model.prepare(optimizer=paddle.optimizer.Adam(learning_rate=0.001, parameters=model.parameters()),\n",
    "              loss=paddle.nn.CrossEntropyLoss(),\n",
    "              metrics=paddle.metric.Accuracy())\n"
   ],
   "metadata": {
    "collapsed": false
   }
  },
  {
   "cell_type": "code",
   "execution_count": 11,
   "outputs": [
    {
     "name": "stdout",
     "output_type": "stream",
     "text": [
      "The loss value printed in the log is the current step, and the metric is the average value of previous step.\n",
      "Epoch 1/5\n",
      "step 188/188 [==============================] - loss: 0.3066 - acc: 0.8209 - 10ms/step          \n",
      "Eval begin...\n",
      "The loss value printed in the log is the current batch, and the metric is the average value of previous step.\n",
      "step 32/32 [==============================] - loss: 0.2979 - acc: 0.8610 - 8ms/step          \n",
      "Eval samples: 2000\n",
      "Epoch 2/5\n",
      "step 188/188 [==============================] - loss: 0.2239 - acc: 0.9100 - 9ms/step           \n",
      "Eval begin...\n",
      "The loss value printed in the log is the current batch, and the metric is the average value of previous step.\n",
      "step 32/32 [==============================] - loss: 0.2277 - acc: 0.9005 - 7ms/step          \n",
      "Eval samples: 2000\n",
      "Epoch 3/5\n",
      "step 188/188 [==============================] - loss: 0.1078 - acc: 0.9326 - 7ms/step          \n",
      "Eval begin...\n",
      "The loss value printed in the log is the current batch, and the metric is the average value of previous step.\n",
      "step 32/32 [==============================] - loss: 0.1217 - acc: 0.9160 - 6ms/step          \n",
      "Eval samples: 2000\n",
      "Epoch 4/5\n",
      "step 188/188 [==============================] - loss: 0.0602 - acc: 0.9459 - 8ms/step          \n",
      "Eval begin...\n",
      "The loss value printed in the log is the current batch, and the metric is the average value of previous step.\n",
      "step 32/32 [==============================] - loss: 0.2935 - acc: 0.9240 - 7ms/step          \n",
      "Eval samples: 2000\n",
      "Epoch 5/5\n",
      "step 188/188 [==============================] - loss: 0.0811 - acc: 0.9539 - 9ms/step          \n",
      "Eval begin...\n",
      "The loss value printed in the log is the current batch, and the metric is the average value of previous step.\n",
      "step 32/32 [==============================] - loss: 0.3350 - acc: 0.9190 - 8ms/step          \n",
      "Eval samples: 2000\n"
     ]
    }
   ],
   "source": [
    "# 启动模型训练，指定训练数据集，设置训练轮次，设置每次数据集计算的批次大小，设置日志格式\n",
    "model.fit(self_train_dataset,eval_data=self_test_dataset,\n",
    "          epochs=5,\n",
    "          batch_size=64,\n",
    "          verbose=1)\n"
   ],
   "metadata": {
    "collapsed": false
   }
  },
  {
   "cell_type": "code",
   "execution_count": 12,
   "outputs": [
    {
     "name": "stdout",
     "output_type": "stream",
     "text": [
      "Eval begin...\n",
      "The loss value printed in the log is the current batch, and the metric is the average value of previous step.\n",
      "step 10000/10000 [==============================] - loss: 6.6757e-06 - acc: 0.9398 - 3ms/step          \n",
      "Eval samples: 10000\n",
      "{'loss': [6.675698e-06], 'acc': 0.9398}\n"
     ]
    }
   ],
   "source": [
    "# 用 evaluate 在测试集上对模型进行验证\n",
    "eval_result = model.evaluate(self_test_dataset, verbose=1)\n",
    "print(eval_result)\n"
   ],
   "metadata": {
    "collapsed": false
   }
  },
  {
   "cell_type": "markdown",
   "source": [
    "# predict输出\n",
    "模型是单一输出：结果为[1,n批，m种类数],[(numpy_ndarray_1, numpy_ndarray_2, …, numpy_ndarray_n)]，\n",
    "模型是多输出：结果为[m,n],[(numpy_ndarray_1, numpy_ndarray_2, …, numpy_ndarray_n), (numpy_ndarray_1, numpy_ndarray_2, …, numpy_ndarray_n), …]\n",
    "\n",
    "如果模型是单一输出，则输出的形状为 [1, n]，n 表示数据集的样本数。其中每个 numpy_ndarray_n 是对应原始数据经过模型计算后得到的预测结果，类型为 numpy 数组，例如 mnist 分类任务中，每个 numpy_ndarray_n 是长度为 10 的 numpy 数组。\n",
    "\n",
    "如果模型是多输出，则输出的形状为[m, n]，m 表示标签的种类数，在多标签分类任务中，m 会根据标签的数目而定。"
   ],
   "metadata": {
    "collapsed": false
   }
  },
  {
   "cell_type": "code",
   "execution_count": 22,
   "outputs": [
    {
     "name": "stdout",
     "output_type": "stream",
     "text": [
      "Predict begin...\n",
      "step 2000/2000 [==============================] - 3ms/step          \n",
      "Predict samples: 2000\n",
      "1\n",
      "2000\n",
      "[[-2.6724722 -3.3764327  1.6130106  4.3637486 -6.9111414 -0.8649532\n",
      "  -8.738144  10.380799  -0.8362608  1.0366589]]\n"
     ]
    }
   ],
   "source": [
    "test_result=model.predict(self_test_dataset)\n",
    "print(len(test_result)) #1\n",
    "print(len(test_result[0]))#2000\n",
    "print(test_result[0][0])"
   ],
   "metadata": {
    "collapsed": false
   }
  },
  {
   "cell_type": "code",
   "execution_count": 49,
   "outputs": [
    {
     "name": "stdout",
     "output_type": "stream",
     "text": [
      "pred_label:9 true_label：[9]\n"
     ]
    }
   ],
   "source": [
    "pred_label=test_result[0][20].argmax()\n",
    "img,true_label=self_test_dataset[20]\n",
    "print(f'pred_label:{pred_label} true_label：{true_label}')"
   ],
   "metadata": {
    "collapsed": false
   }
  },
  {
   "cell_type": "code",
   "execution_count": 50,
   "outputs": [
    {
     "name": "stdout",
     "output_type": "stream",
     "text": [
      "(1, 28, 28)\n"
     ]
    },
    {
     "data": {
      "text/plain": "<matplotlib.image.AxesImage at 0x298b45743c8>"
     },
     "execution_count": 50,
     "metadata": {},
     "output_type": "execute_result"
    },
    {
     "data": {
      "text/plain": "<Figure size 432x288 with 1 Axes>",
      "image/png": "[encoded data removed]"
     },
     "metadata": {
      "needs_background": "light"
     },
     "output_type": "display_data"
    }
   ],
   "source": [
    "print(img.shape)\n",
    "from matplotlib import pyplot as plt\n",
    "plt.imshow(img[0])"
   ],
   "metadata": {
    "collapsed": false
   }
  },
  {
   "cell_type": "markdown",
   "source": [
    "# fit拆解\n",
    "飞桨框架通过基础 API 对模型进行训练，对应高层 API 的 Model.prepare 与 Model.fit ，一般包括如下几个步骤：\n",
    "\n",
    "加载训练数据集、声明模型、设置模型实例为 train 模式\n",
    "\n",
    "设置优化器、损失函数与各个超参数\n",
    "\n",
    "设置模型训练的二层循环嵌套，并在内层循环嵌套中设置如下内容\n",
    "\n",
    "3.1 从数据读取器 DataLoader 获取一批次训练数据\n",
    "\n",
    "3.2 执行一次预测，即经过模型计算获得输入数据的预测值\n",
    "\n",
    "3.3 计算预测值与数据集标签的损失\n",
    "\n",
    "3.4 计算预测值与数据集标签的准确率\n",
    "\n",
    "3.5 将损失进行反向传播\n",
    "\n",
    "3.6 打印模型的轮数、批次、损失值、准确率等信息\n",
    "\n",
    "3.7 执行一次优化器步骤，即按照选择的优化算法，根据当前批次数据的梯度更新传入优化器的参数\n",
    "\n",
    "3.8 将优化器的梯度进行清零"
   ],
   "metadata": {
    "collapsed": false
   }
  },
  {
   "cell_type": "code",
   "execution_count": 29,
   "outputs": [
    {
     "name": "stdout",
     "output_type": "stream",
     "text": [
      "epoch: 0, batch_id: 50, loss is: [0.00323081], acc is: [1.]\n",
      "epoch: 0, batch_id: 100, loss is: [0.00069481], acc is: [1.]\n",
      "epoch: 0, batch_id: 150, loss is: [0.05160624], acc is: [0.984375]\n",
      "epoch: 1, batch_id: 50, loss is: [0.00458183], acc is: [1.]\n",
      "epoch: 1, batch_id: 100, loss is: [0.04618767], acc is: [0.96875]\n",
      "epoch: 1, batch_id: 150, loss is: [0.00937446], acc is: [1.]\n",
      "epoch: 2, batch_id: 50, loss is: [0.15390609], acc is: [0.96875]\n",
      "epoch: 2, batch_id: 100, loss is: [0.04789619], acc is: [0.984375]\n",
      "epoch: 2, batch_id: 150, loss is: [0.00231787], acc is: [1.]\n",
      "epoch: 3, batch_id: 50, loss is: [0.00377524], acc is: [1.]\n",
      "epoch: 3, batch_id: 100, loss is: [0.00986299], acc is: [1.]\n",
      "epoch: 3, batch_id: 150, loss is: [0.0172553], acc is: [1.]\n",
      "epoch: 4, batch_id: 50, loss is: [0.0087923], acc is: [1.]\n",
      "epoch: 4, batch_id: 100, loss is: [0.01462703], acc is: [1.]\n",
      "epoch: 4, batch_id: 150, loss is: [0.07881232], acc is: [0.984375]\n"
     ]
    }
   ],
   "source": [
    "\n",
    "# dataset与mnist的定义与使用高层API的内容一致\n",
    "# 用 DataLoader 实现数据加载\n",
    "train_loader = paddle.io.DataLoader(self_train_dataset,batch_size=64, shuffle=True)\n",
    "\n",
    "# 将mnist模型及其所有子层设置为训练模式。这只会影响某些模块，如Dropout和BatchNorm。\n",
    "mnist.train()\n",
    "\n",
    "# 设置迭代次数\n",
    "epochs = 5\n",
    "\n",
    "# 设置优化器\n",
    "optim = paddle.optimizer.Adam(parameters=mnist.parameters())\n",
    "# 设置损失函数\n",
    "loss_fn = paddle.nn.CrossEntropyLoss()\n",
    "for epoch in range(epochs):\n",
    "    for batch_id, data in enumerate(train_loader()):\n",
    "\n",
    "        x_data = data[0]            # 训练数据\n",
    "        y_data = data[1]            # 训练数据标签\n",
    "        predicts = mnist(x_data)    # 预测结果\n",
    "\n",
    "        # 计算损失 等价于 prepare 中loss的设置\n",
    "        loss = loss_fn(predicts, y_data)\n",
    "\n",
    "        # 计算准确率 等价于 prepare 中metrics的设置\n",
    "        acc = paddle.metric.accuracy(predicts, y_data)\n",
    "\n",
    "        # 下面的反向传播、打印训练信息、更新参数、梯度清零都被封装到 Model.fit() 中\n",
    "        # 反向传播\n",
    "        loss.backward()\n",
    "\n",
    "        if (batch_id+1) % 50 == 0:\n",
    "            print(\"epoch: {}, batch_id: {}, loss is: {}, acc is: {}\".format(epoch, batch_id+1, loss.numpy(), acc.numpy()))\n",
    "        # 更新参数\n",
    "        optim.step()\n",
    "        # 梯度清零\n",
    "        optim.clear_grad()"
   ],
   "metadata": {
    "collapsed": false
   }
  },
  {
   "cell_type": "markdown",
   "source": [
    "# Model.evaluate拆解\n",
    "飞桨框架通过基础 API 对训练好的模型进行评估，对应高层 API 的 `Model.evaluate` 。与模型训练相比，模型评估的流程有如下几点不同之处：\n",
    "\n",
    "1. 加载的数据从训练数据集改为测试数据集\n",
    "\n",
    "2. 模型实例从 `train` 模式改为 `eval` 模式\n",
    "\n",
    "3. 不需要反向传播、优化器参数更新和优化器梯度清零"
   ],
   "metadata": {
    "collapsed": false
   }
  },
  {
   "cell_type": "code",
   "execution_count": null,
   "outputs": [],
   "source": [
    "# 加载测试数据集\n",
    "test_loader = paddle.io.DataLoader(test_dataset, batch_size=64, drop_last=True)\n",
    "# 设置损失函数\n",
    "loss_fn = paddle.nn.CrossEntropyLoss()\n",
    "# 将该模型及其所有子层设置为预测模式。这只会影响某些模块，如Dropout和BatchNorm\n",
    "mnist.eval()\n",
    "# 禁用动态图梯度计算\n",
    "for batch_id, data in enumerate(test_loader()):\n",
    "\n",
    "    x_data = data[0]            # 测试数据\n",
    "    y_data = data[1]            # 测试数据标签\n",
    "    predicts = mnist(x_data)    # 预测结果\n",
    "\n",
    "    # 计算损失与精度\n",
    "    loss = loss_fn(predicts, y_data)\n",
    "    acc = paddle.metric.accuracy(predicts, y_data)\n",
    "\n",
    "    # 打印信息\n",
    "    if (batch_id+1) % 30 == 0:\n",
    "        print(\"batch_id: {}, loss is: {}, acc is: {}\".format(batch_id+1, loss.numpy(), acc.numpy()))\n"
   ],
   "metadata": {
    "collapsed": false
   }
  },
  {
   "cell_type": "markdown",
   "source": [
    "### 模型推理（拆解 Model.predict）[¶](https://www.paddlepaddle.org.cn/documentation/docs/zh/guides/beginner/train_eval_predict_cn.html#id2 \"永久链接至标题\")\n",
    "\n",
    "飞桨框架通过基础 API 对训练好的模型执行推理，对应高层 API 的 `Model.predict` 。模型的推理过程相对独立，是在模型训练与评估之后单独进行的步骤。只需要执行如下步骤：\n",
    "\n",
    "1. 加载待执行推理的测试数据，并将模型设置为 `eval` 模式\n",
    "\n",
    "2. 读取测试数据并获得预测结果\n",
    "\n",
    "3. 对预测结果进行后处理"
   ],
   "metadata": {
    "collapsed": false
   }
  },
  {
   "cell_type": "code",
   "execution_count": null,
   "outputs": [],
   "source": [
    "# 加载测试数据集\n",
    "test_loader = paddle.io.DataLoader(test_dataset, batch_size=64, drop_last=True)\n",
    "# 将该模型及其所有子层设置为预测模式\n",
    "mnist.eval()\n",
    "for batch_id, data in enumerate(test_loader()):\n",
    "    # 取出测试数据\n",
    "    x_data = data[0]\n",
    "    # 获取预测结果\n",
    "    predicts = mnist(x_data)\n",
    "print(\"predict finished\")"
   ],
   "metadata": {
    "collapsed": false
   }
  },
  {
   "cell_type": "code",
   "execution_count": 71,
   "outputs": [
    {
     "name": "stdout",
     "output_type": "stream",
     "text": [
      "true label: [3], pred label: 3\n"
     ]
    }
   ],
   "source": [
    "test_loader = paddle.io.DataLoader(self_test_dataset, batch_size=64, drop_last=True)\n",
    "# 从测试集中取出一组数据，一批数据\n",
    "img, label = self_test_dataset[30]\n",
    "img=paddle.to_tensor(img) #test_loader会自动转换为tensor，所dataset不能\n",
    "# 执行推理并打印结果，第一个的预测结果\n",
    "pred_label = mnist(img)[0].argmax()\n",
    "print('true label: {}, pred label: {}'.format(label, pred_label.numpy().item()))\n",
    "\n"
   ],
   "metadata": {
    "collapsed": false
   }
  },
  {
   "cell_type": "code",
   "execution_count": 72,
   "outputs": [
    {
     "name": "stdout",
     "output_type": "stream",
     "text": [
      "(1, 28, 28)\n"
     ]
    },
    {
     "data": {
      "text/plain": "<matplotlib.image.AxesImage at 0x298b5fbe9b0>"
     },
     "execution_count": 72,
     "metadata": {},
     "output_type": "execute_result"
    },
    {
     "data": {
      "text/plain": "<Figure size 432x288 with 1 Axes>",
      "image/png": "[encoded data removed]"
     },
     "metadata": {
      "needs_background": "light"
     },
     "output_type": "display_data"
    }
   ],
   "source": [
    "img=self_test_dataset[30]\n",
    "print(img[0].shape)\n",
    "# 可视化图片\n",
    "from matplotlib import pyplot as plt\n",
    "plt.imshow(img[0][0])"
   ],
   "metadata": {
    "collapsed": false
   }
  },
  {
   "cell_type": "markdown",
   "source": [
    "# 总结\n",
    "本节中介绍了在飞桨框架中使用高层 API 进行模型训练、评估和推理的方法，并拆解出对应的基础 API 实现方法。需要注意的是，这里的推理仅用于模型效果验证，实际生产应用中，则可使用飞桨提供的一系列推理部署工具，满足服务器端、移动端、网页/小程序等多种环境的模型部署上线需求，具体可参见 推理部署 章节。\n",
    "\n",
    "同时，飞桨的高层 API 和基础 API 可以组合使用，并不是完全割裂开的，这样有助于开发者更便捷地完成算法迭代。示例代码如下："
   ],
   "metadata": {
    "collapsed": false
   }
  },
  {
   "cell_type": "code",
   "execution_count": 46,
   "outputs": [
    {
     "name": "stdout",
     "output_type": "stream",
     "text": [
      "The loss value printed in the log is the current step, and the metric is the average value of previous step.\n",
      "Epoch 1/5\n",
      "step 938/938 [==============================] - loss: 0.0308 - acc: 0.9250 - 11ms/step          \n",
      "Eval begin...\n",
      "The loss value printed in the log is the current batch, and the metric is the average value of previous step.\n",
      "step 157/157 [==============================] - loss: 0.0029 - acc: 0.9727 - 8ms/step          \n",
      "Eval samples: 10000\n",
      "Epoch 2/5\n",
      "step 938/938 [==============================] - loss: 0.0142 - acc: 0.9732 - 11ms/step          \n",
      "Eval begin...\n",
      "The loss value printed in the log is the current batch, and the metric is the average value of previous step.\n",
      "step 157/157 [==============================] - loss: 0.0011 - acc: 0.9801 - 9ms/step          \n",
      "Eval samples: 10000\n",
      "Epoch 3/5\n",
      "step 938/938 [==============================] - loss: 0.0070 - acc: 0.9792 - 11ms/step          \n",
      "Eval begin...\n",
      "The loss value printed in the log is the current batch, and the metric is the average value of previous step.\n",
      "step 157/157 [==============================] - loss: 7.7719e-04 - acc: 0.9822 - 8ms/step      \n",
      "Eval samples: 10000\n",
      "Epoch 4/5\n",
      "step 938/938 [==============================] - loss: 0.1167 - acc: 0.9815 - 11ms/step          \n",
      "Eval begin...\n",
      "The loss value printed in the log is the current batch, and the metric is the average value of previous step.\n",
      "step 157/157 [==============================] - loss: 2.2688e-04 - acc: 0.9822 - 8ms/step      \n",
      "Eval samples: 10000\n",
      "Epoch 5/5\n",
      "step 938/938 [==============================] - loss: 0.0236 - acc: 0.9835 - 11ms/step          \n",
      "Eval begin...\n",
      "The loss value printed in the log is the current batch, and the metric is the average value of previous step.\n",
      "step 157/157 [==============================] - loss: 2.2561e-04 - acc: 0.9838 - 8ms/step      \n",
      "Eval samples: 10000\n"
     ]
    }
   ],
   "source": [
    "from  paddle.vision.models import LeNet\n",
    "\n",
    "class FaceNet(paddle.nn.Layer):\n",
    "    def __init__(self):\n",
    "        super().__init__()\n",
    "        # 使用高层API组网\n",
    "        self.backbone = LeNet()\n",
    "        # 使用基础API组网\n",
    "        self.outLayer1 = paddle.nn.Sequential(\n",
    "            paddle.nn.Linear(10, 512),\n",
    "            paddle.nn.ReLU(),\n",
    "            paddle.nn.Dropout(0.2)\n",
    "        )\n",
    "        self.outLayer2 = paddle.nn.Linear(512, 10)\n",
    "\n",
    "    def forward(self, inputs):\n",
    "        out = self.backbone(inputs)\n",
    "        out = self.outLayer1(out)\n",
    "        out = self.outLayer2(out)\n",
    "        return out\n",
    "# 使用高层API封装网络\n",
    "model = paddle.Model(FaceNet())\n",
    "# 使用基础API定义优化器\n",
    "optim = paddle.optimizer.Adam(learning_rate=1e-3, parameters=model.parameters())\n",
    "# 使用高层API封装优化器和损失函数\n",
    "model.prepare(optim, paddle.nn.CrossEntropyLoss(), metrics=paddle.metric.Accuracy())\n",
    "# 使用高层API训练网络\n",
    "model.fit(train_dataset, test_dataset, epochs=5, batch_size=64, verbose=1)\n"
   ],
   "metadata": {
    "collapsed": false
   }
  }
 ],
 "metadata": {
  "kernelspec": {
   "display_name": "Python 3",
   "language": "python",
   "name": "python3"
  },
  "language_info": {
   "codemirror_mode": {
    "name": "ipython",
    "version": 2
   },
   "file_extension": ".py",
   "mimetype": "text/x-python",
   "name": "python",
   "nbconvert_exporter": "python",
   "pygments_lexer": "ipython2",
   "version": "2.7.6"
  }
 },
 "nbformat": 4,
 "nbformat_minor": 0
}
