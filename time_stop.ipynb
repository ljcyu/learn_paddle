{
 "cells": [
  {
   "cell_type": "markdown",
   "metadata": {},
   "source": [
    "时间到了自动停止，适应aistudio每天赠送10小时算力卡\n"
   ]
  },
  {
   "cell_type": "code",
   "execution_count": 3,
   "metadata": {},
   "outputs": [],
   "source": [
    "import time\n",
    "from tqdm import tqdm"
   ]
  },
  {
   "cell_type": "code",
   "execution_count": 8,
   "metadata": {},
   "outputs": [
    {
     "name": "stderr",
     "output_type": "stream",
     "text": [
      "100%|██████████████████████████████████████████████████████████████████████████████████| 50/50 [01:40<00:00,  2.01s/it]\n"
     ]
    }
   ],
   "source": [
    "\n",
    "for i in tqdm(range(50)):   \n",
    "    time.sleep(2)"
   ]
  },
  {
   "cell_type": "code",
   "execution_count": 7,
   "metadata": {},
   "outputs": [
    {
     "name": "stderr",
     "output_type": "stream",
     "text": [
      "Processing 9: 100%|████████████████████████████████████████████████████████████████████| 10/10 [00:10<00:00,  1.01s/it]\n"
     ]
    }
   ],
   "source": [
    "pbar=tqdm(range(10))\n",
    "for i in pbar:\n",
    "     pbar.set_description(\"Processing %d\" % i)\n",
    "     time.sleep(1)   "
   ]
  },
  {
   "cell_type": "code",
   "execution_count": 20,
   "metadata": {},
   "outputs": [
    {
     "name": "stderr",
     "output_type": "stream",
     "text": [
      "时间到，终止运行:  58%|█████████████████████████████████████▉                           | 7/12 [00:08<00:05,  1.15s/it]/it]t/s]\n"
     ]
    },
    {
     "data": {
      "text/plain": [
       "[1.0082356929779053,\n",
       " 1.0014991760253906,\n",
       " 1.0002200603485107,\n",
       " 1.014413833618164,\n",
       " 1.0100133419036865,\n",
       " 1.0049974918365479,\n",
       " 1.0156233310699463,\n",
       " 1.0103647708892822]"
      ]
     },
     "execution_count": 20,
     "metadata": {},
     "output_type": "execute_result"
    }
   ],
   "source": [
    "times=[]#历史耗时\n",
    "pbar=tqdm(range(12))\n",
    "for i in pbar:\n",
    "    start_time=time.time()\n",
    "    time.sleep(1)\n",
    "    times.append(time.time()-start_time)\n",
    "    total_time=sum(times)\n",
    "    avg_time=sum(times[-5:])/5\n",
    "    pbar.set_description(\"Processing step:%d total:%d 后五次：%d avg:%f\" %(i,total_time,sum(times[-5:]),avg_time))\n",
    "    if(total_time+int(avg_time)>9):\n",
    "        pbar.set_description(\"时间到，终止运行\")\n",
    "        break\n",
    "times"
   ]
  },
  {
   "cell_type": "code",
   "execution_count": 26,
   "metadata": {},
   "outputs": [
    {
     "ename": "TypeError",
     "evalue": "Tuple or struct_time argument required",
     "output_type": "error",
     "traceback": [
      "\u001b[1;31m---------------------------------------------------------------------------\u001b[0m",
      "\u001b[1;31mTypeError\u001b[0m                                 Traceback (most recent call last)",
      "\u001b[1;32m<ipython-input-26-70c589ee8f0d>\u001b[0m in \u001b[0;36m<module>\u001b[1;34m\u001b[0m\n\u001b[1;32m----> 1\u001b[1;33m \u001b[0mtime\u001b[0m\u001b[1;33m.\u001b[0m\u001b[0mstrftime\u001b[0m\u001b[1;33m(\u001b[0m\u001b[1;34m\"%H:%M:%S\"\u001b[0m\u001b[1;33m,\u001b[0m\u001b[0mtimes\u001b[0m\u001b[1;33m[\u001b[0m\u001b[1;36m0\u001b[0m\u001b[1;33m]\u001b[0m\u001b[1;33m)\u001b[0m\u001b[1;33m\u001b[0m\u001b[1;33m\u001b[0m\u001b[0m\n\u001b[0m",
      "\u001b[1;31mTypeError\u001b[0m: Tuple or struct_time argument required"
     ]
    }
   ],
   "source": [
    "time.strftime(\"%H:%M:%S\",times[0])"
   ]
  },
  {
   "cell_type": "code",
   "execution_count": 28,
   "metadata": {},
   "outputs": [
    {
     "name": "stdout",
     "output_type": "stream",
     "text": [
      "00:00:08\n"
     ]
    }
   ],
   "source": [
    "m, s = divmod(sum(times), 60)\n",
    "h, m = divmod(m, 60)\n",
    "print (\"%02d:%02d:%02d\" % (h, m, s))"
   ]
  },
  {
   "cell_type": "code",
   "execution_count": null,
   "metadata": {},
   "outputs": [],
   "source": []
  }
 ],
 "metadata": {
  "kernelspec": {
   "display_name": "Python 3",
   "language": "python",
   "name": "python3"
  },
  "language_info": {
   "codemirror_mode": {
    "name": "ipython",
    "version": 3
   },
   "file_extension": ".py",
   "mimetype": "text/x-python",
   "name": "python",
   "nbconvert_exporter": "python",
   "pygments_lexer": "ipython3",
   "version": "3.6.7"
  }
 },
 "nbformat": 4,
 "nbformat_minor": 2
}
