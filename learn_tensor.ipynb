{
 "cells": [
  {
   "cell_type": "markdown",
   "source": [
    "# DataLoader自动把dataset转为Tensor，可以不用转换"
   ],
   "metadata": {
    "collapsed": false
   }
  },
  {
   "cell_type": "code",
   "execution_count": 1,
   "outputs": [
    {
     "name": "stdout",
     "output_type": "stream",
     "text": [
      "[7]\n",
      "Tensor(shape=[1, 1], dtype=int64, place=CUDAPinnedPlace, stop_gradient=True,\n",
      "       [[7]])\n"
     ]
    }
   ],
   "source": [
    "\n",
    "import paddle\n",
    "\n",
    "from paddle.vision.transforms import Compose, Normalize\n",
    "\n",
    "transform = Compose([Normalize(mean=[127.5],\n",
    "                               std=[127.5],\n",
    "                               data_format='CHW')])\n",
    "\n",
    "test_dataset = paddle.vision.datasets.MNIST(mode='test', transform=transform)\n",
    "print(test_dataset[0][1]) # 打印原始数据集的第一个数据的label\n",
    "loader = paddle.io.DataLoader(test_dataset)\n",
    "for data in enumerate(loader):\n",
    "    x, label = data[1]\n",
    "    print(label) # 打印由DataLoader返回的迭代器中的第一个数据的label\n",
    "    break"
   ],
   "metadata": {
    "collapsed": false
   }
  },
  {
   "cell_type": "markdown",
   "source": [
    "# reshape\n",
    "- -1 表示这个维度的值是从 Tensor 的元素总数和剩余维度自动推断出来的。因此，有且只有一个维度可以被设置为 -1。\n",
    "- 0 表示该维度的元素数量与原值相同，因此 shape 中 0 的索引值必须小于 Tensor 的维度（索引值从 0 开始计，如第 1 维的索引值是 0，第二维的索引值是 1）。"
   ],
   "metadata": {
    "collapsed": false
   }
  },
  {
   "cell_type": "code",
   "execution_count": 4,
   "outputs": [
    {
     "name": "stdout",
     "output_type": "stream",
     "text": [
      "[3, 2, 5]\n",
      "[3, 10]\n"
     ]
    }
   ],
   "source": [
    "a=paddle.zeros([3,2,5])\n",
    "print(a.shape)\n",
    "b=paddle.reshape(a,[0,-1])\n",
    "print(b.shape)"
   ],
   "metadata": {
    "collapsed": false
   }
  },
  {
   "cell_type": "markdown",
   "source": [
    "## Tensor的类型\n",
    "- bool、float16、float32、float64、uint8、int8、int16、int32、int64、complex64、complex128\n",
    "- python的int->Tensor的int64\n",
    "- python的float->Tensor的float32\n",
    "- 通过 Numpy 数组或其他 Tensor 创建的 Tensor，则与其原来的数据类型保持相同。"
   ],
   "metadata": {
    "collapsed": false
   }
  },
  {
   "cell_type": "code",
   "execution_count": 10,
   "outputs": [
    {
     "name": "stdout",
     "output_type": "stream",
     "text": [
      "VarType.INT32\n",
      "VarType.FP64\n"
     ]
    }
   ],
   "source": [
    "b=paddle.to_tensor([1])\n",
    "print(b.dtype)\n",
    "float32_tensor=paddle.to_tensor(1.0)\n",
    "float64_tensor=paddle.cast(float32_tensor,dtype='float64')\n",
    "print(float64_tensor.dtype)"
   ],
   "metadata": {
    "collapsed": false
   }
  },
  {
   "cell_type": "code",
   "execution_count": 19,
   "outputs": [
    {
     "name": "stdout",
     "output_type": "stream",
     "text": [
      "[0.28490227] [0.2849023]\n"
     ]
    }
   ],
   "source": [
    "x=paddle.rand((1,5))\n",
    "y=paddle.rand((1,5))\n",
    "dst=x.dist(y,2)\n",
    "dst2=paddle.sqrt(paddle.sum(paddle.nn.functional.square_error_cost(x,y)))\n",
    "print(dst.numpy(),dst2.numpy())"
   ],
   "metadata": {
    "collapsed": false
   }
  }
 ],
 "metadata": {
  "kernelspec": {
   "display_name": "Python 3",
   "language": "python",
   "name": "python3"
  },
  "language_info": {
   "codemirror_mode": {
    "name": "ipython",
    "version": 2
   },
   "file_extension": ".py",
   "mimetype": "text/x-python",
   "name": "python",
   "nbconvert_exporter": "python",
   "pygments_lexer": "ipython2",
   "version": "2.7.6"
  }
 },
 "nbformat": 4,
 "nbformat_minor": 0
}
