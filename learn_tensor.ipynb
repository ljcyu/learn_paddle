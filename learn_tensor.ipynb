{
 "cells": [
  {
   "cell_type": "markdown",
   "source": [
    "# DataLoader自动把dataset转为Tensor，可以不用转换"
   ],
   "metadata": {
    "collapsed": false
   }
  },
  {
   "cell_type": "code",
   "execution_count": 1,
   "outputs": [
    {
     "name": "stdout",
     "output_type": "stream",
     "text": [
      "[7]\n",
      "Tensor(shape=[1, 1], dtype=int64, place=CUDAPinnedPlace, stop_gradient=True,\n",
      "       [[7]])\n"
     ]
    }
   ],
   "source": [
    "\n",
    "import paddle\n",
    "\n",
    "from paddle.vision.transforms import Compose, Normalize\n",
    "\n",
    "transform = Compose([Normalize(mean=[127.5],\n",
    "                               std=[127.5],\n",
    "                               data_format='CHW')])\n",
    "\n",
    "test_dataset = paddle.vision.datasets.MNIST(mode='test', transform=transform)\n",
    "print(test_dataset[0][1]) # 打印原始数据集的第一个数据的label\n",
    "loader = paddle.io.DataLoader(test_dataset)\n",
    "for data in enumerate(loader):\n",
    "    x, label = data[1]\n",
    "    print(label) # 打印由DataLoader返回的迭代器中的第一个数据的label\n",
    "    break"
   ],
   "metadata": {
    "collapsed": false
   }
  }
 ],
 "metadata": {
  "kernelspec": {
   "display_name": "Python 3",
   "language": "python",
   "name": "python3"
  },
  "language_info": {
   "codemirror_mode": {
    "name": "ipython",
    "version": 2
   },
   "file_extension": ".py",
   "mimetype": "text/x-python",
   "name": "python",
   "nbconvert_exporter": "python",
   "pygments_lexer": "ipython2",
   "version": "2.7.6"
  }
 },
 "nbformat": 4,
 "nbformat_minor": 0
}
