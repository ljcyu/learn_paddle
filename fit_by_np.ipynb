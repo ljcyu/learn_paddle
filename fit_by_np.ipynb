{
 "cells": [
  {
   "cell_type": "code",
   "execution_count": null,
   "metadata": {
    "pycharm": {
     "name": "#%%\n"
    }
   },
   "outputs": [],
   "source": [
    "import numpy as np\n",
    "x=np.array([1,2,3,4])\n",
    "y=np.array([2,4,6,8])\n",
    "y_predict=np.zeros((len(x),1))\n",
    "y_predict.shape\n",
    "a=0\n",
    "b=0\n",
    "learning_rate=0.01\n",
    "m=len(x)\n",
    "print(np.sum(x))\n",
    "for i in range(100):\n",
    "    y_predict=a*x+b\n",
    "    error=np.dot(y_predict-y,(y_predict-y).T)/(2*m)\n",
    "    da=np.dot(y_predict-y,x.T)/m\n",
    "    db=np.sum(y_predict-y)/m\n",
    "    a=a-learning_rate*da\n",
    "    b=b-learning_rate*db\n",
    "    print(error,da,db,a,b)\n",
    "    "
   ]
  },
  {
   "cell_type": "code",
   "execution_count": null,
   "metadata": {
    "pycharm": {
     "name": "#%%\n"
    }
   },
   "outputs": [],
   "source": [
    "# y=a1x1+a2x2+b\n",
    "import numpy as np\n",
    "x2=np.array([[1,1],[2,2],[3,3],[4,4]])\n",
    "y2=np.array([[2],[4],[6],[8]])\n",
    "m2=len(y2)\n",
    "n2=x2.shape[1]\n",
    "y_predict2=np.zeros((m2,1))\n",
    "y_predict2.shape\n",
    "a2=np.zeros((n2,1))\n",
    "b2=0\n",
    "learning_rate2=0.01\n",
    "\n",
    "print(np.sum(x2))\n",
    "for i in range(100):\n",
    "    y_predict2=np.dot(x2,a2)+b2\n",
    "    error=np.dot((y_predict2-y2).T,y_predict2-y2)/(2*m2)\n",
    "    da=np.dot(x2.T,y_predict2-y2)/m2\n",
    "    db=np.sum(y_predict2-y2)/m2\n",
    "    a2=a2-learning_rate2*da\n",
    "    b2=b2-learning_rate2*db\n",
    "    print(error,da,db,a2,b2)"
   ]
  },
  {
   "cell_type": "code",
   "execution_count": null,
   "metadata": {
    "pycharm": {
     "name": "#%%\n"
    }
   },
   "outputs": [],
   "source": [
    "# 觉得上一个向量声明不对，\n",
    "\n",
    "import numpy as np\n",
    "x3=np.array([[1,2,3,4],[1,2,3,4]])\n",
    "y3=np.array([2,4,6,8])\n",
    "m3=len(y3)\n",
    "n3=x3.shape[0]\n",
    "a3=np.zeros((1,n3))\n",
    "b3=0\n",
    "learning_rate3=0.01\n",
    "\n",
    "print(np.sum(x3))\n",
    "for i in range(10000):\n",
    "    y_predict3=np.dot(a3,x3)+b3\n",
    "    #error=np.sum(np.multiply((y_predict3-y3),y_predict3-y3))/(2*m3)\n",
    "    error=np.dot(y_predict3-y3,(y_predict3-y3).T)/(2*m3)\n",
    "    da=np.dot(y_predict3-y3,x3.T)/m3\n",
    "    db=np.sum(y_predict3-y3)/m3\n",
    "    a3=a3-learning_rate3*da\n",
    "    b3=b3-learning_rate3*db\n",
    "    if i%100==0: print(error,da,db,a3,b3)\n"
   ]
  },
  {
   "cell_type": "code",
   "execution_count": null,
   "outputs": [],
   "source": [],
   "metadata": {
    "collapsed": false,
    "pycharm": {
     "name": "#%%\n"
    }
   }
  },
  {
   "cell_type": "code",
   "execution_count": null,
   "metadata": {
    "pycharm": {
     "name": "#%%\n"
    }
   },
   "outputs": [],
   "source": []
  }
 ],
 "metadata": {
  "kernelspec": {
   "display_name": "Python 3",
   "language": "python",
   "name": "python3"
  },
  "language_info": {
   "codemirror_mode": {
    "name": "ipython",
    "version": 3
   },
   "file_extension": ".py",
   "mimetype": "text/x-python",
   "name": "python",
   "nbconvert_exporter": "python",
   "pygments_lexer": "ipython3",
   "version": "3.6.7"
  }
 },
 "nbformat": 4,
 "nbformat_minor": 2
}