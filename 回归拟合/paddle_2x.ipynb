{
 "cells": [
  {
   "cell_type": "code",
   "execution_count": 3,
   "metadata": {
    "collapsed": true,
    "pycharm": {
     "name": "#%%\n"
    }
   },
   "outputs": [],
   "source": [
    "import paddle\n",
    "paddle.enable_static()"
   ]
  },
  {
   "cell_type": "code",
   "execution_count": 7,
   "outputs": [
    {
     "name": "stdout",
     "output_type": "stream",
     "text": [
      "iter=0,cost=0.8247595429420471\n",
      "iter=50,cost=0.001264695543795824\n",
      "iter=100,cost=0.0009370571933686733\n",
      "iter=150,cost=0.000694296439178288\n",
      "iter=200,cost=0.0005144361057318747\n",
      "iter=250,cost=0.0003811590140685439\n",
      "iter=300,cost=0.00028241710970178246\n",
      "iter=350,cost=0.00020924954151269048\n",
      "iter=400,cost=0.00015504175098612905\n",
      "iter=450,cost=0.00011487607116578147\n",
      "[array([[2.0149415],\n",
      "       [4.0072403],\n",
      "       [5.999539 ],\n",
      "       [7.9918375]], dtype=float32), array([8.5626976e-05], dtype=float32)]\n"
     ]
    }
   ],
   "source": [
    "#加载库\n",
    "import paddle.fluid as fluid\n",
    "import numpy\n",
    "\n",
    "#定义数据\n",
    "train_data=numpy.array([[1.0],[2.0],[3.0],[4.0]]).astype('float32')\n",
    "y_true = numpy.array([[2.0],[4.0],[6.0],[8.0]]).astype('float32')\n",
    "#定义网络\n",
    "x = fluid.layers.data(name=\"x\",shape=[1],dtype='float32')\n",
    "y = fluid.layers.data(name=\"y\",shape=[1],dtype='float32')\n",
    "y_predict = fluid.layers.fc(input=x,size=1,act=None)\n",
    "#定义损失函数\n",
    "cost = fluid.layers.square_error_cost(input=y_predict,label=y)\n",
    "avg_cost = fluid.layers.mean(cost)\n",
    "#定义优化方法\n",
    "sgd_optimizer = fluid.optimizer.SGD(learning_rate=0.01)\n",
    "sgd_optimizer.minimize(avg_cost)\n",
    "#参数初始化\n",
    "cpu = fluid.core.CPUPlace()\n",
    "exe = fluid.Executor(cpu)\n",
    "exe.run(fluid.default_startup_program())\n",
    "##开始训练，迭代100次\n",
    "for i in range(500):\n",
    "    outs = exe.run(feed={'x':train_data,'y':y_true},fetch_list=[y_predict.name,avg_cost.name])\n",
    "    if i%50==0:print ('iter={:.0f},cost={}'.format(i,outs[1][0]))\n",
    "#观察结果\n",
    "print(outs)"
   ],
   "metadata": {
    "collapsed": false,
    "pycharm": {
     "name": "#%%\n"
    }
   }
  }
 ],
 "metadata": {
  "kernelspec": {
   "display_name": "Python 3",
   "language": "python",
   "name": "python3"
  },
  "language_info": {
   "codemirror_mode": {
    "name": "ipython",
    "version": 2
   },
   "file_extension": ".py",
   "mimetype": "text/x-python",
   "name": "python",
   "nbconvert_exporter": "python",
   "pygments_lexer": "ipython2",
   "version": "2.7.6"
  }
 },
 "nbformat": 4,
 "nbformat_minor": 0
}