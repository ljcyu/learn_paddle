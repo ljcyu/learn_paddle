{
 "cells": [
  {
   "cell_type": "markdown",
   "source": [
    "来自于[百度架构师手把手带你零基础实践深度学习](https://aistudio.baidu.com/aistudio/projectdetail/4163534)"
   ],
   "metadata": {
    "collapsed": false,
    "pycharm": {
     "name": "#%% md\n"
    }
   }
  },
  {
   "cell_type": "markdown",
   "metadata": {
    "collapsed": false,
    "pycharm": {
     "name": "#%% md\n"
    }
   },
   "source": [
    "# 使用Python和NumPy构建神经网络模型\n",
    "\n",
    "上一节我们初步认识了神经网络的基本概念（如神经元、多层连接、前向计算、计算图）和模型结构三要素（模型假设、评价函数和优化算法）。本节将以“波士顿房价预测”任务为例，向读者介绍使用Python和NumPy来构建神经网络模型的思考过程和操作方法。\n",
    "\n",
    "波士顿房价预测是一个经典的机器学习任务，类似于程序员世界的“Hello World”。和大家对房价的普遍认知相同，波士顿地区的房价受诸多因素影响。该数据集统计了13种可能影响房价的因素和该类型房屋的均价，期望构建一个基于13个因素进行房价预测的模型，如 **图1** 所示。\n",
    "<br></br>\n",
    "<center><img src=\"https://ai-studio-static-online.cdn.bcebos.com/abce0cb2a92f4e679c6855cfa520491597171533a0b0447e8d51d904446e213e\" width=\"500\" hegiht=\"\" ></center>\n",
    "<center><br>图1：波士顿房价影响因素示意图</br></center>\n",
    "<br></br>\n",
    "\n",
    "对于预测问题，可以根据预测输出的类型是连续的实数值，还是离散的标签，区分为回归任务和分类任务。因为房价是一个连续值，所以房价预测显然是一个回归任务。下面我们尝试用最简单的线性回归模型解决这个问题，并用神经网络来实现这个模型。\n",
    "\n",
    "## 1. 线性回归模型\n",
    "\n",
    "假设房价和各影响因素之间能够用线性关系来描述：\n",
    "\n",
    "$$y = {\\sum_{j=1}^Mx_j w_j} + b (公式1)$$\n",
    "\n",
    "模型的求解即是通过数据拟合出每个$w_j$和$b$。其中，$w_j$和$b$分别表示该线性模型的权重和偏置。一维情况下，$w_j$ 和 $b$ 是直线的斜率和截距。\n",
    "\n",
    "线性回归模型使用均方误差作为损失函数（Loss），用以衡量预测房价和真实房价的差异，公式如下：\n",
    "\n",
    "$$MSE = \\frac{1}{n} \\sum_{i=1}^n(\\hat{Y_i} - {Y_i})^{2} (公式2)$$\n",
    "\n",
    "------\n",
    "**思考：**\n",
    "\n",
    "为什么要以均方误差作为损失函数？即将模型在每个训练样本上的预测误差加和，来衡量整体样本的准确性。这是因为损失函数的设计不仅仅要考虑“合理性”，同样需要考虑“易解性”，这个问题在后面的内容中会详细阐述。\n",
    "\n",
    "------\n",
    "\n",
    "\n",
    "神经网络的标准结构中每个神经元由加权和与非线性变换构成，然后将多个神经元分层的摆放并连接形成神经网络。线性回归模型可以认为是神经网络模型的一种极简特例，是一个只有加权和、没有非线性变换的神经元（无需形成网络），如 **图2** 所示。\n",
    "<center><img src=\"https://ai-studio-static-online.cdn.bcebos.com/f9117a5a34d44b1eab85147e62b4e6295e485e48d79d4a03adaa14a447ffd230\" width=\"300\" hegiht=\"\" ></center>\n",
    "<center><br>图2：线性回归模型的神经网络结构</br></center>\n",
    "<br></br>\n"
   ]
  },
  {
   "cell_type": "markdown",
   "metadata": {
    "collapsed": false,
    "pycharm": {
     "name": "#%% md\n"
    }
   },
   "source": [
    "## 2. 使用Python和NumPy实现波士顿房价预测任务\n",
    "\n",
    "深度学习不仅实现了模型的端到端学习，还推动了人工智能进入工业大生产阶段，产生了标准化、自动化和模块化的通用框架。不同场景的深度学习模型具备一定的通用性，五个步骤即可完成模型的构建和训练，如 **图3** 所示。\n",
    "<br></br>\n",
    "<center><img src=\"https://ai-studio-static-online.cdn.bcebos.com/5325a6356c164bf38b5665d1ae5e48acceccfdaa9ddd414cb182b98e6f6054c2\" width=\"800\" hegiht=\"\" ></center>\n",
    "<center><br>图3：构建神经网络/深度学习模型的基本步骤</br></center>\n",
    "<br></br>\n",
    "\n",
    "正是由于深度学习的建模和训练的过程存在通用性，在构建不同的模型时，只有模型三要素不同，其它步骤基本一致，深度学习框架才有用武之地。"
   ]
  },
  {
   "cell_type": "markdown",
   "metadata": {
    "collapsed": false,
    "pycharm": {
     "name": "#%% md\n"
    }
   },
   "source": [
    "### 2.1 数据处理\n",
    "\n",
    "数据处理包含五个部分：数据导入、数据形状变换、数据集划分、数据归一化处理和封装`load data`函数。数据预处理后，才能被模型调用。\n",
    "\n",
    "------\n",
    "**说明：**\n",
    "\n",
    "* 本教程中的代码都可以在AI Studio上直接运行，Print结果都是基于程序真实运行的结果。\n",
    "* 由于是真实案例，代码之间存在依赖关系，因此需要读者逐条、全部运行，否则会导致命令执行报错。\n",
    "\n",
    "------\n",
    "\n",
    "#### 2.1.1 读入数据\n",
    "\n",
    "通过如下代码读入数据，了解下波士顿房价的数据集结构，数据存放在本地目录下housing.data文件中。"
   ]
  },
  {
   "cell_type": "code",
   "execution_count": 1,
   "metadata": {
    "collapsed": false,
    "pycharm": {
     "name": "#%%\n"
    }
   },
   "outputs": [
    {
     "data": {
      "text/plain": [
       "array([6.320e-03, 1.800e+01, 2.310e+00, ..., 3.969e+02, 7.880e+00,\n",
       "       1.190e+01])"
      ]
     },
     "execution_count": 1,
     "metadata": {},
     "output_type": "execute_result"
    }
   ],
   "source": [
    "# 导入需要用到的package\n",
    "import numpy as np\n",
    "import json\n",
    "# 读入训练数据\n",
    "datafile = './work/housing.data'\n",
    "data = np.fromfile(datafile, sep=' ')\n",
    "data"
   ]
  },
  {
   "cell_type": "markdown",
   "metadata": {
    "collapsed": false,
    "pycharm": {
     "name": "#%% md\n"
    }
   },
   "source": [
    "####  2.1.2 数据形状变换\n",
    "\n",
    "由于读入的原始数据是1维的，所有数据都连在一起。因此需要我们将数据的形状进行变换，形成一个2维的矩阵，每行为一个数据样本（14个值），每个数据样本包含13个$X$（影响房价的特征）和一个$Y$（该类型房屋的均价）。"
   ]
  },
  {
   "cell_type": "code",
   "execution_count": 7,
   "metadata": {
    "collapsed": false,
    "pycharm": {
     "name": "#%%\n"
    }
   },
   "outputs": [],
   "source": [
    "# 读入之后的数据被转化成1维array，其中array的第0-13项是第一条数据，第14-27项是第二条数据，以此类推.... \n",
    "# 这里对原始数据做reshape，变成N x 14的形式\n",
    "feature_names = [ 'CRIM', 'ZN', 'INDUS', 'CHAS', 'NOX', 'RM', 'AGE','DIS', \n",
    "                 'RAD', 'TAX', 'PTRATIO', 'B', 'LSTAT', 'MEDV' ]\n",
    "feature_num = len(feature_names)\n",
    "data = data.reshape([data.shape[0] // feature_num, feature_num])"
   ]
  },
  {
   "cell_type": "code",
   "execution_count": 3,
   "metadata": {
    "collapsed": false,
    "pycharm": {
     "name": "#%%\n"
    }
   },
   "outputs": [
    {
     "name": "stdout",
     "output_type": "stream",
     "text": [
      "(14,)\n",
      "[6.320e-03 1.800e+01 2.310e+00 0.000e+00 5.380e-01 6.575e+00 6.520e+01\n",
      " 4.090e+00 1.000e+00 2.960e+02 1.530e+01 3.969e+02 4.980e+00 2.400e+01]\n"
     ]
    }
   ],
   "source": [
    "# 查看数据\n",
    "x = data[0]\n",
    "print(x.shape)\n",
    "print(x)"
   ]
  },
  {
   "cell_type": "markdown",
   "metadata": {
    "collapsed": false,
    "pycharm": {
     "name": "#%% md\n"
    }
   },
   "source": [
    "####  2.1.3 数据集划分\n",
    "\n",
    "将数据集划分成训练集和测试集，其中训练集用于确定模型的参数，测试集用于评判模型的效果。为什么要对数据集进行拆分，而不能直接应用于模型训练呢？这与学生时代的授课和考试关系比较类似，如 **图4** 所示。\n",
    "\n",
    "<center><img src=\"https://ai-studio-static-online.cdn.bcebos.com/a1c845a50e28474d9aa72028edfea33f1a3deca1d54d40ec94ba366d3a18c408\" width=\"600\" hegiht=\"\" ></center>\n",
    "<center><br>图4：训练集和测试集拆分的意义</br></center>\n",
    "<br></br>\n",
    "\n",
    "上学时总有一些自作聪明的同学，平时不认真学习，考试前临阵抱佛脚，将习题死记硬背下来，但是成绩往往并不好。因为学校期望学生掌握的是知识，而不仅仅是习题本身。另出新的考题，才能鼓励学生努力去掌握习题背后的原理。同样我们期望模型学习的是任务的本质规律，而不是训练数据本身，模型训练未使用的数据，才能更真实的评估模型的效果。\n",
    "\n",
    "在本案例中，我们将80%的数据用作训练集，20%用作测试集，实现代码如下。通过打印训练集的形状，可以发现共有404个样本，每个样本含有13个特征和1个预测值。"
   ]
  },
  {
   "cell_type": "code",
   "execution_count": 5,
   "metadata": {
    "collapsed": false,
    "pycharm": {
     "name": "#%%\n"
    }
   },
   "outputs": [
    {
     "data": {
      "text/plain": [
       "(404, 14)"
      ]
     },
     "execution_count": 5,
     "metadata": {},
     "output_type": "execute_result"
    }
   ],
   "source": [
    "ratio = 0.8\n",
    "offset = int(data.shape[0] * ratio)\n",
    "training_data = data[:offset]\n",
    "training_data.shape"
   ]
  },
  {
   "cell_type": "markdown",
   "metadata": {
    "collapsed": false,
    "pycharm": {
     "name": "#%% md\n"
    }
   },
   "source": [
    "####  2.1.4 数据归一化处理\n",
    "\n",
    "对每个特征进行归一化处理，使得每个特征的取值缩放到0~1之间。这样做有两个好处：一是模型训练更高效，在本节的后半部分会详细说明；二是特征前的权重大小可以代表该变量对预测结果的贡献度（因为每个特征值本身的范围相同）。"
   ]
  },
  {
   "cell_type": "code",
   "execution_count": 6,
   "metadata": {
    "collapsed": false,
    "pycharm": {
     "name": "#%%\n"
    }
   },
   "outputs": [],
   "source": [
    "# 计算train数据集的最大值，最小值，平均值\n",
    "maximums, minimums, avgs = \\\n",
    "                     training_data.max(axis=0), \\\n",
    "                     training_data.min(axis=0), \\\n",
    "     training_data.sum(axis=0) / training_data.shape[0]\n",
    "# 对数据进行归一化处理\n",
    "for i in range(feature_num):\n",
    "    #print(maximums[i], minimums[i], avgs[i])\n",
    "    data[:, i] = (data[:, i] - avgs[i]) / (maximums[i] - minimums[i])"
   ]
  },
  {
   "cell_type": "markdown",
   "metadata": {
    "collapsed": false,
    "pycharm": {
     "name": "#%% md\n"
    }
   },
   "source": [
    "####  2.1.5 封装成load data函数\n",
    "\n",
    "将上述几个数据处理操作封装成`load data`函数，以便下一步模型的调用，实现方法如下。"
   ]
  },
  {
   "cell_type": "code",
   "execution_count": 2,
   "metadata": {
    "collapsed": false,
    "pycharm": {
     "name": "#%%\n"
    }
   },
   "outputs": [],
   "source": [
    "def load_data():\n",
    "    # 从文件导入数据\n",
    "    datafile = './work/housing.data'\n",
    "    data = np.fromfile(datafile, sep=' ')\n",
    "\n",
    "    # 每条数据包括14项，其中前面13项是影响因素，第14项是相应的房屋价格中位数\n",
    "    feature_names = [ 'CRIM', 'ZN', 'INDUS', 'CHAS', 'NOX', 'RM', 'AGE', \\\n",
    "                      'DIS', 'RAD', 'TAX', 'PTRATIO', 'B', 'LSTAT', 'MEDV' ]\n",
    "    feature_num = len(feature_names)\n",
    "\n",
    "    # 将原始数据进行Reshape，变成[N, 14]这样的形状\n",
    "    data = data.reshape([data.shape[0] // feature_num, feature_num])\n",
    "\n",
    "    # 将原数据集拆分成训练集和测试集\n",
    "    # 这里使用80%的数据做训练，20%的数据做测试\n",
    "    # 测试集和训练集必须是没有交集的\n",
    "    ratio = 0.8\n",
    "    offset = int(data.shape[0] * ratio)\n",
    "    training_data = data[:offset]\n",
    "\n",
    "    # 计算训练集的最大值，最小值，平均值\n",
    "    maximums, minimums, avgs = training_data.max(axis=0), training_data.min(axis=0), \\\n",
    "                                 training_data.sum(axis=0) / training_data.shape[0]\n",
    "\n",
    "    # 对数据进行归一化处理\n",
    "    for i in range(feature_num):\n",
    "        #print(maximums[i], minimums[i], avgs[i])\n",
    "        data[:, i] = (data[:, i] - avgs[i]) / (maximums[i] - minimums[i])\n",
    "\n",
    "    # 训练集和测试集的划分比例\n",
    "    training_data = data[:offset]\n",
    "    test_data = data[offset:]\n",
    "    return training_data, test_data"
   ]
  },
  {
   "cell_type": "code",
   "execution_count": 3,
   "metadata": {
    "collapsed": false,
    "pycharm": {
     "name": "#%%\n"
    }
   },
   "outputs": [],
   "source": [
    "# 获取数据\n",
    "training_data, test_data = load_data()\n",
    "x = training_data[:, :-1]\n",
    "y = training_data[:, -1:]"
   ]
  },
  {
   "cell_type": "code",
   "execution_count": 4,
   "metadata": {
    "collapsed": false,
    "pycharm": {
     "name": "#%%\n"
    }
   },
   "outputs": [
    {
     "name": "stdout",
     "output_type": "stream",
     "text": [
      "[-0.02146321  0.03767327 -0.28552309 -0.08663366  0.01289726  0.04634817\n",
      "  0.00795597 -0.00765794 -0.25172191 -0.11881188 -0.29002528  0.0519112\n",
      " -0.17590923]\n",
      "[-0.00390539]\n"
     ]
    }
   ],
   "source": [
    "# 查看数据\n",
    "print(x[0])\n",
    "print(y[0])"
   ]
  },
  {
   "cell_type": "markdown",
   "metadata": {
    "collapsed": false,
    "pycharm": {
     "name": "#%% md\n"
    }
   },
   "source": [
    "### 2.2 模型设计\n",
    "\n",
    "模型设计是深度学习模型关键要素之一，也称为网络结构设计，相当于模型的假设空间，即实现模型“前向计算”（从输入到输出）的过程。\n",
    "\n",
    "如果将输入特征和输出预测值均以向量表示，输入特征$x$有13个分量，$y$有1个分量，那么参数权重的形状（shape）是$13\\times1$。假设我们以如下任意数字赋值参数做初始化：\n",
    "$$w=[0.1, 0.2, 0.3, 0.4, 0.5, 0.6, 0.7, 0.8, -0.1, -0.2, -0.3, -0.4, 0.0]$$"
   ]
  },
  {
   "cell_type": "code",
   "execution_count": 10,
   "metadata": {
    "collapsed": false,
    "pycharm": {
     "name": "#%%\n"
    }
   },
   "outputs": [],
   "source": [
    "w = [0.1, 0.2, 0.3, 0.4, 0.5, 0.6, 0.7, 0.8, -0.1, -0.2, -0.3, -0.4, 0.0]\n",
    "w = np.array(w).reshape([13, 1])"
   ]
  },
  {
   "cell_type": "markdown",
   "metadata": {
    "collapsed": false,
    "pycharm": {
     "name": "#%% md\n"
    }
   },
   "source": [
    "取出第1条样本数据，观察样本的特征向量与参数向量相乘的结果。"
   ]
  },
  {
   "cell_type": "code",
   "execution_count": 12,
   "metadata": {
    "collapsed": false,
    "pycharm": {
     "name": "#%%\n"
    }
   },
   "outputs": [
    {
     "name": "stdout",
     "output_type": "stream",
     "text": [
      "[0.03395597]\n"
     ]
    }
   ],
   "source": [
    "x1=x[0]\n",
    "t = np.dot(x1, w)\n",
    "print(t)"
   ]
  },
  {
   "cell_type": "markdown",
   "metadata": {
    "collapsed": false,
    "pycharm": {
     "name": "#%% md\n"
    }
   },
   "source": [
    "完整的线性回归公式，还需要初始化偏移量$b$，同样随意赋初值-0.2。那么，线性回归模型的完整输出是$z=t+b$，这个从特征和参数计算输出值的过程称为“前向计算”。"
   ]
  },
  {
   "cell_type": "code",
   "execution_count": 13,
   "metadata": {
    "collapsed": false,
    "pycharm": {
     "name": "#%%\n"
    }
   },
   "outputs": [
    {
     "name": "stdout",
     "output_type": "stream",
     "text": [
      "[-0.16604403]\n"
     ]
    }
   ],
   "source": [
    "b = -0.2\n",
    "z = t + b\n",
    "print(z)"
   ]
  },
  {
   "cell_type": "code",
   "execution_count": 7,
   "metadata": {
    "collapsed": false,
    "pycharm": {
     "name": "#%%\n"
    }
   },
   "outputs": [
    {
     "name": "stdout",
     "output_type": "stream",
     "text": [
      "(404, 13)\n",
      "(404, 1)\n"
     ]
    }
   ],
   "source": [
    "print(x.shape)\n",
    "print(y.shape)"
   ]
  },
  {
   "cell_type": "markdown",
   "metadata": {
    "collapsed": false,
    "pycharm": {
     "name": "#%% md\n"
    }
   },
   "source": [
    "将上述计算预测输出的过程以“类和对象”的方式来描述，类成员变量有参数$w$和$b$。通过写一个`forward`函数（代表“前向计算”）完成上述从特征和参数到输出预测值的计算过程，代码如下所示。"
   ]
  },
  {
   "cell_type": "code",
   "execution_count": 14,
   "metadata": {
    "collapsed": false,
    "pycharm": {
     "name": "#%%\n"
    }
   },
   "outputs": [],
   "source": [
    "class Network(object):\n",
    "    def __init__(self, num_of_weights):\n",
    "        # 随机产生w的初始值\n",
    "        # 为了保持程序每次运行结果的一致性，\n",
    "        # 此处设置固定的随机数种子\n",
    "        np.random.seed(0)\n",
    "        self.w = np.random.randn(num_of_weights, 1)\n",
    "        self.b = 0.\n",
    "        \n",
    "    def forward(self, x):\n",
    "        z = np.dot(x, self.w) + self.b\n",
    "        return z"
   ]
  },
  {
   "cell_type": "markdown",
   "metadata": {
    "collapsed": false,
    "pycharm": {
     "name": "#%% md\n"
    }
   },
   "source": [
    "基于Network类的定义，模型的计算过程如下所示。"
   ]
  },
  {
   "cell_type": "code",
   "execution_count": 15,
   "metadata": {
    "collapsed": false,
    "pycharm": {
     "name": "#%%\n"
    }
   },
   "outputs": [
    {
     "name": "stdout",
     "output_type": "stream",
     "text": [
      "[-0.63182506]\n"
     ]
    }
   ],
   "source": [
    "net = Network(13)\n",
    "x1 = x[0]\n",
    "y1 = y[0]\n",
    "z = net.forward(x1)\n",
    "print(z)"
   ]
  },
  {
   "cell_type": "markdown",
   "metadata": {
    "collapsed": false,
    "pycharm": {
     "name": "#%% md\n"
    }
   },
   "source": [
    "从上述前向计算的过程可见，线性回归也可以表示成一种简单的神经网络（只有一个神经元，且激活函数为恒等式）。这也是机器学习模型普遍为深度学习模型替代的原因：由于深度学习网络强大的表示能力，很多传统机器学习模型的学习能力等同于相对简单的深度学习模型。"
   ]
  },
  {
   "cell_type": "markdown",
   "metadata": {
    "collapsed": false,
    "pycharm": {
     "name": "#%% md\n"
    }
   },
   "source": [
    "### 2.3 训练配置\n",
    "\n",
    "模型设计完成后，需要通过训练配置寻找模型的最优值，即通过损失函数来衡量模型的好坏。训练配置也是深度学习模型关键要素之一。\n",
    "\n",
    "通过模型计算$x_1$表示的影响因素所对应的房价应该是$z$, 但实际数据告诉我们房价是$y$。这时我们需要有某种指标来衡量预测值$z$跟真实值$y$之间的差距。对于回归问题，最常采用的衡量方法是使用均方误差作为评价模型好坏的指标，具体定义如下：\n",
    "\n",
    "$$Loss = (y - z)^2 (公式3)$$\n",
    "\n",
    "上式中的$Loss$（简记为: $L$）通常也被称作损失函数，它是衡量模型好坏的指标。读者可能会奇怪：如果要衡量预测放假和真实房价之间的差距，是否将每一个样本的差距的绝对值加和即可？差距绝对值加和是更加直观和朴素的思路，为何要平方加和？ 损失函数的设计不仅要考虑准确衡量问题的“合理性”，通常还要考虑“易于优化求解”。至于这个问题的答案，在介绍完优化算法后再揭示。\n",
    "\n",
    "在回归问题中，均方误差是一种比较常见的形式，分类问题中通常会采用交叉熵作为损失函数，在后续的章节中会更详细的介绍。对一个样本计算损失函数值的实现如下。"
   ]
  },
  {
   "cell_type": "code",
   "execution_count": 16,
   "metadata": {
    "collapsed": false,
    "pycharm": {
     "name": "#%%\n"
    }
   },
   "outputs": [
    {
     "name": "stdout",
     "output_type": "stream",
     "text": [
      "[0.39428312]\n"
     ]
    }
   ],
   "source": [
    "Loss = (y1 - z)*(y1 - z)\n",
    "print(Loss)"
   ]
  },
  {
   "cell_type": "markdown",
   "metadata": {
    "collapsed": false,
    "pycharm": {
     "name": "#%% md\n"
    }
   },
   "source": [
    "因为计算损失函数时需要把每个样本的损失函数值都考虑到，所以我们需要对单个样本的损失函数进行求和，并除以样本总数$N$。\n",
    "$$L= \\frac{1}{N}\\sum_{i=1}^N{(y_i - z_i)^2} (公式4)$$\n",
    "在Network类下面添加损失函数的计算过程如下。"
   ]
  },
  {
   "cell_type": "code",
   "execution_count": 17,
   "metadata": {
    "collapsed": false,
    "pycharm": {
     "name": "#%%\n"
    }
   },
   "outputs": [],
   "source": [
    "class Network(object):\n",
    "    def __init__(self, num_of_weights):\n",
    "        # 随机产生w的初始值\n",
    "        # 为了保持程序每次运行结果的一致性，此处设置固定的随机数种子\n",
    "        np.random.seed(0)\n",
    "        self.w = np.random.randn(num_of_weights, 1)\n",
    "        self.b = 0.\n",
    "        \n",
    "    def forward(self, x):\n",
    "        z = np.dot(x, self.w) + self.b\n",
    "        return z\n",
    "    \n",
    "    def loss(self, z, y):\n",
    "        error = z - y\n",
    "        cost = error * error\n",
    "        cost = np.mean(cost)\n",
    "        return cost\n"
   ]
  },
  {
   "cell_type": "markdown",
   "metadata": {
    "collapsed": false,
    "pycharm": {
     "name": "#%% md\n"
    }
   },
   "source": [
    "使用定义的Network类，可以方便的计算预测值和损失函数。需要注意的是，类中的变量$x$, $w$，$b$, $z$, $error$等均是向量。以变量$x$为例，共有两个维度，一个代表特征数量（值为13），一个代表样本数量，代码如下所示。"
   ]
  },
  {
   "cell_type": "code",
   "execution_count": 19,
   "metadata": {
    "collapsed": false,
    "pycharm": {
     "name": "#%%\n"
    }
   },
   "outputs": [
    {
     "name": "stdout",
     "output_type": "stream",
     "text": [
      "predict:  [[-0.63182506]\n",
      " [-0.55793096]\n",
      " [-1.00062009]]\n",
      "loss: 0.7229825055441156\n"
     ]
    }
   ],
   "source": [
    "net = Network(13)\n",
    "# 此处可以一次性计算多个样本的预测值和损失函数\n",
    "x1 = x[0:3]\n",
    "y1 = y[0:3]\n",
    "z = net.forward(x1)\n",
    "print('predict: ', z)\n",
    "loss = net.loss(z, y1)\n",
    "print('loss:', loss)"
   ]
  },
  {
   "cell_type": "markdown",
   "metadata": {
    "collapsed": false,
    "pycharm": {
     "name": "#%% md\n"
    }
   },
   "source": [
    "### 2.4 训练过程\n",
    "\n",
    "上述计算过程描述了如何构建神经网络，通过神经网络完成预测值和损失函数的计算。接下来介绍如何求解参数$w$和$b$的数值，这个过程也称为模型训练过程。训练过程是深度学习模型的关键要素之一，其目标是让定义的损失函数$Loss$尽可能的小，也就是说找到一个参数解$w$和$b$，使得损失函数取得极小值。\n",
    "\n",
    "我们先做一个小测试：如 **图5** 所示，基于微积分知识，求一条曲线在某个点的斜率等于函数在该点的导数值。那么大家思考下，当处于曲线的极值点时，该点的斜率是多少？\n",
    "\n",
    "<center><img src=\"https://ai-studio-static-online.cdn.bcebos.com/94f0437e6a454a0682f3b831c96a62bdaf40898af25145ec9b5b50bc80391f5c\" width=\"300\" hegiht=\"\" ></center>\n",
    "<center><br>图5：曲线斜率等于导数值</br></center>\n",
    "<br></br>\n",
    "\n",
    "这个问题并不难回答，处于曲线极值点时的斜率为0，即函数在极值点的导数为0。那么，让损失函数取极小值的$w$和$b$应该是下述方程组的解：\n",
    "$$\\frac{\\partial{L}}{\\partial{\\boldsymbol{w}}}=0,(公式5)$$\n",
    "$$\\frac{\\partial{L}}{\\partial{b}}=0,(公式6)$$\n",
    "\n",
    "其中$L$表示的是损失函数的值，$\\boldsymbol{w}$为模型权重，$b$为偏置项。$\\boldsymbol{w}$和$b$均为要学习的模型参数。\n",
    "\n",
    "把损失函数表示成矩阵的形式为\n",
    "\n",
    "$$\n",
    "L=\\frac{1}{N}||\\boldsymbol{y}-(\\boldsymbol{X}\\boldsymbol{w}+\\boldsymbol{b})||^2, (公式7)\n",
    "$$\n",
    "\n",
    "其中$\\boldsymbol{y}$为$N$个样本的标签值构成的向量，形状为$N\\times 1$；$\\boldsymbol{X}$为$N$个样本特征向量构成的矩阵，形状为$N\\times D$，$D$为数据特征长度；$\\boldsymbol{w}$为权重向量，形状为$D\\times 1$；$\\boldsymbol{b}$为所有元素都为$b$的向量，形状为$N\\times 1$。\n",
    "\n",
    "计算公式7对参数$b$的偏导数\n",
    "$$\n",
    "\\frac{\\partial L}{\\partial b} = \\boldsymbol{1}^T(\\boldsymbol{y}-(\\boldsymbol{X}\\boldsymbol{w}+\\boldsymbol{b})), (公式8)\n",
    "$$\n",
    "请注意，上述公式忽略了系数$\\frac{2}{N}$，并不影响最后结果。其中$\\boldsymbol{1}$为$N$维的全1向量。\n",
    "\n",
    "令公式8等于0，得到\n",
    "$$\n",
    "b^* = \\boldsymbol{\\bar{x}}^T\\boldsymbol{w}-\\bar{y}(公式9)\n",
    "$$\n",
    "其中$\\bar{y}=\\frac{1}{N}\\boldsymbol{1}^T\\boldsymbol{y}$为所有标签的平均值，$\\boldsymbol{\\bar{x}}=\\frac{1}{N}(\\boldsymbol{1}^T\\boldsymbol{X})^T$为所有特征向量的平均值。将$b^*$带入公式7中并对参数$\\boldsymbol{w}$求偏导得到\n",
    "\n",
    "$$\n",
    "\\frac{\\partial L}{\\partial \\boldsymbol{w}} = (\\boldsymbol{X}-\\boldsymbol{\\bar{x}}^T)^T((\\boldsymbol{y}-\\bar{y})-(\\boldsymbol{X}-\\boldsymbol{\\bar{x}}^T)\\boldsymbol{w}) (公式10)\n",
    "$$\n",
    "\n",
    "令公式10等于0，得到最优参数\n",
    "\n",
    "$$\n",
    "\\boldsymbol{w}^*=((\\boldsymbol{X}-\\boldsymbol{\\bar{x}}^T)^T(\\boldsymbol{X}-\\boldsymbol{\\bar{x}}^T))^{-1}(\\boldsymbol{X}-\\boldsymbol{\\bar{x}}^T)^T(\\boldsymbol{y}-\\bar{y})(公式11) \\\\\n",
    "b^* = \\boldsymbol{\\bar{x}}^T\\boldsymbol{w}^*-\\bar{y}(公式12)\n",
    "$$\n",
    "\n",
    "\n",
    "将样本数据$(x, y)$带入上面的公式11和公式12中即可求解出$w$和$b$的值，但是这种方法只对线性回归这样简单的任务有效。如果模型中含有非线性变换，或者损失函数不是均方差这种简单的形式，则很难通过上式求解。为了解决这个问题，下面我们将引入更加普适的数值求解方法：梯度下降法。\n",
    "\n",
    "#### 2.4.1 梯度下降法\n",
    "\n",
    "在现实中存在大量的函数正向求解容易，但反向求解较难，被称为单向函数，这种函数在密码学中有大量的应用。密码锁的特点是可以迅速判断一个密钥是否是正确的(已知$x$，求$y$很容易)，但是即使获取到密码锁系统，也无法破解出正确得密钥（已知$y$，求$x$很难）。\n",
    "\n",
    "这种情况特别类似于一位想从山峰走到坡谷的盲人，他看不见坡谷在哪（无法逆向求解出$Loss$导数为0时的参数值），但可以伸脚探索身边的坡度（当前点的导数值，也称为梯度）。那么，求解Loss函数最小值可以这样实现：从当前的参数取值，一步步的按照下坡的方向下降，直到走到最低点。这种方法笔者称它为“盲人下坡法”。哦不，有个更正式的说法“梯度下降法”。\n",
    "\n",
    "训练的关键是找到一组$(w, b)$，使得损失函数$L$取极小值。我们先看一下损失函数$L$只随两个参数$w_5$、$w_9$变化时的简单情形，启发下寻解的思路。\n",
    "$$L=L(w_5, w_9) (公式13)$$\n",
    "这里将$w_0, w_1, ..., w_{12}$中除$w_5, w_9$之外的参数和$b$都固定下来，可以用图画出$L(w_5, w_9)$的形式，并在三维空间中画出损失函数随参数变化的曲面图。"
   ]
  },
  {
   "cell_type": "code",
   "execution_count": 21,
   "metadata": {
    "collapsed": false,
    "pycharm": {
     "name": "#%%\n"
    }
   },
   "outputs": [
    {
     "data": {
      "image/png": "[encoded data removed]",
      "text/plain": [
       "<Figure size 432x288 with 1 Axes>"
      ]
     },
     "metadata": {},
     "output_type": "display_data"
    }
   ],
   "source": [
    "net = Network(13)\n",
    "losses = []\n",
    "#只画出参数w5和w9在区间[-160, 160]的曲线部分，以及包含损失函数的极值\n",
    "w5 = np.arange(-160.0, 160.0, 1.0)\n",
    "w9 = np.arange(-160.0, 160.0, 1.0)\n",
    "losses = np.zeros([len(w5), len(w9)])\n",
    "\n",
    "#计算设定区域内每个参数取值所对应的Loss\n",
    "for i in range(len(w5)):\n",
    "    for j in range(len(w9)):\n",
    "        net.w[5] = w5[i]\n",
    "        net.w[9] = w9[j]\n",
    "        z = net.forward(x)\n",
    "        loss = net.loss(z, y)\n",
    "        losses[i, j] = loss\n",
    "\n",
    "#使用matplotlib将两个变量和对应的Loss作3D图\n",
    "import matplotlib.pyplot as plt\n",
    "from mpl_toolkits.mplot3d import Axes3D\n",
    "fig = plt.figure()\n",
    "ax = Axes3D(fig)\n",
    "\n",
    "w5, w9 = np.meshgrid(w5, w9)\n",
    "\n",
    "ax.plot_surface(w5, w9, losses, rstride=1, cstride=1, cmap='rainbow')\n",
    "plt.show()"
   ]
  },
  {
   "cell_type": "markdown",
   "metadata": {
    "collapsed": false,
    "pycharm": {
     "name": "#%% md\n"
    }
   },
   "source": [
    "从图中可以明显观察到有些区域的函数值比周围的点小。需要说明的是：为什么选择$w_5$和$w_9$来画图呢？这是因为选择这两个参数的时候，可比较直观的从损失函数的曲面图上发现极值点的存在。其他参数组合，从图形上观测损失函数的极值点不够直观。\n",
    "\n",
    "观察上述曲线呈现出“圆滑”的坡度，这正是我们选择以均方误差作为损失函数的原因之一。**图6** 呈现了只有一个参数维度时，均方误差和绝对值误差（只将每个样本的误差累加，不做平方处理）的损失函数曲线图。\n",
    "\n",
    "<center><img src=\"https://ai-studio-static-online.cdn.bcebos.com/99487dca6520441db5073d1c154b5d2fb1174b5cf4d946c29f9d80a209bc2687\" width=\"700\" hegiht=\"40\" ></center>\n",
    "<center><br>图6：均方误差和绝对值误差损失函数曲线图</br></center>\n",
    "<br></br>\n",
    "\n",
    "由此可见，均方误差表现的“圆滑”的坡度有两个好处：\n",
    "\n",
    "* 曲线的最低点是可导的。\n",
    "* 越接近最低点，曲线的坡度逐渐放缓，有助于通过当前的梯度来判断接近最低点的程度（是否逐渐减少步长，以免错过最低点）。\n",
    "\n",
    "而绝对值误差是不具备这两个特性的，这也是损失函数的设计不仅仅要考虑“合理性”，还要追求“易解性”的原因。\n",
    "\n",
    "现在我们要找出一组$[w_5, w_9]$的值，使得损失函数最小，实现梯度下降法的方案如下：\n",
    "\n",
    "- 步骤1：随机的选一组初始值，例如：$[w_5, w_9] = [-100.0, -100.0]$\n",
    "- 步骤2：选取下一个点$[w_5^{'} , w_9^{'}]$，使得$L(w_5^{'} , w_9^{'}) < L(w_5, w_9)$\n",
    "- 步骤3：重复步骤2，直到损失函数几乎不再下降。\n",
    "\n",
    "如何选择$[w_5^{'} , w_9^{'}]$是至关重要的，第一要保证$L$是下降的，第二要使得下降的趋势尽可能的快。微积分的基础知识告诉我们：沿着梯度的反方向，是函数值下降最快的方向，如 **图7** 所示。简单理解，函数在某一个点的梯度方向是曲线斜率最大的方向，但梯度方向是向上的，所以下降最快的是梯度的反方向。\n",
    "<center><img src=\"https://ai-studio-static-online.cdn.bcebos.com/5f8322f6172542dab0f78684b70efe45d819895332af4cabb7c536217ab0bb26\" width=\"400\" hegiht=\"40\" ></center>\n",
    "<center><br>图7：梯度下降方向示意图</br></center>\n",
    "<br></br>\n"
   ]
  },
  {
   "cell_type": "markdown",
   "metadata": {
    "collapsed": false,
    "pycharm": {
     "name": "#%% md\n"
    }
   },
   "source": [
    "#### 2.4.2 梯度计算\n",
    "\n",
    "上文已经介绍了损失函数的计算方法，这里稍微改写。为了使梯度计算更加简洁，引入因子$\\frac{1}{2}$，定义损失函数如下：\n",
    "\n",
    "$$L= \\frac{1}{2N}\\sum_{i=1}^N{(y_i - z_i)^2} (公式14)$$\n",
    "\n",
    "其中$z_i$是网络对第$i$个样本的预测值：\n",
    "\n",
    "$$z_i = \\sum_{j=0}^{12}{x_i^{j}\\cdot w_j} + b (公式15)$$\n",
    "\n",
    "梯度的定义：\n",
    "\n",
    "$$𝑔𝑟𝑎𝑑𝑖𝑒𝑛𝑡 = (\\frac{\\partial{L}}{\\partial{w_0}},\\frac{\\partial{L}}{\\partial{w_1}}, ... ,\\frac{\\partial{L}}{\\partial{w_{12}}} ,\\frac{\\partial{L}}{\\partial{b}}) (公式16)$$\n",
    "\n",
    "可以计算出$L$对$w$和$b$的偏导数：\n",
    "\n",
    "$$\\frac{\\partial{L}}{\\partial{w_j}} = \\frac{1}{N}\\sum_{i=1}^N{(z_i - y_i)\\frac{\\partial{z_i}}{\\partial{w_j}}} = \\frac{1}{N}\\sum_{i=1}^N{(z_i - y_i)x_i^{j}} (公式17)$$\n",
    "\n",
    "$$\\frac{\\partial{L}}{\\partial{b}} = \\frac{1}{N}\\sum_{i=1}^N{(z_i - y_i)\\frac{\\partial{z_i}}{\\partial{b}}} = \\frac{1}{N}\\sum_{i=1}^N{(z_i - y_i)} (公式18)$$\n",
    "\n",
    "从导数的计算过程可以看出，因子$\\frac{1}{2}$被消掉了，这是因为二次函数求导的时候会产生因子$2$，这也是我们将损失函数改写的原因。\n",
    "\n",
    "下面我们考虑只有一个样本的情况下，计算梯度：\n",
    "\n",
    "$$L= \\frac{1}{2}{(y_i - z_i)^2} (公式19)$$\n",
    "\n",
    "$$z_1 = {x_1^{0}\\cdot w_0} + {x_1^{1}\\cdot w_1} + ...  + {x_1^{12}\\cdot w_{12}} + b (公式20)$$\n",
    "\n",
    "可以计算出：\n",
    "\n",
    "$$L= \\frac{1}{2}{({x_1^{0}\\cdot w_0} + {x_1^{1}\\cdot w_1} + ...  + {x_1^{12}\\cdot w_{12}} + b - y_1)^2} (公式21)$$\n",
    "\n",
    "可以计算出$L$对$w$和$b$的偏导数：\n",
    "\n",
    "$$\\frac{\\partial{L}}{\\partial{w_0}} = ({x_1^{0}\\cdot w_0} + {x_1^{1}\\cdot w_1} + ...  + {x_1^{12}\\cdot w_12} + b - y_1)\\cdot x_1^{0}=({z_1} - {y_1})\\cdot x_1^{0} (公式22)$$\n",
    "\n",
    "$$\\frac{\\partial{L}}{\\partial{b}} = ({x_1^{0}\\cdot w_0} + {x_1^{1}\\cdot w_1} + ...  + {x_1^{12}\\cdot w_{12}} + b - y_1)\\cdot 1 = ({z_1} - {y_1}) (公式23)$$"
   ]
  },
  {
   "cell_type": "markdown",
   "metadata": {
    "collapsed": false,
    "pycharm": {
     "name": "#%% md\n"
    }
   },
   "source": [
    "\n",
    "\n",
    "可以通过具体的程序查看每个变量的数据和维度。"
   ]
  },
  {
   "cell_type": "code",
   "execution_count": 22,
   "metadata": {
    "collapsed": false,
    "pycharm": {
     "name": "#%%\n"
    }
   },
   "outputs": [
    {
     "name": "stdout",
     "output_type": "stream",
     "text": [
      "x1 [-0.02146321  0.03767327 -0.28552309 -0.08663366  0.01289726  0.04634817\n",
      "  0.00795597 -0.00765794 -0.25172191 -0.11881188 -0.29002528  0.0519112\n",
      " -0.17590923], shape (13,)\n",
      "y1 [-0.00390539], shape (1,)\n",
      "z1 [-12.05947643], shape (1,)\n"
     ]
    }
   ],
   "source": [
    "x1 = x[0]\n",
    "y1 = y[0]\n",
    "z1 = net.forward(x1)\n",
    "print('x1 {}, shape {}'.format(x1, x1.shape))\n",
    "print('y1 {}, shape {}'.format(y1, y1.shape))\n",
    "print('z1 {}, shape {}'.format(z1, z1.shape))"
   ]
  },
  {
   "cell_type": "markdown",
   "metadata": {
    "collapsed": false,
    "pycharm": {
     "name": "#%% md\n"
    }
   },
   "source": [
    "按上面的公式，当只有一个样本时，可以计算某个$w_j$，比如$w_0$的梯度。"
   ]
  },
  {
   "cell_type": "code",
   "execution_count": 23,
   "metadata": {
    "collapsed": false,
    "pycharm": {
     "name": "#%%\n"
    }
   },
   "outputs": [
    {
     "name": "stdout",
     "output_type": "stream",
     "text": [
      "gradient_w0 [0.25875126]\n"
     ]
    }
   ],
   "source": [
    "gradient_w0 = (z1 - y1) * x1[0]\n",
    "print('gradient_w0 {}'.format(gradient_w0))"
   ]
  },
  {
   "cell_type": "markdown",
   "metadata": {
    "collapsed": false,
    "pycharm": {
     "name": "#%% md\n"
    }
   },
   "source": [
    "同样我们可以计算$w_1$的梯度。"
   ]
  },
  {
   "cell_type": "code",
   "execution_count": 24,
   "metadata": {
    "collapsed": false,
    "pycharm": {
     "name": "#%%\n"
    }
   },
   "outputs": [
    {
     "name": "stdout",
     "output_type": "stream",
     "text": [
      "gradient_w1 [-0.45417275]\n"
     ]
    }
   ],
   "source": [
    "gradient_w1 = (z1 - y1) * x1[1]\n",
    "print('gradient_w1 {}'.format(gradient_w1))"
   ]
  },
  {
   "cell_type": "markdown",
   "metadata": {
    "collapsed": false,
    "pycharm": {
     "name": "#%% md\n"
    }
   },
   "source": [
    "依次计算$w_2$的梯度。"
   ]
  },
  {
   "cell_type": "code",
   "execution_count": 25,
   "metadata": {
    "collapsed": false,
    "pycharm": {
     "name": "#%%\n"
    }
   },
   "outputs": [
    {
     "name": "stdout",
     "output_type": "stream",
     "text": [
      "gradient_w1 [3.44214394]\n"
     ]
    }
   ],
   "source": [
    "gradient_w2= (z1 - y1) * x1[2]\n",
    "print('gradient_w1 {}'.format(gradient_w2))"
   ]
  },
  {
   "cell_type": "code",
   "execution_count": 26,
   "metadata": {
    "collapsed": false,
    "pycharm": {
     "name": "#%%\n"
    }
   },
   "outputs": [
    {
     "name": "stdout",
     "output_type": "stream",
     "text": [
      "[ 0.25875126 -0.45417275  3.44214394  1.04441828 -0.15548386 -0.55875363\n",
      " -0.09591377  0.09232085  3.03465138  1.43234507  3.49642036 -0.62581917\n",
      "  2.12068622]\n"
     ]
    }
   ],
   "source": [
    "gradient_w=(z1-y1)*x1\n",
    "print(gradient_w)"
   ]
  },
  {
   "cell_type": "markdown",
   "metadata": {
    "collapsed": false,
    "pycharm": {
     "name": "#%% md\n"
    }
   },
   "source": [
    "聪明的读者可能已经想到，写一个for循环即可计算从$w_0$到$w_{12}$的所有权重的梯度，该方法读者可以自行实现。\n",
    "\n",
    "#### 2.4.3 使用NumPy进行梯度计算\n",
    "\n",
    "基于NumPy广播机制（对向量和矩阵计算如同对1个单一变量计算一样），可以更快速的实现梯度计算。计算梯度的代码中直接用$(z_1 - y_1) \\cdot x_1$，得到的是一个13维的向量，每个分量分别代表该维度的梯度。"
   ]
  },
  {
   "cell_type": "code",
   "execution_count": 27,
   "metadata": {
    "collapsed": false,
    "pycharm": {
     "name": "#%%\n"
    }
   },
   "outputs": [
    {
     "name": "stdout",
     "output_type": "stream",
     "text": [
      "gradient_w_by_sample1 [ 0.25875126 -0.45417275  3.44214394  1.04441828 -0.15548386 -0.55875363\n",
      " -0.09591377  0.09232085  3.03465138  1.43234507  3.49642036 -0.62581917\n",
      "  2.12068622], gradient.shape (13,)\n"
     ]
    }
   ],
   "source": [
    "gradient_w = (z1 - y1) * x1\n",
    "print('gradient_w_by_sample1 {}, gradient.shape {}'.format(gradient_w, gradient_w.shape))"
   ]
  },
  {
   "cell_type": "markdown",
   "metadata": {
    "collapsed": false,
    "pycharm": {
     "name": "#%% md\n"
    }
   },
   "source": [
    "输入数据中有多个样本，每个样本都对梯度有贡献。如上代码计算了只有样本1时的梯度值，同样的计算方法也可以计算样本2和样本3对梯度的贡献。"
   ]
  },
  {
   "cell_type": "code",
   "execution_count": 28,
   "metadata": {
    "collapsed": false,
    "pycharm": {
     "name": "#%%\n"
    }
   },
   "outputs": [
    {
     "name": "stdout",
     "output_type": "stream",
     "text": [
      "gradient_w_by_sample2 [ 0.7329239   4.91417754  3.33394253  2.9912385   4.45673435 -0.58146277\n",
      " -5.14623287 -2.4894594   7.19011988  7.99471607  0.83100061 -1.79236081\n",
      "  2.11028056], gradient.shape (13,)\n"
     ]
    }
   ],
   "source": [
    "x2 = x[1]\n",
    "y2 = y[1]\n",
    "z2 = net.forward(x2)\n",
    "gradient_w = (z2 - y2) * x2\n",
    "print('gradient_w_by_sample2 {}, gradient.shape {}'.format(gradient_w, gradient_w.shape))"
   ]
  },
  {
   "cell_type": "code",
   "execution_count": 29,
   "metadata": {
    "collapsed": false,
    "pycharm": {
     "name": "#%%\n"
    }
   },
   "outputs": [
    {
     "name": "stdout",
     "output_type": "stream",
     "text": [
      "gradient_w_by_sample3 [ 0.25138584  1.68549775  1.14349809  1.02595515  1.5286008  -1.93302947\n",
      "  0.4058236  -0.85385157  2.46611579  2.74208162  0.28502219 -0.46695229\n",
      "  2.39363651], gradient.shape (13,)\n"
     ]
    }
   ],
   "source": [
    "x3 = x[2]\n",
    "y3 = y[2]\n",
    "z3 = net.forward(x3)\n",
    "gradient_w = (z3 - y3) * x3\n",
    "print('gradient_w_by_sample3 {}, gradient.shape {}'.format(gradient_w, gradient_w.shape))"
   ]
  },
  {
   "cell_type": "markdown",
   "metadata": {
    "collapsed": false,
    "pycharm": {
     "name": "#%% md\n"
    }
   },
   "source": [
    "可能有的读者再次想到可以使用`for`循环把每个样本对梯度的贡献都计算出来，然后再作平均。但是我们不需要这么做，仍然可以使用NumPy的矩阵操作来简化运算，如3个样本的情况。"
   ]
  },
  {
   "cell_type": "code",
   "execution_count": 30,
   "metadata": {
    "collapsed": false,
    "pycharm": {
     "name": "#%%\n"
    }
   },
   "outputs": [
    {
     "name": "stdout",
     "output_type": "stream",
     "text": [
      "x [[-0.02146321  0.03767327 -0.28552309 -0.08663366  0.01289726  0.04634817\n",
      "   0.00795597 -0.00765794 -0.25172191 -0.11881188 -0.29002528  0.0519112\n",
      "  -0.17590923]\n",
      " [-0.02122729 -0.14232673 -0.09655922 -0.08663366 -0.12907805  0.0168406\n",
      "   0.14904763  0.0721009  -0.20824365 -0.23154675 -0.02406783  0.0519112\n",
      "  -0.06111894]\n",
      " [-0.02122751 -0.14232673 -0.09655922 -0.08663366 -0.12907805  0.1632288\n",
      "  -0.03426854  0.0721009  -0.20824365 -0.23154675 -0.02406783  0.03943037\n",
      "  -0.20212336]], shape (3, 13)\n",
      "y [[-0.00390539]\n",
      " [-0.05723872]\n",
      " [ 0.23387239]], shape (3, 1)\n",
      "z [[-12.05947643]\n",
      " [-34.58467747]\n",
      " [-11.60858134]], shape (3, 1)\n"
     ]
    }
   ],
   "source": [
    "# 注意这里是一次取出3个样本的数据，不是取出第3个样本\n",
    "x3samples = x[0:3]\n",
    "y3samples = y[0:3]\n",
    "z3samples = net.forward(x3samples)\n",
    "\n",
    "print('x {}, shape {}'.format(x3samples, x3samples.shape))\n",
    "print('y {}, shape {}'.format(y3samples, y3samples.shape))\n",
    "print('z {}, shape {}'.format(z3samples, z3samples.shape))"
   ]
  },
  {
   "cell_type": "markdown",
   "metadata": {
    "collapsed": false,
    "pycharm": {
     "name": "#%% md\n"
    }
   },
   "source": [
    "$x3 samples$、 $y3samples$ 和 $z3samples$的第一维大小均为3，表示有3个样本,下面计算这3个样本对梯度的贡献。"
   ]
  },
  {
   "cell_type": "code",
   "execution_count": 31,
   "metadata": {
    "collapsed": false,
    "pycharm": {
     "name": "#%%\n"
    }
   },
   "outputs": [
    {
     "name": "stdout",
     "output_type": "stream",
     "text": [
      "gradient_w [[ 0.25875126 -0.45417275  3.44214394  1.04441828 -0.15548386 -0.55875363\n",
      "  -0.09591377  0.09232085  3.03465138  1.43234507  3.49642036 -0.62581917\n",
      "   2.12068622]\n",
      " [ 0.7329239   4.91417754  3.33394253  2.9912385   4.45673435 -0.58146277\n",
      "  -5.14623287 -2.4894594   7.19011988  7.99471607  0.83100061 -1.79236081\n",
      "   2.11028056]\n",
      " [ 0.25138584  1.68549775  1.14349809  1.02595515  1.5286008  -1.93302947\n",
      "   0.4058236  -0.85385157  2.46611579  2.74208162  0.28502219 -0.46695229\n",
      "   2.39363651]], gradient.shape (3, 13)\n"
     ]
    }
   ],
   "source": [
    "gradient_w = (z3samples - y3samples) * x3samples\n",
    "print('gradient_w {}, gradient.shape {}'.format(gradient_w, gradient_w.shape))"
   ]
  },
  {
   "cell_type": "markdown",
   "metadata": {
    "collapsed": false,
    "pycharm": {
     "name": "#%% md\n"
    }
   },
   "source": [
    "此处可见，计算梯度`gradient_w`的维度是$3 \\times 13$，并且其第1行与上面第1个样本计算的梯度gradient_w_by_sample1一致，第2行与上面第2个样本计算的梯度gradient_w_by_sample2一致，第3行与上面第3个样本计算的梯度gradient_w_by_sample3一致。这里使用矩阵操作，可以更加方便的对3个样本分别计算各自对梯度的贡献。\n",
    "\n",
    "那么对于有N个样本的情形，我们可以直接使用如下方式计算出所有样本对梯度的贡献，这就是使用NumPy库广播功能带来的便捷。\n",
    "小结一下这里使用NumPy库的广播功能：\n",
    "- 一方面可以扩展参数的维度，代替for循环来计算1个样本对从$w_0$到$w_12$的所有参数的梯度。\n",
    "- 另一方面可以扩展样本的维度，代替for循环来计算样本0到样本403对参数的梯度。"
   ]
  },
  {
   "cell_type": "code",
   "execution_count": 33,
   "metadata": {
    "collapsed": false,
    "pycharm": {
     "name": "#%%\n"
    }
   },
   "outputs": [
    {
     "name": "stdout",
     "output_type": "stream",
     "text": [
      "gradient_w shape (404, 13)\n",
      "[[  0.25875126  -0.45417275   3.44214394 ...   3.49642036  -0.62581917\n",
      "    2.12068622]\n",
      " [  0.7329239    4.91417754   3.33394253 ...   0.83100061  -1.79236081\n",
      "    2.11028056]\n",
      " [  0.25138584   1.68549775   1.14349809 ...   0.28502219  -0.46695229\n",
      "    2.39363651]\n",
      " ...\n",
      " [ 14.70025543 -15.10890735  36.23258734 ...  24.54882966   5.51071122\n",
      "   26.26098922]\n",
      " [  9.29832217 -15.33146159  36.76629344 ...  24.91043398  -1.27564923\n",
      "   26.61808955]\n",
      " [ 19.55115919 -10.8177237   25.94192351 ...  17.5765494    3.94557661\n",
      "   17.64891012]]\n"
     ]
    }
   ],
   "source": [
    "z = net.forward(x)\n",
    "gradient_w = (z - y) * x\n",
    "print('gradient_w shape {}'.format(gradient_w.shape))\n",
    "print(gradient_w)"
   ]
  },
  {
   "cell_type": "markdown",
   "metadata": {
    "collapsed": false,
    "pycharm": {
     "name": "#%% md\n"
    }
   },
   "source": [
    "上面gradient_w的每一行代表了一个样本对梯度的贡献。根据梯度的计算公式，总梯度是对每个样本对梯度贡献的平均值。\n",
    "\n",
    "$$\\frac{\\partial{L}}{\\partial{w_j}} = \\frac{1}{N}\\sum_{i=1}^N{(z_i - y_i)\\frac{\\partial{z_i}}{\\partial{w_j}}} = \\frac{1}{N}\\sum_{i=1}^N{(z_i - y_i)x_i^{j}} (公式24)$$\n",
    "\n",
    "可以使用NumPy的均值函数来完成此过程，代码实现如下。"
   ]
  },
  {
   "cell_type": "code",
   "execution_count": 34,
   "metadata": {
    "collapsed": false,
    "pycharm": {
     "name": "#%%\n"
    }
   },
   "outputs": [
    {
     "name": "stdout",
     "output_type": "stream",
     "text": [
      "gradient_w  (13,)\n",
      "w  (13, 1)\n",
      "[ 1.59697064 -0.92928123  4.72726926  1.65712204  4.96176389  1.18068454\n",
      "  4.55846519 -3.37770889  9.57465893 10.29870662  1.3900257  -0.30152215\n",
      "  1.09276043]\n",
      "[[ 1.76405235e+00]\n",
      " [ 4.00157208e-01]\n",
      " [ 9.78737984e-01]\n",
      " [ 2.24089320e+00]\n",
      " [ 1.86755799e+00]\n",
      " [ 1.59000000e+02]\n",
      " [ 9.50088418e-01]\n",
      " [-1.51357208e-01]\n",
      " [-1.03218852e-01]\n",
      " [ 1.59000000e+02]\n",
      " [ 1.44043571e-01]\n",
      " [ 1.45427351e+00]\n",
      " [ 7.61037725e-01]]\n"
     ]
    }
   ],
   "source": [
    "# axis = 0 表示把每一行做相加然后再除以总的行数\n",
    "gradient_w = np.mean(gradient_w, axis=0)\n",
    "print('gradient_w ', gradient_w.shape)\n",
    "print('w ', net.w.shape)\n",
    "print(gradient_w)\n",
    "print(net.w)\n"
   ]
  },
  {
   "cell_type": "markdown",
   "metadata": {
    "collapsed": false,
    "pycharm": {
     "name": "#%% md\n"
    }
   },
   "source": [
    "使用NumPy的矩阵操作方便地完成了gradient的计算，但引入了一个问题，`gradient_w`的形状是(13,)，而$w$的维度是(13, 1)。导致该问题的原因是使用`np.mean`函数时消除了第0维。为了加减乘除等计算方便，`gradient_w`和$w$必须保持一致的形状。因此我们将`gradient_w`的维度也设置为(13,1)，代码如下："
   ]
  },
  {
   "cell_type": "code",
   "execution_count": 35,
   "metadata": {
    "collapsed": false,
    "pycharm": {
     "name": "#%%\n"
    }
   },
   "outputs": [
    {
     "name": "stdout",
     "output_type": "stream",
     "text": [
      "gradient_w shape (13, 1)\n"
     ]
    }
   ],
   "source": [
    "gradient_w = gradient_w[:, np.newaxis]\n",
    "print('gradient_w shape', gradient_w.shape)"
   ]
  },
  {
   "cell_type": "markdown",
   "metadata": {
    "collapsed": false,
    "pycharm": {
     "name": "#%% md\n"
    }
   },
   "source": [
    "综合上面的剖析，计算梯度的代码如下所示。"
   ]
  },
  {
   "cell_type": "code",
   "execution_count": 36,
   "metadata": {
    "collapsed": false,
    "pycharm": {
     "name": "#%%\n"
    }
   },
   "outputs": [
    {
     "data": {
      "text/plain": [
       "array([[ 1.59697064],\n",
       "       [-0.92928123],\n",
       "       [ 4.72726926],\n",
       "       [ 1.65712204],\n",
       "       [ 4.96176389],\n",
       "       [ 1.18068454],\n",
       "       [ 4.55846519],\n",
       "       [-3.37770889],\n",
       "       [ 9.57465893],\n",
       "       [10.29870662],\n",
       "       [ 1.3900257 ],\n",
       "       [-0.30152215],\n",
       "       [ 1.09276043]])"
      ]
     },
     "execution_count": 36,
     "metadata": {},
     "output_type": "execute_result"
    }
   ],
   "source": [
    "z = net.forward(x)\n",
    "gradient_w = (z - y) * x\n",
    "gradient_w = np.mean(gradient_w, axis=0)\n",
    "gradient_w = gradient_w[:, np.newaxis]\n",
    "gradient_w"
   ]
  },
  {
   "cell_type": "markdown",
   "metadata": {
    "collapsed": false,
    "pycharm": {
     "name": "#%% md\n"
    }
   },
   "source": [
    "上述代码非常简洁地完成了$w$的梯度计算。同样，计算$b$的梯度的代码也是类似的原理。"
   ]
  },
  {
   "cell_type": "code",
   "execution_count": 37,
   "metadata": {
    "collapsed": false,
    "pycharm": {
     "name": "#%%\n"
    }
   },
   "outputs": [
    {
     "data": {
      "text/plain": [
       "-1.0918438870293816e-13"
      ]
     },
     "execution_count": 37,
     "metadata": {},
     "output_type": "execute_result"
    }
   ],
   "source": [
    "gradient_b = (z - y)\n",
    "gradient_b = np.mean(gradient_b)\n",
    "# 此处b是一个数值，所以可以直接用np.mean得到一个标量\n",
    "gradient_b"
   ]
  },
  {
   "cell_type": "markdown",
   "metadata": {
    "collapsed": false,
    "pycharm": {
     "name": "#%% md\n"
    }
   },
   "source": [
    "将上面计算$w$和$b$的梯度的过程，写成Network类的`gradient`函数，实现方法如下所示。"
   ]
  },
  {
   "cell_type": "code",
   "execution_count": 38,
   "metadata": {
    "collapsed": false,
    "pycharm": {
     "name": "#%%\n"
    }
   },
   "outputs": [],
   "source": [
    "class Network(object):\n",
    "    def __init__(self, num_of_weights):\n",
    "        # 随机产生w的初始值\n",
    "        # 为了保持程序每次运行结果的一致性，此处设置固定的随机数种子\n",
    "        np.random.seed(0)\n",
    "        self.w = np.random.randn(num_of_weights, 1)\n",
    "        self.b = 0.\n",
    "        \n",
    "    def forward(self, x):\n",
    "        z = np.dot(x, self.w) + self.b\n",
    "        return z\n",
    "    \n",
    "    def loss(self, z, y):\n",
    "        error = z - y\n",
    "        num_samples = error.shape[0]\n",
    "        cost = error * error\n",
    "        cost = np.sum(cost) / num_samples\n",
    "        return cost\n",
    "    \n",
    "    def gradient(self, x, y):\n",
    "        z = self.forward(x)\n",
    "        gradient_w = (z-y)*x\n",
    "        gradient_w = np.mean(gradient_w, axis=0)\n",
    "        gradient_w = gradient_w[:, np.newaxis]\n",
    "        gradient_b = (z - y)\n",
    "        gradient_b = np.mean(gradient_b)\n",
    "        \n",
    "        return gradient_w, gradient_b"
   ]
  },
  {
   "cell_type": "code",
   "execution_count": 39,
   "metadata": {
    "collapsed": false,
    "pycharm": {
     "name": "#%%\n"
    }
   },
   "outputs": [
    {
     "name": "stdout",
     "output_type": "stream",
     "text": [
      "point [-100.0, -100.0], loss 686.3005008179159\n",
      "gradient [-0.850073323995813, -6.138412364807849]\n"
     ]
    }
   ],
   "source": [
    "# 调用上面定义的gradient函数，计算梯度\n",
    "# 初始化网络\n",
    "net = Network(13)\n",
    "# 设置[w5, w9] = [-100., -100.]\n",
    "net.w[5] = -100.0\n",
    "net.w[9] = -100.0\n",
    "\n",
    "z = net.forward(x)\n",
    "loss = net.loss(z, y)\n",
    "gradient_w, gradient_b = net.gradient(x, y)\n",
    "gradient_w5 = gradient_w[5][0]\n",
    "gradient_w9 = gradient_w[9][0]\n",
    "print('point {}, loss {}'.format([net.w[5][0], net.w[9][0]], loss))\n",
    "print('gradient {}'.format([gradient_w5, gradient_w9]))\n"
   ]
  },
  {
   "cell_type": "markdown",
   "metadata": {
    "collapsed": false,
    "pycharm": {
     "name": "#%% md\n"
    }
   },
   "source": [
    "#### 2.4.4 梯度更新\n",
    "\n",
    "下面研究更新梯度的方法，确定损失函数更小的点。首先沿着梯度的反方向移动一小步，找到下一个点P1，观察损失函数的变化。"
   ]
  },
  {
   "cell_type": "code",
   "execution_count": 40,
   "metadata": {
    "collapsed": false,
    "pycharm": {
     "name": "#%%\n"
    }
   },
   "outputs": [
    {
     "name": "stdout",
     "output_type": "stream",
     "text": [
      "point [-99.91499266760042, -99.38615876351922], loss 678.6472185028845\n",
      "gradient [-0.8556356178645292, -6.0932268634065805]\n"
     ]
    }
   ],
   "source": [
    "# 在[w5, w9]平面上，沿着梯度的反方向移动到下一个点P1\n",
    "# 定义移动步长 eta\n",
    "eta = 0.1\n",
    "# 更新参数w5和w9\n",
    "net.w[5] = net.w[5] - eta * gradient_w5\n",
    "net.w[9] = net.w[9] - eta * gradient_w9\n",
    "# 重新计算z和loss\n",
    "z = net.forward(x)\n",
    "loss = net.loss(z, y)\n",
    "gradient_w, gradient_b = net.gradient(x, y)\n",
    "gradient_w5 = gradient_w[5][0]\n",
    "gradient_w9 = gradient_w[9][0]\n",
    "print('point {}, loss {}'.format([net.w[5][0], net.w[9][0]], loss))\n",
    "print('gradient {}'.format([gradient_w5, gradient_w9]))"
   ]
  },
  {
   "cell_type": "markdown",
   "metadata": {
    "collapsed": false,
    "pycharm": {
     "name": "#%% md\n"
    }
   },
   "source": [
    "运行上面的代码，可以发现沿着梯度反方向走一小步，下一个点的损失函数的确减少了。感兴趣的话，大家可以尝试不停的点击上面的代码块，观察损失函数是否一直在变小。\n",
    "\n",
    "在上述代码中，每次更新参数使用的语句：\n",
    "`net.w[5] = net.w[5] - eta * gradient_w5`\n",
    "\n",
    "* 相减：参数需要向梯度的反方向移动。\n",
    "* eta：控制每次参数值沿着梯度反方向变动的大小，即每次移动的步长，又称为学习率。\n",
    "\n",
    "大家可以思考下，为什么之前我们要做输入特征的归一化，保持尺度一致？这是为了让统一的步长更加合适，使训练更加高效。\n",
    "\n",
    "如 **图8** 所示，特征输入归一化后，不同参数输出的Loss是一个比较规整的曲线，学习率可以设置成统一的值 ；特征输入未归一化时，不同特征对应的参数所需的步长不一致，尺度较大的参数需要大步长，尺寸较小的参数需要小步长，导致无法设置统一的学习率。\n",
    "\n",
    "<center><img src=\"https://ai-studio-static-online.cdn.bcebos.com/903f552bc55b4a5eba71caa7dd86fd2d7b71b8ebb6cb4500a5f5711f465707f3\" width=\"300\" hegiht=\"40\" ></center>\n",
    "<center><br>图8：未归一化的特征，会导致不同特征维度的理想步长不同</br></center>\n",
    "<br></br>\n",
    "\n",
    "#### 2.4.5 封装Train函数\n",
    "\n",
    "将上面的循环计算过程封装在`train`和`update`函数中，实现方法如下所示。"
   ]
  },
  {
   "cell_type": "code",
   "execution_count": 41,
   "metadata": {
    "collapsed": false,
    "pycharm": {
     "name": "#%%\n"
    }
   },
   "outputs": [
    {
     "name": "stdout",
     "output_type": "stream",
     "text": [
      "iter 0, point [-99.99149926676004, -99.93861587635192], loss 686.3005008179159\n",
      "iter 50, point [-99.55950291459486, -96.92630620094545], loss 649.2144359737484\n",
      "iter 100, point [-99.1143836791974, -94.0227231684414], loss 614.6583805120641\n",
      "iter 150, point [-98.65689507661327, -91.22377715643974], loss 582.4474015283215\n",
      "iter 200, point [-98.18775974718623, -88.52553386435612], loss 552.4103147331971\n",
      "iter 250, point [-97.70767065020402, -85.92420840138672], loss 524.388658297806\n",
      "iter 300, point [-97.21729221288223, -83.41615959961561], loss 498.23574335719394\n",
      "iter 350, point [-96.71726143542814, -80.99788454368958], loss 473.81577544420406\n",
      "iter 400, point [-96.20818895385739, -78.66601330881193], loss 451.0030415538293\n",
      "iter 450, point [-95.69066006217508, -76.41730389912176], loss 429.6811579341994\n",
      "iter 500, point [-95.16523569546983, -74.24863737882666], loss 409.74237406676986\n",
      "iter 550, point [-94.63245337541025, -72.1570131887469], loss 391.0869286373302\n",
      "iter 600, point [-94.09282811957833, -70.13954464121011], loss 373.62245361317457\n",
      "iter 650, point [-93.5468533160177, -68.19345458650403], loss 357.26342283205247\n",
      "iter 700, point [-92.99500156432298, -66.31607124435298], loss 341.9306417770852\n",
      "iter 750, point [-92.43772548454575, -64.50482419413264], loss 327.55077546036\n",
      "iter 800, point [-91.87545849514491, -62.757240517778385], loss 314.05591156785766\n",
      "iter 850, point [-91.30861556116066, -61.07094108957052], loss 301.3831562311184\n",
      "iter 900, point [-90.73759391374827, -59.44363700720379], loss 289.47425998793403\n",
      "iter 950, point [-90.16277374216338, -57.873126158759185], loss 278.2752716764845\n",
      "iter 1000, point [-89.58451885924933, -56.35728992040244], loss 267.73621817589355\n",
      "iter 1050, point [-89.00317734143711, -54.894089979830845], loss 257.8108080621227\n",
      "iter 1100, point [-88.41908214422965, -53.481565280678495], loss 248.45615739241018\n",
      "iter 1150, point [-87.83255169410579, -52.11782908327363], loss 239.63253596498384\n",
      "iter 1200, point [-87.24389045774262, -50.801066137316646], loss 231.30313252430267\n",
      "iter 1250, point [-86.65338948942181, -49.52952996221624], loss 223.43383749639403\n",
      "iter 1300, point [-86.06132695745193, -48.301540230983434], loss 215.9930419446124\n",
      "iter 1350, point [-85.46796865040659, -47.11548025373949], loss 208.95145153400557\n",
      "iter 1400, point [-84.87356846394941, -45.969794557044004], loss 202.28191438302676\n",
      "iter 1450, point [-84.27836886898521, -44.86298655539359], loss 195.95926176510483\n",
      "iter 1500, point [-83.68260136185022, -43.793616311381186], loss 189.96016070011396\n",
      "iter 1550, point [-83.08648689722693, -42.76029838113894], loss 184.26297754750686\n",
      "iter 1600, point [-82.49023630444216, -41.76169974181719], loss 178.84765177925001\n",
      "iter 1650, point [-81.89405068778211, -40.796537797974494], loss 173.6955791720998\n",
      "iter 1700, point [-81.29812181143511, -39.86357846387417], loss 168.789503715592\n",
      "iter 1750, point [-80.70263246964815, -38.961634318795845], loss 164.11341758467972\n",
      "iter 1800, point [-80.10775684266093, -38.0895628325817], loss 159.65246857460858\n",
      "iter 1850, point [-79.51366083896096, -37.246264658742334], loss 155.39287444062649\n",
      "iter 1900, point [-78.92050242438167, -36.43068199254937], loss 151.32184362677512\n",
      "iter 1950, point [-78.32843193854492, -35.64179699163965], loss 147.42750190654235\n"
     ]
    },
    {
     "data": {
      "image/png": "[encoded data removed]",
      "text/plain": [
       "<Figure size 432x288 with 1 Axes>"
      ]
     },
     "metadata": {},
     "output_type": "display_data"
    }
   ],
   "source": [
    "class Network(object):\n",
    "    def __init__(self, num_of_weights):\n",
    "        # 随机产生w的初始值\n",
    "        # 为了保持程序每次运行结果的一致性，此处设置固定的随机数种子\n",
    "        np.random.seed(0)\n",
    "        self.w = np.random.randn(num_of_weights,1)\n",
    "        self.w[5] = -100.\n",
    "        self.w[9] = -100.\n",
    "        self.b = 0.\n",
    "        \n",
    "    def forward(self, x):\n",
    "        z = np.dot(x, self.w) + self.b\n",
    "        return z\n",
    "    \n",
    "    def loss(self, z, y):\n",
    "        error = z - y\n",
    "        num_samples = error.shape[0]\n",
    "        cost = error * error\n",
    "        cost = np.sum(cost) / num_samples\n",
    "        return cost\n",
    "    \n",
    "    def gradient(self, x, y):\n",
    "        z = self.forward(x)\n",
    "        gradient_w = (z-y)*x\n",
    "        gradient_w = np.mean(gradient_w, axis=0)\n",
    "        gradient_w = gradient_w[:, np.newaxis]\n",
    "        gradient_b = (z - y)\n",
    "        gradient_b = np.mean(gradient_b)        \n",
    "        return gradient_w, gradient_b\n",
    "    \n",
    "    def update(self, gradient_w5, gradient_w9, eta=0.01):\n",
    "        net.w[5] = net.w[5] - eta * gradient_w5\n",
    "        net.w[9] = net.w[9] - eta * gradient_w9\n",
    "        \n",
    "    def train(self, x, y, iterations=100, eta=0.01):\n",
    "        points = []\n",
    "        losses = []\n",
    "        for i in range(iterations):\n",
    "            points.append([net.w[5][0], net.w[9][0]])\n",
    "            z = self.forward(x)\n",
    "            L = self.loss(z, y)\n",
    "            gradient_w, gradient_b = self.gradient(x, y)\n",
    "            gradient_w5 = gradient_w[5][0]\n",
    "            gradient_w9 = gradient_w[9][0]\n",
    "            self.update(gradient_w5, gradient_w9, eta)\n",
    "            losses.append(L)\n",
    "            if i % 50 == 0:\n",
    "                print('iter {}, point {}, loss {}'.format(i, [net.w[5][0], net.w[9][0]], L))\n",
    "        return points, losses\n",
    "\n",
    "# 获取数据\n",
    "train_data, test_data = load_data()\n",
    "x = train_data[:, :-1]\n",
    "y = train_data[:, -1:]\n",
    "# 创建网络\n",
    "net = Network(13)\n",
    "num_iterations=2000\n",
    "# 启动训练\n",
    "points, losses = net.train(x, y, iterations=num_iterations, eta=0.01)\n",
    "\n",
    "# 画出损失函数的变化趋势\n",
    "plot_x = np.arange(num_iterations)\n",
    "plot_y = np.array(losses)\n",
    "plt.plot(plot_x, plot_y)\n",
    "plt.show()"
   ]
  },
  {
   "cell_type": "markdown",
   "metadata": {
    "collapsed": false,
    "pycharm": {
     "name": "#%% md\n"
    }
   },
   "source": [
    "#### 2.4.6 训练过程扩展到全部参数\n",
    "\n",
    "为了能给读者直观的感受，上文演示的梯度下降的过程仅包含$w_5$和$w_9$两个参数。但房价预测的模型必须要对所有参数$w$和$b$进行求解，这需要将Network中的`update`和`train`函数进行修改。由于不再限定参与计算的参数（所有参数均参与计算），修改之后的代码反而更加简洁。\n",
    "\n",
    "实现逻辑：“前向计算输出、根据输出和真实值计算Loss、基于Loss和输入计算梯度、根据梯度更新参数值”四个部分反复执行，直到到损失函数最小。"
   ]
  },
  {
   "cell_type": "code",
   "execution_count": 6,
   "metadata": {
    "collapsed": false,
    "pycharm": {
     "name": "#%%\n"
    }
   },
   "outputs": [
    {
     "name": "stdout",
     "output_type": "stream",
     "text": [
      "iter 9, loss 1.8984947314576224\n",
      "iter 19, loss 1.8031783384598725\n",
      "iter 29, loss 1.7135517565541092\n",
      "iter 39, loss 1.6292649416831264\n",
      "iter 49, loss 1.5499895293373231\n",
      "iter 59, loss 1.4754174896452612\n",
      "iter 69, loss 1.4052598659324693\n",
      "iter 79, loss 1.3392455915676864\n",
      "iter 89, loss 1.2771203802372915\n",
      "iter 99, loss 1.218645685090292\n",
      "iter 109, loss 1.1635977224791534\n",
      "iter 119, loss 1.111766556287068\n",
      "iter 129, loss 1.0629552390811503\n",
      "iter 139, loss 1.0169790065644477\n",
      "iter 149, loss 0.9736645220185994\n",
      "iter 159, loss 0.9328491676343147\n",
      "iter 169, loss 0.8943803798194307\n",
      "iter 179, loss 0.8581150257549611\n",
      "iter 189, loss 0.8239188186389669\n",
      "iter 199, loss 0.7916657692169988\n",
      "iter 209, loss 0.761237671346902\n",
      "iter 219, loss 0.7325236194855752\n",
      "iter 229, loss 0.7054195561163928\n",
      "iter 239, loss 0.6798278472589763\n",
      "iter 249, loss 0.6556568843183528\n",
      "iter 259, loss 0.6328207106387195\n",
      "iter 269, loss 0.6112386712285092\n",
      "iter 279, loss 0.59083508421862\n",
      "iter 289, loss 0.5715389327049418\n",
      "iter 299, loss 0.5532835757100347\n",
      "iter 309, loss 0.5360064770773406\n",
      "iter 319, loss 0.5196489511849665\n",
      "iter 329, loss 0.5041559244351539\n",
      "iter 339, loss 0.48947571154034963\n",
      "iter 349, loss 0.47555980568755696\n",
      "iter 359, loss 0.46236268171965056\n",
      "iter 369, loss 0.44984161152579916\n",
      "iter 379, loss 0.43795649088328303\n",
      "iter 389, loss 0.4266696770400226\n",
      "iter 399, loss 0.41594583637124666\n",
      "iter 409, loss 0.4057518014851036\n",
      "iter 419, loss 0.3960564371908221\n",
      "iter 429, loss 0.38683051477942226\n",
      "iter 439, loss 0.3780465941011246\n",
      "iter 449, loss 0.3696789129556087\n",
      "iter 459, loss 0.3617032833413179\n",
      "iter 469, loss 0.3540969941381648\n",
      "iter 479, loss 0.3468387198244131\n",
      "iter 489, loss 0.3399084348532937\n",
      "iter 499, loss 0.33328733333814486\n",
      "iter 509, loss 0.3269577537166779\n",
      "iter 519, loss 0.32090310808539985\n",
      "iter 529, loss 0.3151078159144129\n",
      "iter 539, loss 0.30955724187078903\n",
      "iter 549, loss 0.3042376374955925\n",
      "iter 559, loss 0.2991360864954391\n",
      "iter 569, loss 0.2942404534243286\n",
      "iter 579, loss 0.2895393355454012\n",
      "iter 589, loss 0.28502201767532415\n",
      "iter 599, loss 0.28067842982626157\n",
      "iter 609, loss 0.27649910747186535\n",
      "iter 619, loss 0.2724751542744919\n",
      "iter 629, loss 0.2685982071209627\n",
      "iter 639, loss 0.26486040332365085\n",
      "iter 649, loss 0.2612543498525749\n",
      "iter 659, loss 0.2577730944725093\n",
      "iter 669, loss 0.2544100986669443\n",
      "iter 679, loss 0.2511592122380609\n",
      "iter 689, loss 0.2480146494787638\n",
      "iter 699, loss 0.24497096681926708\n",
      "iter 709, loss 0.2420230418567802\n",
      "iter 719, loss 0.23916605368251415\n",
      "iter 729, loss 0.23639546442555454\n",
      "iter 739, loss 0.23370700193813704\n",
      "iter 749, loss 0.2310966435515475\n",
      "iter 759, loss 0.2285606008362593\n",
      "iter 769, loss 0.22609530530403904\n",
      "iter 779, loss 0.22369739499361888\n",
      "iter 789, loss 0.2213637018851542\n",
      "iter 799, loss 0.21909124009208833\n",
      "iter 809, loss 0.21687719478222933\n",
      "iter 819, loss 0.21471891178284025\n",
      "iter 829, loss 0.21261388782734392\n",
      "iter 839, loss 0.2105597614038757\n",
      "iter 849, loss 0.20855430416838638\n",
      "iter 859, loss 0.20659541288730932\n",
      "iter 869, loss 0.20468110187697833\n",
      "iter 879, loss 0.2028094959090178\n",
      "iter 889, loss 0.20097882355283644\n",
      "iter 899, loss 0.19918741092814596\n",
      "iter 909, loss 0.19743367584210875\n",
      "iter 919, loss 0.1957161222872899\n",
      "iter 929, loss 0.19403333527807176\n",
      "iter 939, loss 0.19238397600456975\n",
      "iter 949, loss 0.19076677728439412\n",
      "iter 959, loss 0.1891805392938162\n",
      "iter 969, loss 0.18762412556104593\n",
      "iter 979, loss 0.18609645920539716\n",
      "iter 989, loss 0.18459651940712488\n",
      "iter 999, loss 0.18312333809366155\n"
     ]
    },
    {
     "ename": "NameError",
     "evalue": "name 'plt' is not defined",
     "output_type": "error",
     "traceback": [
      "\u001B[0;31m---------------------------------------------------------------------------\u001B[0m",
      "\u001B[0;31mNameError\u001B[0m                                 Traceback (most recent call last)",
      "\u001B[0;32m/tmp/ipykernel_137/501705500.py\u001B[0m in \u001B[0;36m<module>\u001B[0;34m\u001B[0m\n\u001B[1;32m     56\u001B[0m \u001B[0mplot_x\u001B[0m \u001B[0;34m=\u001B[0m \u001B[0mnp\u001B[0m\u001B[0;34m.\u001B[0m\u001B[0marange\u001B[0m\u001B[0;34m(\u001B[0m\u001B[0mnum_iterations\u001B[0m\u001B[0;34m)\u001B[0m\u001B[0;34m\u001B[0m\u001B[0;34m\u001B[0m\u001B[0m\n\u001B[1;32m     57\u001B[0m \u001B[0mplot_y\u001B[0m \u001B[0;34m=\u001B[0m \u001B[0mnp\u001B[0m\u001B[0;34m.\u001B[0m\u001B[0marray\u001B[0m\u001B[0;34m(\u001B[0m\u001B[0mlosses\u001B[0m\u001B[0;34m)\u001B[0m\u001B[0;34m\u001B[0m\u001B[0;34m\u001B[0m\u001B[0m\n\u001B[0;32m---> 58\u001B[0;31m \u001B[0mplt\u001B[0m\u001B[0;34m.\u001B[0m\u001B[0mplot\u001B[0m\u001B[0;34m(\u001B[0m\u001B[0mplot_x\u001B[0m\u001B[0;34m,\u001B[0m \u001B[0mplot_y\u001B[0m\u001B[0;34m)\u001B[0m\u001B[0;34m\u001B[0m\u001B[0;34m\u001B[0m\u001B[0m\n\u001B[0m\u001B[1;32m     59\u001B[0m \u001B[0mplt\u001B[0m\u001B[0;34m.\u001B[0m\u001B[0mshow\u001B[0m\u001B[0;34m(\u001B[0m\u001B[0;34m)\u001B[0m\u001B[0;34m\u001B[0m\u001B[0;34m\u001B[0m\u001B[0m\n",
      "\u001B[0;31mNameError\u001B[0m: name 'plt' is not defined"
     ]
    }
   ],
   "source": [
    "class Network(object):\n",
    "    def __init__(self, num_of_weights):\n",
    "        # 随机产生w的初始值\n",
    "        # 为了保持程序每次运行结果的一致性，此处设置固定的随机数种子\n",
    "        np.random.seed(0)\n",
    "        self.w = np.random.randn(num_of_weights, 1)\n",
    "        self.b = 0.\n",
    "        \n",
    "    def forward(self, x):\n",
    "        z = np.dot(x, self.w) + self.b\n",
    "        return z\n",
    "    \n",
    "    def loss(self, z, y):\n",
    "        error = z - y\n",
    "        num_samples = error.shape[0]\n",
    "        cost = error * error\n",
    "        cost = np.sum(cost) / num_samples\n",
    "        return cost\n",
    "    \n",
    "    def gradient(self, x, y):\n",
    "        z = self.forward(x)\n",
    "        gradient_w = (z-y)*x\n",
    "        gradient_w = np.mean(gradient_w, axis=0)\n",
    "        gradient_w = gradient_w[:, np.newaxis]\n",
    "        gradient_b = (z - y)\n",
    "        gradient_b = np.mean(gradient_b)        \n",
    "        return gradient_w, gradient_b\n",
    "    \n",
    "    def update(self, gradient_w, gradient_b, eta = 0.01):\n",
    "        self.w = self.w - eta * gradient_w\n",
    "        self.b = self.b - eta * gradient_b\n",
    "        \n",
    "    def train(self, x, y, iterations=100, eta=0.01):\n",
    "        losses = []\n",
    "        for i in range(iterations):\n",
    "            z = self.forward(x)\n",
    "            L = self.loss(z, y)\n",
    "            gradient_w, gradient_b = self.gradient(x, y)\n",
    "            self.update(gradient_w, gradient_b, eta)\n",
    "            losses.append(L)\n",
    "            if (i+1) % 10 == 0:\n",
    "                print('iter {}, loss {}'.format(i, L))\n",
    "        return losses\n",
    "\n",
    "# 获取数据\n",
    "train_data, test_data = load_data()\n",
    "x = train_data[:, :-1]\n",
    "y = train_data[:, -1:]\n",
    "# 创建网络\n",
    "net = Network(13)\n",
    "num_iterations=1000\n",
    "# 启动训练\n",
    "losses = net.train(x,y, iterations=num_iterations, eta=0.01)\n",
    "\n",
    "# 画出损失函数的变化趋势\n",
    "plot_x = np.arange(num_iterations)\n",
    "plot_y = np.array(losses)\n",
    "plt.plot(plot_x, plot_y)\n",
    "plt.show()"
   ]
  },
  {
   "cell_type": "markdown",
   "metadata": {
    "collapsed": false,
    "pycharm": {
     "name": "#%% md\n"
    }
   },
   "source": [
    "#### 2.4.7  随机梯度下降法（ Stochastic Gradient Descent）\n",
    "\n",
    "在上述程序中，每次损失函数和梯度计算都是基于数据集中的全量数据。对于波士顿房价预测任务数据集而言，样本数比较少，只有404个。但在实际问题中，数据集往往非常大，如果每次都使用全量数据进行计算，效率非常低，通俗地说就是“杀鸡焉用牛刀”。由于参数每次只沿着梯度反方向更新一点点，因此方向并不需要那么精确。一个合理的解决方案是每次从总的数据集中随机抽取出小部分数据来代表整体，基于这部分数据计算梯度和损失来更新参数，这种方法被称作随机梯度下降法（Stochastic Gradient Descent，SGD），核心概念如下：\n",
    "\n",
    "* mini-batch：每次迭代时抽取出来的一批数据被称为一个mini-batch。\n",
    "* batch_size：一个mini-batch所包含的样本数目称为batch_size。\n",
    "* epoch：当程序迭代的时候，按mini-batch逐渐抽取出样本，当把整个数据集都遍历到了的时候，则完成了一轮训练，也叫一个epoch。启动训练时，可以将训练的轮数num_epochs和batch_size作为参数传入。\n",
    "\n",
    "下面结合程序介绍具体的实现过程，涉及到数据处理和训练过程两部分代码的修改。\n",
    "\n",
    "* **数据处理代码修改**\n",
    "\n",
    "数据处理需要实现拆分数据批次和样本乱序（为了实现随机抽样的效果）两个功能。"
   ]
  },
  {
   "cell_type": "code",
   "execution_count": 44,
   "metadata": {
    "collapsed": false,
    "pycharm": {
     "name": "#%%\n"
    }
   },
   "outputs": [
    {
     "data": {
      "text/plain": [
       "(404, 14)"
      ]
     },
     "execution_count": 44,
     "metadata": {},
     "output_type": "execute_result"
    }
   ],
   "source": [
    "# 获取数据\n",
    "train_data, test_data = load_data()\n",
    "train_data.shape"
   ]
  },
  {
   "cell_type": "markdown",
   "metadata": {
    "collapsed": false,
    "pycharm": {
     "name": "#%% md\n"
    }
   },
   "source": [
    "train_data中一共包含404条数据，如果batch_size=10，即取前0-9号样本作为第一个mini-batch，命名train_data1。"
   ]
  },
  {
   "cell_type": "code",
   "execution_count": 45,
   "metadata": {
    "collapsed": false,
    "pycharm": {
     "name": "#%%\n"
    }
   },
   "outputs": [
    {
     "data": {
      "text/plain": [
       "(10, 14)"
      ]
     },
     "execution_count": 45,
     "metadata": {},
     "output_type": "execute_result"
    }
   ],
   "source": [
    "train_data1 = train_data[0:10]\n",
    "train_data1.shape"
   ]
  },
  {
   "cell_type": "markdown",
   "metadata": {
    "collapsed": false,
    "pycharm": {
     "name": "#%% md\n"
    }
   },
   "source": [
    "使用train_data1的数据（0-9号样本）计算梯度并更新网络参数。"
   ]
  },
  {
   "cell_type": "code",
   "execution_count": 46,
   "metadata": {
    "collapsed": false,
    "pycharm": {
     "name": "#%%\n"
    }
   },
   "outputs": [
    {
     "data": {
      "text/plain": [
       "[0.9001866101467375]"
      ]
     },
     "execution_count": 46,
     "metadata": {},
     "output_type": "execute_result"
    }
   ],
   "source": [
    "net = Network(13)\n",
    "x = train_data1[:, :-1]\n",
    "y = train_data1[:, -1:]\n",
    "loss = net.train(x, y, iterations=1, eta=0.01)\n",
    "loss"
   ]
  },
  {
   "cell_type": "markdown",
   "metadata": {
    "collapsed": false,
    "pycharm": {
     "name": "#%% md\n"
    }
   },
   "source": [
    "再取出10-19号样本作为第二个mini-batch，计算梯度并更新网络参数。"
   ]
  },
  {
   "cell_type": "code",
   "execution_count": 47,
   "metadata": {
    "collapsed": false,
    "pycharm": {
     "name": "#%%\n"
    }
   },
   "outputs": [
    {
     "data": {
      "text/plain": [
       "[0.1171681170130832]"
      ]
     },
     "execution_count": 47,
     "metadata": {},
     "output_type": "execute_result"
    }
   ],
   "source": [
    "train_data2 = train_data[10:20]\n",
    "x = train_data2[:, :-1]\n",
    "y = train_data2[:, -1:]\n",
    "loss = net.train(x, y, iterations=1, eta=0.01)\n",
    "loss"
   ]
  },
  {
   "cell_type": "markdown",
   "metadata": {
    "collapsed": false,
    "pycharm": {
     "name": "#%% md\n"
    }
   },
   "source": [
    "按此方法不断的取出新的mini-batch，并逐渐更新网络参数。\n",
    "\n",
    "接下来，将train_data分成大小为batch_size的多个mini_batch，如下代码所示：将train_data分成 $\\frac{404}{10} + 1 = 41$ 个 mini_batch，其中前40个mini_batch，每个均含有10个样本，最后一个mini_batch只含有4个样本。"
   ]
  },
  {
   "cell_type": "code",
   "execution_count": 48,
   "metadata": {
    "collapsed": false,
    "pycharm": {
     "name": "#%%\n"
    }
   },
   "outputs": [
    {
     "name": "stdout",
     "output_type": "stream",
     "text": [
      "total number of mini_batches is  41\n",
      "first mini_batch shape  (10, 14)\n",
      "last mini_batch shape  (4, 14)\n"
     ]
    }
   ],
   "source": [
    "batch_size = 10\n",
    "n = len(train_data)\n",
    "mini_batches = [train_data[k:k+batch_size] for k in range(0, n, batch_size)]\n",
    "print('total number of mini_batches is ', len(mini_batches))\n",
    "print('first mini_batch shape ', mini_batches[0].shape)\n",
    "print('last mini_batch shape ', mini_batches[-1].shape)"
   ]
  },
  {
   "cell_type": "markdown",
   "metadata": {
    "collapsed": false,
    "pycharm": {
     "name": "#%% md\n"
    }
   },
   "source": [
    "另外，这里是按顺序读取mini_batch，而SGD里面是随机抽取一部分样本代表总体。为了实现随机抽样的效果，我们先将train_data里面的样本顺序随机打乱，然后再抽取mini_batch。随机打乱样本顺序，需要用到`np.random.shuffle`函数，下面先介绍它的用法。\n",
    "\n",
    "------\n",
    "**说明：**\n",
    "\n",
    "通过大量实验发现，模型受训练后期的影响更大，类似于人脑总是对近期发生的事情记忆的更加清晰。为了避免数据样本集合的顺序干扰模型的训练效果，需要进行样本乱序操作。当然，如果训练样本的顺序就是样本产生的顺序，而我们期望模型更重视近期产生的样本（预测样本会和近期的训练样本分布更接近），则不需要乱序这个步骤。\n",
    "\n",
    "------"
   ]
  },
  {
   "cell_type": "code",
   "execution_count": 51,
   "metadata": {
    "collapsed": false,
    "pycharm": {
     "name": "#%%\n"
    }
   },
   "outputs": [
    {
     "name": "stdout",
     "output_type": "stream",
     "text": [
      "before shuffle [ 1  2  3  4  5  6  7  8  9 10 11 12]\n",
      "after shuffle [ 2 10  1  6 12  3  9  7  4  8  5 11]\n"
     ]
    }
   ],
   "source": [
    "# 新建一个array\n",
    "a = np.array([1,2,3,4,5,6,7,8,9,10,11,12])\n",
    "print('before shuffle', a)\n",
    "np.random.shuffle(a)\n",
    "print('after shuffle', a)"
   ]
  },
  {
   "cell_type": "markdown",
   "metadata": {
    "collapsed": false,
    "pycharm": {
     "name": "#%% md\n"
    }
   },
   "source": [
    "多次运行上面的代码，可以发现每次执行shuffle函数后的数字顺序均不同。\n",
    "上面举的是一个1维数组乱序的案例，我们再观察下2维数组乱序后的效果。"
   ]
  },
  {
   "cell_type": "code",
   "execution_count": 52,
   "metadata": {
    "collapsed": false,
    "pycharm": {
     "name": "#%%\n"
    }
   },
   "outputs": [
    {
     "name": "stdout",
     "output_type": "stream",
     "text": [
      "before shuffle\n",
      " [[ 1  2]\n",
      " [ 3  4]\n",
      " [ 5  6]\n",
      " [ 7  8]\n",
      " [ 9 10]\n",
      " [11 12]]\n",
      "after shuffle\n",
      " [[ 7  8]\n",
      " [ 5  6]\n",
      " [ 3  4]\n",
      " [11 12]\n",
      " [ 1  2]\n",
      " [ 9 10]]\n"
     ]
    }
   ],
   "source": [
    "# 新建一个array\n",
    "a = np.array([1,2,3,4,5,6,7,8,9,10,11,12])\n",
    "a = a.reshape([6, 2])\n",
    "print('before shuffle\\n', a)\n",
    "np.random.shuffle(a)\n",
    "print('after shuffle\\n', a)"
   ]
  },
  {
   "cell_type": "markdown",
   "metadata": {
    "collapsed": false,
    "pycharm": {
     "name": "#%% md\n"
    }
   },
   "source": [
    "观察运行结果可发现，数组的元素在第0维被随机打乱，但第1维的顺序保持不变。例如数字2仍然紧挨在数字1的后面，数字8仍然紧挨在数字7的后面，而第二维的[3, 4]并不排在[1, 2]的后面。将这部分实现SGD算法的代码集成到Network类中的`train`函数中，最终的完整代码如下。"
   ]
  },
  {
   "cell_type": "code",
   "execution_count": 5,
   "metadata": {
    "collapsed": false,
    "pycharm": {
     "name": "#%%\n"
    }
   },
   "outputs": [
    {
     "ename": "NameError",
     "evalue": "name 'Network' is not defined",
     "output_type": "error",
     "traceback": [
      "\u001B[0;31m---------------------------------------------------------------------------\u001B[0m",
      "\u001B[0;31mNameError\u001B[0m                                 Traceback (most recent call last)",
      "\u001B[0;32m/tmp/ipykernel_137/3056455039.py\u001B[0m in \u001B[0;36m<module>\u001B[0;34m\u001B[0m\n\u001B[1;32m     11\u001B[0m \u001B[0;34m\u001B[0m\u001B[0m\n\u001B[1;32m     12\u001B[0m \u001B[0;31m# 创建网络\u001B[0m\u001B[0;34m\u001B[0m\u001B[0;34m\u001B[0m\u001B[0;34m\u001B[0m\u001B[0m\n\u001B[0;32m---> 13\u001B[0;31m \u001B[0mnet\u001B[0m \u001B[0;34m=\u001B[0m \u001B[0mNetwork\u001B[0m\u001B[0;34m(\u001B[0m\u001B[0;36m13\u001B[0m\u001B[0;34m)\u001B[0m\u001B[0;34m\u001B[0m\u001B[0;34m\u001B[0m\u001B[0m\n\u001B[0m\u001B[1;32m     14\u001B[0m \u001B[0;34m\u001B[0m\u001B[0m\n\u001B[1;32m     15\u001B[0m \u001B[0;31m# 依次使用每个mini_batch的数据\u001B[0m\u001B[0;34m\u001B[0m\u001B[0;34m\u001B[0m\u001B[0;34m\u001B[0m\u001B[0m\n",
      "\u001B[0;31mNameError\u001B[0m: name 'Network' is not defined"
     ]
    }
   ],
   "source": [
    "# 获取数据\n",
    "train_data, test_data = load_data()\n",
    "\n",
    "# 打乱样本顺序\n",
    "np.random.shuffle(train_data)\n",
    "\n",
    "# 将train_data分成多个mini_batch\n",
    "batch_size = 10\n",
    "n = len(train_data)\n",
    "mini_batches = [train_data[k:k+batch_size] for k in range(0, n, batch_size)]\n",
    "\n",
    "# 创建网络\n",
    "net = Network(13)\n",
    "\n",
    "# 依次使用每个mini_batch的数据\n",
    "for mini_batch in mini_batches:\n",
    "    x = mini_batch[:, :-1]\n",
    "    y = mini_batch[:, -1:]\n",
    "    loss = net.train(x, y, iterations=1)"
   ]
  },
  {
   "cell_type": "markdown",
   "metadata": {
    "collapsed": false,
    "pycharm": {
     "name": "#%% md\n"
    }
   },
   "source": [
    "*  **训练过程代码修改**\n",
    "\n",
    "将每个随机抽取的mini-batch数据输入到模型中用于参数训练。训练过程的核心是两层循环：\n",
    "\n",
    "1. 第一层循环，代表样本集合要被训练遍历几次，称为“epoch”，代码如下：\n",
    "\n",
    "`for epoch_id in range(num_epochs):`\n",
    "\n",
    "2. 第二层循环，代表每次遍历时，样本集合被拆分成的多个批次，需要全部执行训练，称为“iter (iteration)”，代码如下：\n",
    "\n",
    "`for iter_id,mini_batch in emumerate(mini_batches):`\n",
    "\n",
    "在两层循环的内部是经典的四步训练流程：前向计算->计算损失->计算梯度->更新参数，这与大家之前所学是一致的，代码如下：\n",
    "\n",
    "                x = mini_batch[:, :-1]\n",
    "                y = mini_batch[:, -1:]\n",
    "                a = self.forward(x)  #前向计算\n",
    "                loss = self.loss(a, y)  #计算损失\n",
    "                gradient_w, gradient_b = self.gradient(x, y)  #计算梯度\n",
    "                self.update(gradient_w, gradient_b, eta)  #更新参数\n",
    "\n",
    "\n",
    "将两部分改写的代码集成到Network类中的`train`函数中，最终的实现如下。"
   ]
  },
  {
   "cell_type": "code",
   "execution_count": 7,
   "metadata": {
    "collapsed": false,
    "pycharm": {
     "name": "#%%\n"
    }
   },
   "outputs": [
    {
     "name": "stdout",
     "output_type": "stream",
     "text": [
      "Epoch   0 / iter   0, loss = 0.6273\n",
      "Epoch   0 / iter   1, loss = 0.4835\n",
      "Epoch   0 / iter   2, loss = 0.5830\n",
      "Epoch   0 / iter   3, loss = 0.5466\n",
      "Epoch   0 / iter   4, loss = 0.2147\n",
      "Epoch   1 / iter   0, loss = 0.6645\n",
      "Epoch   1 / iter   1, loss = 0.4875\n",
      "Epoch   1 / iter   2, loss = 0.4707\n",
      "Epoch   1 / iter   3, loss = 0.4153\n",
      "Epoch   1 / iter   4, loss = 0.1402\n",
      "Epoch   2 / iter   0, loss = 0.5897\n",
      "Epoch   2 / iter   1, loss = 0.4373\n",
      "Epoch   2 / iter   2, loss = 0.4631\n",
      "Epoch   2 / iter   3, loss = 0.3960\n",
      "Epoch   2 / iter   4, loss = 0.2340\n",
      "Epoch   3 / iter   0, loss = 0.4139\n",
      "Epoch   3 / iter   1, loss = 0.5635\n",
      "Epoch   3 / iter   2, loss = 0.3807\n",
      "Epoch   3 / iter   3, loss = 0.3975\n",
      "Epoch   3 / iter   4, loss = 0.1207\n",
      "Epoch   4 / iter   0, loss = 0.3786\n",
      "Epoch   4 / iter   1, loss = 0.4474\n",
      "Epoch   4 / iter   2, loss = 0.4019\n",
      "Epoch   4 / iter   3, loss = 0.4352\n",
      "Epoch   4 / iter   4, loss = 0.0435\n",
      "Epoch   5 / iter   0, loss = 0.4387\n",
      "Epoch   5 / iter   1, loss = 0.3886\n",
      "Epoch   5 / iter   2, loss = 0.3182\n",
      "Epoch   5 / iter   3, loss = 0.4189\n",
      "Epoch   5 / iter   4, loss = 0.1741\n",
      "Epoch   6 / iter   0, loss = 0.3191\n",
      "Epoch   6 / iter   1, loss = 0.3601\n",
      "Epoch   6 / iter   2, loss = 0.4199\n",
      "Epoch   6 / iter   3, loss = 0.3289\n",
      "Epoch   6 / iter   4, loss = 1.2691\n",
      "Epoch   7 / iter   0, loss = 0.3202\n",
      "Epoch   7 / iter   1, loss = 0.2855\n",
      "Epoch   7 / iter   2, loss = 0.4129\n",
      "Epoch   7 / iter   3, loss = 0.3331\n",
      "Epoch   7 / iter   4, loss = 0.2218\n",
      "Epoch   8 / iter   0, loss = 0.2368\n",
      "Epoch   8 / iter   1, loss = 0.3457\n",
      "Epoch   8 / iter   2, loss = 0.3339\n",
      "Epoch   8 / iter   3, loss = 0.3812\n",
      "Epoch   8 / iter   4, loss = 0.0534\n",
      "Epoch   9 / iter   0, loss = 0.3567\n",
      "Epoch   9 / iter   1, loss = 0.4033\n",
      "Epoch   9 / iter   2, loss = 0.1926\n",
      "Epoch   9 / iter   3, loss = 0.2803\n",
      "Epoch   9 / iter   4, loss = 0.1557\n",
      "Epoch  10 / iter   0, loss = 0.3435\n",
      "Epoch  10 / iter   1, loss = 0.2790\n",
      "Epoch  10 / iter   2, loss = 0.3456\n",
      "Epoch  10 / iter   3, loss = 0.2076\n",
      "Epoch  10 / iter   4, loss = 0.0935\n",
      "Epoch  11 / iter   0, loss = 0.3024\n",
      "Epoch  11 / iter   1, loss = 0.2517\n",
      "Epoch  11 / iter   2, loss = 0.2797\n",
      "Epoch  11 / iter   3, loss = 0.2989\n",
      "Epoch  11 / iter   4, loss = 0.0301\n",
      "Epoch  12 / iter   0, loss = 0.2507\n",
      "Epoch  12 / iter   1, loss = 0.2563\n",
      "Epoch  12 / iter   2, loss = 0.2971\n",
      "Epoch  12 / iter   3, loss = 0.2833\n",
      "Epoch  12 / iter   4, loss = 0.0597\n",
      "Epoch  13 / iter   0, loss = 0.2827\n",
      "Epoch  13 / iter   1, loss = 0.2094\n",
      "Epoch  13 / iter   2, loss = 0.2417\n",
      "Epoch  13 / iter   3, loss = 0.2985\n",
      "Epoch  13 / iter   4, loss = 0.4036\n",
      "Epoch  14 / iter   0, loss = 0.3085\n",
      "Epoch  14 / iter   1, loss = 0.2015\n",
      "Epoch  14 / iter   2, loss = 0.1830\n",
      "Epoch  14 / iter   3, loss = 0.2978\n",
      "Epoch  14 / iter   4, loss = 0.0630\n",
      "Epoch  15 / iter   0, loss = 0.2342\n",
      "Epoch  15 / iter   1, loss = 0.2780\n",
      "Epoch  15 / iter   2, loss = 0.2571\n",
      "Epoch  15 / iter   3, loss = 0.1838\n",
      "Epoch  15 / iter   4, loss = 0.0627\n",
      "Epoch  16 / iter   0, loss = 0.1896\n",
      "Epoch  16 / iter   1, loss = 0.1966\n",
      "Epoch  16 / iter   2, loss = 0.2018\n",
      "Epoch  16 / iter   3, loss = 0.3257\n",
      "Epoch  16 / iter   4, loss = 0.1268\n",
      "Epoch  17 / iter   0, loss = 0.1990\n",
      "Epoch  17 / iter   1, loss = 0.2031\n",
      "Epoch  17 / iter   2, loss = 0.2662\n",
      "Epoch  17 / iter   3, loss = 0.2128\n",
      "Epoch  17 / iter   4, loss = 0.0133\n",
      "Epoch  18 / iter   0, loss = 0.1780\n",
      "Epoch  18 / iter   1, loss = 0.1575\n",
      "Epoch  18 / iter   2, loss = 0.2547\n",
      "Epoch  18 / iter   3, loss = 0.2544\n",
      "Epoch  18 / iter   4, loss = 0.2007\n",
      "Epoch  19 / iter   0, loss = 0.1657\n",
      "Epoch  19 / iter   1, loss = 0.2000\n",
      "Epoch  19 / iter   2, loss = 0.2045\n",
      "Epoch  19 / iter   3, loss = 0.2524\n",
      "Epoch  19 / iter   4, loss = 0.0632\n",
      "Epoch  20 / iter   0, loss = 0.1629\n",
      "Epoch  20 / iter   1, loss = 0.1895\n",
      "Epoch  20 / iter   2, loss = 0.2523\n",
      "Epoch  20 / iter   3, loss = 0.1896\n",
      "Epoch  20 / iter   4, loss = 0.0918\n",
      "Epoch  21 / iter   0, loss = 0.1583\n",
      "Epoch  21 / iter   1, loss = 0.2322\n",
      "Epoch  21 / iter   2, loss = 0.1567\n",
      "Epoch  21 / iter   3, loss = 0.2089\n",
      "Epoch  21 / iter   4, loss = 0.2035\n",
      "Epoch  22 / iter   0, loss = 0.2273\n",
      "Epoch  22 / iter   1, loss = 0.1427\n",
      "Epoch  22 / iter   2, loss = 0.1712\n",
      "Epoch  22 / iter   3, loss = 0.1826\n",
      "Epoch  22 / iter   4, loss = 0.2878\n",
      "Epoch  23 / iter   0, loss = 0.1685\n",
      "Epoch  23 / iter   1, loss = 0.1622\n",
      "Epoch  23 / iter   2, loss = 0.1499\n",
      "Epoch  23 / iter   3, loss = 0.2329\n",
      "Epoch  23 / iter   4, loss = 0.1486\n",
      "Epoch  24 / iter   0, loss = 0.1617\n",
      "Epoch  24 / iter   1, loss = 0.2083\n",
      "Epoch  24 / iter   2, loss = 0.1442\n",
      "Epoch  24 / iter   3, loss = 0.1740\n",
      "Epoch  24 / iter   4, loss = 0.1641\n",
      "Epoch  25 / iter   0, loss = 0.1159\n",
      "Epoch  25 / iter   1, loss = 0.2064\n",
      "Epoch  25 / iter   2, loss = 0.1690\n",
      "Epoch  25 / iter   3, loss = 0.1778\n",
      "Epoch  25 / iter   4, loss = 0.0159\n",
      "Epoch  26 / iter   0, loss = 0.1730\n",
      "Epoch  26 / iter   1, loss = 0.1861\n",
      "Epoch  26 / iter   2, loss = 0.1387\n",
      "Epoch  26 / iter   3, loss = 0.1486\n",
      "Epoch  26 / iter   4, loss = 0.1090\n",
      "Epoch  27 / iter   0, loss = 0.1393\n",
      "Epoch  27 / iter   1, loss = 0.1775\n",
      "Epoch  27 / iter   2, loss = 0.1564\n",
      "Epoch  27 / iter   3, loss = 0.1245\n",
      "Epoch  27 / iter   4, loss = 0.7611\n",
      "Epoch  28 / iter   0, loss = 0.1470\n",
      "Epoch  28 / iter   1, loss = 0.1211\n",
      "Epoch  28 / iter   2, loss = 0.1285\n",
      "Epoch  28 / iter   3, loss = 0.1854\n",
      "Epoch  28 / iter   4, loss = 0.5240\n",
      "Epoch  29 / iter   0, loss = 0.1740\n",
      "Epoch  29 / iter   1, loss = 0.0898\n",
      "Epoch  29 / iter   2, loss = 0.1392\n",
      "Epoch  29 / iter   3, loss = 0.1842\n",
      "Epoch  29 / iter   4, loss = 0.0251\n",
      "Epoch  30 / iter   0, loss = 0.0978\n",
      "Epoch  30 / iter   1, loss = 0.1529\n",
      "Epoch  30 / iter   2, loss = 0.1640\n",
      "Epoch  30 / iter   3, loss = 0.1503\n",
      "Epoch  30 / iter   4, loss = 0.0975\n",
      "Epoch  31 / iter   0, loss = 0.1399\n",
      "Epoch  31 / iter   1, loss = 0.1595\n",
      "Epoch  31 / iter   2, loss = 0.1209\n",
      "Epoch  31 / iter   3, loss = 0.1203\n",
      "Epoch  31 / iter   4, loss = 0.2008\n",
      "Epoch  32 / iter   0, loss = 0.1501\n",
      "Epoch  32 / iter   1, loss = 0.1310\n",
      "Epoch  32 / iter   2, loss = 0.1065\n",
      "Epoch  32 / iter   3, loss = 0.1489\n",
      "Epoch  32 / iter   4, loss = 0.0818\n",
      "Epoch  33 / iter   0, loss = 0.1401\n",
      "Epoch  33 / iter   1, loss = 0.1367\n",
      "Epoch  33 / iter   2, loss = 0.0970\n",
      "Epoch  33 / iter   3, loss = 0.1481\n",
      "Epoch  33 / iter   4, loss = 0.0711\n",
      "Epoch  34 / iter   0, loss = 0.1157\n",
      "Epoch  34 / iter   1, loss = 0.1050\n",
      "Epoch  34 / iter   2, loss = 0.1378\n",
      "Epoch  34 / iter   3, loss = 0.1505\n",
      "Epoch  34 / iter   4, loss = 0.0429\n",
      "Epoch  35 / iter   0, loss = 0.1096\n",
      "Epoch  35 / iter   1, loss = 0.1279\n",
      "Epoch  35 / iter   2, loss = 0.1715\n",
      "Epoch  35 / iter   3, loss = 0.0888\n",
      "Epoch  35 / iter   4, loss = 0.0473\n",
      "Epoch  36 / iter   0, loss = 0.1350\n",
      "Epoch  36 / iter   1, loss = 0.0781\n",
      "Epoch  36 / iter   2, loss = 0.1458\n",
      "Epoch  36 / iter   3, loss = 0.1288\n",
      "Epoch  36 / iter   4, loss = 0.0421\n",
      "Epoch  37 / iter   0, loss = 0.1083\n",
      "Epoch  37 / iter   1, loss = 0.0972\n",
      "Epoch  37 / iter   2, loss = 0.1513\n",
      "Epoch  37 / iter   3, loss = 0.1236\n",
      "Epoch  37 / iter   4, loss = 0.0366\n",
      "Epoch  38 / iter   0, loss = 0.1204\n",
      "Epoch  38 / iter   1, loss = 0.1341\n",
      "Epoch  38 / iter   2, loss = 0.1109\n",
      "Epoch  38 / iter   3, loss = 0.0905\n",
      "Epoch  38 / iter   4, loss = 0.3906\n",
      "Epoch  39 / iter   0, loss = 0.0923\n",
      "Epoch  39 / iter   1, loss = 0.1094\n",
      "Epoch  39 / iter   2, loss = 0.1295\n",
      "Epoch  39 / iter   3, loss = 0.1239\n",
      "Epoch  39 / iter   4, loss = 0.0684\n",
      "Epoch  40 / iter   0, loss = 0.1188\n",
      "Epoch  40 / iter   1, loss = 0.0984\n",
      "Epoch  40 / iter   2, loss = 0.1067\n",
      "Epoch  40 / iter   3, loss = 0.1057\n",
      "Epoch  40 / iter   4, loss = 0.4602\n",
      "Epoch  41 / iter   0, loss = 0.1478\n",
      "Epoch  41 / iter   1, loss = 0.0980\n",
      "Epoch  41 / iter   2, loss = 0.0921\n",
      "Epoch  41 / iter   3, loss = 0.1020\n",
      "Epoch  41 / iter   4, loss = 0.0430\n",
      "Epoch  42 / iter   0, loss = 0.0991\n",
      "Epoch  42 / iter   1, loss = 0.0994\n",
      "Epoch  42 / iter   2, loss = 0.1270\n",
      "Epoch  42 / iter   3, loss = 0.0988\n",
      "Epoch  42 / iter   4, loss = 0.1176\n",
      "Epoch  43 / iter   0, loss = 0.1286\n",
      "Epoch  43 / iter   1, loss = 0.1013\n",
      "Epoch  43 / iter   2, loss = 0.1066\n",
      "Epoch  43 / iter   3, loss = 0.0779\n",
      "Epoch  43 / iter   4, loss = 0.1481\n",
      "Epoch  44 / iter   0, loss = 0.0840\n",
      "Epoch  44 / iter   1, loss = 0.0858\n",
      "Epoch  44 / iter   2, loss = 0.1388\n",
      "Epoch  44 / iter   3, loss = 0.1000\n",
      "Epoch  44 / iter   4, loss = 0.0313\n",
      "Epoch  45 / iter   0, loss = 0.0896\n",
      "Epoch  45 / iter   1, loss = 0.1173\n",
      "Epoch  45 / iter   2, loss = 0.0916\n",
      "Epoch  45 / iter   3, loss = 0.1043\n",
      "Epoch  45 / iter   4, loss = 0.0074\n",
      "Epoch  46 / iter   0, loss = 0.1008\n",
      "Epoch  46 / iter   1, loss = 0.0915\n",
      "Epoch  46 / iter   2, loss = 0.0877\n",
      "Epoch  46 / iter   3, loss = 0.1139\n",
      "Epoch  46 / iter   4, loss = 0.0292\n",
      "Epoch  47 / iter   0, loss = 0.0679\n",
      "Epoch  47 / iter   1, loss = 0.0987\n",
      "Epoch  47 / iter   2, loss = 0.0929\n",
      "Epoch  47 / iter   3, loss = 0.1098\n",
      "Epoch  47 / iter   4, loss = 0.4838\n",
      "Epoch  48 / iter   0, loss = 0.0693\n",
      "Epoch  48 / iter   1, loss = 0.1095\n",
      "Epoch  48 / iter   2, loss = 0.1128\n",
      "Epoch  48 / iter   3, loss = 0.0890\n",
      "Epoch  48 / iter   4, loss = 0.1008\n",
      "Epoch  49 / iter   0, loss = 0.0724\n",
      "Epoch  49 / iter   1, loss = 0.0804\n",
      "Epoch  49 / iter   2, loss = 0.0919\n",
      "Epoch  49 / iter   3, loss = 0.1233\n",
      "Epoch  49 / iter   4, loss = 0.1849\n"
     ]
    },
    {
     "ename": "NameError",
     "evalue": "name 'plt' is not defined",
     "output_type": "error",
     "traceback": [
      "\u001B[0;31m---------------------------------------------------------------------------\u001B[0m",
      "\u001B[0;31mNameError\u001B[0m                                 Traceback (most recent call last)",
      "\u001B[0;32m/tmp/ipykernel_137/1533222288.py\u001B[0m in \u001B[0;36m<module>\u001B[0;34m\u001B[0m\n\u001B[1;32m     68\u001B[0m \u001B[0mplot_x\u001B[0m \u001B[0;34m=\u001B[0m \u001B[0mnp\u001B[0m\u001B[0;34m.\u001B[0m\u001B[0marange\u001B[0m\u001B[0;34m(\u001B[0m\u001B[0mlen\u001B[0m\u001B[0;34m(\u001B[0m\u001B[0mlosses\u001B[0m\u001B[0;34m)\u001B[0m\u001B[0;34m)\u001B[0m\u001B[0;34m\u001B[0m\u001B[0;34m\u001B[0m\u001B[0m\n\u001B[1;32m     69\u001B[0m \u001B[0mplot_y\u001B[0m \u001B[0;34m=\u001B[0m \u001B[0mnp\u001B[0m\u001B[0;34m.\u001B[0m\u001B[0marray\u001B[0m\u001B[0;34m(\u001B[0m\u001B[0mlosses\u001B[0m\u001B[0;34m)\u001B[0m\u001B[0;34m\u001B[0m\u001B[0;34m\u001B[0m\u001B[0m\n\u001B[0;32m---> 70\u001B[0;31m \u001B[0mplt\u001B[0m\u001B[0;34m.\u001B[0m\u001B[0mplot\u001B[0m\u001B[0;34m(\u001B[0m\u001B[0mplot_x\u001B[0m\u001B[0;34m,\u001B[0m \u001B[0mplot_y\u001B[0m\u001B[0;34m)\u001B[0m\u001B[0;34m\u001B[0m\u001B[0;34m\u001B[0m\u001B[0m\n\u001B[0m\u001B[1;32m     71\u001B[0m \u001B[0mplt\u001B[0m\u001B[0;34m.\u001B[0m\u001B[0mshow\u001B[0m\u001B[0;34m(\u001B[0m\u001B[0;34m)\u001B[0m\u001B[0;34m\u001B[0m\u001B[0;34m\u001B[0m\u001B[0m\n",
      "\u001B[0;31mNameError\u001B[0m: name 'plt' is not defined"
     ]
    }
   ],
   "source": [
    "import numpy as np\n",
    "\n",
    "class Network(object):\n",
    "    def __init__(self, num_of_weights):\n",
    "        # 随机产生w的初始值\n",
    "        # 为了保持程序每次运行结果的一致性，此处设置固定的随机数种子\n",
    "        #np.random.seed(0)\n",
    "        self.w = np.random.randn(num_of_weights, 1)\n",
    "        self.b = 0.\n",
    "        \n",
    "    def forward(self, x):\n",
    "        z = np.dot(x, self.w) + self.b\n",
    "        return z\n",
    "    \n",
    "    def loss(self, z, y):\n",
    "        error = z - y\n",
    "        num_samples = error.shape[0]\n",
    "        cost = error * error\n",
    "        cost = np.sum(cost) / num_samples\n",
    "        return cost\n",
    "    \n",
    "    def gradient(self, x, y):\n",
    "        z = self.forward(x)\n",
    "        N = x.shape[0]\n",
    "        gradient_w = 1. / N * np.sum((z-y) * x, axis=0)\n",
    "        gradient_w = gradient_w[:, np.newaxis]\n",
    "        gradient_b = 1. / N * np.sum(z-y)\n",
    "        return gradient_w, gradient_b\n",
    "    \n",
    "    def update(self, gradient_w, gradient_b, eta = 0.01):\n",
    "        self.w = self.w - eta * gradient_w\n",
    "        self.b = self.b - eta * gradient_b\n",
    "            \n",
    "                \n",
    "    def train(self, training_data, num_epochs, batch_size=10, eta=0.01):\n",
    "        n = len(training_data)\n",
    "        losses = []\n",
    "        for epoch_id in range(num_epochs):\n",
    "            # 在每轮迭代开始之前，将训练数据的顺序随机打乱\n",
    "            # 然后再按每次取batch_size条数据的方式取出\n",
    "            np.random.shuffle(training_data)\n",
    "            # 将训练数据进行拆分，每个mini_batch包含batch_size条的数据\n",
    "            mini_batches = [training_data[k:k+batch_size] for k in range(0, n, batch_size)]\n",
    "            for iter_id, mini_batch in enumerate(mini_batches):\n",
    "                #print(self.w.shape)\n",
    "                #print(self.b)\n",
    "                x = mini_batch[:, :-1]\n",
    "                y = mini_batch[:, -1:]\n",
    "                a = self.forward(x)\n",
    "                loss = self.loss(a, y)\n",
    "                gradient_w, gradient_b = self.gradient(x, y)\n",
    "                self.update(gradient_w, gradient_b, eta)\n",
    "                losses.append(loss)\n",
    "                print('Epoch {:3d} / iter {:3d}, loss = {:.4f}'.\n",
    "                                 format(epoch_id, iter_id, loss))\n",
    "        \n",
    "        return losses\n",
    "\n",
    "# 获取数据\n",
    "train_data, test_data = load_data()\n",
    "\n",
    "# 创建网络\n",
    "net = Network(13)\n",
    "# 启动训练\n",
    "losses = net.train(train_data, num_epochs=50, batch_size=100, eta=0.1)\n",
    "\n",
    "# 画出损失函数的变化趋势\n",
    "plot_x = np.arange(len(losses))\n",
    "plot_y = np.array(losses)\n",
    "plt.plot(plot_x, plot_y)\n",
    "plt.show()"
   ]
  },
  {
   "cell_type": "markdown",
   "metadata": {
    "collapsed": false,
    "pycharm": {
     "name": "#%% md\n"
    }
   },
   "source": [
    "观察上述Loss的变化，随机梯度下降加快了训练过程，但由于每次仅基于少量样本更新参数和计算损失，所以损失下降曲线会出现震荡。\n",
    "\n",
    "------\n",
    "**说明：**\n",
    "\n",
    "由于房价预测的数据量过少，所以难以感受到随机梯度下降带来的性能提升。\n",
    "\n",
    "------\n",
    "\n",
    "### 2.5 模型保存\n",
    "Numpy提供了save接口，可直接将模型权重数组保存为.npy格式的文件。"
   ]
  },
  {
   "cell_type": "code",
   "execution_count": 46,
   "metadata": {
    "collapsed": false,
    "pycharm": {
     "name": "#%%\n"
    }
   },
   "outputs": [],
   "source": [
    "np.save('w.npy', net.w)\n",
    "np.save('b.npy', net.b)"
   ]
  },
  {
   "cell_type": "code",
   "execution_count": 10,
   "metadata": {
    "collapsed": false,
    "pycharm": {
     "name": "#%%\n"
    }
   },
   "outputs": [
    {
     "name": "stdout",
     "output_type": "stream",
     "text": [
      "(404, 14)\n",
      "(102, 14)\n",
      "(404, 13) (404, 1)\n"
     ]
    }
   ],
   "source": [
    "# 自己实现一个\n",
    "train_data,eval_data=load_data()\n",
    "print(train_data.shape)\n",
    "print(eval_data.shape)\n",
    "print(x.shape,y.shape)"
   ]
  },
  {
   "cell_type": "code",
   "execution_count": 51,
   "metadata": {
    "collapsed": false,
    "pycharm": {
     "name": "#%%\n"
    }
   },
   "outputs": [],
   "source": [
    "class Network_self(object):\n",
    "    def __init__(self,num_of_weights,lr):\n",
    "        self.num_of_weights=num_of_weights\n",
    "        np.random.seed(1000)\n",
    "        self.w=np.random.randn(num_of_weights,1)\n",
    "        self.b=0\n",
    "        self.lr=lr\n",
    "\n",
    "    def forward(self,input):        \n",
    "        z=np.dot(input,self.w)+self.b\n",
    "        #print(f'x.shape:{input.shape} z.shape {z.shape}')\n",
    "        return z\n",
    "\n",
    "    def loss(self,z,y):        \n",
    "        #print(f'y.shape:{y.shape}')\n",
    "        return np.mean(np.square(z-y))\n",
    "\n",
    "    def comp_gradient(self,input,y):\n",
    "        z=self.forward(input)\n",
    "        dj=(z-y)\n",
    "        #print('dj.shape',dj.shape)\n",
    "        dw=np.dot(input.T,dj)   \n",
    "        dz=np.mean(dj)\n",
    "        #print('dw.shape',dw.shape,dw,'dz.shape',dz.shape,dz)\n",
    "        return dw,dz\n",
    "\n",
    "    def update(self,dw,db):\n",
    "        self.w=self.w-self.lr*dw\n",
    "        self.b=self.b-self.lr*db    \n",
    "\n",
    "    def train(self,num_epochs,train_data,batch_size):\n",
    "        mini_batches=[train_data[k:k+batch_size,:] for k in range(0,len(train_data),batch_size)]\n",
    "        for i in range(num_epochs):\n",
    "            for j,mini_batch in enumerate(mini_batches):\n",
    "                x=mini_batch[:,:-1]\n",
    "                y=mini_batch[:,-1:]\n",
    "                z=self.forward(x)\n",
    "                loss=self.loss(z,y)\n",
    "                dw,dz=self.comp_gradient(x,y)\n",
    "                self.update(dw,dz)\n",
    "                print(f'{i} {j} {loss}')\n",
    "\n",
    "\n",
    "\n",
    "\n"
   ]
  },
  {
   "cell_type": "code",
   "execution_count": 53,
   "metadata": {
    "collapsed": false,
    "pycharm": {
     "name": "#%%\n"
    }
   },
   "outputs": [
    {
     "name": "stdout",
     "output_type": "stream",
     "text": [
      "(3, 13)\n",
      "0.07415720792396742\n",
      "0.027987155644590426\n",
      "0.011278356051494916\n",
      "0.005171745360818756\n",
      "0.0028960747771155475\n",
      "0.0020078143919125316\n",
      "0.0016246851255775606\n",
      "0.0014279442119772571\n",
      "0.001302276822401635\n",
      "0.0012058131749698572\n"
     ]
    }
   ],
   "source": [
    "net=Network_self(13,0.005)\n",
    "part_x=train_data[:3,:13]\n",
    "print(part_x.shape)\n",
    "y=train_data[:3,-1:]\n",
    "for i in range(1000):\n",
    "  z=net.forward(part_x)\n",
    "  loss=net.loss(z,y)\n",
    "  dw,dz=net.comp_gradient(part_x,y)\n",
    "  net.update(dw,dz)\n",
    "  #print(loss.shape)\n",
    "  if i%100==0: print(loss)"
   ]
  },
  {
   "cell_type": "code",
   "execution_count": 56,
   "metadata": {
    "collapsed": false,
    "pycharm": {
     "name": "#%%\n"
    }
   },
   "outputs": [
    {
     "name": "stdout",
     "output_type": "stream",
     "text": [
      "0 0 0.08550999478705966\n",
      "0 1 0.11436003135794558\n",
      "0 2 0.054458329283411364\n",
      "0 3 0.08457347391601003\n",
      "0 4 0.1672038790434872\n",
      "1 0 0.07093809784284878\n",
      "1 1 0.09528647228923179\n",
      "1 2 0.04554444625711046\n",
      "1 3 0.07247660818177697\n",
      "1 4 0.13654250502712212\n",
      "2 0 0.06011824404072657\n",
      "2 1 0.08098982140440436\n",
      "2 2 0.039239666907809057\n",
      "2 3 0.06344229016957935\n",
      "2 4 0.11287754120743182\n",
      "3 0 0.05170683024388294\n",
      "3 1 0.06985569367055872\n",
      "3 2 0.03450155406723409\n",
      "3 3 0.0564983944688094\n",
      "3 4 0.0943289742703826\n",
      "4 0 0.04506679093403896\n",
      "4 1 0.06102358294047068\n",
      "4 2 0.030834656613693102\n",
      "4 3 0.051074186334999674\n",
      "4 4 0.07962979315252128\n",
      "5 0 0.03978698737112118\n",
      "5 1 0.05393492846486475\n",
      "5 2 0.027948554107857456\n",
      "5 3 0.046780730592824546\n",
      "5 4 0.06787943181197556\n",
      "6 0 0.03556345931402533\n",
      "6 1 0.04819114020861057\n",
      "6 2 0.025649581479096087\n",
      "6 3 0.04333641578624234\n",
      "6 4 0.05841544198501854\n",
      "7 0 0.03216288070232089\n",
      "7 1 0.04349613563800506\n",
      "7 2 0.023799685445366748\n",
      "7 3 0.040532982987414534\n",
      "7 4 0.05073977060398072\n",
      "8 0 0.02940506539456089\n",
      "8 1 0.03962588874662619\n",
      "8 2 0.022297072482358665\n",
      "8 3 0.03821534356412895\n",
      "8 4 0.044472628216734096\n",
      "9 0 0.027150960447273532\n",
      "9 1 0.03640909318071605\n",
      "9 2 0.021065278890909665\n",
      "9 3 0.03626773219958895\n",
      "9 4 0.03932161252982386\n",
      "10 0 0.025293323172366936\n",
      "10 1 0.03371374061629817\n",
      "10 2 0.020046199217952476\n",
      "10 3 0.03460365052034606\n",
      "10 4 0.035060014864373754\n",
      "11 0 0.023749381767177113\n",
      "11 1 0.0314374291915495\n",
      "11 2 0.019195314691689183\n",
      "11 3 0.0331584233196972\n",
      "11 4 0.03151107102773408\n",
      "12 0 0.022455119088729505\n",
      "12 1 0.0295002309267242\n",
      "12 2 0.018478294562333856\n",
      "12 3 0.031883656547657735\n",
      "12 4 0.02853628174384857\n",
      "13 0 0.021360870014912554\n",
      "13 1 0.027839384256975613\n",
      "13 2 0.0178685174597051\n",
      "13 3 0.030743104266230458\n",
      "13 4 0.026026631439806578\n",
      "14 0 0.020427955401577616\n",
      "14 1 0.026405314012188024\n",
      "14 2 0.017345236199748496\n",
      "14 3 0.02970958472124281\n",
      "14 4 0.02389592628784646\n",
      "15 0 0.019626118524973566\n",
      "15 1 0.02515862826062803\n",
      "15 2 0.016892204679464097\n",
      "15 3 0.02876267858993975\n",
      "15 4 0.022075708402863665\n",
      "16 0 0.01893157537229688\n",
      "16 1 0.024067839964998693\n",
      "16 2 0.016496642419805026\n",
      "16 3 0.027887010620274287\n",
      "16 4 0.020511355210394662\n",
      "17 0 0.018325531349276555\n",
      "17 1 0.02310762991875974\n",
      "17 2 0.01614844883214527\n",
      "17 3 0.027070966547160652\n",
      "17 4 0.019159076496920883\n",
      "18 0 0.017793051250660427\n",
      "18 1 0.02225751611007678\n",
      "18 2 0.015839603849822973\n",
      "18 3 0.02630573492329944\n",
      "18 4 0.017983594862003675\n",
      "19 0 0.017322196537454922\n",
      "19 1 0.021500829734555072\n",
      "19 2 0.015563708631680568\n",
      "19 3 0.02558459161675795\n",
      "19 4 0.01695634844498816\n",
      "20 0 0.01690336497896712\n",
      "20 1 0.020823923606758343\n",
      "20 2 0.015315632164393123\n",
      "20 3 0.024902365650884755\n",
      "20 4 0.01605409405032095\n",
      "21 0 0.01652878371170707\n",
      "21 1 0.02021555744702741\n",
      "21 2 0.015091238334088096\n",
      "21 3 0.024255040630367278\n",
      "21 4 0.01525781809752745\n",
      "22 0 0.016192118840081603\n",
      "22 1 0.019666418342209113\n",
      "22 2 0.014887174419387295\n",
      "22 3 0.023639457584101478\n",
      "22 4 0.014551884852107625\n",
      "23 0 0.015888173778824167\n",
      "23 1 0.019168744933466385\n",
      "23 2 0.014700706657636276\n",
      "23 3 0.023053093684947856\n",
      "23 4 0.013923368036665447\n",
      "24 0 0.015612655347373227\n",
      "24 1 0.01871603152580336\n",
      "24 2 0.014529592022324494\n",
      "24 3 0.022493897739268354\n",
      "24 4 0.013361524538830542\n",
      "25 0 0.01536199173677704\n",
      "25 1 0.018302794030735637\n",
      "25 2 0.014371977951825498\n",
      "25 3 0.021960168139781938\n",
      "25 4 0.01285737852398871\n",
      "26 0 0.015133190308106049\n",
      "26 1 0.01792438394617856\n",
      "26 2 0.014226323722371734\n",
      "26 3 0.021450462562106747\n",
      "26 4 0.012403391569080748\n",
      "27 0 0.014923726068994635\n",
      "27 1 0.017576839812257602\n",
      "27 2 0.01409133863086207\n",
      "27 3 0.020963531368495457\n",
      "27 4 0.011993200014008455\n",
      "28 0 0.014731453851699083\n",
      "28 1 0.017256768027548747\n",
      "28 2 0.013965933268745153\n",
      "28 3 0.020498268691741383\n",
      "28 4 0.01162140499663221\n",
      "29 0 0.014554538860704196\n",
      "29 1 0.01696124676595167\n",
      "29 2 0.01384918101695429\n",
      "29 3 0.020053676678814608\n",
      "29 4 0.011283403910363188\n",
      "30 0 0.014391401503569823\n",
      "30 1 0.016687748147213712\n",
      "30 2 0.013740287540099563\n",
      "30 3 0.01962883950443422\n",
      "30 4 0.010975254537518169\n",
      "31 0 0.014240673364587514\n",
      "31 1 0.016434074893496495\n",
      "31 2 0.013638566555054816\n",
      "31 3 0.01922290461400152\n",
      "31 4 0.010693565046806054\n",
      "32 0 0.01410116190094117\n",
      "32 1 0.016198308531905323\n",
      "32 2 0.013543420531348962\n",
      "32 3 0.018835069293571597\n",
      "32 4 0.010435404536014036\n",
      "33 0 0.013971821990764023\n",
      "33 1 0.015978766839605994\n",
      "33 2 0.013454325275795608\n",
      "33 3 0.018464571144442374\n",
      "33 4 0.010198229954845395\n",
      "34 0 0.013851732883202348\n",
      "34 1 0.015773968719800534\n",
      "34 2 0.013370817582173669\n",
      "34 3 0.018110681400843816\n",
      "34 4 0.009979826136851281\n",
      "35 0 0.013740079423448402\n",
      "35 1 0.015582605077852345\n",
      "35 2 0.013292485304054786\n",
      "35 3 0.017772700300593355\n",
      "35 4 0.009778256363656349\n",
      "36 0 0.01363613667410763\n",
      "36 1 0.015403514563218564\n",
      "36 2 0.013218959346847947\n",
      "36 3 0.017449953922562173\n",
      "36 4 0.009591821425143263\n",
      "37 0 0.013539257245885072\n",
      "37 1 0.015235663274221408\n",
      "37 2 0.013149907182767297\n",
      "37 3 0.01714179205798637\n",
      "37 4 0.009419025561069149\n",
      "38 0 0.013448860798777112\n",
      "38 1 0.015078127703995574\n",
      "38 2 0.013085027576577847\n",
      "38 3 0.016847586797557445\n",
      "38 4 0.009258547999659084\n",
      "39 0 0.01336442528987102\n",
      "39 1 0.01493008034854786\n",
      "39 2 0.01302404627588967\n",
      "39 3 0.016566731602253634\n",
      "39 4 0.009109219067716884\n",
      "40 0 0.013285479633192064\n",
      "40 1 0.014790777510440747\n",
      "40 2 0.012966712471496016\n",
      "40 3 0.01629864069012864\n",
      "40 4 0.008970000050598191\n",
      "41 0 0.013211597506668345\n",
      "41 1 0.014659548920815581\n",
      "41 2 0.01291279587390506\n",
      "41 3 0.016042748619116535\n",
      "41 4 0.008839966141239823\n",
      "42 0 0.013142392095696896\n",
      "42 1 0.014535788873418871\n",
      "42 2 0.012862084284213338\n",
      "42 3 0.015798509981389364\n",
      "42 4 0.00871829194477694\n",
      "43 0 0.013077511605426233\n",
      "43 1 0.014418948620932485\n",
      "43 2 0.012814381562688224\n",
      "43 3 0.015565399150978489\n",
      "43 4 0.008604239106406756\n",
      "44 0 0.013016635407363435\n",
      "44 1 0.014308529829289008\n",
      "44 2 0.01276950591832544\n",
      "44 3 0.015342910045554485\n",
      "44 4 0.008497145710733596\n",
      "45 0 0.012959470712297099\n",
      "45 1 0.014204078922147766\n",
      "45 2 0.01272728845836565\n",
      "45 3 0.015130555877204212\n",
      "45 4 0.008396417165247427\n",
      "46 0 0.01290574968237064\n",
      "46 1 0.014105182177162785\n",
      "46 2 0.012687571949181799\n",
      "46 3 0.014927868877069267\n",
      "46 4 0.008301518332266737\n",
      "47 0 0.012855226911654458\n",
      "47 1 0.014011461459534249\n",
      "47 2 0.012650209749784124\n",
      "47 3 0.014734399985817557\n",
      "47 4 0.008211966715281956\n",
      "48 0 0.012807677217689462\n",
      "48 1 0.013922570497732862\n",
      "48 2 0.012615064886979969\n",
      "48 3 0.014549718506863511\n",
      "48 4 0.00812732653925432\n",
      "49 0 0.012762893696938138\n",
      "49 1 0.013838191622112306\n",
      "49 2 0.012582009247401134\n",
      "49 3 0.014373411722601015\n",
      "49 4 0.008047203591688687\n",
      "50 0 0.012720686005449787\n",
      "50 1 0.0137580329000817\n",
      "50 2 0.012550922866511828\n",
      "50 3 0.014205084476094875\n",
      "50 4 0.007971240713493049\n",
      "51 0 0.012680878832765894\n",
      "51 1 0.013681825612155639\n",
      "51 2 0.012521693298601063\n",
      "51 3 0.014044358722012986\n",
      "51 4 0.007899113846772072\n",
      "52 0 0.012643310542506423\n",
      "52 1 0.013609322021975154\n",
      "52 2 0.012494215054856489\n",
      "52 3 0.013890873051311915\n",
      "52 4 0.007830528561576577\n",
      "53 0 0.01260783195745744\n",
      "53 1 0.013540293400652936\n",
      "53 2 0.01246838909907766\n",
      "53 3 0.013744282194493751\n",
      "53 4 0.007765216995877315\n",
      "54 0 0.012574305270538787\n",
      "54 1 0.013474528271821481\n",
      "54 2 0.012444122392546638\n",
      "54 3 0.013604256508263652\n",
      "54 4 0.007702935153152835\n",
      "55 0 0.012542603065932427\n",
      "55 1 0.013411830848780473\n",
      "55 2 0.01242132748113761\n",
      "55 3 0.013470481450233763\n",
      "55 4 0.007643460510377752\n",
      "56 0 0.01251260743703118\n",
      "56 1 0.013352019639331778\n",
      "56 2 0.012399922118995878\n",
      "56 3 0.013342657046011619\n",
      "56 4 0.007586589896189067\n",
      "57 0 0.01248420918982567\n",
      "57 1 0.013294926197403426\n",
      "57 2 0.012379828924115616\n",
      "57 3 0.013220497352631633\n",
      "57 4 0.007532137604851323\n",
      "58 0 0.012457307121967824\n",
      "58 1 0.013240394003518015\n",
      "58 2 0.012360975061946897\n",
      "58 3 0.013103729921872849\n",
      "58 4 0.007479933716542228\n",
      "59 0 0.012431807369096588\n",
      "59 1 0.013188277458651903\n",
      "59 2 0.012343291953806106\n",
      "59 3 0.01299209526658182\n",
      "59 4 0.007429822598605253\n",
      "60 0 0.012407622811137642\n",
      "60 1 0.013138440978138542\n",
      "60 2 0.012326715007382265\n",
      "60 3 0.012885346332702744\n",
      "60 4 0.007381661565900066\n",
      "61 0 0.012384672532234933\n",
      "61 1 0.01309075817405744\n",
      "61 2 0.012311183367050978\n",
      "61 3 0.012783247979319774\n",
      "61 4 0.007335319681333637\n",
      "62 0 0.012362881328770734\n",
      "62 1 0.013045111116070856\n",
      "62 2 0.012296639682047401\n",
      "62 3 0.012685576468646315\n",
      "62 4 0.007290676680165344\n",
      "63 0 0.012342179260609066\n",
      "63 1 0.013001389661968682\n",
      "63 2 0.01228302989082652\n",
      "63 3 0.012592118967556127\n",
      "63 4 0.007247622003819502\n",
      "64 0 0.012322501241275976\n",
      "64 1 0.012959490850292325\n",
      "64 2 0.012270303020165282\n",
      "64 3 0.012502673061943678\n",
      "64 4 0.007206053930770211\n",
      "65 0 0.012303786663286097\n",
      "65 1 0.012919318348361391\n",
      "65 2 0.012258410997747389\n",
      "65 3 0.01241704628492623\n",
      "65 4 0.007165878793633597\n",
      "66 0 0.012285979055252617\n",
      "66 1 0.012880781949846645\n",
      "66 2 0.012247308477125341\n",
      "66 3 0.012335055659656632\n",
      "66 4 0.00712701027295412\n",
      "67 0 0.012269025767787635\n",
      "67 1 0.01284379711673988\n",
      "67 2 0.012236952674082592\n",
      "67 3 0.012256527257302207\n",
      "67 4 0.007089368759336677\n",
      "68 0 0.012252877685521664\n",
      "68 1 0.012808284561182376\n",
      "68 2 0.0122273032135259\n",
      "68 3 0.012181295770559293\n",
      "68 4 0.0070528807765841035\n",
      "69 0 0.012237488962852188\n",
      "69 1 0.012774169863143859\n",
      "69 2 0.012218321986128456\n",
      "69 3 0.012109204102912925\n",
      "69 4 0.0070174784593730576\n",
      "70 0 0.012222816781277273\n",
      "70 1 0.01274138312040411\n",
      "70 2 0.012209973014021547\n",
      "70 3 0.012040102973714115\n",
      "70 4 0.006983099079760169\n",
      "71 0 0.012208821126387265\n",
      "71 1 0.0127098586276904\n",
      "71 2 0.012202222324898275\n",
      "71 3 0.011973850539031132\n",
      "71 4 0.006949684617471236\n",
      "72 0 0.012195464582778844\n",
      "72 1 0.012679534582174063\n",
      "72 2 0.012195037833949977\n",
      "72 3 0.011910312028133987\n",
      "72 4 0.006917181369502678\n",
      "73 0 0.012182712145325538\n",
      "73 1 0.012650352812835653\n",
      "73 2 0.012188389233105503\n",
      "73 3 0.01184935939539028\n",
      "73 4 0.006885539595068895\n",
      "74 0 0.01217053104538931\n",
      "74 1 0.012622258531476645\n",
      "74 2 0.012182247887087017\n",
      "74 3 0.011790870987284667\n",
      "74 4 0.0068547131923706065\n",
      "75 0 0.012158890590692289\n",
      "75 1 0.012595200103391707\n",
      "75 2 0.012176586735834428\n",
      "75 3 0.011734731224220403\n",
      "75 4 0.006824659404047208\n",
      "76 0 0.01214776201768758\n",
      "76 1 0.012569128835922976\n",
      "76 2 0.012171380202884776\n",
      "76 3 0.011680830296719506\n",
      "76 4 0.0067953385485168185\n",
      "77 0 0.012137118355375646\n",
      "77 1 0.012543998783301263\n",
      "77 2 0.012166604109323546\n",
      "77 3 0.011629063875605089\n",
      "77 4 0.00676671377470822\n",
      "78 0 0.012126934299608854\n",
      "78 1 0.012519766566340946\n",
      "78 2 0.012162235592952413\n",
      "78 3 0.011579332835725195\n",
      "78 4 0.0067387508379535615\n",
      "79 0 0.01211718609701381\n",
      "79 1 0.012496391205698747\n",
      "79 2 0.012158253032343086\n",
      "79 3 0.011531542992760258\n",
      "79 4 0.00671141789504496\n",
      "80 0 0.012107851437738668\n",
      "80 1 0.012473833967533815\n",
      "80 2 0.012154635975469598\n",
      "80 3 0.011485604852644932\n",
      "80 4 0.006684685316665242\n",
      "81 0 0.012098909356303388\n",
      "81 1 0.012452058220519778\n",
      "81 2 0.012151365072632344\n",
      "81 3 0.011441433373129296\n",
      "81 4 0.006658525515586704\n",
      "82 0 0.01209034013989413\n",
      "82 1 0.012431029303259868\n",
      "82 2 0.012148422013406124\n",
      "82 3 0.011398947737002311\n",
      "82 4 0.006632912789194869\n",
      "83 0 0.01208212524350071\n",
      "83 1 0.01241071440124638\n",
      "83 2 0.012145789467362387\n",
      "83 3 0.011358071136502714\n",
      "83 4 0.006607823175038899\n",
      "84 0 0.012074247211347906\n",
      "84 1 0.012391082432585701\n",
      "84 2 0.012143451028331809\n",
      "84 3 0.011318730568446915\n",
      "84 4 0.006583234318239615\n",
      "85 0 0.01206668960411873\n",
      "85 1 0.012372103941782014\n",
      "85 2 0.012141391161988846\n",
      "85 3 0.011280856639611208\n",
      "85 4 0.006559125349700649\n",
      "86 0 0.012059436931510547\n",
      "86 1 0.012353751000937281\n",
      "86 2 0.012139595156553482\n",
      "86 3 0.01124438338191451\n",
      "86 4 0.00653547677417116\n",
      "87 0 0.012052474589703837\n",
      "87 1 0.01233599711778269\n",
      "87 2 0.012138049076418793\n",
      "87 3 0.011209248076958899\n",
      "87 4 0.006512270367299995\n",
      "88 0 0.01204578880335873\n",
      "88 1 0.012318817150008704\n",
      "88 2 0.012136739718524893\n",
      "88 3 0.011175391089497184\n",
      "88 4 0.006489489080903248\n",
      "89 0 0.012039366571786758\n",
      "89 1 0.012302187225407865\n",
      "89 2 0.01213565457131115\n",
      "89 3 0.011142755709409742\n",
      "89 4 0.006467116955740685\n",
      "90 0 0.012033195618974368\n",
      "90 1 0.012286084667386116\n",
      "90 2 0.012134781776089234\n",
      "90 3 0.011111288001786528\n",
      "90 4 0.006445139041162236\n",
      "91 0 0.012027264347161655\n",
      "91 1 0.01227048792543711\n",
      "91 2 0.01213411009068932\n",
      "91 3 0.011080936664724308\n",
      "91 4 0.006423541321044989\n",
      "92 0 0.012021561793704026\n",
      "92 1 0.01225537651020775\n",
      "92 2 0.012133628855241019\n",
      "92 3 0.011051652894463533\n",
      "92 4 0.006402310645494313\n",
      "93 0 0.012016077590966769\n",
      "93 1 0.012240730932814858\n",
      "93 2 0.01213332795995926\n",
      "93 3 0.011023390257503853\n",
      "93 4 0.00638143466783041\n",
      "94 0 0.012010801929022723\n",
      "94 1 0.012226532648100657\n",
      "94 2 0.012133197814813508\n",
      "94 3 0.010996104569351718\n",
      "94 4 0.006360901786424868\n",
      "95 0 0.012005725520942\n",
      "95 1 0.01221276400154066\n",
      "95 2 0.012133229320966017\n",
      "95 3 0.010969753779568164\n",
      "95 4 0.006340701090990474\n",
      "96 0 0.012000839570479357\n",
      "96 1 0.01219940817954061\n",
      "96 2 0.012133413843872192\n",
      "96 3 0.010944297862798855\n",
      "96 4 0.00632082231296271\n",
      "97 0 0.011996135741980617\n",
      "97 1 0.012186449162880465\n",
      "97 2 0.012133743187942603\n",
      "97 3 0.01091969871548273\n",
      "97 4 0.006301255779643104\n",
      "98 0 0.011991606132343601\n",
      "98 1 0.012173871683082385\n",
      "98 2 0.012134209572672335\n",
      "98 3 0.010895920057949085\n",
      "98 4 0.0062819923718030165\n",
      "99 0 0.011987243244881951\n",
      "99 1 0.01216166118149763\n",
      "99 2 0.012134805610149488\n",
      "99 3 0.010872927341626412\n",
      "99 4 0.0062630234844727375\n"
     ]
    }
   ],
   "source": [
    "net=Network_self(13,0.005)\n",
    "net.train(100,train_data,100)"
   ]
  },
  {
   "cell_type": "markdown",
   "metadata": {
    "collapsed": false,
    "pycharm": {
     "name": "#%% md\n"
    }
   },
   "source": [
    "### 小结\n",
    "\n",
    "本节我们详细介绍了如何使用NumPy实现梯度下降算法，构建并训练了一个简单的线性模型实现波士顿房价预测，可以总结出，使用神经网络建模房价预测有三个要点：\n",
    "\n",
    "* 构建网络，初始化参数$w$和$b$，定义预测和损失函数的计算方法。\n",
    "* 随机选择初始点，建立梯度的计算方法和参数更新方式。\n",
    "* 从总的数据集中抽取部分数据作为一个mini_batch，计算梯度并更新参数，不断迭代直到损失函数几乎不再下降。"
   ]
  },
  {
   "cell_type": "markdown",
   "metadata": {
    "collapsed": false,
    "pycharm": {
     "name": "#%% md\n"
    }
   },
   "source": [
    "### 作业1-2\n",
    "\n",
    "1. 样本归一化：预测时的样本数据同样也需要归一化，但使用训练样本的均值和极值计算，这是为什么？\n",
    "\n",
    "2. 当部分参数的梯度计算为0（接近0）时，可能是什么情况？是否意味着完成训练？"
   ]
  },
  {
   "cell_type": "markdown",
   "metadata": {
    "collapsed": false,
    "pycharm": {
     "name": "#%% md\n"
    }
   },
   "source": [
    "### 作业 1-3\n",
    "\n",
    "1. 随机梯度下降的batchsize设置成多少合适？过小有什么问题？过大有什么问题？提示：过大以整个样本集合为例，过小以单个样本为例来思考。\n",
    "1. 一次训练使用的配置：5个epoch，1000个样本，batchsize=20，最内层循环执行多少轮？\n"
   ]
  },
  {
   "cell_type": "markdown",
   "metadata": {
    "collapsed": false,
    "pycharm": {
     "name": "#%% md\n"
    }
   },
   "source": [
    "### 作业1-4\n",
    "\n",
    "#### 基本知识\n",
    "\n",
    "**1. 求导的链式法则**\n",
    "\n",
    "链式法则是微积分中的求导法则，用于求一个复合函数的导数，是在微积分的求导运算中一种常用的方法。复合函数的导数将是构成复合这有限个函数在相应点的导数的乘积，就像锁链一样一环套一环，故称链式法则。如 **图9** 所示，如果求最终输出对内层输入（第一层）的梯度，等于外层梯度（第二层）乘以本层函数的梯度。\n",
    "<center><img src=\"https://ai-studio-static-online.cdn.bcebos.com/2beffa3f3d7c402685671b0825561a91c17216fe8b924f64b9f29a96f45cbc85\" width=\"200\" hegiht=\"\" ></center>\n",
    "<center><br>图9：求导的链式法则</br></center>\n",
    "<br></br>\n",
    "\n",
    "**2. 计算图的概念**\n",
    "\n",
    "（1）为何是反向计算梯度？即梯度是由网络后端向前端计算。当前层的梯度要依据处于网络中后一层的梯度来计算，所以只有先算后一层的梯度才能计算本层的梯度。     \n",
    "\n",
    "（2）案例：购买苹果产生消费的计算图。假设一家商店9折促销苹果，每个的单价100元。计算一个顾客总消费的结构如 **图10** 所示。\n",
    "<center><img src=\"https://ai-studio-static-online.cdn.bcebos.com/46c43ead4fa942f5be87f25538a046ff9456516816274cbcb5f6df3768c0fd34\" width=\"400\" hegiht=\"40\" ></center>\n",
    "<center><br>图10：购买苹果所产生的消费计算图</br></center>\n",
    "<br></br>\n",
    "\n",
    "*  前向计算过程：以黑色箭头表示，顾客购买了2个苹果，再加上九折的折扣，一共消费100\\*2\\*0.9=180元。\n",
    "*  后向传播过程：以红色箭头表示，根据链式法则，本层的梯度计算 * 后一层传递过来的梯度，所以需从后向前计算。\n",
    " \n",
    "最后一层的输出对自身的求导为1。导数第二层根据 **图11** 所示的乘法求导的公式，分别为0.9\\*1和200\\*1。同样的，第三层为100 * 0.9=90，2 * 0.9=1.8。\n",
    "<center><img src=\"https://ai-studio-static-online.cdn.bcebos.com/c251a2c290e946f99ce3a3381396c392b50e5a4243c346509bd91177b7f2da90\" width=\"200\"  ></center>\n",
    "<center><br>图11：乘法求导的公式</br></center>\n",
    "<br></br>\n",
    "\n",
    "#### 作业题\n",
    "\n",
    "1. 根据 **图12** 所示的乘法和加法的导数公式，完成 **图13** 购买苹果和橘子的梯度传播的题目。\n",
    "<center><img src=\"https://ai-studio-static-online.cdn.bcebos.com/4ce8715f03f9477699707056544b1e6363f78aa09fda411d972878abb6d1d26f\" width=\"300\"  ></center>\n",
    "<center><br>图12：乘法和加法的导数公式</br></center>\n",
    "<br></br>\n",
    "\n",
    "<center><img src=\"https://ai-studio-static-online.cdn.bcebos.com/2fc6665e10f34f9e863172bb399862319f0914467d72457d9e7328616bdbe6df\" width=\"500\"  ></center>\n",
    "<center><br>图13：购买苹果和橘子产生消费的计算图</br></center>\n",
    "<br></br>  \n",
    "\n",
    "2. 挑战题：用代码实现两层的神经网络的梯度传播，中间层的尺寸为13【房价预测案例】（教案当前的版本为一层的神经网络），如 **图14** 所示。\n",
    "\n",
    "<center><img src=\"https://ai-studio-static-online.cdn.bcebos.com/580f2553aa4643809006f5a8d3deb2aa8dd4e1aa69d94cf6a35ead5fe7cf469e\" width=\"300\"  ></center>\n",
    "<center><br>图14：两层的神经网络</br></center>\n",
    "<br></br>\n"
   ]
  }
 ],
 "metadata": {
  "kernelspec": {
   "display_name": "Python 3",
   "language": "python",
   "name": "py35-paddle1.2.0"
  },
  "language_info": {
   "codemirror_mode": {
    "name": "ipython",
    "version": 3
   },
   "file_extension": ".py",
   "mimetype": "text/x-python",
   "name": "python",
   "nbconvert_exporter": "python",
   "pygments_lexer": "ipython3",
   "version": "3.7.4"
  }
 },
 "nbformat": 4,
 "nbformat_minor": 1
}