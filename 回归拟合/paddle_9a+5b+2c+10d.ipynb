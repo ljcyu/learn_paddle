{
 "cells": [
  {
   "cell_type": "markdown",
   "source": [
    "[快速开始-使用文档-PaddlePaddle深度学习平台](https://www.paddlepaddle.org.cn/documentation/docs/zh/1.5/beginners_guide/quick_start_cn.html)\n",
    "计算9a+5b+2c+10d的值"
   ],
   "metadata": {
    "collapsed": false,
    "pycharm": {
     "name": "#%% md\n"
    }
   }
  },
  {
   "cell_type": "code",
   "execution_count": 12,
   "metadata": {
    "collapsed": true,
    "pycharm": {
     "name": "#%%\n"
    }
   },
   "outputs": [],
   "source": [
    "import paddle\n",
    "paddle.enable_static()\n",
    "#加载库\n",
    "import paddle.fluid as fluid\n",
    "import numpy as np"
   ]
  },
  {
   "cell_type": "code",
   "execution_count": 14,
   "outputs": [],
   "source": [
    "#生成数据\n",
    "np.random.seed(0)\n",
    "outputs = np.random.randint(5, size=(10, 4))\n",
    "res = []\n",
    "for i in range(10):\n",
    "  # 假设方程式为 y=4a+6b+7c+2d\n",
    "  y = 4*outputs[i][0]+6*outputs[i][1]+7*outputs[i][2]+2*outputs[i][3]\n",
    "  res.append([y])"
   ],
   "metadata": {
    "collapsed": false,
    "pycharm": {
     "name": "#%%\n"
    }
   }
  },
  {
   "cell_type": "code",
   "execution_count": 15,
   "outputs": [],
   "source": [
    "# 定义数据\n",
    "train_data=np.array(outputs).astype('float32')\n",
    "y_true = np.array(res).astype('float32')"
   ],
   "metadata": {
    "collapsed": false,
    "pycharm": {
     "name": "#%%\n"
    }
   }
  },
  {
   "cell_type": "code",
   "execution_count": 21,
   "outputs": [
    {
     "data": {
      "text/plain": "[]"
     },
     "execution_count": 21,
     "metadata": {},
     "output_type": "execute_result"
    }
   ],
   "source": [
    "#定义网络\n",
    "x = fluid.layers.data(name=\"x\",shape=[4],dtype='float32')\n",
    "y = fluid.layers.data(name=\"y\",shape=[1],dtype='float32')\n",
    "y_predict = fluid.layers.fc(input=x,size=1,act=None)\n",
    "#定义损失函数\n",
    "cost = fluid.layers.square_error_cost(input=y_predict,label=y)\n",
    "avg_cost = fluid.layers.mean(cost)\n",
    "#定义优化方法\n",
    "sgd_optimizer = fluid.optimizer.SGD(learning_rate=0.05)\n",
    "sgd_optimizer.minimize(avg_cost)\n",
    "#参数初始化\n",
    "cpu = fluid.CPUPlace()\n",
    "exe = fluid.Executor(cpu)\n",
    "exe.run(fluid.default_startup_program())"
   ],
   "metadata": {
    "collapsed": false,
    "pycharm": {
     "name": "#%%\n"
    }
   }
  },
  {
   "cell_type": "code",
   "execution_count": 26,
   "outputs": [
    {
     "name": "stdout",
     "output_type": "stream",
     "text": [
      "iter=0,cost=1.5329645975725725e-05\n",
      "iter=50,cost=6.3514394241792616e-06\n",
      "iter=100,cost=2.6318452910345513e-06\n",
      "iter=150,cost=1.0899177596002119e-06\n",
      "iter=200,cost=4.5169218765295227e-07\n",
      "iter=250,cost=1.8701830128975416e-07\n",
      "iter=300,cost=7.792332468170571e-08\n",
      "iter=350,cost=3.1904711761399085e-08\n",
      "iter=400,cost=1.3530370601699815e-08\n",
      "iter=450,cost=5.383844925432868e-09\n"
     ]
    }
   ],
   "source": [
    "##开始训练，迭代500次\n",
    "for i in range(500):\n",
    "  outs = exe.run(feed={'x':train_data,'y':y_true},fetch_list=[y_predict.name,avg_cost.name])\n",
    "  if i%50==0:print ('iter={:.0f},cost={}'.format(i,outs[1][0]))"
   ],
   "metadata": {
    "collapsed": false,
    "pycharm": {
     "name": "#%%\n"
    }
   }
  },
  {
   "cell_type": "code",
   "execution_count": 23,
   "outputs": [
    {
     "data": {
      "text/plain": "['save_infer_model/scale_0.tmp_1']"
     },
     "execution_count": 23,
     "metadata": {},
     "output_type": "execute_result"
    }
   ],
   "source": [
    "#存储训练结果\n",
    "params_dirname = \"result\"\n",
    "fluid.io.save_inference_model(params_dirname, ['x'], [y_predict], exe)"
   ],
   "metadata": {
    "collapsed": false,
    "pycharm": {
     "name": "#%%\n"
    }
   }
  },
  {
   "cell_type": "code",
   "execution_count": 27,
   "outputs": [
    {
     "name": "stdout",
     "output_type": "stream",
     "text": [
      "9a+5b+2c+10d=[99.99961]\n"
     ]
    }
   ],
   "source": [
    "\n",
    "# 开始预测\n",
    "infer_exe = fluid.Executor(cpu)\n",
    "inference_scope = fluid.Scope()\n",
    "# 加载训练好的模型\n",
    "with fluid.scope_guard(inference_scope):\n",
    "    [inference_program, feed_target_names,fetch_targets] = fluid.io.load_inference_model(params_dirname, infer_exe)\n",
    "\n",
    "# 生成测试数据\n",
    "test = np.array([[[9],[5],[2],[10]]]).astype('float32')\n",
    "# 进行预测\n",
    "results = infer_exe.run(inference_program,\n",
    "                        feed={\"x\": test},\n",
    "                        fetch_list=fetch_targets)\n",
    "# 给出题目为 【9,5,2,10】 输出y=4*9+6*5+7*2+10*2的值\n",
    "print (\"9a+5b+2c+10d={}\".format(results[0][0]))"
   ],
   "metadata": {
    "collapsed": false,
    "pycharm": {
     "name": "#%%\n"
    }
   }
  }
 ],
 "metadata": {
  "kernelspec": {
   "display_name": "Python 3",
   "language": "python",
   "name": "python3"
  },
  "language_info": {
   "codemirror_mode": {
    "name": "ipython",
    "version": 2
   },
   "file_extension": ".py",
   "mimetype": "text/x-python",
   "name": "python",
   "nbconvert_exporter": "python",
   "pygments_lexer": "ipython2",
   "version": "2.7.6"
  }
 },
 "nbformat": 4,
 "nbformat_minor": 0
}