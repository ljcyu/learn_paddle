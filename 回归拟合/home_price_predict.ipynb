{
 "cells": [
  {
   "cell_type": "code",
   "execution_count": 2,
   "metadata": {},
   "outputs": [
    {
     "name": "stdout",
     "output_type": "stream",
     "text": [
      "(7084,)\n"
     ]
    }
   ],
   "source": [
    "import numpy as np\n",
    "import json\n",
    "# 读入训练数据\n",
    "datafile = r'data/housing.data'\n",
    "data = np.fromfile(datafile, sep=' ')\n",
    "print(data.shape)"
   ]
  },
  {
   "cell_type": "code",
   "execution_count": 3,
   "metadata": {},
   "outputs": [
    {
     "name": "stdout",
     "output_type": "stream",
     "text": [
      "(506, 14)\n"
     ]
    }
   ],
   "source": [
    "# 读入之后的数据被转化成1维array，其中array的第0-13项是第一条数据，第14-27项是第二条数据，以此类推.... \n",
    "# 这里对原始数据做reshape，变成N x 14的形式\n",
    "feature_names = [ 'CRIM', 'ZN', 'INDUS', 'CHAS', 'NOX', 'RM', 'AGE','DIS', \n",
    "                 'RAD', 'TAX', 'PTRATIO', 'B', 'LSTAT', 'MEDV' ]\n",
    "feature_num = len(feature_names)\n",
    "data = data.reshape([data.shape[0]// feature_num, feature_num])\n",
    "print(data.shape)"
   ]
  },
  {
   "cell_type": "code",
   "execution_count": 4,
   "metadata": {},
   "outputs": [
    {
     "name": "stdout",
     "output_type": "stream",
     "text": [
      "(14,)\n",
      "[6.320e-03 1.800e+01 2.310e+00 0.000e+00 5.380e-01 6.575e+00 6.520e+01\n",
      " 4.090e+00 1.000e+00 2.960e+02 1.530e+01 3.969e+02 4.980e+00 2.400e+01]\n"
     ]
    }
   ],
   "source": [
    "x = data[0]\n",
    "print(x.shape)\n",
    "print(x)"
   ]
  },
  {
   "cell_type": "code",
   "execution_count": 19,
   "metadata": {},
   "outputs": [
    {
     "data": {
      "text/plain": [
       "(404, 14)"
      ]
     },
     "execution_count": 19,
     "metadata": {},
     "output_type": "execute_result"
    }
   ],
   "source": [
    "# 我们将80%的数据用作训练集，20%用作测试集\n",
    "ratio = 0.8\n",
    "offset = int(data.shape[0] * ratio)\n",
    "training_data = data[:offset]\n",
    "training_data.shape"
   ]
  },
  {
   "cell_type": "code",
   "execution_count": 20,
   "metadata": {},
   "outputs": [],
   "source": [
    "# 计算train数据集的最大值，最小值，平均值\n",
    "maximums, minimums, avgs = \\\n",
    "                     training_data.max(axis=0), \\\n",
    "                     training_data.min(axis=0), \\\n",
    "     training_data.sum(axis=0) / training_data.shape[0]\n",
    "# 对数据进行归一化处理\n",
    "for i in range(feature_num):\n",
    "    #print(maximums[i], minimums[i], avgs[i])\n",
    "    data[:, i] = (data[:, i] - minimums[i]) / (maximums[i] - minimums[i])"
   ]
  },
  {
   "cell_type": "code",
   "execution_count": 5,
   "metadata": {},
   "outputs": [],
   "source": [
    "def load_data():\n",
    "    # 从文件导入数据\n",
    "    datafile = './data/housing.data'\n",
    "    data = np.fromfile(datafile, sep=' ')\n",
    "    \n",
    "\n",
    "    # 每条数据包括14项，其中前面13项是影响因素，第14项是相应的房屋价格中位数\n",
    "    feature_names = [ 'CRIM', 'ZN', 'INDUS', 'CHAS', 'NOX', 'RM', 'AGE', \\\n",
    "                      'DIS', 'RAD', 'TAX', 'PTRATIO', 'B', 'LSTAT', 'MEDV' ]\n",
    "    feature_num = len(feature_names)\n",
    "\n",
    "    # 将原始数据进行Reshape，变成[N, 14]这样的形状\n",
    "    data = data.reshape([data.shape[0] // feature_num, feature_num])\n",
    "    print(data[0])   \n",
    "    # 将原数据集拆分成训练集和测试集\n",
    "    # 这里使用80%的数据做训练，20%的数据做测试\n",
    "    # 测试集和训练集必须是没有交集的\n",
    "    ratio = 0.8\n",
    "    offset = int(data.shape[0] * ratio)\n",
    "    training_data = data[:offset]\n",
    "\n",
    "    # 计算训练集的最大值，最小值，平均值\n",
    "    maximums, minimums, avgs = training_data.max(axis=0), training_data.min(axis=0), \\\n",
    "                                 training_data.sum(axis=0) / training_data.shape[0]\n",
    "\n",
    "    # 对数据进行归一化处理\n",
    "    for i in range(feature_num):\n",
    "        #print(maximums[i], minimums[i], avgs[i])\n",
    "        data[:, i] = (data[:, i] - minimums[i]) / (maximums[i] - minimums[i])\n",
    "    \n",
    "    # 训练集和测试集的划分比例\n",
    "    training_data = data[:offset]\n",
    "    test_data = data[offset:]\n",
    "    return training_data, test_data"
   ]
  },
  {
   "cell_type": "code",
   "execution_count": 22,
   "metadata": {},
   "outputs": [
    {
     "name": "stdout",
     "output_type": "stream",
     "text": [
      "[6.320e-03 1.800e+01 2.310e+00 0.000e+00 5.380e-01 6.575e+00 6.520e+01\n",
      " 4.090e+00 1.000e+00 2.960e+02 1.530e+01 3.969e+02 4.980e+00 2.400e+01]\n"
     ]
    }
   ],
   "source": [
    "# 获取数据\n",
    "training_data, test_data = load_data()\n",
    "x = training_data[:, :-1]\n",
    "y = training_data[:, -1:]"
   ]
  },
  {
   "cell_type": "code",
   "execution_count": 23,
   "metadata": {
    "pycharm": {
     "name": "#%%\n"
    }
   },
   "outputs": [
    {
     "name": "stdout",
     "output_type": "stream",
     "text": [
      "[0.         0.18       0.07344184 0.         0.31481481 0.57750527\n",
      " 0.64160659 0.26920314 0.         0.22755741 0.28723404 1.\n",
      " 0.08967991]\n",
      "[0.42222222]\n",
      "(404, 1)\n"
     ]
    }
   ],
   "source": [
    "print(x[0])\n",
    "print(y[0])\n",
    "print(y.shape)"
   ]
  },
  {
   "cell_type": "markdown",
   "metadata": {
    "pycharm": {
     "name": "#%% md\n"
    }
   },
   "source": [
    "# https://aistudio.baidu.com/aistudio/projectdetail/1142711\n"
   ]
  },
  {
   "cell_type": "code",
   "execution_count": 24,
   "metadata": {},
   "outputs": [],
   "source": [
    "class Network(object):\n",
    "    def __init__(self, num_of_weights):\n",
    "        # 随机产生w的初始值\n",
    "        # 为了保持程序每次运行结果的一致性，\n",
    "        # 此处设置固定的随机数种子\n",
    "        np.random.seed(0)\n",
    "        self.w = np.random.randn(num_of_weights, 1)\n",
    "        self.b = 0.\n",
    "\n",
    "    def forward(self, x):\n",
    "        z = np.dot(x, self.w) + self.b\n",
    "        return z\n",
    "\n",
    "    def loss(self, z, y):\n",
    "        error = z - y\n",
    "        #print(error)\n",
    "        cost = error * error\n",
    "        cost = np.mean(cost)\n",
    "        return cost\n"
   ]
  },
  {
   "cell_type": "code",
   "execution_count": 25,
   "metadata": {},
   "outputs": [
    {
     "name": "stdout",
     "output_type": "stream",
     "text": [
      "3.8864479293740692\n"
     ]
    }
   ],
   "source": [
    "net=Network(13)\n",
    "x1=x[0]\n",
    "y1=y[0]\n",
    "z=net.forward(x1)\n",
    "print(net.loss(z,y1))"
   ]
  },
  {
   "cell_type": "code",
   "execution_count": 26,
   "metadata": {
    "pycharm": {
     "name": "#%%\n"
    }
   },
   "outputs": [
    {
     "name": "stdout",
     "output_type": "stream",
     "text": [
      "predict: [[2.39362982]\n",
      " [2.46752393]\n",
      " [2.02483479]]\n",
      "loss: 3.384496992612791\n"
     ]
    }
   ],
   "source": [
    "net=Network(13)\n",
    "x1=x[0:3]\n",
    "y1=y[0:3]\n",
    "z=net.forward(x1)\n",
    "print(\"predict:\",z)\n",
    "cost=net.loss(z,y1)\n",
    "print(\"loss:\",cost)"
   ]
  },
  {
   "cell_type": "code",
   "execution_count": 27,
   "metadata": {
    "pycharm": {
     "name": "#%%\n"
    }
   },
   "outputs": [
    {
     "data": {
      "image/png": "[encoded data removed]",
      "text/plain": [
       "<Figure size 432x288 with 1 Axes>"
      ]
     },
     "metadata": {
      "needs_background": "light"
     },
     "output_type": "display_data"
    }
   ],
   "source": [
    "net = Network(13)\n",
    "losses = []\n",
    "#只画出参数w5和w9在区间[-160, 160]的曲线部分，以及包含损失函数的极值\n",
    "w5 = np.arange(-160.0, 160.0, 1)\n",
    "w9 = np.arange(-160.0, 160.0, 1)\n",
    "losses = np.zeros([len(w5), len(w9)])\n",
    "\n",
    "#计算设定区域内每个参数取值所对应的Loss\n",
    "for i in range(len(w5)):\n",
    "    for j in range(len(w9)):\n",
    "        net.w[5] = w5[i]\n",
    "        net.w[9] = w9[j]\n",
    "        z = net.forward(x)\n",
    "        loss = net.loss(z, y)\n",
    "        losses[i, j] = loss\n",
    "\n",
    "#使用matplotlib将两个变量和对应的Loss作3D图\n",
    "import matplotlib.pyplot as plt\n",
    "from mpl_toolkits.mplot3d import Axes3D\n",
    "fig = plt.figure()\n",
    "ax = Axes3D(fig)\n",
    "\n",
    "w5, w9 = np.meshgrid(w5, w9)\n",
    "\n",
    "ax.plot_surface(w5, w9, losses, rstride=1, cstride=1, cmap='rainbow')\n",
    "plt.show()\n",
    "\n"
   ]
  },
  {
   "cell_type": "code",
   "execution_count": 27,
   "metadata": {
    "pycharm": {
     "name": "#%%\n"
    }
   },
   "outputs": [],
   "source": []
  },
  {
   "cell_type": "code",
   "execution_count": 27,
   "metadata": {
    "pycharm": {
     "name": "#%%\n"
    }
   },
   "outputs": [],
   "source": []
  },
  {
   "cell_type": "code",
   "execution_count": 28,
   "metadata": {
    "pycharm": {
     "name": "#%%\n"
    }
   },
   "outputs": [
    {
     "data": {
      "image/png": "[encoded data removed]",
      "text/plain": [
       "<Figure size 432x288 with 1 Axes>"
      ]
     },
     "metadata": {
      "needs_background": "light"
     },
     "output_type": "display_data"
    }
   ],
   "source": [
    "net = Network(13)\n",
    "losses = []\n",
    "#只画出参数w5和w9在区间[-160, 160]的曲线部分，以及包含损失函数的极值\n",
    "w5 = np.arange(-160.0, 160.0, 1)\n",
    "w9 = np.arange(-160.0, 160.0, 1)\n",
    "losses = np.zeros([len(w5), len(w9)])\n",
    "\n",
    "#计算设定区域内每个参数取值所对应的Loss\n",
    "for i in range(len(w5)):\n",
    "    for j in range(len(w9)):\n",
    "        net.w[5] = w5[i]\n",
    "        net.w[9] = w9[j]\n",
    "        z = net.forward(x)\n",
    "        loss = net.loss(z, y)\n",
    "        losses[i, j] = loss\n",
    "\n",
    "#使用matplotlib将两个变量和对应的Loss作3D图\n",
    "import matplotlib.pyplot as plt\n",
    "from mpl_toolkits.mplot3d import Axes3D\n",
    "fig = plt.figure()\n",
    "ax = Axes3D(fig)\n",
    "\n",
    "w5, w9 = np.meshgrid(w5, w9)\n",
    "\n",
    "ax.plot_surface(w5, w9, losses, rstride=1, cstride=1, cmap='rainbow')\n",
    "plt.show()\n",
    "\n"
   ]
  },
  {
   "cell_type": "code",
   "execution_count": 29,
   "metadata": {
    "pycharm": {
     "name": "#%%\n"
    }
   },
   "outputs": [
    {
     "name": "stdout",
     "output_type": "stream",
     "text": [
      "x.shape (404, 13),y.shape(404, 1)\n",
      "x1 [0.         0.18       0.07344184 0.         0.31481481 0.57750527\n",
      " 0.64160659 0.26920314 0.         0.22755741 0.28723404 1.\n",
      " 0.08967991] shape (13,)\n",
      "y1 [0.42222222] shape (1,)\n",
      "z1 [130.86954441] shape (1,)\n"
     ]
    }
   ],
   "source": [
    "# 一个样本时的情况，\n",
    "print(\"x.shape {},y.shape{}\".format(x.shape,y.shape))\n",
    "x1=x[0] #第一行 1*13\n",
    "y1=y[0] #第一行对应的房价\n",
    "z1=net.forward(x1)\n",
    "print('x1 {} shape {}'.format(x1,x1.shape))\n",
    "print('y1 {} shape {}'.format(y1,y1.shape))\n",
    "print('z1 {} shape {}'.format(z1,z1.shape))"
   ]
  },
  {
   "cell_type": "code",
   "execution_count": 30,
   "metadata": {
    "pycharm": {
     "name": "#%%\n"
    }
   },
   "outputs": [
    {
     "name": "stdout",
     "output_type": "stream",
     "text": [
      "gradient_w0 [0.]\n"
     ]
    }
   ],
   "source": [
    "# w0的梯度\n",
    "gradient_w0=(z1-y1)*x1[0]\n",
    "print('gradient_w0 {}'.format(gradient_w0))"
   ]
  },
  {
   "cell_type": "code",
   "execution_count": 31,
   "metadata": {
    "pycharm": {
     "name": "#%%\n"
    }
   },
   "outputs": [
    {
     "name": "stdout",
     "output_type": "stream",
     "text": [
      "gradient_w1 [23.48051799]\n"
     ]
    }
   ],
   "source": [
    "# w1的梯度变化\n",
    "gradient_w1=(z1-y1)*x1[1]\n",
    "print('gradient_w1 {}'.format(gradient_w1))"
   ]
  },
  {
   "cell_type": "code",
   "execution_count": 32,
   "metadata": {
    "pycharm": {
     "name": "#%%\n"
    }
   },
   "outputs": [
    {
     "name": "stdout",
     "output_type": "stream",
     "text": [
      "[  0.          23.48051799   9.58029163   0.          41.06674958\n",
      "  75.33401592  83.69586171  35.11682862   0.          29.68425495\n",
      "  37.46891169 130.44732219  11.69850434]\n"
     ]
    }
   ],
   "source": [
    "# 只有一个样本时的梯度变化\n",
    "gradient_w_x1=(z1-y1)*x1\n",
    "print(gradient_w_x1)\n",
    "\n"
   ]
  },
  {
   "cell_type": "code",
   "execution_count": 33,
   "metadata": {
    "pycharm": {
     "name": "#%%\n"
    }
   },
   "outputs": [
    {
     "data": {
      "text/plain": [
       "array([2.54738434e-02, 0.00000000e+00, 2.83333765e+01, 0.00000000e+00,\n",
       "       1.86624242e+01, 5.91703008e+01, 8.45121992e+01, 3.76793284e+01,\n",
       "       4.69458498e+00, 1.23980167e+01, 5.97311025e+01, 1.07975454e+02,\n",
       "       2.20777626e+01])"
      ]
     },
     "execution_count": 33,
     "metadata": {},
     "output_type": "execute_result"
    }
   ],
   "source": [
    "# 样本2对梯度的贡献\n",
    "x2=x[1]\n",
    "y2=y[1]\n",
    "z2=net.forward(x2)\n",
    "gradient_w_x2=(z2-y2)*x2\n",
    "gradient_w_x2\n"
   ]
  },
  {
   "cell_type": "code",
   "execution_count": 34,
   "metadata": {
    "pycharm": {
     "name": "#%%\n"
    }
   },
   "outputs": [
    {
     "name": "stdout",
     "output_type": "stream",
     "text": [
      "x3 [[0.00000000e+00 1.80000000e-01 7.34418420e-02 0.00000000e+00\n",
      "  3.14814815e-01 5.77505269e-01 6.41606591e-01 2.69203139e-01\n",
      "  0.00000000e+00 2.27557411e-01 2.87234043e-01 1.00000000e+00\n",
      "  8.96799117e-02]\n",
      " [2.35922539e-04 0.00000000e+00 2.62405717e-01 0.00000000e+00\n",
      "  1.72839506e-01 5.47997701e-01 7.82698249e-01 3.48961980e-01\n",
      "  4.34782609e-02 1.14822547e-01 5.53191489e-01 1.00000000e+00\n",
      "  2.04470199e-01]\n",
      " [2.35697744e-04 0.00000000e+00 2.62405717e-01 0.00000000e+00\n",
      "  1.72839506e-01 6.94385898e-01 5.99382080e-01 3.48961980e-01\n",
      "  4.34782609e-02 1.14822547e-01 5.53191489e-01 9.87519166e-01\n",
      "  6.34657837e-02]], shape (3, 13)\n",
      "y3 [[0.42222222]\n",
      " [0.36888889]\n",
      " [0.66      ]], shape (3, 1)\n",
      "z3 [[130.86954441]\n",
      " [108.34434338]\n",
      " [131.3204395 ]], shape (3, 1)\n"
     ]
    }
   ],
   "source": [
    "# 前3个样本对梯度的贡献\n",
    "x3=x[0:3]\n",
    "y3=y[0:3]\n",
    "z3=net.forward(x3)\n",
    "print('x3 {}, shape {}'.format(x3, x3.shape))\n",
    "print('y3 {}, shape {}'.format(y3, y3.shape))\n",
    "print('z3 {}, shape {}'.format(z3, z3.shape))\n",
    "\n"
   ]
  },
  {
   "cell_type": "code",
   "execution_count": 35,
   "metadata": {
    "pycharm": {
     "name": "#%%\n"
    }
   },
   "outputs": [
    {
     "name": "stdout",
     "output_type": "stream",
     "text": [
      "gradient_w [[0.00000000e+00 2.34805180e+01 9.58029163e+00 0.00000000e+00\n",
      "  4.10667496e+01 7.53340159e+01 8.36958617e+01 3.51168286e+01\n",
      "  0.00000000e+00 2.96842549e+01 3.74689117e+01 1.30447322e+02\n",
      "  1.16985043e+01]\n",
      " [2.54738434e-02 0.00000000e+00 2.83333765e+01 0.00000000e+00\n",
      "  1.86624242e+01 5.91703008e+01 8.45121992e+01 3.76793284e+01\n",
      "  4.69458498e+00 1.23980167e+01 5.97311025e+01 1.07975454e+02\n",
      "  2.20777626e+01]\n",
      " [3.07963708e-02 0.00000000e+00 3.42860463e+01 0.00000000e+00\n",
      "  2.25832858e+01 9.07287666e+01 7.83155260e+01 4.55955257e+01\n",
      "  5.68088867e+00 1.50027645e+01 7.22802431e+01 1.29029688e+02\n",
      "  8.29246719e+00]] shape (3, 13)\n"
     ]
    }
   ],
   "source": [
    "gradient_w=(z3-y3)*x3\n",
    "print('gradient_w {} shape {}'.format(gradient_w,gradient_w.shape))"
   ]
  },
  {
   "cell_type": "code",
   "execution_count": 36,
   "metadata": {
    "pycharm": {
     "name": "#%%\n"
    }
   },
   "outputs": [
    {
     "name": "stdout",
     "output_type": "stream",
     "text": [
      "gradient_w [[  4.6555403 ]\n",
      " [ 19.35268996]\n",
      " [ 55.88081118]\n",
      " [ 14.00266972]\n",
      " [ 47.98588869]\n",
      " [ 76.87210821]\n",
      " [ 94.8555119 ]\n",
      " [ 36.07579608]\n",
      " [ 45.44575958]\n",
      " [ 59.65733292]\n",
      " [ 83.65114918]\n",
      " [134.80387478]\n",
      " [ 38.93998153]] shape (13, 1)\n",
      "net_w [[ 1.76405235e+00]\n",
      " [ 4.00157208e-01]\n",
      " [ 9.78737984e-01]\n",
      " [ 2.24089320e+00]\n",
      " [ 1.86755799e+00]\n",
      " [ 1.59000000e+02]\n",
      " [ 9.50088418e-01]\n",
      " [-1.51357208e-01]\n",
      " [-1.03218852e-01]\n",
      " [ 1.59000000e+02]\n",
      " [ 1.44043571e-01]\n",
      " [ 1.45427351e+00]\n",
      " [ 7.61037725e-01]],shape (13, 1)\n"
     ]
    }
   ],
   "source": [
    "# 所有样本\n",
    "z=net.forward(x)\n",
    "#以下两句等同于gradient_w=np.dot(x.T,z-y)/len(z)\n",
    "#gradient_w=(z-y)*x\n",
    "#gradient_w=np.mean(gradient_w,axis=0,keepdims=True)\n",
    "\n",
    "gradient_w=np.dot(x.T,z-y)/len(z)\n",
    "print('gradient_w {} shape {}'.format(gradient_w,gradient_w.shape))\n",
    "print(\"net_w {},shape {}\".format(net.w,net.w.shape))"
   ]
  },
  {
   "cell_type": "code",
   "execution_count": 37,
   "metadata": {
    "pycharm": {
     "name": "#%%\n"
    }
   },
   "outputs": [
    {
     "data": {
      "text/plain": [
       "142.50289323156107"
      ]
     },
     "execution_count": 37,
     "metadata": {},
     "output_type": "execute_result"
    }
   ],
   "source": [
    "gradient_b=np.sum(z-y)/len(z)\n",
    "gradient_b\n"
   ]
  },
  {
   "cell_type": "code",
   "execution_count": 38,
   "metadata": {
    "pycharm": {
     "name": "#%%\n"
    }
   },
   "outputs": [],
   "source": [
    "class Network2(object):\n",
    "    def __init__(self, num_of_weights):\n",
    "        # 随机产生w的初始值\n",
    "        # 为了保持程序每次运行结果的一致性，\n",
    "        # 此处设置固定的随机数种子\n",
    "        np.random.seed(0)\n",
    "        self.w = np.random.randn(num_of_weights, 1)\n",
    "        self.b = 0.\n",
    "\n",
    "    def forward(self, x):\n",
    "        print(x.shape,self.w.shape)\n",
    "        z = np.dot(x, self.w) + self.b\n",
    "        return z\n",
    "\n",
    "    def loss(self, z, y):\n",
    "        error = z - y\n",
    "        #print(error)\n",
    "        cost = error * error\n",
    "        cost = np.mean(cost)\n",
    "        return cost\n",
    "\n",
    "    def gradient(self,x,y):\n",
    "        z=self.forward(x)\n",
    "        gradient_w=np.dot(x.T,z-y)/len(z)\n",
    "        gradient_b=np.sum(z-y)/len(z)\n",
    "        return gradient_w,gradient_b  \n",
    "\n",
    "    def update(self,gradient_w,gradient_b,learning_rate):\n",
    "        print(\"w.shape {},dw.shape{}\".format(self.w.shape,gradient_w.shape))\n",
    "        self.w=self.w-learning_rate*gradient_w\n",
    "        self.b=self.b-learning_rate*gradient_b"
   ]
  },
  {
   "cell_type": "code",
   "execution_count": 39,
   "metadata": {
    "pycharm": {
     "name": "#%%\n"
    }
   },
   "outputs": [
    {
     "name": "stdout",
     "output_type": "stream",
     "text": [
      "(404, 13) (13, 1)\n",
      "(404, 13) (13, 1)\n",
      "(13, 1)\n",
      "point w5:[-100.],dw5 [-45.87968288]\n",
      "point w9:[-100.],dw9 [-35.50236884]\n"
     ]
    }
   ],
   "source": [
    "net=Network2(13)\n",
    "net.w[5]=-100\n",
    "net.w[9]=-100\n",
    "\n",
    "z=net.forward(x)\n",
    "loss=net.loss(z,y)\n",
    "gradient_w,gradient_b=net.gradient(x,y)\n",
    "print(gradient_w.shape)\n",
    "gradient_w5=gradient_w[5]\n",
    "gradient_w9=gradient_w[9]\n",
    "print('point w5:{},dw5 {}'.format(net.w[5],gradient_w5))\n",
    "print('point w9:{},dw9 {}'.format(net.w[9],gradient_w9))\n"
   ]
  },
  {
   "cell_type": "code",
   "execution_count": 40,
   "metadata": {
    "pycharm": {
     "name": "#%%\n"
    }
   },
   "outputs": [
    {
     "name": "stdout",
     "output_type": "stream",
     "text": [
      "(404, 13) (13, 1)\n",
      "8.745954466634588\n",
      "(404, 13) (13, 1)\n",
      "(404, 13) (13, 1)\n",
      "8.745954466634588\n",
      "(404, 13) (13, 1)\n"
     ]
    }
   ],
   "source": [
    "net=Network2(13)\n",
    "\n",
    "for i in range(2):\n",
    "    z=net.forward(x)\n",
    "    loss=net.loss(z,y)\n",
    "    print(loss)\n",
    "    gradient_w,gradient_b=net.gradient(x,y)\n",
    "    #net.update(gradient_w,gradient_w,0.01)"
   ]
  },
  {
   "cell_type": "code",
   "execution_count": 40,
   "metadata": {},
   "outputs": [],
   "source": []
  },
  {
   "cell_type": "code",
   "execution_count": 41,
   "metadata": {},
   "outputs": [
    {
     "name": "stdout",
     "output_type": "stream",
     "text": [
      "gradient_w0 [0.]\n"
     ]
    }
   ],
   "source": [
    "# w0的梯度\n",
    "gradient_w0=(z1-y1)*x1[0]\n",
    "print('gradient_w0 {}'.format(gradient_w0))"
   ]
  },
  {
   "cell_type": "code",
   "execution_count": 42,
   "metadata": {},
   "outputs": [
    {
     "name": "stdout",
     "output_type": "stream",
     "text": [
      "gradient_w1 [23.48051799]\n"
     ]
    }
   ],
   "source": [
    "# w1的梯度变化\n",
    "gradient_w1=(z1-y1)*x1[1]\n",
    "print('gradient_w1 {}'.format(gradient_w1))"
   ]
  },
  {
   "cell_type": "code",
   "execution_count": 43,
   "metadata": {},
   "outputs": [
    {
     "name": "stdout",
     "output_type": "stream",
     "text": [
      "[  0.          23.48051799   9.58029163   0.          41.06674958\n",
      "  75.33401592  83.69586171  35.11682862   0.          29.68425495\n",
      "  37.46891169 130.44732219  11.69850434]\n"
     ]
    }
   ],
   "source": [
    "# 只有一个样本时的梯度变化\n",
    "gradient_w_x1=(z1-y1)*x1\n",
    "print(gradient_w_x1)\n",
    "\n"
   ]
  },
  {
   "cell_type": "code",
   "execution_count": 44,
   "metadata": {},
   "outputs": [
    {
     "name": "stdout",
     "output_type": "stream",
     "text": [
      "(13,) (13, 1)\n"
     ]
    },
    {
     "data": {
      "text/plain": [
       "array([4.95115308e-04, 0.00000000e+00, 5.50693832e-01, 0.00000000e+00,\n",
       "       3.62727044e-01, 1.15004718e+00, 1.64259797e+00, 7.32343840e-01,\n",
       "       9.12450018e-02, 2.40970621e-01, 1.16094704e+00, 2.09863504e+00,\n",
       "       4.29108324e-01])"
      ]
     },
     "execution_count": 44,
     "metadata": {},
     "output_type": "execute_result"
    }
   ],
   "source": [
    "# 样本2对梯度的贡献\n",
    "x2=x[1]\n",
    "y2=y[1]\n",
    "z2=net.forward(x2)\n",
    "gradient_w_x2=(z2-y2)*x2\n",
    "gradient_w_x2\n"
   ]
  },
  {
   "cell_type": "code",
   "execution_count": 45,
   "metadata": {},
   "outputs": [
    {
     "name": "stdout",
     "output_type": "stream",
     "text": [
      "(3, 13) (13, 1)\n",
      "x3 [[0.00000000e+00 1.80000000e-01 7.34418420e-02 0.00000000e+00\n",
      "  3.14814815e-01 5.77505269e-01 6.41606591e-01 2.69203139e-01\n",
      "  0.00000000e+00 2.27557411e-01 2.87234043e-01 1.00000000e+00\n",
      "  8.96799117e-02]\n",
      " [2.35922539e-04 0.00000000e+00 2.62405717e-01 0.00000000e+00\n",
      "  1.72839506e-01 5.47997701e-01 7.82698249e-01 3.48961980e-01\n",
      "  4.34782609e-02 1.14822547e-01 5.53191489e-01 1.00000000e+00\n",
      "  2.04470199e-01]\n",
      " [2.35697744e-04 0.00000000e+00 2.62405717e-01 0.00000000e+00\n",
      "  1.72839506e-01 6.94385898e-01 5.99382080e-01 3.48961980e-01\n",
      "  4.34782609e-02 1.14822547e-01 5.53191489e-01 9.87519166e-01\n",
      "  6.34657837e-02]], shape (3, 13)\n",
      "y3 [[0.42222222]\n",
      " [0.36888889]\n",
      " [0.66      ]], shape (3, 1)\n",
      "z3 [[2.39362982]\n",
      " [2.46752393]\n",
      " [2.02483479]], shape (3, 1)\n"
     ]
    }
   ],
   "source": [
    "# 前3个样本对梯度的贡献\n",
    "x3=x[0:3]\n",
    "y3=y[0:3]\n",
    "z3=net.forward(x3)\n",
    "print('x3 {}, shape {}'.format(x3, x3.shape))\n",
    "print('y3 {}, shape {}'.format(y3, y3.shape))\n",
    "print('z3 {}, shape {}'.format(z3, z3.shape))\n",
    "\n"
   ]
  },
  {
   "cell_type": "code",
   "execution_count": 46,
   "metadata": {},
   "outputs": [
    {
     "name": "stdout",
     "output_type": "stream",
     "text": [
      "gradient_w [[0.00000000e+00 3.54853368e-01 1.44783806e-01 0.00000000e+00\n",
      "  6.20628319e-01 1.13849828e+00 1.26486811e+00 5.30709115e-01\n",
      "  0.00000000e+00 4.48608410e-01 5.66255375e-01 1.97140760e+00\n",
      "  1.76795660e-01]\n",
      " [4.95115308e-04 0.00000000e+00 5.50693832e-01 0.00000000e+00\n",
      "  3.62727044e-01 1.15004718e+00 1.64259797e+00 7.32343840e-01\n",
      "  9.12450018e-02 2.40970621e-01 1.16094704e+00 2.09863504e+00\n",
      "  4.29108324e-01]\n",
      " [3.21688482e-04 0.00000000e+00 3.58140452e-01 0.00000000e+00\n",
      "  2.35897372e-01 9.47722033e-01 8.18057517e-01 4.76275452e-01\n",
      "  5.93406432e-02 1.56713807e-01 7.55014992e-01 1.34780052e+00\n",
      "  8.66203097e-02]] shape (3, 13)\n"
     ]
    }
   ],
   "source": [
    "gradient_w=(z3-y3)*x3\n",
    "print('gradient_w {} shape {}'.format(gradient_w,gradient_w.shape))"
   ]
  },
  {
   "cell_type": "code",
   "execution_count": 47,
   "metadata": {},
   "outputs": [
    {
     "name": "stdout",
     "output_type": "stream",
     "text": [
      "(404, 13) (13, 1)\n",
      "gradient_w [[0.10197566]\n",
      " [0.20327718]\n",
      " [1.21762392]\n",
      " [0.43059902]\n",
      " [1.05326594]\n",
      " [1.29064465]\n",
      " [1.95461901]\n",
      " [0.5342187 ]\n",
      " [0.88702053]\n",
      " [1.15069786]\n",
      " [1.5790441 ]\n",
      " [2.43714929]\n",
      " [0.87116361]] shape (13, 1)\n",
      "net_w [[ 1.76405235]\n",
      " [ 0.40015721]\n",
      " [ 0.97873798]\n",
      " [ 2.2408932 ]\n",
      " [ 1.86755799]\n",
      " [-0.97727788]\n",
      " [ 0.95008842]\n",
      " [-0.15135721]\n",
      " [-0.10321885]\n",
      " [ 0.4105985 ]\n",
      " [ 0.14404357]\n",
      " [ 1.45427351]\n",
      " [ 0.76103773]],shape (13, 1)\n"
     ]
    }
   ],
   "source": [
    "# 所有样本\n",
    "z=net.forward(x)\n",
    "#以下两句等同于gradient_w=np.dot(x.T,z-y)/len(z)\n",
    "#gradient_w=(z-y)*x\n",
    "#gradient_w=np.mean(gradient_w,axis=0,keepdims=True)\n",
    "\n",
    "gradient_w=np.dot(x.T,z-y)/len(z)\n",
    "print('gradient_w {} shape {}'.format(gradient_w,gradient_w.shape))\n",
    "print(\"net_w {},shape {}\".format(net.w,net.w.shape))"
   ]
  },
  {
   "cell_type": "code",
   "execution_count": 48,
   "metadata": {},
   "outputs": [
    {
     "data": {
      "text/plain": [
       "2.599327274554706"
      ]
     },
     "execution_count": 48,
     "metadata": {},
     "output_type": "execute_result"
    }
   ],
   "source": [
    "gradient_b=np.sum(z-y)/len(z)\n",
    "gradient_b\n"
   ]
  },
  {
   "cell_type": "code",
   "execution_count": 49,
   "metadata": {},
   "outputs": [],
   "source": [
    "class Network3(object):\n",
    "    def __init__(self, num_of_weights):\n",
    "        # 随机产生w的初始值\n",
    "        # 为了保持程序每次运行结果的一致性，\n",
    "        # 此处设置固定的随机数种子\n",
    "        np.random.seed(0)\n",
    "        self.w = np.random.randn(num_of_weights, 1)\n",
    "        self.b = 0.\n",
    "\n",
    "    def forward(self, x):\n",
    "        #print(x.shape,self.w.shape)\n",
    "        z = np.dot(x, self.w) + self.b\n",
    "        return z\n",
    "\n",
    "    def loss(self, z, y):\n",
    "        error = z - y\n",
    "        #print(error)\n",
    "        cost = error * error\n",
    "        cost = np.mean(cost)\n",
    "        return cost\n",
    "\n",
    "    def gradient(self,x,y):\n",
    "        z=self.forward(x)\n",
    "        gradient_w=np.dot(x.T,z-y)/len(z)\n",
    "        gradient_b=np.sum(z-y)/len(z)\n",
    "        return gradient_w,gradient_b  \n",
    "\n",
    "    def update(self,gradient_w,gradient_b,learning_rate):\n",
    "        #print(\"w.shape {},dw.shape{}\".format(self.w.shape,gradient_w.shape))\n",
    "        self.w=self.w-learning_rate*gradient_w\n",
    "        self.b=self.b-learning_rate*gradient_b"
   ]
  },
  {
   "cell_type": "code",
   "execution_count": 50,
   "metadata": {},
   "outputs": [
    {
     "name": "stdout",
     "output_type": "stream",
     "text": [
      "(13, 1)\n",
      "point w5:[-100.],dw5 [-45.87968288]\n",
      "point w9:[-100.],dw9 [-35.50236884]\n"
     ]
    }
   ],
   "source": [
    "net=Network3(13)\n",
    "net.w[5]=-100\n",
    "net.w[9]=-100\n",
    "\n",
    "z=net.forward(x)\n",
    "loss=net.loss(z,y)\n",
    "gradient_w,gradient_b=net.gradient(x,y)\n",
    "print(gradient_w.shape)\n",
    "gradient_w5=gradient_w[5]\n",
    "gradient_w9=gradient_w[9]\n",
    "print('point w5:{},dw5 {}'.format(net.w[5],gradient_w5))\n",
    "print('point w9:{},dw9 {}'.format(net.w[9],gradient_w9))\n"
   ]
  },
  {
   "cell_type": "code",
   "execution_count": 51,
   "metadata": {},
   "outputs": [
    {
     "name": "stdout",
     "output_type": "stream",
     "text": [
      "[6.320e-03 1.800e+01 2.310e+00 0.000e+00 5.380e-01 6.575e+00 6.520e+01\n",
      " 4.090e+00 1.000e+00 2.960e+02 1.530e+01 3.969e+02 4.980e+00 2.400e+01]\n"
     ]
    },
    {
     "data": {
      "image/png": "[encoded data removed]",
      "text/plain": [
       "<Figure size 432x288 with 1 Axes>"
      ]
     },
     "metadata": {
      "needs_background": "light"
     },
     "output_type": "display_data"
    }
   ],
   "source": [
    "net=Network3(13)\n",
    "train_data, test_data = load_data()\n",
    "x = train_data[:, :-1]\n",
    "y = train_data[:, -1:]\n",
    "\n",
    "NUMS=1000\n",
    "losses=[]\n",
    "for i in range(NUMS):\n",
    "    z=net.forward(x)\n",
    "    loss=net.loss(z,y)\n",
    "    losses.append(loss)\n",
    "    gradient_w,gradient_b=net.gradient(x,y)\n",
    "    net.update(gradient_w,gradient_b,0.01)\n",
    "\n",
    "import matplotlib.pyplot as plt\n",
    "from mpl_toolkits.mplot3d import Axes3D\n",
    "fig = plt.figure()\n",
    "plot_x = np.arange(NUMS)\n",
    "plot_y = np.array(losses)\n",
    "plt.plot(plot_x, plot_y)\n",
    "plt.show()"
   ]
  },
  {
   "cell_type": "code",
   "execution_count": 10,
   "metadata": {
    "pycharm": {
     "name": "#%%\n"
    }
   },
   "outputs": [
    {
     "name": "stdout",
     "output_type": "stream",
     "text": [
      "[6.320e-03 1.800e+01 2.310e+00 0.000e+00 5.380e-01 6.575e+00 6.520e+01\n",
      " 4.090e+00 1.000e+00 2.960e+02 1.530e+01 3.969e+02 4.980e+00 2.400e+01]\n",
      "iter 9, loss 5.143394325795511\n",
      "iter 19, loss 3.097924194225988\n",
      "iter 29, loss 2.082241020617026\n",
      "iter 39, loss 1.5673801618157397\n",
      "iter 49, loss 1.2966204735077431\n",
      "iter 59, loss 1.1453399043319765\n",
      "iter 69, loss 1.0530155717435201\n",
      "iter 79, loss 0.9902292156463155\n",
      "iter 89, loss 0.9426576903842504\n",
      "iter 99, loss 0.9033048096880774\n",
      "iter 109, loss 0.868732003041364\n",
      "iter 119, loss 0.837229250968144\n",
      "iter 129, loss 0.807927474161227\n",
      "iter 139, loss 0.7803677341465797\n",
      "iter 149, loss 0.7542920908532763\n",
      "iter 159, loss 0.7295420168915829\n",
      "iter 169, loss 0.7060090054240882\n",
      "iter 179, loss 0.6836105084697767\n",
      "iter 189, loss 0.6622781710179412\n",
      "iter 199, loss 0.6419520361168637\n",
      "iter 209, loss 0.622577651786949\n",
      "iter 219, loss 0.6041045903195837\n",
      "iter 229, loss 0.5864856570315078\n",
      "iter 239, loss 0.5696764374763879\n",
      "iter 249, loss 0.5536350125932015\n",
      "iter 259, loss 0.5383217588525027\n",
      "iter 269, loss 0.5236991929680567\n",
      "iter 279, loss 0.509731841376165\n",
      "iter 289, loss 0.4963861247069634\n",
      "iter 299, loss 0.48363025234390233\n",
      "iter 309, loss 0.47143412454019784\n",
      "iter 319, loss 0.45976924072044867\n",
      "iter 329, loss 0.44860861316590983\n",
      "iter 339, loss 0.4379266855659793\n",
      "iter 349, loss 0.4276992560632111\n",
      "iter 359, loss 0.4179034044959738\n",
      "iter 369, loss 0.4085174235863553\n",
      "iter 379, loss 0.39952075384787633\n",
      "iter 389, loss 0.39089392200622347\n",
      "iter 399, loss 0.382618482740513\n",
      "iter 409, loss 0.3746769635645124\n",
      "iter 419, loss 0.36705281267772816\n",
      "iter 429, loss 0.35973034962581096\n",
      "iter 439, loss 0.35269471861856694\n",
      "iter 449, loss 0.3459318443621334\n",
      "iter 459, loss 0.33942839026966587\n",
      "iter 469, loss 0.33317171892221653\n",
      "iter 479, loss 0.3271498546584252\n",
      "iter 489, loss 0.3213514481781961\n",
      "iter 499, loss 0.31576574305173283\n",
      "iter 509, loss 0.3103825440311682\n",
      "iter 519, loss 0.30519218706757245\n",
      "iter 529, loss 0.30018551094136725\n",
      "iter 539, loss 0.29535383041913843\n",
      "iter 549, loss 0.29068891085453674\n",
      "iter 559, loss 0.28618294415539336\n",
      "iter 569, loss 0.28182852604338504\n",
      "iter 579, loss 0.27761863453655344\n",
      "iter 589, loss 0.27354660958874766\n",
      "iter 599, loss 0.2696061338236152\n",
      "iter 609, loss 0.26579121430413205\n",
      "iter 619, loss 0.26209616528184804\n",
      "iter 629, loss 0.25851559187303397\n",
      "iter 639, loss 0.25504437461176843\n",
      "iter 649, loss 0.2516776548326958\n",
      "iter 659, loss 0.2484108208387405\n",
      "iter 669, loss 0.24523949481147198\n",
      "iter 679, loss 0.24215952042409844\n",
      "iter 689, loss 0.2391669511192288\n",
      "iter 699, loss 0.2362580390155805\n",
      "iter 709, loss 0.2334292244097483\n",
      "iter 719, loss 0.2306771258409729\n",
      "iter 729, loss 0.22799853068858245\n",
      "iter 739, loss 0.22539038627340982\n",
      "iter 749, loss 0.22284979143604464\n",
      "iter 759, loss 0.22037398856623477\n",
      "iter 769, loss 0.21796035605914357\n",
      "iter 779, loss 0.2156064011754777\n",
      "iter 789, loss 0.21330975328373866\n",
      "iter 799, loss 0.2110681574640261\n",
      "iter 809, loss 0.20887946845393043\n",
      "iter 819, loss 0.20674164491810018\n",
      "iter 829, loss 0.2046527440240648\n",
      "iter 839, loss 0.20261091630783168\n",
      "iter 849, loss 0.20061440081366638\n",
      "iter 859, loss 0.1986615204933024\n",
      "iter 869, loss 0.19675067785062839\n",
      "iter 879, loss 0.19488035081864621\n",
      "iter 889, loss 0.19304908885621125\n",
      "iter 899, loss 0.1912555092527351\n",
      "iter 909, loss 0.1894982936296714\n",
      "iter 919, loss 0.18777618462820625\n",
      "iter 929, loss 0.18608798277314595\n",
      "iter 939, loss 0.18443254350353405\n",
      "iter 949, loss 0.18280877436103968\n",
      "iter 959, loss 0.18121563232764165\n",
      "iter 969, loss 0.17965212130459232\n",
      "iter 979, loss 0.1781172897250724\n",
      "iter 989, loss 0.1766102282933619\n",
      "iter 999, loss 0.17513006784373505\n"
     ]
    },
    {
     "ename": "NameError",
     "evalue": "name 'plt' is not defined",
     "output_type": "error",
     "traceback": [
      "\u001B[1;31m---------------------------------------------------------------------------\u001B[0m",
      "\u001B[1;31mNameError\u001B[0m                                 Traceback (most recent call last)",
      "\u001B[1;32m<ipython-input-10-0c5ed10a47ae>\u001B[0m in \u001B[0;36m<module>\u001B[1;34m\u001B[0m\n\u001B[0;32m     56\u001B[0m \u001B[0mplot_x\u001B[0m \u001B[1;33m=\u001B[0m \u001B[0mnp\u001B[0m\u001B[1;33m.\u001B[0m\u001B[0marange\u001B[0m\u001B[1;33m(\u001B[0m\u001B[0mnum_iterations\u001B[0m\u001B[1;33m)\u001B[0m\u001B[1;33m\u001B[0m\u001B[1;33m\u001B[0m\u001B[0m\n\u001B[0;32m     57\u001B[0m \u001B[0mplot_y\u001B[0m \u001B[1;33m=\u001B[0m \u001B[0mnp\u001B[0m\u001B[1;33m.\u001B[0m\u001B[0marray\u001B[0m\u001B[1;33m(\u001B[0m\u001B[0mlosses\u001B[0m\u001B[1;33m)\u001B[0m\u001B[1;33m\u001B[0m\u001B[1;33m\u001B[0m\u001B[0m\n\u001B[1;32m---> 58\u001B[1;33m \u001B[0mplt\u001B[0m\u001B[1;33m.\u001B[0m\u001B[0mplot\u001B[0m\u001B[1;33m(\u001B[0m\u001B[0mplot_x\u001B[0m\u001B[1;33m,\u001B[0m \u001B[0mplot_y\u001B[0m\u001B[1;33m)\u001B[0m\u001B[1;33m\u001B[0m\u001B[1;33m\u001B[0m\u001B[0m\n\u001B[0m\u001B[0;32m     59\u001B[0m \u001B[0mplt\u001B[0m\u001B[1;33m.\u001B[0m\u001B[0mshow\u001B[0m\u001B[1;33m(\u001B[0m\u001B[1;33m)\u001B[0m\u001B[1;33m\u001B[0m\u001B[1;33m\u001B[0m\u001B[0m\n",
      "\u001B[1;31mNameError\u001B[0m: name 'plt' is not defined"
     ]
    }
   ],
   "source": [
    "class Network4(object):\n",
    "    def __init__(self, num_of_weights):\n",
    "        # 随机产生w的初始值\n",
    "        # 为了保持程序每次运行结果的一致性，此处设置固定的随机数种子\n",
    "        np.random.seed(0)\n",
    "        self.w = np.random.randn(num_of_weights, 1)\n",
    "        self.b = 0.\n",
    "\n",
    "    def forward(self, x):\n",
    "        z = np.dot(x, self.w) + self.b\n",
    "        return z\n",
    "\n",
    "    def loss(self, z, y):\n",
    "        error = z - y\n",
    "        num_samples = error.shape[0]\n",
    "        cost = error * error\n",
    "        cost = np.sum(cost) / num_samples\n",
    "        return cost\n",
    "\n",
    "    def gradient(self, x, y):\n",
    "        z = self.forward(x)\n",
    "        gradient_w = (z-y)*x\n",
    "        gradient_w = np.mean(gradient_w, axis=0)\n",
    "        gradient_w = gradient_w[:, np.newaxis]\n",
    "        gradient_b = (z - y)\n",
    "        gradient_b = np.mean(gradient_b)\n",
    "        return gradient_w, gradient_b\n",
    "\n",
    "    def update(self, gradient_w, gradient_b, eta = 0.01):\n",
    "        self.w = self.w - eta * gradient_w\n",
    "        self.b = self.b - eta * gradient_b\n",
    "\n",
    "    def train(self, x, y, iterations=100, eta=0.01):\n",
    "        losses = []\n",
    "        for i in range(iterations):\n",
    "            z = self.forward(x)\n",
    "            L = self.loss(z, y)\n",
    "            gradient_w, gradient_b = self.gradient(x, y)\n",
    "            self.update(gradient_w, gradient_b, eta)\n",
    "            losses.append(L)\n",
    "            if (i+1) % 10 == 0:\n",
    "                print('iter {}, loss {}'.format(i, L))\n",
    "        return losses\n",
    "\n",
    "# 获取数据\n",
    "train_data, test_data = load_data()\n",
    "x = train_data[:, :-1]\n",
    "y = train_data[:, -1:]\n",
    "# 创建网络\n",
    "net = Network4(13)\n",
    "num_iterations=1000\n",
    "# 启动训练\n",
    "losses = net.train(x,y, iterations=num_iterations, eta=0.01)\n",
    "\n",
    "# 画出损失函数的变化趋势\n",
    "plot_x = np.arange(num_iterations)\n",
    "plot_y = np.array(losses)\n",
    "plt.plot(plot_x, plot_y)\n",
    "plt.show()"
   ]
  },
  {
   "cell_type": "code",
   "execution_count": 11,
   "metadata": {},
   "outputs": [
    {
     "name": "stdout",
     "output_type": "stream",
     "text": [
      "[6.320e-03 1.800e+01 2.310e+00 0.000e+00 5.380e-01 6.575e+00 6.520e+01\n",
      " 4.090e+00 1.000e+00 2.960e+02 1.530e+01 3.969e+02 4.980e+00 2.400e+01]\n"
     ]
    },
    {
     "data": {
      "text/plain": [
       "(10, 14)"
      ]
     },
     "execution_count": 11,
     "metadata": {},
     "output_type": "execute_result"
    }
   ],
   "source": [
    "# 随机梯度下降法\n",
    "train_data,test_date=load_data()\n",
    "train_data1=train_data[0:10]\n",
    "train_data1.shape"
   ]
  },
  {
   "cell_type": "code",
   "execution_count": null,
   "outputs": [],
   "source": [
    "net=Network4(13)\n",
    "x=train_data1[:,:-1]\n",
    "y=train_data1[:,-1:]\n",
    "loss=net.train(x,y,iterations=1,eta=0.1)\n",
    "loss"
   ],
   "metadata": {
    "collapsed": false,
    "pycharm": {
     "name": "#%%\n"
    }
   }
  },
  {
   "cell_type": "code",
   "execution_count": null,
   "outputs": [],
   "source": [
    "batch_size=10\n",
    "n=len(train_data)\n",
    "mini_batches=[train_data[k:k+batch_size] for k in range(0,n,batch_size)]\n",
    "print('total number of mini_batches is ', len(mini_batches))\n",
    "print('first mini_batch shape ', mini_batches[0].shape)\n",
    "print('last mini_batch shape ', mini_batches[-1].shape)"
   ],
   "metadata": {
    "collapsed": false,
    "pycharm": {
     "name": "#%%\n"
    }
   }
  },
  {
   "cell_type": "code",
   "execution_count": null,
   "outputs": [],
   "source": [
    "a=np.array([1,2,3,4,5,6,7,8,9,10])\n",
    "print('before shuffle:',a)\n",
    "np.random.shuffle(a)\n",
    "print('after shuffle:',a)"
   ],
   "metadata": {
    "collapsed": false,
    "pycharm": {
     "name": "#%%\n"
    }
   }
  },
  {
   "cell_type": "code",
   "execution_count": null,
   "outputs": [],
   "source": [
    "train_data,test_date=load_data()\n",
    "np.random.shuffle(train_data)\n",
    "batch_size=10\n",
    "n=len(train_data)\n",
    "mini_batches=[train_data[k:k+batch_size] for k in range(0,n,batch_size)]\n",
    "net=Network4(13)\n",
    "for mini_batch in mini_batches:\n",
    "  x=mini_batch[:,:-1]\n",
    "  y=mini_batch[:,-1:]\n",
    "  loss=net.train(x,y,iterations=1)"
   ],
   "metadata": {
    "collapsed": false,
    "pycharm": {
     "name": "#%%\n"
    }
   }
  },
  {
   "cell_type": "code",
   "execution_count": null,
   "outputs": [],
   "source": [
    "class Network5(object):\n",
    "    def __init__(self, num_of_weights):\n",
    "        # 随机产生w的初始值\n",
    "        # 为了保持程序每次运行结果的一致性，此处设置固定的随机数种子\n",
    "        np.random.seed(0)\n",
    "        self.w = np.random.randn(num_of_weights, 1)\n",
    "        self.b = 0.\n",
    "\n",
    "    def forward(self, x):\n",
    "        z = np.dot(x, self.w) + self.b\n",
    "        return z\n",
    "\n",
    "    def loss(self, z, y):\n",
    "        error = z - y\n",
    "        num_samples = error.shape[0]\n",
    "        cost = error * error\n",
    "        cost = np.sum(cost) / num_samples\n",
    "        return cost\n",
    "\n",
    "    def gradient(self, x, y):\n",
    "        z = self.forward(x)\n",
    "        gradient_w = (z-y)*x\n",
    "        gradient_w = np.mean(gradient_w, axis=0)\n",
    "        gradient_w = gradient_w[:, np.newaxis]\n",
    "        gradient_b = (z - y)\n",
    "        gradient_b = np.mean(gradient_b)\n",
    "        return gradient_w, gradient_b\n",
    "\n",
    "    def update(self, gradient_w, gradient_b, eta = 0.01):\n",
    "        self.w = self.w - eta * gradient_w\n",
    "        self.b = self.b - eta * gradient_b\n",
    "\n",
    "    def train(self, training_data, num_epoches,batch_size=10, eta=0.01):\n",
    "        losses = []\n",
    "        n=len(train_data)\n",
    "        for epoch_id in range(num_epoches):\n",
    "            np.random.shuffle(train_data)                       \n",
    "            mini_batches=[train_data[k:k+batch_size] for k in range(0,n,batch_size)]            \n",
    "            for iter_id,mini_batch in enumerate(mini_batches):\n",
    "                x=mini_batch[:,:-1]\n",
    "                y=mini_batch[:,-1:]                \n",
    "                z = self.forward(x)\n",
    "                loss = self.loss(z, y)\n",
    "                gradient_w, gradient_b = self.gradient(x, y)\n",
    "                self.update(gradient_w, gradient_b, eta)\n",
    "                losses.append(loss)\n",
    "                print('Epoch {:3d} / iter {:3d}, loss = {:.4f}'.format(epoch_id, iter_id, loss))\n",
    "        return losses\n",
    "    \n",
    "    \n",
    "train_data,test_data=load_data()\n",
    "net=Network5(13)\n",
    "losses=net.train(train_data,num_epoches=50,batch_size=100,eta=0.1)\n",
    "\n",
    "# 画出损失函数的变化趋势\n",
    "import matplotlib.pyplot as plt\n",
    "from mpl_toolkits.mplot3d import Axes3D\n",
    "fig = plt.figure()\n",
    "plot_x = np.arange(len(losses))\n",
    "plot_y = np.array(losses)\n",
    "plt.plot(plot_x, plot_y)\n",
    "plt.show()"
   ],
   "metadata": {
    "collapsed": false,
    "pycharm": {
     "name": "#%%\n"
    }
   }
  },
  {
   "cell_type": "code",
   "execution_count": 14,
   "metadata": {},
   "outputs": [
    {
     "data": {
      "text/plain": [
       "[4.497480200683046]"
      ]
     },
     "execution_count": 14,
     "metadata": {},
     "output_type": "execute_result"
    }
   ],
   "source": []
  },
  {
   "cell_type": "code",
   "execution_count": 15,
   "metadata": {},
   "outputs": [
    {
     "name": "stdout",
     "output_type": "stream",
     "text": [
      "total number of mini_batches is  41\n",
      "first mini_batch shape  (10, 14)\n",
      "last mini_batch shape  (4, 14)\n"
     ]
    }
   ],
   "source": [
    "batch_size=10\n",
    "n=len(train_data)\n",
    "mini_batches=[train_data[k:k+batch_size] for k in range(0,n,batch_size)]\n",
    "print('total number of mini_batches is ', len(mini_batches))\n",
    "print('first mini_batch shape ', mini_batches[0].shape)\n",
    "print('last mini_batch shape ', mini_batches[-1].shape)"
   ]
  },
  {
   "cell_type": "code",
   "execution_count": 16,
   "metadata": {},
   "outputs": [
    {
     "name": "stdout",
     "output_type": "stream",
     "text": [
      "before shuffle: [ 1  2  3  4  5  6  7  8  9 10]\n",
      "after shuffle: [ 6  2 10  3  7  8  1  4  5  9]\n"
     ]
    }
   ],
   "source": [
    "a=np.array([1,2,3,4,5,6,7,8,9,10])\n",
    "print('before shuffle:',a)\n",
    "np.random.shuffle(a)\n",
    "print('after shuffle:',a)"
   ]
  },
  {
   "cell_type": "code",
   "execution_count": 21,
   "metadata": {},
   "outputs": [
    {
     "name": "stdout",
     "output_type": "stream",
     "text": [
      "[6.320e-03 1.800e+01 2.310e+00 0.000e+00 5.380e-01 6.575e+00 6.520e+01\n",
      " 4.090e+00 1.000e+00 2.960e+02 1.530e+01 3.969e+02 4.980e+00 2.400e+01]\n"
     ]
    }
   ],
   "source": [
    "train_data,test_date=load_data()\n",
    "np.random.shuffle(train_data)\n",
    "batch_size=10\n",
    "n=len(train_data)\n",
    "mini_batches=[train_data[k:k+batch_size] for k in range(0,n,batch_size)]\n",
    "net=Network4(13)\n",
    "for mini_batch in mini_batches:\n",
    "  x=mini_batch[:,:-1]\n",
    "  y=mini_batch[:,-1:]\n",
    "  loss=net.train(x,y,iterations=1)"
   ]
  },
  {
   "cell_type": "code",
   "execution_count": 29,
   "metadata": {},
   "outputs": [
    {
     "name": "stdout",
     "output_type": "stream",
     "text": [
      "[6.320e-03 1.800e+01 2.310e+00 0.000e+00 5.380e-01 6.575e+00 6.520e+01\n",
      " 4.090e+00 1.000e+00 2.960e+02 1.530e+01 3.969e+02 4.980e+00 2.400e+01]\n",
      "Epoch   0 / iter   0, loss = 10.1354\n",
      "Epoch   0 / iter   1, loss = 3.8290\n",
      "Epoch   0 / iter   2, loss = 1.9208\n",
      "Epoch   0 / iter   3, loss = 1.7740\n",
      "Epoch   0 / iter   4, loss = 0.3366\n",
      "Epoch   1 / iter   0, loss = 1.6275\n",
      "Epoch   1 / iter   1, loss = 0.9842\n",
      "Epoch   1 / iter   2, loss = 0.9121\n",
      "Epoch   1 / iter   3, loss = 0.9971\n",
      "Epoch   1 / iter   4, loss = 0.6071\n",
      "Epoch   2 / iter   0, loss = 0.7689\n",
      "Epoch   2 / iter   1, loss = 0.8547\n",
      "Epoch   2 / iter   2, loss = 0.9428\n",
      "Epoch   2 / iter   3, loss = 0.9791\n",
      "Epoch   2 / iter   4, loss = 0.4608\n",
      "Epoch   3 / iter   0, loss = 0.6148\n",
      "Epoch   3 / iter   1, loss = 0.9085\n",
      "Epoch   3 / iter   2, loss = 0.6771\n",
      "Epoch   3 / iter   3, loss = 0.7770\n",
      "Epoch   3 / iter   4, loss = 0.5468\n",
      "Epoch   4 / iter   0, loss = 0.9681\n",
      "Epoch   4 / iter   1, loss = 0.6268\n",
      "Epoch   4 / iter   2, loss = 0.5268\n",
      "Epoch   4 / iter   3, loss = 0.4894\n",
      "Epoch   4 / iter   4, loss = 0.3016\n",
      "Epoch   5 / iter   0, loss = 0.8233\n",
      "Epoch   5 / iter   1, loss = 0.4905\n",
      "Epoch   5 / iter   2, loss = 0.4204\n",
      "Epoch   5 / iter   3, loss = 0.4627\n",
      "Epoch   5 / iter   4, loss = 0.6531\n",
      "Epoch   6 / iter   0, loss = 0.4283\n",
      "Epoch   6 / iter   1, loss = 0.4355\n",
      "Epoch   6 / iter   2, loss = 0.4986\n",
      "Epoch   6 / iter   3, loss = 0.5494\n",
      "Epoch   6 / iter   4, loss = 0.2292\n",
      "Epoch   7 / iter   0, loss = 0.4661\n",
      "Epoch   7 / iter   1, loss = 0.3595\n",
      "Epoch   7 / iter   2, loss = 0.5812\n",
      "Epoch   7 / iter   3, loss = 0.3137\n",
      "Epoch   7 / iter   4, loss = 0.2487\n",
      "Epoch   8 / iter   0, loss = 0.4610\n",
      "Epoch   8 / iter   1, loss = 0.3563\n",
      "Epoch   8 / iter   2, loss = 0.4899\n",
      "Epoch   8 / iter   3, loss = 0.2347\n",
      "Epoch   8 / iter   4, loss = 0.0570\n",
      "Epoch   9 / iter   0, loss = 0.3947\n",
      "Epoch   9 / iter   1, loss = 0.3486\n",
      "Epoch   9 / iter   2, loss = 0.2763\n",
      "Epoch   9 / iter   3, loss = 0.3749\n",
      "Epoch   9 / iter   4, loss = 0.4612\n",
      "Epoch  10 / iter   0, loss = 0.4329\n",
      "Epoch  10 / iter   1, loss = 0.2407\n",
      "Epoch  10 / iter   2, loss = 0.4014\n",
      "Epoch  10 / iter   3, loss = 0.1699\n",
      "Epoch  10 / iter   4, loss = 2.3681\n",
      "Epoch  11 / iter   0, loss = 0.4853\n",
      "Epoch  11 / iter   1, loss = 0.3426\n",
      "Epoch  11 / iter   2, loss = 0.2334\n",
      "Epoch  11 / iter   3, loss = 0.2334\n",
      "Epoch  11 / iter   4, loss = 1.2677\n",
      "Epoch  12 / iter   0, loss = 0.3458\n",
      "Epoch  12 / iter   1, loss = 0.2127\n",
      "Epoch  12 / iter   2, loss = 0.2416\n",
      "Epoch  12 / iter   3, loss = 0.3675\n",
      "Epoch  12 / iter   4, loss = 0.0525\n",
      "Epoch  13 / iter   0, loss = 0.3194\n",
      "Epoch  13 / iter   1, loss = 0.1712\n",
      "Epoch  13 / iter   2, loss = 0.2797\n",
      "Epoch  13 / iter   3, loss = 0.1334\n",
      "Epoch  13 / iter   4, loss = 0.1053\n",
      "Epoch  14 / iter   0, loss = 0.2225\n",
      "Epoch  14 / iter   1, loss = 0.2273\n",
      "Epoch  14 / iter   2, loss = 0.2053\n",
      "Epoch  14 / iter   3, loss = 0.2162\n",
      "Epoch  14 / iter   4, loss = 0.0428\n",
      "Epoch  15 / iter   0, loss = 0.1664\n",
      "Epoch  15 / iter   1, loss = 0.2799\n",
      "Epoch  15 / iter   2, loss = 0.2168\n",
      "Epoch  15 / iter   3, loss = 0.1738\n",
      "Epoch  15 / iter   4, loss = 0.0484\n",
      "Epoch  16 / iter   0, loss = 0.1981\n",
      "Epoch  16 / iter   1, loss = 0.1376\n",
      "Epoch  16 / iter   2, loss = 0.2665\n",
      "Epoch  16 / iter   3, loss = 0.2068\n",
      "Epoch  16 / iter   4, loss = 0.1181\n",
      "Epoch  17 / iter   0, loss = 0.2262\n",
      "Epoch  17 / iter   1, loss = 0.1832\n",
      "Epoch  17 / iter   2, loss = 0.1733\n",
      "Epoch  17 / iter   3, loss = 0.1953\n",
      "Epoch  17 / iter   4, loss = 0.0195\n",
      "Epoch  18 / iter   0, loss = 0.1464\n",
      "Epoch  18 / iter   1, loss = 0.2024\n",
      "Epoch  18 / iter   2, loss = 0.1255\n",
      "Epoch  18 / iter   3, loss = 0.2671\n",
      "Epoch  18 / iter   4, loss = 0.0101\n",
      "Epoch  19 / iter   0, loss = 0.1499\n",
      "Epoch  19 / iter   1, loss = 0.2340\n",
      "Epoch  19 / iter   2, loss = 0.1189\n",
      "Epoch  19 / iter   3, loss = 0.2127\n",
      "Epoch  19 / iter   4, loss = 0.0516\n",
      "Epoch  20 / iter   0, loss = 0.1530\n",
      "Epoch  20 / iter   1, loss = 0.1867\n",
      "Epoch  20 / iter   2, loss = 0.1839\n",
      "Epoch  20 / iter   3, loss = 0.1316\n",
      "Epoch  20 / iter   4, loss = 0.9485\n",
      "Epoch  21 / iter   0, loss = 0.2333\n",
      "Epoch  21 / iter   1, loss = 0.1440\n",
      "Epoch  21 / iter   2, loss = 0.1477\n",
      "Epoch  21 / iter   3, loss = 0.1470\n",
      "Epoch  21 / iter   4, loss = 0.0767\n",
      "Epoch  22 / iter   0, loss = 0.1643\n",
      "Epoch  22 / iter   1, loss = 0.1894\n",
      "Epoch  22 / iter   2, loss = 0.1328\n",
      "Epoch  22 / iter   3, loss = 0.1360\n",
      "Epoch  22 / iter   4, loss = 0.0611\n",
      "Epoch  23 / iter   0, loss = 0.0944\n",
      "Epoch  23 / iter   1, loss = 0.1785\n",
      "Epoch  23 / iter   2, loss = 0.2220\n",
      "Epoch  23 / iter   3, loss = 0.1061\n",
      "Epoch  23 / iter   4, loss = 0.1268\n",
      "Epoch  24 / iter   0, loss = 0.1713\n",
      "Epoch  24 / iter   1, loss = 0.1343\n",
      "Epoch  24 / iter   2, loss = 0.1268\n",
      "Epoch  24 / iter   3, loss = 0.1472\n",
      "Epoch  24 / iter   4, loss = 0.1708\n",
      "Epoch  25 / iter   0, loss = 0.1257\n",
      "Epoch  25 / iter   1, loss = 0.1663\n",
      "Epoch  25 / iter   2, loss = 0.1413\n",
      "Epoch  25 / iter   3, loss = 0.1214\n",
      "Epoch  25 / iter   4, loss = 0.2203\n",
      "Epoch  26 / iter   0, loss = 0.1738\n",
      "Epoch  26 / iter   1, loss = 0.1338\n",
      "Epoch  26 / iter   2, loss = 0.1241\n",
      "Epoch  26 / iter   3, loss = 0.1152\n",
      "Epoch  26 / iter   4, loss = 0.0530\n",
      "Epoch  27 / iter   0, loss = 0.1389\n",
      "Epoch  27 / iter   1, loss = 0.1276\n",
      "Epoch  27 / iter   2, loss = 0.1490\n",
      "Epoch  27 / iter   3, loss = 0.1065\n",
      "Epoch  27 / iter   4, loss = 0.1502\n",
      "Epoch  28 / iter   0, loss = 0.1077\n",
      "Epoch  28 / iter   1, loss = 0.1035\n",
      "Epoch  28 / iter   2, loss = 0.1435\n",
      "Epoch  28 / iter   3, loss = 0.1637\n",
      "Epoch  28 / iter   4, loss = 0.0091\n",
      "Epoch  29 / iter   0, loss = 0.1471\n",
      "Epoch  29 / iter   1, loss = 0.1236\n",
      "Epoch  29 / iter   2, loss = 0.1018\n",
      "Epoch  29 / iter   3, loss = 0.1241\n",
      "Epoch  29 / iter   4, loss = 0.0266\n",
      "Epoch  30 / iter   0, loss = 0.1030\n",
      "Epoch  30 / iter   1, loss = 0.1134\n",
      "Epoch  30 / iter   2, loss = 0.1763\n",
      "Epoch  30 / iter   3, loss = 0.0917\n",
      "Epoch  30 / iter   4, loss = 0.0437\n",
      "Epoch  31 / iter   0, loss = 0.1212\n",
      "Epoch  31 / iter   1, loss = 0.1159\n",
      "Epoch  31 / iter   2, loss = 0.0843\n",
      "Epoch  31 / iter   3, loss = 0.1481\n",
      "Epoch  31 / iter   4, loss = 0.0657\n",
      "Epoch  32 / iter   0, loss = 0.1403\n",
      "Epoch  32 / iter   1, loss = 0.1418\n",
      "Epoch  32 / iter   2, loss = 0.0951\n",
      "Epoch  32 / iter   3, loss = 0.0840\n",
      "Epoch  32 / iter   4, loss = 0.0140\n",
      "Epoch  33 / iter   0, loss = 0.1215\n",
      "Epoch  33 / iter   1, loss = 0.0883\n",
      "Epoch  33 / iter   2, loss = 0.1393\n",
      "Epoch  33 / iter   3, loss = 0.1003\n",
      "Epoch  33 / iter   4, loss = 0.0683\n",
      "Epoch  34 / iter   0, loss = 0.1290\n",
      "Epoch  34 / iter   1, loss = 0.0745\n",
      "Epoch  34 / iter   2, loss = 0.0857\n",
      "Epoch  34 / iter   3, loss = 0.1514\n",
      "Epoch  34 / iter   4, loss = 0.0302\n",
      "Epoch  35 / iter   0, loss = 0.1004\n",
      "Epoch  35 / iter   1, loss = 0.1227\n",
      "Epoch  35 / iter   2, loss = 0.1166\n",
      "Epoch  35 / iter   3, loss = 0.0966\n",
      "Epoch  35 / iter   4, loss = 0.0887\n",
      "Epoch  36 / iter   0, loss = 0.1045\n",
      "Epoch  36 / iter   1, loss = 0.0928\n",
      "Epoch  36 / iter   2, loss = 0.1222\n",
      "Epoch  36 / iter   3, loss = 0.1099\n",
      "Epoch  36 / iter   4, loss = 0.0576\n",
      "Epoch  37 / iter   0, loss = 0.1022\n",
      "Epoch  37 / iter   1, loss = 0.1036\n",
      "Epoch  37 / iter   2, loss = 0.0779\n",
      "Epoch  37 / iter   3, loss = 0.1142\n",
      "Epoch  37 / iter   4, loss = 0.4114\n",
      "Epoch  38 / iter   0, loss = 0.1027\n",
      "Epoch  38 / iter   1, loss = 0.0981\n",
      "Epoch  38 / iter   2, loss = 0.1368\n",
      "Epoch  38 / iter   3, loss = 0.0946\n",
      "Epoch  38 / iter   4, loss = 0.0424\n",
      "Epoch  39 / iter   0, loss = 0.0937\n",
      "Epoch  39 / iter   1, loss = 0.1394\n",
      "Epoch  39 / iter   2, loss = 0.0896\n",
      "Epoch  39 / iter   3, loss = 0.0708\n",
      "Epoch  39 / iter   4, loss = 0.1197\n",
      "Epoch  40 / iter   0, loss = 0.0725\n",
      "Epoch  40 / iter   1, loss = 0.1341\n",
      "Epoch  40 / iter   2, loss = 0.0758\n",
      "Epoch  40 / iter   3, loss = 0.1084\n",
      "Epoch  40 / iter   4, loss = 0.0136\n",
      "Epoch  41 / iter   0, loss = 0.0779\n",
      "Epoch  41 / iter   1, loss = 0.0898\n",
      "Epoch  41 / iter   2, loss = 0.0949\n",
      "Epoch  41 / iter   3, loss = 0.1114\n",
      "Epoch  41 / iter   4, loss = 0.0275\n",
      "Epoch  42 / iter   0, loss = 0.0908\n",
      "Epoch  42 / iter   1, loss = 0.0630\n",
      "Epoch  42 / iter   2, loss = 0.0967\n",
      "Epoch  42 / iter   3, loss = 0.1171\n",
      "Epoch  42 / iter   4, loss = 0.0380\n",
      "Epoch  43 / iter   0, loss = 0.1036\n",
      "Epoch  43 / iter   1, loss = 0.0959\n",
      "Epoch  43 / iter   2, loss = 0.1000\n",
      "Epoch  43 / iter   3, loss = 0.0585\n",
      "Epoch  43 / iter   4, loss = 0.0426\n",
      "Epoch  44 / iter   0, loss = 0.1108\n",
      "Epoch  44 / iter   1, loss = 0.1037\n",
      "Epoch  44 / iter   2, loss = 0.0688\n",
      "Epoch  44 / iter   3, loss = 0.0674\n",
      "Epoch  44 / iter   4, loss = 0.0099\n",
      "Epoch  45 / iter   0, loss = 0.0954\n",
      "Epoch  45 / iter   1, loss = 0.0698\n",
      "Epoch  45 / iter   2, loss = 0.0781\n",
      "Epoch  45 / iter   3, loss = 0.1007\n",
      "Epoch  45 / iter   4, loss = 0.0423\n",
      "Epoch  46 / iter   0, loss = 0.0909\n",
      "Epoch  46 / iter   1, loss = 0.0821\n",
      "Epoch  46 / iter   2, loss = 0.0731\n",
      "Epoch  46 / iter   3, loss = 0.0825\n",
      "Epoch  46 / iter   4, loss = 0.2731\n",
      "Epoch  47 / iter   0, loss = 0.0896\n",
      "Epoch  47 / iter   1, loss = 0.0863\n",
      "Epoch  47 / iter   2, loss = 0.0933\n",
      "Epoch  47 / iter   3, loss = 0.0753\n",
      "Epoch  47 / iter   4, loss = 0.0106\n",
      "Epoch  48 / iter   0, loss = 0.0644\n",
      "Epoch  48 / iter   1, loss = 0.1005\n",
      "Epoch  48 / iter   2, loss = 0.0685\n",
      "Epoch  48 / iter   3, loss = 0.0836\n",
      "Epoch  48 / iter   4, loss = 0.1913\n",
      "Epoch  49 / iter   0, loss = 0.0898\n",
      "Epoch  49 / iter   1, loss = 0.0617\n",
      "Epoch  49 / iter   2, loss = 0.0771\n",
      "Epoch  49 / iter   3, loss = 0.0891\n",
      "Epoch  49 / iter   4, loss = 0.0369\n"
     ]
    },
    {
     "data": {
      "image/png": "[encoded data removed]",
      "text/plain": [
       "<Figure size 432x288 with 1 Axes>"
      ]
     },
     "metadata": {
      "needs_background": "light"
     },
     "output_type": "display_data"
    }
   ],
   "source": [
    "class Network5(object):\n",
    "    def __init__(self, num_of_weights):\n",
    "        # 随机产生w的初始值\n",
    "        # 为了保持程序每次运行结果的一致性，此处设置固定的随机数种子\n",
    "        np.random.seed(0)\n",
    "        self.w = np.random.randn(num_of_weights, 1)\n",
    "        self.b = 0.\n",
    "\n",
    "    def forward(self, x):\n",
    "        z = np.dot(x, self.w) + self.b\n",
    "        return z\n",
    "\n",
    "    def loss(self, z, y):\n",
    "        error = z - y\n",
    "        num_samples = error.shape[0]\n",
    "        cost = error * error\n",
    "        cost = np.sum(cost) / num_samples\n",
    "        return cost\n",
    "\n",
    "    def gradient(self, x, y):\n",
    "        z = self.forward(x)\n",
    "        gradient_w = (z-y)*x\n",
    "        gradient_w = np.mean(gradient_w, axis=0)\n",
    "        gradient_w = gradient_w[:, np.newaxis]\n",
    "        gradient_b = (z - y)\n",
    "        gradient_b = np.mean(gradient_b)\n",
    "        return gradient_w, gradient_b\n",
    "\n",
    "    def update(self, gradient_w, gradient_b, eta = 0.01):\n",
    "        self.w = self.w - eta * gradient_w\n",
    "        self.b = self.b - eta * gradient_b\n",
    "\n",
    "    def train(self, training_data, num_epoches,batch_size=10, eta=0.01):\n",
    "        losses = []\n",
    "        n=len(train_data)\n",
    "        for epoch_id in range(num_epoches):\n",
    "            np.random.shuffle(train_data)                       \n",
    "            mini_batches=[train_data[k:k+batch_size] for k in range(0,n,batch_size)]            \n",
    "            for iter_id,mini_batch in enumerate(mini_batches):\n",
    "                x=mini_batch[:,:-1]\n",
    "                y=mini_batch[:,-1:]                \n",
    "                z = self.forward(x)\n",
    "                loss = self.loss(z, y)\n",
    "                gradient_w, gradient_b = self.gradient(x, y)\n",
    "                self.update(gradient_w, gradient_b, eta)\n",
    "                losses.append(loss)\n",
    "                print('Epoch {:3d} / iter {:3d}, loss = {:.4f}'.format(epoch_id, iter_id, loss))\n",
    "        return losses\n",
    "    \n",
    "    \n",
    "train_data,test_data=load_data()\n",
    "net=Network5(13)\n",
    "losses=net.train(train_data,num_epoches=50,batch_size=100,eta=0.1)\n",
    "\n",
    "# 画出损失函数的变化趋势\n",
    "import matplotlib.pyplot as plt\n",
    "from mpl_toolkits.mplot3d import Axes3D\n",
    "fig = plt.figure()\n",
    "plot_x = np.arange(len(losses))\n",
    "plot_y = np.array(losses)\n",
    "plt.plot(plot_x, plot_y)\n",
    "plt.show()"
   ]
  },
  {
   "cell_type": "code",
   "execution_count": null,
   "metadata": {},
   "outputs": [],
   "source": []
  }
 ],
 "metadata": {
  "kernelspec": {
   "display_name": "Python 3",
   "language": "python",
   "name": "python3"
  },
  "language_info": {
   "codemirror_mode": {
    "name": "ipython",
    "version": 3
   },
   "file_extension": ".py",
   "mimetype": "text/x-python",
   "name": "python",
   "nbconvert_exporter": "python",
   "pygments_lexer": "ipython3",
   "version": "3.6.7"
  }
 },
 "nbformat": 4,
 "nbformat_minor": 2
}