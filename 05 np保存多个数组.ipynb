{
 "cells": [
  {
   "cell_type": "markdown",
   "source": [
    "先用字典将数组存储起来，最后使用np.savez(filepath, **dict)存储，代码如下"
   ],
   "metadata": {
    "collapsed": false
   }
  },
  {
   "cell_type": "code",
   "execution_count": null,
   "outputs": [],
   "source": [
    "\n",
    "import numpy as np\n",
    "a=np.arange(0,10)\n",
    "b=np.arange(10,30)\n",
    "array_dict = {'a':a, 'b':b}\n",
    "np.savez('outfile.npz', **array_dict)\n",
    "\n",
    "npzfile = np.load('outfile.npz')\n",
    "npzfile.files\n",
    "#['a', 'b']\n",
    "npzfile['a']\n",
    "#array([0, 1, 2, 3, 4, 5, 6, 7, 8, 9])\n",
    "# ————————————————\n",
    "# 版权声明：本文为CSDN博主「Great_lid」的原创文章，遵循CC 4.0 BY-SA版权协议，转载请附上原文出处链接及本声明。\n",
    "# 原文链接：https://blog.csdn.net/pp2373886592/article/details/123941737"
   ],
   "metadata": {
    "collapsed": false
   }
  }
 ],
 "metadata": {
  "kernelspec": {
   "display_name": "Python 3",
   "language": "python",
   "name": "python3"
  },
  "language_info": {
   "codemirror_mode": {
    "name": "ipython",
    "version": 2
   },
   "file_extension": ".py",
   "mimetype": "text/x-python",
   "name": "python",
   "nbconvert_exporter": "python",
   "pygments_lexer": "ipython2",
   "version": "2.7.6"
  }
 },
 "nbformat": 4,
 "nbformat_minor": 0
}
