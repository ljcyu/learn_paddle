{
 "cells": [
  {
   "cell_type": "code",
   "execution_count": 7,
   "metadata": {},
   "outputs": [
    {
     "name": "stderr",
     "output_type": "stream",
     "text": [
      "Processing <PIL.Image.Image image mode=RGB size=1000x665 at 0x2B0272A2D30>: 100%|█| 3/3 [00:00<00:00, 104.77 Samples/s]\n",
      "Processing <PIL.Image.Image image mode=RGB size=1000x665 at 0x2B0272A26A0>: 100%|██| 2/2 [00:00<00:00, 43.47 Samples/s]"
     ]
    },
    {
     "name": "stdout",
     "output_type": "stream",
     "text": [
      "数据增强： test_aug\\tr\n",
      "image： test_aug\\tr\n",
      "Initialised with 2 image(s) found.\n",
      "Output directory set to test_aug\\tr\\output.将生成的图片拷贝到正确的目录\n",
      "test_aug\\tr\\output\\tr_original_test_img_cat.jpg_150849fa-c574-4ca6-976b-6c689e132acf.jpg\n",
      "test_aug\\tr\\output\\tr_original_test_img_cat.jpg_9f748620-de31-414c-a055-526102d7c2c4.jpg\n",
      "test_aug\\tr\\output\\tr_original_test_img_cat.jpg_a0162a71-45da-4019-b456-de4afe25a562.jpg\n",
      "test_aug\\tr\\output\\tr_original_test_img_dog.jpg_7ca908ef-d05e-4a90-abd0-4e94dcef1dd9.jpg\n",
      "test_aug\\tr\\output\\tr_original_test_img_dog.jpg_fb3e1776-1b51-4d2d-91dc-e0da9fd6e69f.jpg\n",
      "test_aug\\tr\\test_img_cat.jpg\n",
      "test_aug\\tr\\test_img_dog.jpg\n",
      "删除所有output目录\n",
      "完成数据增强\n"
     ]
    },
    {
     "name": "stderr",
     "output_type": "stream",
     "text": [
      "\n"
     ]
    }
   ],
   "source": [
    "import os, Augmentor\n",
    "import shutil, glob\n",
    "\n",
    "augment_path=\"augment_test\"\n",
    "if not os.path.exists(augment_path): # 控制不重复增强数据\n",
    "    for root, dirs, files in os.walk(\"test_aug\", topdown=False):\n",
    "        for name in dirs:\n",
    "            path_ = os.path.join(root, name)\n",
    "            if '__MACOSX' in path_:continue\n",
    "            print('数据增强：',os.path.join(root, name))\n",
    "            print('image：',os.path.join(root, name))\n",
    "            p = Augmentor.Pipeline(os.path.join(root, name),output_directory='output')\n",
    "            p.rotate(probability=0.6, max_left_rotation=2, max_right_rotation=2)\n",
    "            p.zoom(probability=0.6, min_factor=0.9, max_factor=1.1)\n",
    "            p.random_distortion(probability=0.4, grid_height=2, grid_width=2, magnitude=1)\n",
    "\n",
    "\n",
    "            count = 5 - len(glob.glob(pathname=path_+'/*.jpg'))\n",
    "            p.sample(count, multi_threaded=True)\n",
    "            p.process()\n",
    "    print('将生成的图片拷贝到正确的目录')\n",
    "    for root, dirs, files in os.walk(\"test_aug\", topdown=False):\n",
    "        if count==1:break\n",
    "        for name in files:\n",
    "            path_ = os.path.join(root, name)\n",
    "            print(path_)               \n",
    "            if 'output' in path_:                \n",
    "                count=count+1\n",
    "                type_=path_[path_.find('output')+7:path_.find(\"_\")]\n",
    "                dest_dir = os.path.join(augment_path ,type_) \n",
    "                if not os.path.exists(dest_dir):os.makedirs(dest_dir) \n",
    "                dest_path_ = os.path.join(augment_path ,type_, name) \n",
    "                shutil.move(path_, dest_path_)\n",
    "    print('删除所有output目录')\n",
    "    for root, dirs, files in os.walk(\"test_aug\", topdown=False):\n",
    "        for name in dirs:\n",
    "            if name == 'output':\n",
    "                path_ = os.path.join(root, name)\n",
    "                shutil.rmtree(path_)\n",
    "    print('完成数据增强')"
   ]
  },
  {
   "cell_type": "code",
   "execution_count": 12,
   "metadata": {},
   "outputs": [],
   "source": [
    "from pathlib import Path\n",
    "lst_path = list(Path(\"test_aug\").glob(\"**/*.jpg\"))"
   ]
  },
  {
   "cell_type": "code",
   "execution_count": 14,
   "metadata": {},
   "outputs": [
    {
     "name": "stdout",
     "output_type": "stream",
     "text": [
      "test_aug\\tr\\test_img_cat.jpg\n",
      "test_aug\\tr\\test_img_dog.jpg\n"
     ]
    }
   ],
   "source": [
    "for path in lst_path: print(path)\n"
   ]
  },
  {
   "cell_type": "code",
   "execution_count": 24,
   "metadata": {},
   "outputs": [
    {
     "name": "stderr",
     "output_type": "stream",
     "text": [
      "Processing <PIL.Image.Image image mode=RGB size=400x250 at 0x17C74B4EF60>: 100%|██████████| 100/100 [00:00<00:00, 280.53 Samples/s]\n",
      "Processing <PIL.Image.Image image mode=RGBA size=480x288 at 0x17C73976588>: 100%|██████████| 2/2 [00:00<00:00, 47.57 Samples/s]\n"
     ]
    },
    {
     "name": "stdout",
     "output_type": "stream",
     "text": [
      "Initialised with 2 image(s) found.\n",
      "Output directory set to image\\output."
     ]
    }
   ],
   "source": [
    "import Augmentor,os,glob\n",
    "root=\"image\"\n",
    "name='test_img_cat.jpg'\n",
    "path_=os.path.join(root,name)\n",
    "p = Augmentor.Pipeline(root,output_directory='output')\n",
    "p.rotate(probability=0.6, max_left_rotation=25, max_right_rotation=10)\n",
    "p.zoom(probability=0.6, min_factor=0.9, max_factor=1.1)\n",
    "p.random_distortion(probability=0.4, grid_height=2, grid_width=2, magnitude=8)\n",
    "p.flip_left_right(probability=0.3)\n",
    "p.flip_top_bottom(probability=0.3)\n",
    "p.crop_random(probability=0.3,percentage_area=0.8)\n",
    "p.greyscale(probability=0.2)\n",
    "p.random_brightness(probability=0.2,min_factor=0.8,max_factor=1.2)\n",
    "count = 100 - len(glob.glob(pathname=path_+'/*.jpg'))\n",
    "p.sample(count, multi_threaded=True)\n",
    "p.process()\n"
   ]
  }
 ],
 "metadata": {
  "kernelspec": {
   "display_name": "Python 3",
   "language": "python",
   "name": "python3"
  },
  "language_info": {
   "codemirror_mode": {
    "name": "ipython",
    "version": 3
   },
   "file_extension": ".py",
   "mimetype": "text/x-python",
   "name": "python",
   "nbconvert_exporter": "python",
   "pygments_lexer": "ipython3",
   "version": "3.6.7"
  }
 },
 "nbformat": 4,
 "nbformat_minor": 2
}