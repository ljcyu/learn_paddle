{
 "cells": [
  {
   "cell_type": "markdown",
   "source": [
    "2020百度秋季培训中"
   ],
   "metadata": {
    "collapsed": false
   }
  },
  {
   "cell_type": "code",
   "execution_count": null,
   "outputs": [],
   "source": [
    "import imgaug as ia\n",
    "from imgaug import augmenters as iaa\n",
    "sometimes = lambda aug: iaa.Sometimes(0.1, aug)\n",
    "\n",
    "ia.seed(1)\n",
    "'''\n",
    "seq = iaa.Sequential([\n",
    "    #iaa.Crop(px=(0, 16)), # crop images from each side by 0 to 16px (randomly chosen)\n",
    "    iaa.Fliplr(0.2), # horizontally flip 50% of the images\n",
    "    iaa.Flipud(0.2),\n",
    "    sometimes(iaa.CropAndPad(\n",
    "         percent=(-0.01, 0.01),\n",
    "         pad_mode=ia.ALL,\n",
    "         pad_cval=(0, 1)\n",
    "    )),\n",
    "    sometimes(iaa.Affine(scale=(0.9, 1.1))),\n",
    "    #iaa.CoarseSaltAndPepper(0.05, size_percent=(0.01, 0.1)),#size_px\n",
    "    iaa.Sometimes(\n",
    "        0.5,\n",
    "        iaa.CoarseSaltAndPepper(0.01, size_percent=(0.01, 0.05)),\n",
    "        #iaa.Pepper(0.01),\n",
    "    ),\n",
    "], random_order=True)\n",
    "'''\n",
    "seq = iaa.Sequential([\n",
    "    #iaa.Crop(px=(0, 16)), # crop images from each side by 0 to 16px (randomly chosen)\n",
    "    iaa.Fliplr(0.2), # horizontally flip 50% of the images\n",
    "    iaa.Flipud(0.2),\n",
    "    sometimes(iaa.CropAndPad(\n",
    "         percent=(-0.01, 0.01),\n",
    "         pad_mode=ia.ALL,\n",
    "         pad_cval=(0, 1)\n",
    "    )),\n",
    "    #sometimes(iaa.Affine(scale=(0.9, 1.1))),\n",
    "    #iaa.CoarseSaltAndPepper(0.05, size_percent=(0.01, 0.1)),#size_px\n",
    "    iaa.Sometimes(0.5,iaa.CoarseSalt(0.01, size_percent=(0.01, 0.05))),\n",
    "    iaa.Sometimes(0.5,iaa.Pepper(0.01)),\n",
    "    iaa.CenterPadToFixedSize(width=40, height=40),\n",
    "    iaa.CropToFixedSize(width=32, height=32)\n",
    "], random_order=False)\n",
    "\n",
    "seq = iaa.Sequential([\n",
    "    iaa.Sometimes(1,iaa.OneOf([\n",
    "    iaa.Affine(scale=(0.9, 1.1)),\n",
    "    iaa.Affine(rotate=(-45, 45)),\n",
    "    iaa.Affine(shear=(-16, 16)),\n",
    "    ])),\n",
    "    iaa.Sometimes(0.3,iaa.CoarseSaltAndPepper(0.01, size_percent=(0.01, 0.05))),\n",
    "    iaa.PadToFixedSize(width=230, height=230),\n",
    "    iaa.CropToFixedSize(width=224, height=224)\n",
    "])\n",
    "img_data=load_image('data/dataset/Almandine/almandine_31.jpg')\n",
    "seq.show_grid(np.transpose(img_data,(1,2,0)),cols=4,rows=4)"
   ],
   "metadata": {
    "collapsed": false
   }
  }
 ],
 "metadata": {
  "kernelspec": {
   "display_name": "Python 3",
   "language": "python",
   "name": "python3"
  },
  "language_info": {
   "codemirror_mode": {
    "name": "ipython",
    "version": 2
   },
   "file_extension": ".py",
   "mimetype": "text/x-python",
   "name": "python",
   "nbconvert_exporter": "python",
   "pygments_lexer": "ipython2",
   "version": "2.7.6"
  }
 },
 "nbformat": 4,
 "nbformat_minor": 0
}
