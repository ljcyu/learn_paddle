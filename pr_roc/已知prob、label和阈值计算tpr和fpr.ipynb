{
 "cells": [
  {
   "cell_type": "code",
   "execution_count": 1,
   "outputs": [
    {
     "name": "stdout",
     "output_type": "stream",
     "text": [
      "TPR: [0.0, 0.5, 0.5, 1.0, 1.0, 1.0, 1.0, 1.0, 1.0]\n",
      "FPR: [0.0, 0.0, 0.0, 0.0, 0.0, 0.5, 0.5, 0.5, 1.0]\n"
     ]
    }
   ],
   "source": [
    "# chatgpt\n",
    "import pandas as pd\n",
    "\n",
    "# 假设你已经有一个DataFrame，其中包含label和prob列\n",
    "# 例如：data = pd.DataFrame({'label': [0, 1, 0, 1], 'prob': [0.1, 0.8, 0.4, 0.6]})\n",
    "\n",
    "def calculate_tpr_fpr(data, thresholds):\n",
    "    # 对概率进行排序\n",
    "    data = data.sort_values(by='prob', ascending=False)\n",
    "\n",
    "    # 初始化结果列表\n",
    "    tpr_list = []\n",
    "    fpr_list = []\n",
    "\n",
    "    # 计算每个阈值下的TPR和FPR\n",
    "    for t in thresholds:\n",
    "        data['pred'] = (data['prob'] >= t).astype(int)\n",
    "\n",
    "        # 计算TP、FP、TN、FN\n",
    "        TP = ((data['label'] == 1) & (data['pred'] == 1)).sum()\n",
    "        FP = ((data['label'] == 0) & (data['pred'] == 1)).sum()\n",
    "        TN = ((data['label'] == 0) & (data['pred'] == 0)).sum()\n",
    "        FN = ((data['label'] == 1) & (data['pred'] == 0)).sum()\n",
    "\n",
    "        # 计算TPR和FPR\n",
    "        TPR = TP / (TP + FN)\n",
    "        FPR = FP / (FP + TN)\n",
    "\n",
    "        # 将结果添加到列表中\n",
    "        tpr_list.append(TPR)\n",
    "        fpr_list.append(FPR)\n",
    "\n",
    "    return tpr_list, fpr_list\n",
    "\n",
    "# 示例\n",
    "data = pd.DataFrame({'label': [0, 1, 0, 1], 'prob': [0.1, 0.8, 0.4, 0.6]})\n",
    "thresholds = [0.9, 0.8, 0.7, 0.6, 0.5, 0.4, 0.3, 0.2, 0.1]\n",
    "\n",
    "tpr, fpr = calculate_tpr_fpr(data, thresholds)\n",
    "print(\"TPR:\", tpr)\n",
    "print(\"FPR:\", fpr)"
   ],
   "metadata": {
    "collapsed": false,
    "ExecuteTime": {
     "end_time": "2023-05-22T14:04:23.672938Z",
     "start_time": "2023-05-22T14:04:23.319938600Z"
    }
   }
  },
  {
   "cell_type": "code",
   "execution_count": null,
   "outputs": [],
   "source": [
    "# claude\n",
    "import pandas as pd\n",
    "\n",
    "df = pd.DataFrame({\n",
    "    'label': [0, 1, 0, 1, 0, 1],\n",
    "    'prob': [0.1, 0.4, 0.35, 0.8, 0.2, 0.7]\n",
    "})\n",
    "\n",
    "t = [0.8, 0.5, 0.3]  # 阈值列表\n",
    "\n",
    "# 根据prob列从大到小排序\n",
    "df = df.sort_values('prob', ascending=False)\n",
    "\n",
    "# 初始化结果列表\n",
    "tpr_list = []\n",
    "fpr_list = []\n",
    "\n",
    "# 遍历各个阈值\n",
    "for threshold in t:\n",
    "\n",
    "    # 获取prob大于等于阈值的行索引\n",
    "    prob_index = df[df['prob'] >= threshold].index\n",
    "\n",
    "    # 获取这些行的label列的值\n",
    "    label = df.loc[prob_index, 'label']\n",
    "\n",
    "    # 计算tpr和fpr\n",
    "    tpr = sum(label) / sum(df['label'])\n",
    "    fpr = 1 - sum(~label) / sum(~df['label'])\n",
    "\n",
    "    # 添加到结果列表\n",
    "    tpr_list.append(tpr)\n",
    "    fpr_list.append(fpr)\n",
    "\n",
    "print(tpr_list)\n",
    "#[1.0, 0.66667, 0.5]\n",
    "print(fpr_list)\n",
    "#[0.8,  0.4, 0.2]"
   ],
   "metadata": {
    "collapsed": false
   }
  }
 ],
 "metadata": {
  "kernelspec": {
   "display_name": "Python 3",
   "language": "python",
   "name": "python3"
  },
  "language_info": {
   "codemirror_mode": {
    "name": "ipython",
    "version": 2
   },
   "file_extension": ".py",
   "mimetype": "text/x-python",
   "name": "python",
   "nbconvert_exporter": "python",
   "pygments_lexer": "ipython2",
   "version": "2.7.6"
  }
 },
 "nbformat": 4,
 "nbformat_minor": 0
}
