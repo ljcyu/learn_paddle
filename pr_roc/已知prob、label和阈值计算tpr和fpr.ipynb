{
 "cells": [
  {
   "cell_type": "code",
   "execution_count": 1,
   "metadata": {
    "collapsed": false,
    "ExecuteTime": {
     "end_time": "2023-05-23T13:03:44.041204900Z",
     "start_time": "2023-05-23T13:03:43.555092800Z"
    }
   },
   "outputs": [
    {
     "name": "stdout",
     "output_type": "stream",
     "text": [
      "TPR: [0.0, 0.5, 0.5, 1.0, 1.0, 1.0, 1.0, 1.0, 1.0]\n",
      "FPR: [0.0, 0.0, 0.0, 0.0, 0.0, 0.5, 0.5, 0.5, 1.0]\n"
     ]
    }
   ],
   "source": [
    "# chatgpt\n",
    "import pandas as pd\n",
    "\n",
    "# 假设你已经有一个DataFrame，其中包含label和prob列\n",
    "# 例如：data = pd.DataFrame({'label': [0, 1, 0, 1], 'prob': [0.1, 0.8, 0.4, 0.6]})\n",
    "\n",
    "def calculate_tpr_fpr(data, thresholds):\n",
    "    # 对概率进行排序\n",
    "    data = data.sort_values(by='prob', ascending=False)\n",
    "\n",
    "    # 初始化结果列表\n",
    "    tpr_list = []\n",
    "    fpr_list = []\n",
    "\n",
    "    # 计算每个阈值下的TPR和FPR\n",
    "    for t in thresholds:\n",
    "        data['pred'] = (data['prob'] >= t).astype(int)\n",
    "\n",
    "        # 计算TP、FP、TN、FN\n",
    "        TP = ((data['label'] == 1) & (data['pred'] == 1)).sum()\n",
    "        FP = ((data['label'] == 0) & (data['pred'] == 1)).sum()\n",
    "        TN = ((data['label'] == 0) & (data['pred'] == 0)).sum()\n",
    "        FN = ((data['label'] == 1) & (data['pred'] == 0)).sum()\n",
    "\n",
    "        # 计算TPR和FPR\n",
    "        TPR = TP / (TP + FN)\n",
    "        FPR = FP / (FP + TN)\n",
    "\n",
    "        # 将结果添加到列表中\n",
    "        tpr_list.append(TPR)\n",
    "        fpr_list.append(FPR)\n",
    "\n",
    "    return tpr_list, fpr_list\n",
    "\n",
    "# 示例\n",
    "data = pd.DataFrame({'label': [0, 1, 0, 1], 'prob': [0.1, 0.8, 0.4, 0.6]})\n",
    "thresholds = [0.9, 0.8, 0.7, 0.6, 0.5, 0.4, 0.3, 0.2, 0.1]\n",
    "\n",
    "tpr, fpr = calculate_tpr_fpr(data, thresholds)\n",
    "print(\"TPR:\", tpr)\n",
    "print(\"FPR:\", fpr)"
   ]
  },
  {
   "cell_type": "code",
   "execution_count": 11,
   "metadata": {
    "ExecuteTime": {
     "end_time": "2023-05-23T13:12:40.674372700Z",
     "start_time": "2023-05-23T13:12:40.640373Z"
    }
   },
   "outputs": [
    {
     "name": "stdout",
     "output_type": "stream",
     "text": [
      "[0.0, 0.5, 0.5, 1.0, 1.0, 1.0, 1.0, 1.0, 1.0]\n",
      "[0.0, 0.0, 0.0, 0.0, 0.0, 0.5, 0.5, 0.5, 1.0]\n"
     ]
    }
   ],
   "source": [
    "# new bing\n",
    "import numpy as np\n",
    "def roc_curve(y_true, y_prob, thresholds):\n",
    "    fpr = []\n",
    "    tpr = []\n",
    "    for threshold in thresholds:\n",
    "        y_pred = np.where(y_prob >= threshold, 1, 0) # assign 1 if prob >= threshold, else 0\n",
    "        fp = np.sum((y_true == 0)&(y_pred == 1)) # false positives\n",
    "        tp = np.sum((y_true == 1)&(y_pred == 1)) # true positives\n",
    "        fn = np.sum((y_true == 1)&(y_pred == 0)) # false negatives\n",
    "        tn = np.sum((y_true == 0)&(y_pred == 0)) # true negatives\n",
    "\n",
    "        fpr.append(fp / (fp + tn)) # false positive rate\n",
    "        tpr.append(tp / (tp + fn)) # true positive rate\n",
    "    return [fpr, tpr]\n",
    "\n",
    "data = pd.DataFrame({'label': [0, 1, 0, 1], 'prob': [0.1, 0.8, 0.4, 0.6]})\n",
    "t = [0.9, 0.8, 0.7, 0.6, 0.5, 0.4, 0.3, 0.2, 0.1]\n",
    "\n",
    "fpr, tpr = roc_curve(data['label'],data['prob'],t)\n",
    "\n",
    "print(tpr)\n",
    "print(fpr)"
   ]
  },
  {
   "cell_type": "code",
   "execution_count": 13,
   "metadata": {
    "ExecuteTime": {
     "end_time": "2023-05-23T13:15:07.251204200Z",
     "start_time": "2023-05-23T13:15:07.180206500Z"
    }
   },
   "outputs": [
    {
     "name": "stdout",
     "output_type": "stream",
     "text": [
      "[0.0, 0.5, 0.5, 1.0, 1.0, 1.0, 1.0, 1.0, 1.0]\n",
      "[0.0, 0.0, 0.0, 0.0, 0.0, 0.5, 0.5, 0.5, 1.0]\n"
     ]
    }
   ],
   "source": [
    "# new bing2\n",
    "\n",
    "import pandas as pd\n",
    "from sklearn.metrics import confusion_matrix\n",
    "\n",
    "\n",
    "def roc2(y_true,y_prob,thresholds):\n",
    "    thresholds = t # list of thresholds from large to small\n",
    "    fpr = []\n",
    "    tpr = []\n",
    "    for threshold in thresholds:\n",
    "        y_pred = np.where(y_prob >= threshold, 1, 0) # assign 1 if prob >= threshold, else 0\n",
    "        cm = confusion_matrix(y_true, y_pred) # confusion matrix\n",
    "        fp = cm[0][1] # false positives\n",
    "        tp = cm[1][1] # true positives\n",
    "        fn = cm[1][0] # false negatives\n",
    "        tn = cm[0][0] # true negatives\n",
    "        fpr.append(fp / (fp + tn)) # false positive rate\n",
    "        tpr.append(tp / (tp + fn)) # true positive rate\n",
    "    return tpr,fpr\n",
    "\n",
    "df = pd.DataFrame({'label': [0, 1, 0, 1], 'prob': [0.1, 0.8, 0.4, 0.6]})\n",
    "t = [0.9, 0.8, 0.7, 0.6, 0.5, 0.4, 0.3, 0.2, 0.1]\n",
    "y_true = df['label'] # true binary labels\n",
    "y_prob = df['prob'] # probability estimates of the positive class\n",
    "tpr,fpr=roc2(y_true,y_prob,thresholds)\n",
    "\n",
    "print(tpr)\n",
    "print(fpr)"
   ]
  }
 ],
 "metadata": {
  "kernelspec": {
   "display_name": "Python 3",
   "language": "python",
   "name": "python3"
  },
  "language_info": {
   "codemirror_mode": {
    "name": "ipython",
    "version": 3
   },
   "file_extension": ".py",
   "mimetype": "text/x-python",
   "name": "python",
   "nbconvert_exporter": "python",
   "pygments_lexer": "ipython3",
   "version": "3.6.8"
  }
 },
 "nbformat": 4,
 "nbformat_minor": 0
}
