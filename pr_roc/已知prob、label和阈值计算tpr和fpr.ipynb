{
 "cells": [
  {
   "cell_type": "code",
   "execution_count": 1,
   "metadata": {
    "ExecuteTime": {
     "end_time": "2023-05-22T14:04:23.672938Z",
     "start_time": "2023-05-22T14:04:23.319938600Z"
    },
    "collapsed": false
   },
   "outputs": [
    {
     "name": "stdout",
     "output_type": "stream",
     "text": [
      "TPR: [0.0, 0.5, 0.5, 1.0, 1.0, 1.0, 1.0, 1.0, 1.0]\n",
      "FPR: [0.0, 0.0, 0.0, 0.0, 0.0, 0.5, 0.5, 0.5, 1.0]\n"
     ]
    }
   ],
   "source": [
    "# chatgpt\n",
    "import pandas as pd\n",
    "\n",
    "# 假设你已经有一个DataFrame，其中包含label和prob列\n",
    "# 例如：data = pd.DataFrame({'label': [0, 1, 0, 1], 'prob': [0.1, 0.8, 0.4, 0.6]})\n",
    "\n",
    "def calculate_tpr_fpr(data, thresholds):\n",
    "    # 对概率进行排序\n",
    "    data = data.sort_values(by='prob', ascending=False)\n",
    "\n",
    "    # 初始化结果列表\n",
    "    tpr_list = []\n",
    "    fpr_list = []\n",
    "\n",
    "    # 计算每个阈值下的TPR和FPR\n",
    "    for t in thresholds:\n",
    "        data['pred'] = (data['prob'] >= t).astype(int)\n",
    "\n",
    "        # 计算TP、FP、TN、FN\n",
    "        TP = ((data['label'] == 1) & (data['pred'] == 1)).sum()\n",
    "        FP = ((data['label'] == 0) & (data['pred'] == 1)).sum()\n",
    "        TN = ((data['label'] == 0) & (data['pred'] == 0)).sum()\n",
    "        FN = ((data['label'] == 1) & (data['pred'] == 0)).sum()\n",
    "\n",
    "        # 计算TPR和FPR\n",
    "        TPR = TP / (TP + FN)\n",
    "        FPR = FP / (FP + TN)\n",
    "\n",
    "        # 将结果添加到列表中\n",
    "        tpr_list.append(TPR)\n",
    "        fpr_list.append(FPR)\n",
    "\n",
    "    return tpr_list, fpr_list\n",
    "\n",
    "# 示例\n",
    "data = pd.DataFrame({'label': [0, 1, 0, 1], 'prob': [0.1, 0.8, 0.4, 0.6]})\n",
    "thresholds = [0.9, 0.8, 0.7, 0.6, 0.5, 0.4, 0.3, 0.2, 0.1]\n",
    "\n",
    "tpr, fpr = calculate_tpr_fpr(data, thresholds)\n",
    "print(\"TPR:\", tpr)\n",
    "print(\"FPR:\", fpr)"
   ]
  },
  {
   "cell_type": "code",
   "execution_count": null,
   "metadata": {
    "collapsed": false
   },
   "outputs": [],
   "source": [
    "# claude\n",
    "import pandas as pd\n",
    "\n",
    "df = pd.DataFrame({\n",
    "    'label': [0, 1, 0, 1, 0, 1],\n",
    "    'prob': [0.1, 0.4, 0.35, 0.8, 0.2, 0.7]\n",
    "})\n",
    "\n",
    "t = [0.8, 0.5, 0.3]  # 阈值列表\n",
    "\n",
    "# 根据prob列从大到小排序\n",
    "df = df.sort_values('prob', ascending=False)\n",
    "\n",
    "# 初始化结果列表\n",
    "tpr_list = []\n",
    "fpr_list = []\n",
    "\n",
    "# 遍历各个阈值\n",
    "for threshold in t:\n",
    "\n",
    "    # 获取prob大于等于阈值的行索引\n",
    "    prob_index = df[df['prob'] >= threshold].index\n",
    "\n",
    "    # 获取这些行的label列的值\n",
    "    label = df.loc[prob_index, 'label']\n",
    "\n",
    "    # 计算tpr和fpr\n",
    "    tpr = sum(label) / sum(df['label'])\n",
    "    fpr = 1 - sum(~label) / sum(~df['label'])\n",
    "\n",
    "    # 添加到结果列表\n",
    "    tpr_list.append(tpr)\n",
    "    fpr_list.append(fpr)\n",
    "\n",
    "print(tpr_list)\n",
    "#[1.0, 0.66667, 0.5]\n",
    "print(fpr_list)\n",
    "#[0.8,  0.4, 0.2]"
   ]
  },
  {
   "cell_type": "code",
   "execution_count": 1,
   "metadata": {},
   "outputs": [
    {
     "name": "stdout",
     "output_type": "stream",
     "text": [
      "[1.0, 1.0]\n",
      "[0.5, 0.0]\n"
     ]
    },
    {
     "name": "stderr",
     "output_type": "stream",
     "text": [
      "d:\\tool\\Python36\\lib\\site-packages\\ipykernel_launcher.py:28: UserWarning: Boolean Series key will be reindexed to match DataFrame index.\n",
      "d:\\tool\\Python36\\lib\\site-packages\\ipykernel_launcher.py:29: UserWarning: Boolean Series key will be reindexed to match DataFrame index.\n",
      "d:\\tool\\Python36\\lib\\site-packages\\ipykernel_launcher.py:28: UserWarning: Boolean Series key will be reindexed to match DataFrame index.\n",
      "d:\\tool\\Python36\\lib\\site-packages\\ipykernel_launcher.py:29: UserWarning: Boolean Series key will be reindexed to match DataFrame index.\n"
     ]
    }
   ],
   "source": [
    "# bard\n",
    "import pandas as pd\n",
    "\n",
    "def calculate_tpr_fpr(df, t, label_col='label', prob_col='prob'):\n",
    "  \"\"\"\n",
    "  Calculates the true positive rate (TPR) and false positive rate (FPR) for a list of thresholds.\n",
    "\n",
    "  Args:\n",
    "    df: A Pandas DataFrame.\n",
    "    t: A list of thresholds.\n",
    "    label_col: The name of the column in df that contains the labels.\n",
    "    prob_col: The name of the column in df that contains the probabilities.\n",
    "\n",
    "  Returns:\n",
    "    A tuple of TPR and FPR.\n",
    "  \"\"\"\n",
    "\n",
    "  # Sort the probabilities.\n",
    "  df = df.sort_values(by=prob_col)\n",
    "\n",
    "  # Initialize the TPR and FPR.\n",
    "  tpr = []\n",
    "  fpr = []\n",
    "\n",
    "  # Iterate over the thresholds.\n",
    "  for threshold in t:\n",
    "    # Calculate the true positive and false positive counts.\n",
    "    true_positives = len(df[df[label_col] == 1][df[prob_col] >= threshold])\n",
    "    false_positives = len(df[df[label_col] == 0][df[prob_col] >= threshold])\n",
    "\n",
    "    # Calculate the TPR and FPR.\n",
    "    tpr.append(true_positives / len(df[df[label_col] == 1]))\n",
    "    fpr.append(false_positives / len(df[df[label_col] == 0]))\n",
    "\n",
    "  return tpr, fpr\n",
    "\n",
    "df = pd.DataFrame({'label': [0, 0, 1, 1], 'prob': [0.1, 0.2, 0.3, 0.4]})\n",
    "t = [0.2, 0.3]\n",
    "\n",
    "tpr, fpr = calculate_tpr_fpr(df, t)\n",
    "\n",
    "print(tpr)\n",
    "# [0.5, 1.0]\n",
    "\n",
    "print(fpr)"
   ]
  }
 ],
 "metadata": {
  "kernelspec": {
   "display_name": "Python 3",
   "language": "python",
   "name": "python3"
  },
  "language_info": {
   "codemirror_mode": {
    "name": "ipython",
    "version": 3
   },
   "file_extension": ".py",
   "mimetype": "text/x-python",
   "name": "python",
   "nbconvert_exporter": "python",
   "pygments_lexer": "ipython3",
   "version": "3.6.8rc1"
  }
 },
 "nbformat": 4,
 "nbformat_minor": 0
}
