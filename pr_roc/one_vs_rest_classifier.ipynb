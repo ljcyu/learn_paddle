{
 "cells": [
  {
   "cell_type": "markdown",
   "source": [
    "\"一对其余(OvR)多分类/多标签策略\"也被称为\"一对全部\",该策略是为每个类别拟合一个分类器。对于每个分类器,该类别与其他所有类别相拟合。除了计算效率高(只需要n_classes个分类器)外,该方法的一个优点是其可解释性。由于每个类别只由一个分类器代表,通过检查相应的分类器可以了解该类别。这是多分类分类的最常用策略,是一个公平的默认选择。\n",
    "该策略也可以用于多标签学习,其中使用分类器来预测实例的多个标签,例如通过拟合2d矩阵,其中单元[i,j]为1,如果样例i具有标签j,否则为0。\n",
    "在多标签学习文献中,OvR也被称为二进制相关方法。\n",
    "翻译:\n",
    "一对其余(One-vs-the-rest, OvR)策略也被称为一对全部(one-vs-all)策略。该策略是为每个类别训练一个分类器。对于每个分类器,会将该类别的样本与其他所有类别的样本一起训练。除了计算效率高(只需 n_classes 个分类器)外,该方法的一个优点是其可解释性。由于每个类别只由一个分类器表示,通过检查相应的分类器可以理解该类别。\n",
    "这是多分类问题的最常用策略,是一个比较合适的默认选择。\n",
    "该策略也可以用于多标签学习。可以使用分类器来预测每个实例的多个标签。例如,可以在一个二维矩阵上训练,其中,如果第 i 个样本有第 j 个标签,则矩阵的 [i,j] 位置是 1,否则为 0。\n",
    "在多标签学习的文献中,OvR 策略也被称为二值相关(binary relevance)方法。\n",
    "所以,总结如下:\n",
    "1. OvR 是一种简单但高效的多分类和多标签学习策略\n",
    "2. 它为每个类别训练一个分类器,并将该类别的样本与其他类别的样本一起训练\n",
    "3. 它计算效率高,只需要 n_classes 个分类器(n_classes 为类别数)\n",
    "4. 它具有较高的可解释性,可以通过检查每个分类器来理解相应的类别\n",
    "5. 在多标签学习中,它会将每个样本的多个标签通过一个二维矩阵来表示,进行训练\n",
    "6. 它是多分类和多标签学习中的一种常用和默认的策略选择"
   ],
   "metadata": {
    "collapsed": false
   }
  },
  {
   "cell_type": "code",
   "execution_count": 1,
   "outputs": [
    {
     "data": {
      "text/plain": "array([2, 0, 1])"
     },
     "execution_count": 1,
     "metadata": {},
     "output_type": "execute_result"
    }
   ],
   "source": [
    "import numpy as np\n",
    "from sklearn.multiclass import OneVsRestClassifier\n",
    "from sklearn.svm import SVC\n",
    "X = np.array([\n",
    "         [10, 10],\n",
    "         [8, 10],\n",
    "         [-5, 5.5],\n",
    "         [-5.4, 5.5],\n",
    "         [-20, -20],\n",
    "         [-15, -20]\n",
    "    ])\n",
    "y = np.array([0, 0, 1, 1, 2, 2])\n",
    "clf = OneVsRestClassifier(SVC()).fit(X, y)\n",
    "clf.predict([[-19, -20], [9, 9], [-5, 5]])"
   ],
   "metadata": {
    "collapsed": false,
    "ExecuteTime": {
     "end_time": "2023-05-21T14:31:30.678866200Z",
     "start_time": "2023-05-21T14:31:29.958090Z"
    }
   }
  }
 ],
 "metadata": {
  "kernelspec": {
   "display_name": "Python 3",
   "language": "python",
   "name": "python3"
  },
  "language_info": {
   "codemirror_mode": {
    "name": "ipython",
    "version": 2
   },
   "file_extension": ".py",
   "mimetype": "text/x-python",
   "name": "python",
   "nbconvert_exporter": "python",
   "pygments_lexer": "ipython2",
   "version": "2.7.6"
  }
 },
 "nbformat": 4,
 "nbformat_minor": 0
}
