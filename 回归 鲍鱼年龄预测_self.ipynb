{
 "cells": [
  {
   "cell_type": "code",
   "execution_count": 2,
   "metadata": {
    "collapsed": true
   },
   "outputs": [
    {
     "data": {
      "text/html": [
       "<div>\n",
       "<style scoped>\n",
       "    .dataframe tbody tr th:only-of-type {\n",
       "        vertical-align: middle;\n",
       "    }\n",
       "\n",
       "    .dataframe tbody tr th {\n",
       "        vertical-align: top;\n",
       "    }\n",
       "\n",
       "    .dataframe thead th {\n",
       "        text-align: right;\n",
       "    }\n",
       "</style>\n",
       "<table border=\"1\" class=\"dataframe\">\n",
       "  <thead>\n",
       "    <tr style=\"text-align: right;\">\n",
       "      <th></th>\n",
       "      <th>性别</th>\n",
       "      <th>长度</th>\n",
       "      <th>直径</th>\n",
       "      <th>高度</th>\n",
       "      <th>总重量</th>\n",
       "      <th>皮重</th>\n",
       "      <th>内脏重量</th>\n",
       "      <th>克重</th>\n",
       "      <th>年龄</th>\n",
       "    </tr>\n",
       "  </thead>\n",
       "  <tbody>\n",
       "    <tr>\n",
       "      <th>0</th>\n",
       "      <td>1</td>\n",
       "      <td>0.455</td>\n",
       "      <td>0.365</td>\n",
       "      <td>0.095</td>\n",
       "      <td>0.5140</td>\n",
       "      <td>0.2245</td>\n",
       "      <td>0.1010</td>\n",
       "      <td>0.15</td>\n",
       "      <td>15</td>\n",
       "    </tr>\n",
       "    <tr>\n",
       "      <th>1</th>\n",
       "      <td>1</td>\n",
       "      <td>0.350</td>\n",
       "      <td>0.265</td>\n",
       "      <td>0.090</td>\n",
       "      <td>0.2255</td>\n",
       "      <td>0.0995</td>\n",
       "      <td>0.0485</td>\n",
       "      <td>0.07</td>\n",
       "      <td>7</td>\n",
       "    </tr>\n",
       "    <tr>\n",
       "      <th>2</th>\n",
       "      <td>2</td>\n",
       "      <td>0.530</td>\n",
       "      <td>0.420</td>\n",
       "      <td>0.135</td>\n",
       "      <td>0.6770</td>\n",
       "      <td>0.2565</td>\n",
       "      <td>0.1415</td>\n",
       "      <td>0.21</td>\n",
       "      <td>9</td>\n",
       "    </tr>\n",
       "  </tbody>\n",
       "</table>\n",
       "</div>"
      ],
      "text/plain": [
       "   性别     长度     直径     高度     总重量      皮重    内脏重量    克重  年龄\n",
       "0   1  0.455  0.365  0.095  0.5140  0.2245  0.1010  0.15  15\n",
       "1   1  0.350  0.265  0.090  0.2255  0.0995  0.0485  0.07   7\n",
       "2   2  0.530  0.420  0.135  0.6770  0.2565  0.1415  0.21   9"
      ]
     },
     "execution_count": 2,
     "metadata": {},
     "output_type": "execute_result"
    }
   ],
   "source": [
    "import pandas as pd\n",
    "\n",
    "sex_dict={'I':0,'M':1,'F':2}\n",
    "def sex_map(sex):\n",
    "    return sex_dict[sex]\n",
    "names=['性别','长度','直径','高度','总重量','皮重','内脏重量','克重','年龄']\n",
    "df=pd.read_csv('./data/data361/AbaloneAgePrediction.txt',names=names,converters={'性别':sex_map})\n",
    "df.head(3)"
   ]
  },
  {
   "cell_type": "code",
   "execution_count": 4,
   "metadata": {
    "pycharm": {
     "name": "#%%\n"
    }
   },
   "outputs": [
    {
     "data": {
      "text/html": [
       "<div>\n",
       "<style scoped>\n",
       "    .dataframe tbody tr th:only-of-type {\n",
       "        vertical-align: middle;\n",
       "    }\n",
       "\n",
       "    .dataframe tbody tr th {\n",
       "        vertical-align: top;\n",
       "    }\n",
       "\n",
       "    .dataframe thead th {\n",
       "        text-align: right;\n",
       "    }\n",
       "</style>\n",
       "<table border=\"1\" class=\"dataframe\">\n",
       "  <thead>\n",
       "    <tr style=\"text-align: right;\">\n",
       "      <th></th>\n",
       "      <th>性别</th>\n",
       "      <th>长度</th>\n",
       "      <th>直径</th>\n",
       "      <th>高度</th>\n",
       "      <th>总重量</th>\n",
       "      <th>皮重</th>\n",
       "      <th>内脏重量</th>\n",
       "      <th>克重</th>\n",
       "      <th>年龄</th>\n",
       "    </tr>\n",
       "  </thead>\n",
       "  <tbody>\n",
       "    <tr>\n",
       "      <th>0</th>\n",
       "      <td>0.5</td>\n",
       "      <td>0.513514</td>\n",
       "      <td>0.521008</td>\n",
       "      <td>0.084071</td>\n",
       "      <td>0.181335</td>\n",
       "      <td>0.150303</td>\n",
       "      <td>0.132324</td>\n",
       "      <td>0.147982</td>\n",
       "      <td>0.500000</td>\n",
       "    </tr>\n",
       "    <tr>\n",
       "      <th>1</th>\n",
       "      <td>0.5</td>\n",
       "      <td>0.371622</td>\n",
       "      <td>0.352941</td>\n",
       "      <td>0.079646</td>\n",
       "      <td>0.079157</td>\n",
       "      <td>0.066241</td>\n",
       "      <td>0.063199</td>\n",
       "      <td>0.068261</td>\n",
       "      <td>0.214286</td>\n",
       "    </tr>\n",
       "    <tr>\n",
       "      <th>2</th>\n",
       "      <td>1.0</td>\n",
       "      <td>0.614865</td>\n",
       "      <td>0.613445</td>\n",
       "      <td>0.119469</td>\n",
       "      <td>0.239065</td>\n",
       "      <td>0.171822</td>\n",
       "      <td>0.185648</td>\n",
       "      <td>0.207773</td>\n",
       "      <td>0.285714</td>\n",
       "    </tr>\n",
       "  </tbody>\n",
       "</table>\n",
       "</div>"
      ],
      "text/plain": [
       "    性别        长度        直径        高度       总重量        皮重      内脏重量        克重  \\\n",
       "0  0.5  0.513514  0.521008  0.084071  0.181335  0.150303  0.132324  0.147982   \n",
       "1  0.5  0.371622  0.352941  0.079646  0.079157  0.066241  0.063199  0.068261   \n",
       "2  1.0  0.614865  0.613445  0.119469  0.239065  0.171822  0.185648  0.207773   \n",
       "\n",
       "         年龄  \n",
       "0  0.500000  \n",
       "1  0.214286  \n",
       "2  0.285714  "
      ]
     },
     "execution_count": 4,
     "metadata": {},
     "output_type": "execute_result"
    }
   ],
   "source": [
    "df=(df-df.min())/(df.max()-df.min())\n",
    "df.head(3)\n"
   ]
  },
  {
   "cell_type": "code",
   "execution_count": 6,
   "metadata": {
    "pycharm": {
     "name": "#%%\n"
    }
   },
   "outputs": [
    {
     "data": {
      "text/html": [
       "<div>\n",
       "<style scoped>\n",
       "    .dataframe tbody tr th:only-of-type {\n",
       "        vertical-align: middle;\n",
       "    }\n",
       "\n",
       "    .dataframe tbody tr th {\n",
       "        vertical-align: top;\n",
       "    }\n",
       "\n",
       "    .dataframe thead th {\n",
       "        text-align: right;\n",
       "    }\n",
       "</style>\n",
       "<table border=\"1\" class=\"dataframe\">\n",
       "  <thead>\n",
       "    <tr style=\"text-align: right;\">\n",
       "      <th></th>\n",
       "      <th>性别</th>\n",
       "      <th>长度</th>\n",
       "      <th>直径</th>\n",
       "      <th>高度</th>\n",
       "      <th>总重量</th>\n",
       "      <th>皮重</th>\n",
       "      <th>内脏重量</th>\n",
       "      <th>克重</th>\n",
       "      <th>年龄</th>\n",
       "    </tr>\n",
       "  </thead>\n",
       "  <tbody>\n",
       "    <tr>\n",
       "      <th>3789</th>\n",
       "      <td>1.0</td>\n",
       "      <td>0.770270</td>\n",
       "      <td>0.764706</td>\n",
       "      <td>0.137168</td>\n",
       "      <td>0.399150</td>\n",
       "      <td>0.336584</td>\n",
       "      <td>0.315339</td>\n",
       "      <td>0.339312</td>\n",
       "      <td>0.321429</td>\n",
       "    </tr>\n",
       "    <tr>\n",
       "      <th>1370</th>\n",
       "      <td>0.5</td>\n",
       "      <td>0.729730</td>\n",
       "      <td>0.697479</td>\n",
       "      <td>0.146018</td>\n",
       "      <td>0.398796</td>\n",
       "      <td>0.299597</td>\n",
       "      <td>0.288348</td>\n",
       "      <td>0.337319</td>\n",
       "      <td>0.321429</td>\n",
       "    </tr>\n",
       "    <tr>\n",
       "      <th>2384</th>\n",
       "      <td>1.0</td>\n",
       "      <td>0.493243</td>\n",
       "      <td>0.487395</td>\n",
       "      <td>0.092920</td>\n",
       "      <td>0.151054</td>\n",
       "      <td>0.110289</td>\n",
       "      <td>0.108624</td>\n",
       "      <td>0.130045</td>\n",
       "      <td>0.357143</td>\n",
       "    </tr>\n",
       "  </tbody>\n",
       "</table>\n",
       "</div>"
      ],
      "text/plain": [
       "       性别        长度        直径        高度       总重量        皮重      内脏重量  \\\n",
       "3789  1.0  0.770270  0.764706  0.137168  0.399150  0.336584  0.315339   \n",
       "1370  0.5  0.729730  0.697479  0.146018  0.398796  0.299597  0.288348   \n",
       "2384  1.0  0.493243  0.487395  0.092920  0.151054  0.110289  0.108624   \n",
       "\n",
       "            克重        年龄  \n",
       "3789  0.339312  0.321429  \n",
       "1370  0.337319  0.321429  \n",
       "2384  0.130045  0.357143  "
      ]
     },
     "execution_count": 6,
     "metadata": {},
     "output_type": "execute_result"
    }
   ],
   "source": [
    "from sklearn.model_selection import train_test_split\n",
    "train_data,eval_data=train_test_split(df,test_size=0.1,random_state=42)\n",
    "train_data.head(3)"
   ]
  },
  {
   "cell_type": "code",
   "execution_count": 33,
   "metadata": {
    "pycharm": {
     "name": "#%%\n"
    }
   },
   "outputs": [],
   "source": [
    "import paddle\n",
    "\n",
    "def custom_reader(data):\n",
    "    def reader():\n",
    "        for x in data.values:\n",
    "           yield [x[:-1],x[-1:]]\n",
    "    return reader\n",
    "batch_size=16\n",
    "train_reader=paddle.batch(custom_reader(train_data),batch_size=batch_size)\n",
    "eval_reader=paddle.batch(custom_reader(eval_data),batch_size=batch_size)"
   ]
  },
  {
   "cell_type": "code",
   "execution_count": 31,
   "metadata": {
    "pycharm": {
     "name": "#%%\n"
    }
   },
   "outputs": [
    {
     "name": "stdout",
     "output_type": "stream",
     "text": [
      "[1.         0.77027027 0.76470588 0.13716814 0.39914999 0.33658373\n",
      " 0.31533904 0.33931241 0.32142857]\n",
      "[0.5        0.72972973 0.69747899 0.1460177  0.39879582 0.2995965\n",
      " 0.2883476  0.33731938 0.32142857]\n"
     ]
    }
   ],
   "source": [
    "count=0\n",
    "for x in train_data.values:\n",
    "    count+=1\n",
    "    if count>2:break\n",
    "    print(x)"
   ]
  },
  {
   "cell_type": "code",
   "execution_count": 36,
   "metadata": {
    "pycharm": {
     "name": "#%%\n"
    }
   },
   "outputs": [
    {
     "name": "stdout",
     "output_type": "stream",
     "text": [
      "0\n",
      "1.0\n",
      "1\n",
      "1.0\n",
      "2\n",
      "0.0\n",
      "3\n",
      "1.0\n",
      "4\n",
      "0.5\n"
     ]
    }
   ],
   "source": [
    "for batch_id,data in enumerate(train_reader()):\n",
    "    if(batch_id<5):\n",
    "       print(batch_id)\n",
    "       #print(data) #按批过来了16个\n",
    "       d_x=[x[0] for x in data]\n",
    "       d_y=[x[1] for x in data]\n",
    "       print(d_x[0][0])\n"
   ]
  },
  {
   "cell_type": "code",
   "execution_count": 39,
   "metadata": {
    "pycharm": {
     "name": "#%%\n"
    }
   },
   "outputs": [],
   "source": [
    "import paddle.fluid as fluid\n",
    "class Regressor(fluid.dygraph.Layer):\n",
    "    def __init__(self,name_scope):\n",
    "        super(Regressor,self).__init__(name_scope)\n",
    "        name_scope=self.full_name()\n",
    "        self.fc=fluid.Linear(input_dim=8,output_dim=1)\n",
    "\n",
    "    def forward(self,inputs):\n",
    "        out=self.fc(inputs)\n",
    "        return out\n"
   ]
  },
  {
   "cell_type": "code",
   "execution_count": 63,
   "metadata": {
    "pycharm": {
     "name": "#%%\n"
    }
   },
   "outputs": [],
   "source": [
    "import matplotlib.pyplot as plt\n",
    "def draw_train_process(iters,train_costs,color='red',title='training cost'):\n",
    "    plt.title(title, fontsize=24)\n",
    "    plt.xlabel(\"iter\", fontsize=14)\n",
    "    plt.ylabel(\"cost\", fontsize=14)\n",
    "    plt.plot(iters, train_costs,color=color,label='training cost')\n",
    "    plt.grid()\n",
    "    plt.show()"
   ]
  },
  {
   "cell_type": "code",
   "execution_count": 53,
   "metadata": {
    "pycharm": {
     "name": "#%%\n"
    }
   },
   "outputs": [
    {
     "data": {
      "image/png": "[encoded data removed]",
      "text/plain": [
       "<Figure size 432x288 with 1 Axes>"
      ]
     },
     "metadata": {
      "needs_background": "light"
     },
     "output_type": "display_data"
    }
   ],
   "source": [
    "import numpy as np\n",
    "with fluid.dygraph.guard(place=fluid.CUDAPlace(0)):\n",
    "    model=Regressor('abalone')\n",
    "    optimizer=fluid.optimizer.SGD(learning_rate=0.005,parameter_list=model.parameters())\n",
    "\n",
    "    iter=0\n",
    "    iters=[]\n",
    "    train_costs=[]\n",
    "\n",
    "    for i in range(10):\n",
    "        model.train()\n",
    "        for batch_id,data in enumerate(train_reader()):\n",
    "            #if batch_id>5:break\n",
    "            test_x=np.array([x[0] for x in data],np.float32)\n",
    "            test_y=np.array([x[1] for x in data],np.float32)\n",
    "            features=fluid.dygraph.to_variable(test_x)\n",
    "            ages=fluid.dygraph.to_variable(test_y)\n",
    "\n",
    "            predicts=model(features)\n",
    "            loss=fluid.layers.square_error_cost(predicts,label=ages)\n",
    "            avg_loss=fluid.layers.mean(loss)\n",
    "\n",
    "            iter=iter+1\n",
    "            iters.append(iter)\n",
    "            train_costs.append(avg_loss.numpy())\n",
    "\n",
    "            avg_loss.backward()\n",
    "            optimizer.minimize(avg_loss)\n",
    "            model.clear_gradients()\n",
    "\n",
    "    draw_train_process(iters,train_costs)"
   ]
  },
  {
   "cell_type": "code",
   "execution_count": 67,
   "metadata": {
    "pycharm": {
     "name": "#%%\n"
    }
   },
   "outputs": [
    {
     "name": "stdout",
     "output_type": "stream",
     "text": [
      "Test 0 cost 0.13377\n",
      "Test 1 cost 0.08831\n",
      "Test 2 cost 0.06917\n",
      "Test 3 cost 0.05877\n",
      "Test 4 cost 0.05209\n",
      "Test 5 cost 0.04732\n",
      "Test 6 cost 0.04367\n",
      "Test 7 cost 0.04074\n",
      "Test 8 cost 0.03831\n",
      "Test 9 cost 0.03625\n"
     ]
    },
    {
     "data": {
      "image/png": "[encoded data removed]",
      "text/plain": [
       "<Figure size 432x288 with 1 Axes>"
      ]
     },
     "metadata": {
      "needs_background": "light"
     },
     "output_type": "display_data"
    },
    {
     "data": {
      "image/png": "[encoded data removed]",
      "text/plain": [
       "<Figure size 432x288 with 1 Axes>"
      ]
     },
     "metadata": {
      "needs_background": "light"
     },
     "output_type": "display_data"
    }
   ],
   "source": [
    "def train():\n",
    "    iter=0\n",
    "    iters=[]\n",
    "    train_costs=[]\n",
    "    test_iter=0\n",
    "    test_iters=[]\n",
    "    test_costs=[]\n",
    "\n",
    "    with fluid.dygraph.guard(place=fluid.CUDAPlace(0)):\n",
    "        model=Regressor('regress2')\n",
    "        optimizer=fluid.optimizer.SGD(learning_rate=0.001,parameter_list=model.parameters())\n",
    "\n",
    "        for i in range(10):\n",
    "            model.train()\n",
    "            for batch_id,data in enumerate(train_reader()):\n",
    "\n",
    "                test_x=np.array([x[0] for x in data],np.float32)\n",
    "                test_y=np.array([x[1] for x in data],np.float32)\n",
    "                features=fluid.dygraph.to_variable(test_x)\n",
    "                ages=fluid.dygraph.to_variable(test_y)\n",
    "\n",
    "                predicts=model(features)\n",
    "                loss=fluid.layers.square_error_cost(predicts,label=ages)\n",
    "                avg_loss=fluid.layers.mean(loss)\n",
    "\n",
    "                iter=iter+1\n",
    "                iters.append(iter)\n",
    "                train_costs.append(avg_loss.numpy())\n",
    "\n",
    "                avg_loss.backward()\n",
    "                optimizer.minimize(avg_loss)\n",
    "                model.clear_gradients()\n",
    "\n",
    "            model.eval()\n",
    "            for batch_id,data in enumerate(eval_reader()):\n",
    "\n",
    "                test_x=np.array([x[0] for x in data],np.float32)\n",
    "                test_y=np.array([x[1] for x in data],np.float32)\n",
    "                features=fluid.dygraph.to_variable(test_x)\n",
    "                ages=fluid.dygraph.to_variable(test_y)\n",
    "\n",
    "                predicts=model(features)\n",
    "                loss=fluid.layers.square_error_cost(predicts,label=ages)\n",
    "                avg_loss=fluid.layers.mean(loss)\n",
    "\n",
    "                test_iter=test_iter+1\n",
    "                test_iters.append(test_iter)\n",
    "                test_costs.append(avg_loss.numpy())\n",
    "\n",
    "            avg_cost=sum(test_costs)/len(test_costs)\n",
    "            print('Test %d cost %0.5f'%(i,avg_cost))\n",
    "\n",
    "        draw_train_process(iters,train_costs)\n",
    "        draw_train_process(test_iters,test_costs,color='green',title='test cost')\n",
    "\n",
    "train()\n",
    "\n"
   ]
  }
 ],
 "metadata": {
  "kernelspec": {
   "display_name": "Python 3",
   "language": "python",
   "name": "python3"
  },
  "language_info": {
   "codemirror_mode": {
    "name": "ipython",
    "version": 3
   },
   "file_extension": ".py",
   "mimetype": "text/x-python",
   "name": "python",
   "nbconvert_exporter": "python",
   "pygments_lexer": "ipython3",
   "version": "3.6.7"
  },
  "toc": {
   "base_numbering": 1,
   "nav_menu": {},
   "number_sections": true,
   "sideBar": true,
   "skip_h1_title": false,
   "title_cell": "Table of Contents",
   "title_sidebar": "Contents",
   "toc_cell": false,
   "toc_position": {},
   "toc_section_display": true,
   "toc_window_display": false
  }
 },
 "nbformat": 4,
 "nbformat_minor": 1
}