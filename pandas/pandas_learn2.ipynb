{
 "cells": [
  {
   "cell_type": "code",
   "execution_count": 5,
   "metadata": {},
   "outputs": [],
   "source": [
    "import numpy as np\n",
    "import pandas as pd\n",
    "from pandas import DataFrame, Series\n",
    "# Set some pandas options\n",
    "#pd.set_option('display.notebook_repr_html', False)\n",
    "#pd.set_option('display.max_columns', 10)\n",
    "#pd.set_option('display.max_rows', 10)\n",
    "# And some items for matplotlib\n",
    "%matplotlib inline\n",
    "import matplotlib.pyplot as plt\n",
    "#pd.options.display.mpl_style = 'default'\n",
    "from IPython.core.interactiveshell import InteractiveShell\n",
    "InteractiveShell.ast_node_interactivity = \"all\"\n",
    "pd.options.display.max_rows=None"
   ]
  },
  {
   "cell_type": "code",
   "execution_count": 2,
   "metadata": {
    "scrolled": true
   },
   "outputs": [
    {
     "data": {
      "text/plain": [
       "0    5\n",
       "1    7\n",
       "2    6\n",
       "3    4\n",
       "4    5\n",
       "5    7\n",
       "6    4\n",
       "7    0\n",
       "8    1\n",
       "9    6\n",
       "dtype: int32"
      ]
     },
     "execution_count": 2,
     "metadata": {},
     "output_type": "execute_result"
    },
    {
     "data": {
      "text/plain": [
       "1    7\n",
       "3    4\n",
       "dtype: int32"
      ]
     },
     "execution_count": 2,
     "metadata": {},
     "output_type": "execute_result"
    },
    {
     "data": {
      "text/plain": [
       "a    1\n",
       "b    2\n",
       "c    3\n",
       "d    4\n",
       "dtype: int64"
      ]
     },
     "execution_count": 2,
     "metadata": {},
     "output_type": "execute_result"
    },
    {
     "data": {
      "text/plain": [
       "Index(['a', 'b', 'c', 'd'], dtype='object')"
      ]
     },
     "execution_count": 2,
     "metadata": {},
     "output_type": "execute_result"
    }
   ],
   "source": [
    "data=np.random.randint(10,size=10)\n",
    "s=Series(data)\n",
    "s\n",
    "s[[1,3]]#索引从1开始\n",
    "s=Series([1,2,3,4],index=['a','b','c','d'])\n",
    "s\n",
    "s.index"
   ]
  },
  {
   "cell_type": "code",
   "execution_count": 3,
   "metadata": {},
   "outputs": [
    {
     "data": {
      "text/plain": [
       "DatetimeIndex(['2014-07-01', '2014-07-02', '2014-07-03', '2014-07-04',\n",
       "               '2014-07-05', '2014-07-06'],\n",
       "              dtype='datetime64[ns]', freq='D')"
      ]
     },
     "execution_count": 3,
     "metadata": {},
     "output_type": "execute_result"
    }
   ],
   "source": [
    "s=pd.date_range('2014-07-01','2014-07-06')\n",
    "s"
   ]
  },
  {
   "cell_type": "code",
   "execution_count": 4,
   "metadata": {},
   "outputs": [
    {
     "data": {
      "text/plain": [
       "2014-07-01    80\n",
       "2014-07-02    82\n",
       "2014-07-03    85\n",
       "Freq: D, dtype: int64"
      ]
     },
     "execution_count": 4,
     "metadata": {},
     "output_type": "execute_result"
    }
   ],
   "source": [
    "tmp1=Series([80,82,85,90,83,87],index=s)\n",
    "tmp1.head(3)"
   ]
  },
  {
   "cell_type": "code",
   "execution_count": 5,
   "metadata": {},
   "outputs": [
    {
     "data": {
      "text/plain": [
       "84.5"
      ]
     },
     "execution_count": 5,
     "metadata": {},
     "output_type": "execute_result"
    }
   ],
   "source": [
    "tmp1.mean()"
   ]
  },
  {
   "cell_type": "code",
   "execution_count": 6,
   "metadata": {},
   "outputs": [],
   "source": [
    "tmp2 = Series([70, 75, 69, 83, 79, 77],index = s)"
   ]
  },
  {
   "cell_type": "code",
   "execution_count": 7,
   "metadata": {},
   "outputs": [
    {
     "data": {
      "text/plain": [
       "2014-07-01   -10\n",
       "2014-07-02    -7\n",
       "2014-07-03   -16\n",
       "2014-07-04    -7\n",
       "2014-07-05    -4\n",
       "2014-07-06   -10\n",
       "Freq: D, dtype: int64"
      ]
     },
     "execution_count": 7,
     "metadata": {},
     "output_type": "execute_result"
    }
   ],
   "source": [
    "tmp2-tmp1"
   ]
  },
  {
   "cell_type": "code",
   "execution_count": 8,
   "metadata": {},
   "outputs": [
    {
     "data": {
      "text/plain": [
       "75"
      ]
     },
     "execution_count": 8,
     "metadata": {},
     "output_type": "execute_result"
    }
   ],
   "source": [
    "tmp2['2014-07-02']"
   ]
  },
  {
   "cell_type": "code",
   "execution_count": 9,
   "metadata": {},
   "outputs": [
    {
     "data": {
      "text/html": [
       "<div>\n",
       "<style scoped>\n",
       "    .dataframe tbody tr th:only-of-type {\n",
       "        vertical-align: middle;\n",
       "    }\n",
       "\n",
       "    .dataframe tbody tr th {\n",
       "        vertical-align: top;\n",
       "    }\n",
       "\n",
       "    .dataframe thead th {\n",
       "        text-align: right;\n",
       "    }\n",
       "</style>\n",
       "<table border=\"1\" class=\"dataframe\">\n",
       "  <thead>\n",
       "    <tr style=\"text-align: right;\">\n",
       "      <th></th>\n",
       "      <th>hn</th>\n",
       "      <th>zj</th>\n",
       "    </tr>\n",
       "  </thead>\n",
       "  <tbody>\n",
       "    <tr>\n",
       "      <th>2014-07-01</th>\n",
       "      <td>80</td>\n",
       "      <td>70</td>\n",
       "    </tr>\n",
       "    <tr>\n",
       "      <th>2014-07-02</th>\n",
       "      <td>82</td>\n",
       "      <td>75</td>\n",
       "    </tr>\n",
       "  </tbody>\n",
       "</table>\n",
       "</div>"
      ],
      "text/plain": [
       "            hn  zj\n",
       "2014-07-01  80  70\n",
       "2014-07-02  82  75"
      ]
     },
     "execution_count": 9,
     "metadata": {},
     "output_type": "execute_result"
    },
    {
     "data": {
      "text/plain": [
       "2014-07-01    70\n",
       "2014-07-02    75\n",
       "2014-07-03    69\n",
       "2014-07-04    83\n",
       "2014-07-05    79\n",
       "2014-07-06    77\n",
       "Freq: D, Name: zj, dtype: int64"
      ]
     },
     "execution_count": 9,
     "metadata": {},
     "output_type": "execute_result"
    },
    {
     "data": {
      "text/plain": [
       "2014-07-01    80\n",
       "2014-07-02    82\n",
       "2014-07-03    85\n",
       "2014-07-04    90\n",
       "2014-07-05    83\n",
       "2014-07-06    87\n",
       "Freq: D, Name: hn, dtype: int64"
      ]
     },
     "execution_count": 9,
     "metadata": {},
     "output_type": "execute_result"
    }
   ],
   "source": [
    "tmps=DataFrame({'hn':tmp1,'zj':tmp2})\n",
    "tmps.head(2)\n",
    "tmps['zj']\n",
    "tmps.hn"
   ]
  },
  {
   "cell_type": "code",
   "execution_count": 10,
   "metadata": {},
   "outputs": [
    {
     "data": {
      "text/html": [
       "<div>\n",
       "<style scoped>\n",
       "    .dataframe tbody tr th:only-of-type {\n",
       "        vertical-align: middle;\n",
       "    }\n",
       "\n",
       "    .dataframe tbody tr th {\n",
       "        vertical-align: top;\n",
       "    }\n",
       "\n",
       "    .dataframe thead th {\n",
       "        text-align: right;\n",
       "    }\n",
       "</style>\n",
       "<table border=\"1\" class=\"dataframe\">\n",
       "  <thead>\n",
       "    <tr style=\"text-align: right;\">\n",
       "      <th></th>\n",
       "      <th>hn</th>\n",
       "      <th>zj</th>\n",
       "      <th>new</th>\n",
       "    </tr>\n",
       "  </thead>\n",
       "  <tbody>\n",
       "    <tr>\n",
       "      <th>2014-07-01</th>\n",
       "      <td>80</td>\n",
       "      <td>70</td>\n",
       "      <td>-10</td>\n",
       "    </tr>\n",
       "    <tr>\n",
       "      <th>2014-07-02</th>\n",
       "      <td>82</td>\n",
       "      <td>75</td>\n",
       "      <td>-7</td>\n",
       "    </tr>\n",
       "    <tr>\n",
       "      <th>2014-07-03</th>\n",
       "      <td>85</td>\n",
       "      <td>69</td>\n",
       "      <td>-16</td>\n",
       "    </tr>\n",
       "  </tbody>\n",
       "</table>\n",
       "</div>"
      ],
      "text/plain": [
       "            hn  zj  new\n",
       "2014-07-01  80  70  -10\n",
       "2014-07-02  82  75   -7\n",
       "2014-07-03  85  69  -16"
      ]
     },
     "execution_count": 10,
     "metadata": {},
     "output_type": "execute_result"
    }
   ],
   "source": [
    "tmps['new']=tmp2-tmp1\n",
    "tmps.head(3)"
   ]
  },
  {
   "cell_type": "code",
   "execution_count": 11,
   "metadata": {},
   "outputs": [
    {
     "data": {
      "text/plain": [
       "Index(['hn', 'zj', 'new'], dtype='object')"
      ]
     },
     "execution_count": 11,
     "metadata": {},
     "output_type": "execute_result"
    }
   ],
   "source": [
    "tmps.columns"
   ]
  },
  {
   "cell_type": "code",
   "execution_count": 12,
   "metadata": {},
   "outputs": [
    {
     "data": {
      "text/plain": [
       "2014-07-02    -7\n",
       "2014-07-03   -16\n",
       "Freq: D, Name: new, dtype: int64"
      ]
     },
     "execution_count": 12,
     "metadata": {},
     "output_type": "execute_result"
    }
   ],
   "source": [
    "tmps.new[1:3]"
   ]
  },
  {
   "cell_type": "code",
   "execution_count": 16,
   "metadata": {},
   "outputs": [
    {
     "data": {
      "text/plain": [
       "2014-07-01    False\n",
       "2014-07-02     True\n",
       "2014-07-03     True\n",
       "2014-07-04     True\n",
       "2014-07-05     True\n",
       "2014-07-06     True\n",
       "Freq: D, Name: hn, dtype: bool"
      ]
     },
     "execution_count": 16,
     "metadata": {},
     "output_type": "execute_result"
    }
   ],
   "source": [
    "tmps.hn>80"
   ]
  },
  {
   "cell_type": "code",
   "execution_count": 19,
   "metadata": {},
   "outputs": [
    {
     "data": {
      "text/plain": [
       "2014-07-02    -7\n",
       "2014-07-03   -16\n",
       "2014-07-04    -7\n",
       "2014-07-05    -4\n",
       "2014-07-06   -10\n",
       "Freq: D, Name: new, dtype: int64"
      ]
     },
     "execution_count": 19,
     "metadata": {},
     "output_type": "execute_result"
    }
   ],
   "source": [
    "tmps.new[tmps.hn>80]"
   ]
  },
  {
   "cell_type": "code",
   "execution_count": 2,
   "metadata": {},
   "outputs": [
    {
     "data": {
      "text/html": [
       "<div>\n",
       "<style scoped>\n",
       "    .dataframe tbody tr th:only-of-type {\n",
       "        vertical-align: middle;\n",
       "    }\n",
       "\n",
       "    .dataframe tbody tr th {\n",
       "        vertical-align: top;\n",
       "    }\n",
       "\n",
       "    .dataframe thead th {\n",
       "        text-align: right;\n",
       "    }\n",
       "</style>\n",
       "<table border=\"1\" class=\"dataframe\">\n",
       "  <thead>\n",
       "    <tr style=\"text-align: right;\">\n",
       "      <th></th>\n",
       "      <th>High</th>\n",
       "      <th>Low</th>\n",
       "      <th>Open</th>\n",
       "      <th>Close</th>\n",
       "      <th>Volume</th>\n",
       "      <th>Adj Close</th>\n",
       "    </tr>\n",
       "    <tr>\n",
       "      <th>Date</th>\n",
       "      <th></th>\n",
       "      <th></th>\n",
       "      <th></th>\n",
       "      <th></th>\n",
       "      <th></th>\n",
       "      <th></th>\n",
       "    </tr>\n",
       "  </thead>\n",
       "  <tbody>\n",
       "    <tr>\n",
       "      <th>2020-12-21</th>\n",
       "      <td>1740.849976</td>\n",
       "      <td>1699.000000</td>\n",
       "      <td>1713.510010</td>\n",
       "      <td>1739.369995</td>\n",
       "      <td>1828400</td>\n",
       "      <td>1739.369995</td>\n",
       "    </tr>\n",
       "    <tr>\n",
       "      <th>2020-12-22</th>\n",
       "      <td>1737.405029</td>\n",
       "      <td>1712.574951</td>\n",
       "      <td>1734.430054</td>\n",
       "      <td>1723.500000</td>\n",
       "      <td>936700</td>\n",
       "      <td>1723.500000</td>\n",
       "    </tr>\n",
       "    <tr>\n",
       "      <th>2020-12-23</th>\n",
       "      <td>1747.989990</td>\n",
       "      <td>1725.040039</td>\n",
       "      <td>1728.109985</td>\n",
       "      <td>1732.380005</td>\n",
       "      <td>1033800</td>\n",
       "      <td>1732.380005</td>\n",
       "    </tr>\n",
       "    <tr>\n",
       "      <th>2020-12-24</th>\n",
       "      <td>1746.000000</td>\n",
       "      <td>1729.109985</td>\n",
       "      <td>1735.000000</td>\n",
       "      <td>1738.849976</td>\n",
       "      <td>346800</td>\n",
       "      <td>1738.849976</td>\n",
       "    </tr>\n",
       "    <tr>\n",
       "      <th>2020-12-28</th>\n",
       "      <td>1790.728027</td>\n",
       "      <td>1746.334961</td>\n",
       "      <td>1751.635010</td>\n",
       "      <td>1776.089966</td>\n",
       "      <td>1392500</td>\n",
       "      <td>1776.089966</td>\n",
       "    </tr>\n",
       "  </tbody>\n",
       "</table>\n",
       "</div>"
      ],
      "text/plain": [
       "                   High          Low         Open        Close   Volume  \\\n",
       "Date                                                                      \n",
       "2020-12-21  1740.849976  1699.000000  1713.510010  1739.369995  1828400   \n",
       "2020-12-22  1737.405029  1712.574951  1734.430054  1723.500000   936700   \n",
       "2020-12-23  1747.989990  1725.040039  1728.109985  1732.380005  1033800   \n",
       "2020-12-24  1746.000000  1729.109985  1735.000000  1738.849976   346800   \n",
       "2020-12-28  1790.728027  1746.334961  1751.635010  1776.089966  1392500   \n",
       "\n",
       "              Adj Close  \n",
       "Date                     \n",
       "2020-12-21  1739.369995  \n",
       "2020-12-22  1723.500000  \n",
       "2020-12-23  1732.380005  \n",
       "2020-12-24  1738.849976  \n",
       "2020-12-28  1776.089966  "
      ]
     },
     "execution_count": 2,
     "metadata": {},
     "output_type": "execute_result"
    }
   ],
   "source": [
    "# imports for reading data from Yahoo!\n",
    "from pandas_datareader import DataReader\n",
    "from datetime import date\n",
    "from dateutil.relativedelta import relativedelta\n",
    "# read the last three months of data for GOOG\n",
    "goog = DataReader(\"GOOG\", \"yahoo\",date.today() +relativedelta(months=-3))\n",
    "# the result is a DataFrame\n",
    "#and this gives us the 5 most recent prices\n",
    "goog.tail()"
   ]
  },
  {
   "cell_type": "code",
   "execution_count": 24,
   "metadata": {},
   "outputs": [
    {
     "data": {
      "text/plain": [
       "<matplotlib.axes._subplots.AxesSubplot at 0x179f70d06a0>"
      ]
     },
     "execution_count": 24,
     "metadata": {},
     "output_type": "execute_result"
    },
    {
     "data": {
      "image/png": "[encoded data removed]",
      "text/plain": [
       "<Figure size 432x288 with 1 Axes>"
      ]
     },
     "metadata": {
      "needs_background": "light"
     },
     "output_type": "display_data"
    }
   ],
   "source": [
    "goog.plot(y='Adj Close')"
   ]
  },
  {
   "cell_type": "code",
   "execution_count": 8,
   "metadata": {},
   "outputs": [
    {
     "data": {
      "text/html": [
       "<div>\n",
       "<style scoped>\n",
       "    .dataframe tbody tr th:only-of-type {\n",
       "        vertical-align: middle;\n",
       "    }\n",
       "\n",
       "    .dataframe tbody tr th {\n",
       "        vertical-align: top;\n",
       "    }\n",
       "\n",
       "    .dataframe thead th {\n",
       "        text-align: right;\n",
       "    }\n",
       "</style>\n",
       "<table border=\"1\" class=\"dataframe\">\n",
       "  <thead>\n",
       "    <tr style=\"text-align: right;\">\n",
       "      <th></th>\n",
       "      <th>High</th>\n",
       "      <th>Low</th>\n",
       "      <th>Open</th>\n",
       "      <th>Close</th>\n",
       "      <th>Volume</th>\n",
       "      <th>Adj Close</th>\n",
       "      <th>new</th>\n",
       "    </tr>\n",
       "    <tr>\n",
       "      <th>Date</th>\n",
       "      <th></th>\n",
       "      <th></th>\n",
       "      <th></th>\n",
       "      <th></th>\n",
       "      <th></th>\n",
       "      <th></th>\n",
       "      <th></th>\n",
       "    </tr>\n",
       "  </thead>\n",
       "  <tbody>\n",
       "    <tr>\n",
       "      <th>2020-09-28</th>\n",
       "      <td>1476.800049</td>\n",
       "      <td>1449.301025</td>\n",
       "      <td>1474.209961</td>\n",
       "      <td>1464.520020</td>\n",
       "      <td>2007900</td>\n",
       "      <td>1464.520020</td>\n",
       "      <td>2929.040039</td>\n",
       "    </tr>\n",
       "    <tr>\n",
       "      <th>2020-09-29</th>\n",
       "      <td>1476.662964</td>\n",
       "      <td>1458.805054</td>\n",
       "      <td>1470.390015</td>\n",
       "      <td>1469.329956</td>\n",
       "      <td>978200</td>\n",
       "      <td>1469.329956</td>\n",
       "      <td>2938.659912</td>\n",
       "    </tr>\n",
       "    <tr>\n",
       "      <th>2020-09-30</th>\n",
       "      <td>1489.750000</td>\n",
       "      <td>1459.880005</td>\n",
       "      <td>1466.800049</td>\n",
       "      <td>1469.599976</td>\n",
       "      <td>1700600</td>\n",
       "      <td>1469.599976</td>\n",
       "      <td>2939.199951</td>\n",
       "    </tr>\n",
       "    <tr>\n",
       "      <th>2020-10-01</th>\n",
       "      <td>1499.040039</td>\n",
       "      <td>1479.209961</td>\n",
       "      <td>1484.270020</td>\n",
       "      <td>1490.089966</td>\n",
       "      <td>1779500</td>\n",
       "      <td>1490.089966</td>\n",
       "      <td>2980.179932</td>\n",
       "    </tr>\n",
       "    <tr>\n",
       "      <th>2020-10-02</th>\n",
       "      <td>1483.199951</td>\n",
       "      <td>1450.920044</td>\n",
       "      <td>1462.030029</td>\n",
       "      <td>1458.420044</td>\n",
       "      <td>1284100</td>\n",
       "      <td>1458.420044</td>\n",
       "      <td>2916.840088</td>\n",
       "    </tr>\n",
       "  </tbody>\n",
       "</table>\n",
       "</div>"
      ],
      "text/plain": [
       "                   High          Low         Open        Close   Volume  \\\n",
       "Date                                                                      \n",
       "2020-09-28  1476.800049  1449.301025  1474.209961  1464.520020  2007900   \n",
       "2020-09-29  1476.662964  1458.805054  1470.390015  1469.329956   978200   \n",
       "2020-09-30  1489.750000  1459.880005  1466.800049  1469.599976  1700600   \n",
       "2020-10-01  1499.040039  1479.209961  1484.270020  1490.089966  1779500   \n",
       "2020-10-02  1483.199951  1450.920044  1462.030029  1458.420044  1284100   \n",
       "\n",
       "              Adj Close          new  \n",
       "Date                                  \n",
       "2020-09-28  1464.520020  2929.040039  \n",
       "2020-09-29  1469.329956  2938.659912  \n",
       "2020-09-30  1469.599976  2939.199951  \n",
       "2020-10-01  1490.089966  2980.179932  \n",
       "2020-10-02  1458.420044  2916.840088  "
      ]
     },
     "execution_count": 8,
     "metadata": {},
     "output_type": "execute_result"
    },
    {
     "ename": "TypeError",
     "evalue": "'Series' object is not callable",
     "output_type": "error",
     "traceback": [
      "\u001b[1;31m---------------------------------------------------------------------------\u001b[0m",
      "\u001b[1;31mTypeError\u001b[0m                                 Traceback (most recent call last)",
      "\u001b[1;32m<ipython-input-8-08c885661150>\u001b[0m in \u001b[0;36m<module>\u001b[1;34m\u001b[0m\n\u001b[0;32m      1\u001b[0m \u001b[0mgoog\u001b[0m\u001b[1;33m[\u001b[0m\u001b[1;34m'new'\u001b[0m\u001b[1;33m]\u001b[0m\u001b[1;33m=\u001b[0m\u001b[0mgoog\u001b[0m\u001b[1;33m[\u001b[0m\u001b[1;34m'Adj Close'\u001b[0m\u001b[1;33m]\u001b[0m\u001b[1;33m*\u001b[0m\u001b[1;36m2\u001b[0m\u001b[1;33m\u001b[0m\u001b[1;33m\u001b[0m\u001b[0m\n\u001b[0;32m      2\u001b[0m \u001b[0mgoog\u001b[0m\u001b[1;33m.\u001b[0m\u001b[0mhead\u001b[0m\u001b[1;33m(\u001b[0m\u001b[1;36m5\u001b[0m\u001b[1;33m)\u001b[0m\u001b[1;33m\u001b[0m\u001b[1;33m\u001b[0m\u001b[0m\n\u001b[1;32m----> 3\u001b[1;33m \u001b[0mgoog\u001b[0m\u001b[1;33m.\u001b[0m\u001b[0mnew\u001b[0m\u001b[1;33m(\u001b[0m\u001b[0mdropIndex\u001b[0m\u001b[1;33m=\u001b[0m\u001b[1;32mTrue\u001b[0m\u001b[1;33m)\u001b[0m\u001b[1;33m.\u001b[0m\u001b[0mhead\u001b[0m\u001b[1;33m(\u001b[0m\u001b[1;36m5\u001b[0m\u001b[1;33m)\u001b[0m\u001b[1;33m\u001b[0m\u001b[1;33m\u001b[0m\u001b[0m\n\u001b[0m",
      "\u001b[1;31mTypeError\u001b[0m: 'Series' object is not callable"
     ]
    }
   ],
   "source": [
    "goog['new']=goog['Adj Close']*2\n",
    "goog.head(5)"
   ]
  },
  {
   "cell_type": "code",
   "execution_count": 10,
   "metadata": {},
   "outputs": [
    {
     "data": {
      "text/html": [
       "<div>\n",
       "<style scoped>\n",
       "    .dataframe tbody tr th:only-of-type {\n",
       "        vertical-align: middle;\n",
       "    }\n",
       "\n",
       "    .dataframe tbody tr th {\n",
       "        vertical-align: top;\n",
       "    }\n",
       "\n",
       "    .dataframe thead th {\n",
       "        text-align: right;\n",
       "    }\n",
       "</style>\n",
       "<table border=\"1\" class=\"dataframe\">\n",
       "  <thead>\n",
       "    <tr style=\"text-align: right;\">\n",
       "      <th></th>\n",
       "      <th>0</th>\n",
       "      <th>1</th>\n",
       "      <th>2</th>\n",
       "      <th>3</th>\n",
       "    </tr>\n",
       "  </thead>\n",
       "  <tbody>\n",
       "    <tr>\n",
       "      <th>0</th>\n",
       "      <td>0.026841</td>\n",
       "      <td>0.260214</td>\n",
       "      <td>0.221081</td>\n",
       "      <td>0.262310</td>\n",
       "    </tr>\n",
       "    <tr>\n",
       "      <th>1</th>\n",
       "      <td>-0.362294</td>\n",
       "      <td>-0.024296</td>\n",
       "      <td>-0.933265</td>\n",
       "      <td>-0.265779</td>\n",
       "    </tr>\n",
       "    <tr>\n",
       "      <th>2</th>\n",
       "      <td>0.403456</td>\n",
       "      <td>1.679061</td>\n",
       "      <td>0.012211</td>\n",
       "      <td>1.913986</td>\n",
       "    </tr>\n",
       "  </tbody>\n",
       "</table>\n",
       "</div>"
      ],
      "text/plain": [
       "          0         1         2         3\n",
       "0  0.026841  0.260214  0.221081  0.262310\n",
       "1 -0.362294 -0.024296 -0.933265 -0.265779\n",
       "2  0.403456  1.679061  0.012211  1.913986"
      ]
     },
     "execution_count": 10,
     "metadata": {},
     "output_type": "execute_result"
    }
   ],
   "source": [
    "df=pd.DataFrame(np.random.randn(3,4))\n",
    "df"
   ]
  },
  {
   "cell_type": "code",
   "execution_count": 42,
   "metadata": {},
   "outputs": [
    {
     "data": {
      "text/html": [
       "<div>\n",
       "<style scoped>\n",
       "    .dataframe tbody tr th:only-of-type {\n",
       "        vertical-align: middle;\n",
       "    }\n",
       "\n",
       "    .dataframe tbody tr th {\n",
       "        vertical-align: top;\n",
       "    }\n",
       "\n",
       "    .dataframe thead th {\n",
       "        text-align: right;\n",
       "    }\n",
       "</style>\n",
       "<table border=\"1\" class=\"dataframe\">\n",
       "  <thead>\n",
       "    <tr style=\"text-align: right;\">\n",
       "      <th></th>\n",
       "      <th>a</th>\n",
       "      <th>b</th>\n",
       "      <th>c</th>\n",
       "      <th>d</th>\n",
       "    </tr>\n",
       "  </thead>\n",
       "  <tbody>\n",
       "    <tr>\n",
       "      <th>0</th>\n",
       "      <td>1.603338</td>\n",
       "      <td>1.646451</td>\n",
       "      <td>0.661408</td>\n",
       "      <td>-0.010841</td>\n",
       "    </tr>\n",
       "    <tr>\n",
       "      <th>1</th>\n",
       "      <td>0.896294</td>\n",
       "      <td>1.353003</td>\n",
       "      <td>0.498521</td>\n",
       "      <td>0.652574</td>\n",
       "    </tr>\n",
       "    <tr>\n",
       "      <th>2</th>\n",
       "      <td>-0.472254</td>\n",
       "      <td>0.276486</td>\n",
       "      <td>0.756741</td>\n",
       "      <td>0.708830</td>\n",
       "    </tr>\n",
       "  </tbody>\n",
       "</table>\n",
       "</div>"
      ],
      "text/plain": [
       "          a         b         c         d\n",
       "0  1.603338  1.646451  0.661408 -0.010841\n",
       "1  0.896294  1.353003  0.498521  0.652574\n",
       "2 -0.472254  0.276486  0.756741  0.708830"
      ]
     },
     "execution_count": 42,
     "metadata": {},
     "output_type": "execute_result"
    }
   ],
   "source": [
    "df=pd.DataFrame(np.random.randn(3,4),columns=list('abcd'))\n",
    "df"
   ]
  },
  {
   "cell_type": "code",
   "execution_count": 46,
   "metadata": {},
   "outputs": [
    {
     "data": {
      "text/html": [
       "<div>\n",
       "<style scoped>\n",
       "    .dataframe tbody tr th:only-of-type {\n",
       "        vertical-align: middle;\n",
       "    }\n",
       "\n",
       "    .dataframe tbody tr th {\n",
       "        vertical-align: top;\n",
       "    }\n",
       "\n",
       "    .dataframe thead th {\n",
       "        text-align: right;\n",
       "    }\n",
       "</style>\n",
       "<table border=\"1\" class=\"dataframe\">\n",
       "  <thead>\n",
       "    <tr style=\"text-align: right;\">\n",
       "      <th></th>\n",
       "      <th>h</th>\n",
       "      <th>e</th>\n",
       "      <th>f</th>\n",
       "      <th>g</th>\n",
       "    </tr>\n",
       "  </thead>\n",
       "  <tbody>\n",
       "    <tr>\n",
       "      <th>0</th>\n",
       "      <td>1.603338</td>\n",
       "      <td>1.646451</td>\n",
       "      <td>0.661408</td>\n",
       "      <td>-0.010841</td>\n",
       "    </tr>\n",
       "    <tr>\n",
       "      <th>1</th>\n",
       "      <td>0.896294</td>\n",
       "      <td>1.353003</td>\n",
       "      <td>0.498521</td>\n",
       "      <td>0.652574</td>\n",
       "    </tr>\n",
       "    <tr>\n",
       "      <th>2</th>\n",
       "      <td>-0.472254</td>\n",
       "      <td>0.276486</td>\n",
       "      <td>0.756741</td>\n",
       "      <td>0.708830</td>\n",
       "    </tr>\n",
       "  </tbody>\n",
       "</table>\n",
       "</div>"
      ],
      "text/plain": [
       "          h         e         f         g\n",
       "0  1.603338  1.646451  0.661408 -0.010841\n",
       "1  0.896294  1.353003  0.498521  0.652574\n",
       "2 -0.472254  0.276486  0.756741  0.708830"
      ]
     },
     "execution_count": 46,
     "metadata": {},
     "output_type": "execute_result"
    },
    {
     "data": {
      "text/html": [
       "<div>\n",
       "<style scoped>\n",
       "    .dataframe tbody tr th:only-of-type {\n",
       "        vertical-align: middle;\n",
       "    }\n",
       "\n",
       "    .dataframe tbody tr th {\n",
       "        vertical-align: top;\n",
       "    }\n",
       "\n",
       "    .dataframe thead th {\n",
       "        text-align: right;\n",
       "    }\n",
       "</style>\n",
       "<table border=\"1\" class=\"dataframe\">\n",
       "  <thead>\n",
       "    <tr style=\"text-align: right;\">\n",
       "      <th></th>\n",
       "      <th>h</th>\n",
       "      <th>e</th>\n",
       "      <th>f</th>\n",
       "      <th>g</th>\n",
       "    </tr>\n",
       "  </thead>\n",
       "  <tbody>\n",
       "    <tr>\n",
       "      <th>0</th>\n",
       "      <td>1.603338</td>\n",
       "      <td>1.646451</td>\n",
       "      <td>0.661408</td>\n",
       "      <td>-0.010841</td>\n",
       "    </tr>\n",
       "    <tr>\n",
       "      <th>1</th>\n",
       "      <td>0.896294</td>\n",
       "      <td>1.353003</td>\n",
       "      <td>0.498521</td>\n",
       "      <td>0.652574</td>\n",
       "    </tr>\n",
       "    <tr>\n",
       "      <th>2</th>\n",
       "      <td>-0.472254</td>\n",
       "      <td>0.276486</td>\n",
       "      <td>0.756741</td>\n",
       "      <td>0.708830</td>\n",
       "    </tr>\n",
       "  </tbody>\n",
       "</table>\n",
       "</div>"
      ],
      "text/plain": [
       "          h         e         f         g\n",
       "0  1.603338  1.646451  0.661408 -0.010841\n",
       "1  0.896294  1.353003  0.498521  0.652574\n",
       "2 -0.472254  0.276486  0.756741  0.708830"
      ]
     },
     "execution_count": 46,
     "metadata": {},
     "output_type": "execute_result"
    }
   ],
   "source": [
    "new_df=df.rename({'a':'ax','b':'bx'},axis='columns')\n",
    "new_df\n",
    "df"
   ]
  },
  {
   "cell_type": "code",
   "execution_count": 47,
   "metadata": {},
   "outputs": [
    {
     "data": {
      "text/html": [
       "<div>\n",
       "<style scoped>\n",
       "    .dataframe tbody tr th:only-of-type {\n",
       "        vertical-align: middle;\n",
       "    }\n",
       "\n",
       "    .dataframe tbody tr th {\n",
       "        vertical-align: top;\n",
       "    }\n",
       "\n",
       "    .dataframe thead th {\n",
       "        text-align: right;\n",
       "    }\n",
       "</style>\n",
       "<table border=\"1\" class=\"dataframe\">\n",
       "  <thead>\n",
       "    <tr style=\"text-align: right;\">\n",
       "      <th></th>\n",
       "      <th>d</th>\n",
       "      <th>e</th>\n",
       "      <th>f</th>\n",
       "      <th>g</th>\n",
       "    </tr>\n",
       "  </thead>\n",
       "  <tbody>\n",
       "    <tr>\n",
       "      <th>0</th>\n",
       "      <td>1.603338</td>\n",
       "      <td>1.646451</td>\n",
       "      <td>0.661408</td>\n",
       "      <td>-0.010841</td>\n",
       "    </tr>\n",
       "    <tr>\n",
       "      <th>1</th>\n",
       "      <td>0.896294</td>\n",
       "      <td>1.353003</td>\n",
       "      <td>0.498521</td>\n",
       "      <td>0.652574</td>\n",
       "    </tr>\n",
       "    <tr>\n",
       "      <th>2</th>\n",
       "      <td>-0.472254</td>\n",
       "      <td>0.276486</td>\n",
       "      <td>0.756741</td>\n",
       "      <td>0.708830</td>\n",
       "    </tr>\n",
       "  </tbody>\n",
       "</table>\n",
       "</div>"
      ],
      "text/plain": [
       "          d         e         f         g\n",
       "0  1.603338  1.646451  0.661408 -0.010841\n",
       "1  0.896294  1.353003  0.498521  0.652574\n",
       "2 -0.472254  0.276486  0.756741  0.708830"
      ]
     },
     "execution_count": 47,
     "metadata": {},
     "output_type": "execute_result"
    }
   ],
   "source": [
    "#df.columns={'a','b','c','d'}\n",
    "df.columns=['d','e','f','g']\n",
    "df.head(5)"
   ]
  },
  {
   "cell_type": "code",
   "execution_count": 32,
   "metadata": {},
   "outputs": [
    {
     "data": {
      "text/html": [
       "<div>\n",
       "<style scoped>\n",
       "    .dataframe tbody tr th:only-of-type {\n",
       "        vertical-align: middle;\n",
       "    }\n",
       "\n",
       "    .dataframe tbody tr th {\n",
       "        vertical-align: top;\n",
       "    }\n",
       "\n",
       "    .dataframe thead th {\n",
       "        text-align: right;\n",
       "    }\n",
       "</style>\n",
       "<table border=\"1\" class=\"dataframe\">\n",
       "  <thead>\n",
       "    <tr style=\"text-align: right;\">\n",
       "      <th></th>\n",
       "      <th>e</th>\n",
       "      <th>d</th>\n",
       "      <th>g</th>\n",
       "      <th>f</th>\n",
       "    </tr>\n",
       "  </thead>\n",
       "  <tbody>\n",
       "    <tr>\n",
       "      <th>0</th>\n",
       "      <td>-0.262602</td>\n",
       "      <td>0.870116</td>\n",
       "      <td>0.227148</td>\n",
       "      <td>-0.231753</td>\n",
       "    </tr>\n",
       "    <tr>\n",
       "      <th>1</th>\n",
       "      <td>-0.682887</td>\n",
       "      <td>0.118717</td>\n",
       "      <td>0.273732</td>\n",
       "      <td>1.434555</td>\n",
       "    </tr>\n",
       "    <tr>\n",
       "      <th>2</th>\n",
       "      <td>-0.777750</td>\n",
       "      <td>-0.073170</td>\n",
       "      <td>-0.581905</td>\n",
       "      <td>-1.293337</td>\n",
       "    </tr>\n",
       "  </tbody>\n",
       "</table>\n",
       "</div>"
      ],
      "text/plain": [
       "          e         d         g         f\n",
       "0 -0.262602  0.870116  0.227148 -0.231753\n",
       "1 -0.682887  0.118717  0.273732  1.434555\n",
       "2 -0.777750 -0.073170 -0.581905 -1.293337"
      ]
     },
     "execution_count": 32,
     "metadata": {},
     "output_type": "execute_result"
    }
   ],
   "source": [
    "df.loc[::-1].reset_index(drop=True)"
   ]
  },
  {
   "cell_type": "code",
   "execution_count": 49,
   "metadata": {},
   "outputs": [
    {
     "data": {
      "text/plain": [
       "d    float64\n",
       "e    float64\n",
       "f    float64\n",
       "g    float64\n",
       "dtype: object"
      ]
     },
     "execution_count": 49,
     "metadata": {},
     "output_type": "execute_result"
    }
   ],
   "source": [
    "df.dtypes"
   ]
  },
  {
   "cell_type": "code",
   "execution_count": 9,
   "metadata": {},
   "outputs": [
    {
     "data": {
      "text/plain": [
       "0    3\n",
       "1    4\n",
       "2    5\n",
       "Name: col_1, dtype: int64"
      ]
     },
     "execution_count": 9,
     "metadata": {},
     "output_type": "execute_result"
    }
   ],
   "source": [
    "df=pd.DataFrame({'col_1':['1','2','3'],'col_2':['22','23','25'],'col_3':['31','32','33']})\n",
    "df.head()\n",
    "df.dtypes\n",
    "df=df.apply(pd.to_numeric,errors='coerce')\n",
    "df.dtypes\n",
    "df.col_1+2"
   ]
  },
  {
   "cell_type": "code",
   "execution_count": null,
   "metadata": {},
   "outputs": [],
   "source": [
    "pd.to_numeric(df.col_1)\n",
    "df.col_1+2\n",
    "df.apply(pd.to_numeric)"
   ]
  },
  {
   "cell_type": "code",
   "execution_count": 17,
   "metadata": {},
   "outputs": [
    {
     "data": {
      "text/plain": [
       "0    1\n",
       "1    2\n",
       "2    3\n",
       "Name: col_1, dtype: object"
      ]
     },
     "execution_count": 17,
     "metadata": {},
     "output_type": "execute_result"
    }
   ],
   "source": [
    "df['col_1'].head()"
   ]
  },
  {
   "cell_type": "code",
   "execution_count": 7,
   "metadata": {},
   "outputs": [
    {
     "name": "stdout",
     "output_type": "stream",
     "text": [
      "col    int64\n",
      "dtype: object\n"
     ]
    },
    {
     "data": {
      "text/plain": [
       "0    3\n",
       "1    4\n",
       "2    5\n",
       "Name: col, dtype: int64"
      ]
     },
     "execution_count": 7,
     "metadata": {},
     "output_type": "execute_result"
    }
   ],
   "source": [
    "import pandas as pd\n",
    "df=pd.DataFrame({'col':['1','2','3']})\n",
    "df.head()\n",
    "df=df.apply(pd.to_numeric)\n",
    "print(df.dtypes)\n",
    "df.col+2"
   ]
  },
  {
   "cell_type": "code",
   "execution_count": 6,
   "metadata": {},
   "outputs": [
    {
     "output_type": "stream",
     "name": "stdout",
     "text": [
      "data\\stock1.csv\ndata\\stock2.csv\ndata\\stock3.csv\n"
     ]
    },
    {
     "output_type": "execute_result",
     "data": {
      "text/plain": [
       "    id    name  score\n",
       "12  13  test13     68\n",
       "10  11  test11     66\n",
       "21  22  test23     81\n",
       "3    4   test4     59\n",
       "4    5   test5     60"
      ],
      "text/html": "<div>\n<style scoped>\n    .dataframe tbody tr th:only-of-type {\n        vertical-align: middle;\n    }\n\n    .dataframe tbody tr th {\n        vertical-align: top;\n    }\n\n    .dataframe thead th {\n        text-align: right;\n    }\n</style>\n<table border=\"1\" class=\"dataframe\">\n  <thead>\n    <tr style=\"text-align: right;\">\n      <th></th>\n      <th>id</th>\n      <th>name</th>\n      <th>score</th>\n    </tr>\n  </thead>\n  <tbody>\n    <tr>\n      <th>12</th>\n      <td>13</td>\n      <td>test13</td>\n      <td>68</td>\n    </tr>\n    <tr>\n      <th>10</th>\n      <td>11</td>\n      <td>test11</td>\n      <td>66</td>\n    </tr>\n    <tr>\n      <th>21</th>\n      <td>22</td>\n      <td>test23</td>\n      <td>81</td>\n    </tr>\n    <tr>\n      <th>3</th>\n      <td>4</td>\n      <td>test4</td>\n      <td>59</td>\n    </tr>\n    <tr>\n      <th>4</th>\n      <td>5</td>\n      <td>test5</td>\n      <td>60</td>\n    </tr>\n  </tbody>\n</table>\n</div>"
     },
     "metadata": {},
     "execution_count": 6
    },
    {
     "output_type": "execute_result",
     "data": {
      "text/plain": [
       "   id   name  score  id    name  score  id    name  score\n",
       "0   1  test1     56  10  test10     65  19  test20     78\n",
       "1   2  test2     57  11  test11     66  20  test21     79\n",
       "2   3  test3     58  12  test12     67  21  test22     80\n",
       "3   4  test4     59  13  test13     68  22  test23     81\n",
       "4   5  test5     60  14  test14     69  23  test24     82"
      ],
      "text/html": "<div>\n<style scoped>\n    .dataframe tbody tr th:only-of-type {\n        vertical-align: middle;\n    }\n\n    .dataframe tbody tr th {\n        vertical-align: top;\n    }\n\n    .dataframe thead th {\n        text-align: right;\n    }\n</style>\n<table border=\"1\" class=\"dataframe\">\n  <thead>\n    <tr style=\"text-align: right;\">\n      <th></th>\n      <th>id</th>\n      <th>name</th>\n      <th>score</th>\n      <th>id</th>\n      <th>name</th>\n      <th>score</th>\n      <th>id</th>\n      <th>name</th>\n      <th>score</th>\n    </tr>\n  </thead>\n  <tbody>\n    <tr>\n      <th>0</th>\n      <td>1</td>\n      <td>test1</td>\n      <td>56</td>\n      <td>10</td>\n      <td>test10</td>\n      <td>65</td>\n      <td>19</td>\n      <td>test20</td>\n      <td>78</td>\n    </tr>\n    <tr>\n      <th>1</th>\n      <td>2</td>\n      <td>test2</td>\n      <td>57</td>\n      <td>11</td>\n      <td>test11</td>\n      <td>66</td>\n      <td>20</td>\n      <td>test21</td>\n      <td>79</td>\n    </tr>\n    <tr>\n      <th>2</th>\n      <td>3</td>\n      <td>test3</td>\n      <td>58</td>\n      <td>12</td>\n      <td>test12</td>\n      <td>67</td>\n      <td>21</td>\n      <td>test22</td>\n      <td>80</td>\n    </tr>\n    <tr>\n      <th>3</th>\n      <td>4</td>\n      <td>test4</td>\n      <td>59</td>\n      <td>13</td>\n      <td>test13</td>\n      <td>68</td>\n      <td>22</td>\n      <td>test23</td>\n      <td>81</td>\n    </tr>\n    <tr>\n      <th>4</th>\n      <td>5</td>\n      <td>test5</td>\n      <td>60</td>\n      <td>14</td>\n      <td>test14</td>\n      <td>69</td>\n      <td>23</td>\n      <td>test24</td>\n      <td>82</td>\n    </tr>\n  </tbody>\n</table>\n</div>"
     },
     "metadata": {},
     "execution_count": 6
    }
   ],
   "source": [
    "import pandas as pd\n",
    "\n",
    "import glob\n",
    "for file in glob.glob(r'data/stock*.csv'):\n",
    "    print(file)\n",
    "\n",
    "df=pd.concat((pd.read_csv(file) for file in glob.glob(r'data/stock*.csv')),ignore_index=True)\n",
    "df=df.sample(frac=1.0)\n",
    "df.head(5)\n",
    "df2=pd.concat((pd.read_csv(file) for file in  glob.glob(r'data/stock*.csv')),axis='columns')\n",
    "df2.head(5)\n",
    "\n"
   ]
  },
  {
   "cell_type": "code",
   "execution_count": 11,
   "metadata": {},
   "outputs": [
    {
     "output_type": "execute_result",
     "data": {
      "text/plain": [
       "[69.0, 80.8, 84.7]"
      ]
     },
     "metadata": {},
     "execution_count": 11
    },
    {
     "output_type": "execute_result",
     "data": {
      "text/plain": [
       "\"\\ndf['group'] = 1 \\nfor i in range(3): \\n    df['group'] = df['group'] + (df['c'] < cut_points[i]) # 或者 <= cut_points[i]\\n\""
      ]
     },
     "metadata": {},
     "execution_count": 11
    }
   ],
   "source": [
    "import numpy as np \n",
    "cut_points = [np.percentile(df['score'], i) for i in [50, 80, 95]] \n",
    "cut_points\n",
    "df['group'] = 1 \n",
    "for i in range(3): \n",
    "    df['group'] = df['group'] + (df['c'] < cut_points[i]) # 或者 <= cut_points[i]\n",
    "'''    "
   ]
  },
  {
   "cell_type": "code",
   "execution_count": null,
   "metadata": {},
   "outputs": [],
   "source": []
  }
 ],
 "metadata": {
  "kernelspec": {
   "display_name": "Python 3",
   "language": "python",
   "name": "python3"
  },
  "language_info": {
   "codemirror_mode": {
    "name": "ipython",
    "version": 3
   },
   "file_extension": ".py",
   "mimetype": "text/x-python",
   "name": "python",
   "nbconvert_exporter": "python",
   "pygments_lexer": "ipython3",
   "version": "3.6.7-final"
  },
  "toc": {
   "base_numbering": 1,
   "nav_menu": {},
   "number_sections": true,
   "sideBar": true,
   "skip_h1_title": false,
   "title_cell": "Table of Contents",
   "title_sidebar": "Contents",
   "toc_cell": false,
   "toc_position": {},
   "toc_section_display": true,
   "toc_window_display": false
  }
 },
 "nbformat": 4,
 "nbformat_minor": 2
}