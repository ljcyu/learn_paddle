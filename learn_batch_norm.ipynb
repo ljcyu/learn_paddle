{
 "cells": [
  {
   "cell_type": "markdown",
   "source": [
    "BatchNorm1D:可用作卷积和全连接操作的批归一化函数，根据当前批次数据按通道计算的均值和方差进行归一化。\n",
    "input: 形状为（批大小，通道数）的2-D Tensor 或（批大小, 通道数，长度）的3-D Tensor。\n",
    "\n",
    "BatchNorm2D是计算4d的批归一化函数，"
   ],
   "metadata": {
    "collapsed": false
   }
  },
  {
   "cell_type": "code",
   "execution_count": 20,
   "outputs": [
    {
     "name": "stdout",
     "output_type": "stream",
     "text": [
      "Tensor(shape=[2, 1], dtype=float32, place=CUDAPlace(0), stop_gradient=True,\n",
      "       [[0.00269735],\n",
      "        [0.20389390]])\n",
      "[[-0.9995063 ]\n",
      " [ 0.99950624]]\n",
      "weight [1.]\n",
      "bias [0.]\n",
      "_mean [0.01032957]\n",
      "_variance [0.902024]\n"
     ]
    },
    {
     "name": "stderr",
     "output_type": "stream",
     "text": [
      "d:\\tool\\python36\\lib\\site-packages\\paddle\\nn\\layer\\norm.py:648: UserWarning: When training, we now always track global mean and variance.\n",
      "  \"When training, we now always track global mean and variance.\")\n"
     ]
    }
   ],
   "source": [
    "import paddle\n",
    "\n",
    "paddle.seed(120)\n",
    "x_data = paddle.rand(shape=(2, 1),dtype='float32')\n",
    "print(x_data)\n",
    "batch_norm = paddle.nn.BatchNorm1D(1)# 通道数\n",
    "batch_norm_out = batch_norm(x_data)\n",
    "\n",
    "print(batch_norm_out.numpy())\n",
    "\n",
    "dict=batch_norm.state_dict()\n",
    "for key in dict:\n",
    "    print(f'{key} {dict[key].numpy()}')\n",
    "\n"
   ],
   "metadata": {
    "collapsed": false
   }
  },
  {
   "cell_type": "code",
   "execution_count": 42,
   "outputs": [
    {
     "name": "stdout",
     "output_type": "stream",
     "text": [
      "x_data:[[0.00269735]\n",
      " [0.2038939 ]]\n",
      " avg:0.103296 std:0.142267\n",
      "\n",
      "自己求标准差：0.010120 用mean(sum)求：0.020240\n",
      "[[-0.9995063]\n",
      " [ 0.9995063]]\n"
     ]
    }
   ],
   "source": [
    "avg=paddle.mean(x_data)\n",
    "variance=paddle.std(x_data)\n",
    "print('x_data:%s\\n avg:%f std:%f'%(x_data.numpy(),avg.numpy(),variance.numpy()))\n",
    "v2=paddle.sum(paddle.square(x_data-avg))/2\n",
    "# 不能这样用，因为sum后只有一维，求\n",
    "v1=paddle.mean(paddle.sum(paddle.square(x_data-avg)))\n",
    "print()\n",
    "print('自己求标准差：%f 用mean(sum)求：%f'%(v2.numpy(),v1.numpy()))\n",
    "res=(x_data-avg)/paddle.sqrt(v2+1e-5)\n",
    "print(res.numpy())"
   ],
   "metadata": {
    "collapsed": false
   }
  },
  {
   "cell_type": "code",
   "execution_count": 40,
   "outputs": [
    {
     "name": "stdout",
     "output_type": "stream",
     "text": [
      "[2, 3, 4]\n"
     ]
    }
   ],
   "source": [
    "import paddle\n",
    "\n",
    "x = paddle.to_tensor([[[1., 2., 3., 4.],\n",
    "                       [5., 6., 7., 8.],\n",
    "                       [9., 10., 11., 12.]],\n",
    "                      [[13., 14., 15., 16.],\n",
    "                       [17., 18., 19., 20.],\n",
    "                       [21., 22., 23., 24.]]])\n",
    "print(x.shape)\n",
    "out1 = paddle.mean(x)\n",
    "# [12.5]\n",
    "out2 = paddle.mean(x, axis=-1)\n",
    "# [[ 2.5  6.5 10.5]\n",
    "#  [14.5 18.5 22.5]]\n",
    "out3 = paddle.mean(x, axis=-1, keepdim=True)\n",
    "# [[[ 2.5]\n",
    "#   [ 6.5]\n",
    "#   [10.5]]\n",
    "#  [[14.5]\n",
    "#   [18.5]\n",
    "#   [22.5]]]\n",
    "out4 = paddle.mean(x, axis=[0, 2])"
   ],
   "metadata": {
    "collapsed": false
   }
  },
  {
   "cell_type": "code",
   "execution_count": null,
   "outputs": [],
   "source": [],
   "metadata": {
    "collapsed": false
   }
  }
 ],
 "metadata": {
  "kernelspec": {
   "display_name": "Python 3",
   "language": "python",
   "name": "python3"
  },
  "language_info": {
   "codemirror_mode": {
    "name": "ipython",
    "version": 2
   },
   "file_extension": ".py",
   "mimetype": "text/x-python",
   "name": "python",
   "nbconvert_exporter": "python",
   "pygments_lexer": "ipython2",
   "version": "2.7.6"
  }
 },
 "nbformat": 4,
 "nbformat_minor": 0
}
