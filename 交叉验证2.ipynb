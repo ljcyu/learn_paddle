{
 "cells": [
  {
   "cell_type": "markdown",
   "source": [
    "# Stratified K-Folds cross-validator\n",
    "\n",
    "\n",
    "Provides train/test indices to split data in train/test sets.\n",
    "This cross-validation object is a variation of KFold that returns stratified folds. The folds are made by preserving the percentage of samples for each class.\n",
    "Read more in the User Guide .\n",
    "-----\n",
    "分层 K 折交叉验证\n",
    "提供训练/测试索引来将数据拆分为训练/测试集。\n",
    "这个交叉验证对象是 KFold 的一个变种,它返回分层折叠。折叠是通过保留每个类的样本百分比来构建的。\n",
    "换句话说:Stratified K-Folds 交叉验证是 KFold 交叉验证的变体,它在生成折叠时会确保每个折叠中每个类别的样本比例与完整数据集中每个类别的样本比例相同。\n",
    "这种方法可以生成更加均衡的交叉验证折叠,避免某些折叠中的某个类别样本过多或过少的情况。这在处理类别不均衡的数据集时尤其有用。\n",
    "Stratified K-Folds 交叉验证通过以下步骤生成折叠:\n",
    "1. 计算数据集中每个类别的样本比例\n",
    "1. 根据步骤1计算的比例,从每个类别中选择相应数量的样本,形成第一折叠\n",
    "2. 从剩余的样本中,重复步骤2 to 生成第二折叠,依此类推。\n",
    "2. 重复步骤2和3,直到生成所需要的折叠数(K 个折叠)这样,在最终的折叠中,每个类别的样本比例与原数据集中每个类别的样本比例都是相同的,实现了分层折叠。\n",
    "\n",
    "## 训练集和测试集划分方法\n",
    "把整个集合分为k份，然后其中一份作为测试集，然后其他所有的作为训练集，反复k次。"
   ],
   "metadata": {
    "collapsed": false
   }
  },
  {
   "cell_type": "code",
   "execution_count": 8,
   "outputs": [
    {
     "name": "stdout",
     "output_type": "stream",
     "text": [
      "StratifiedKFold(n_splits=2, random_state=None, shuffle=False)\n",
      "train_index:[1 4 5],test_index:[0 2 3],y的训练值：[0 1 1]\n",
      "train value  [0 1 1]\n",
      "train_index:[0 2 3],test_index:[1 4 5],y的训练值：[0 1 1]\n",
      "train value  [0 1 1]\n"
     ]
    }
   ],
   "source": [
    "import numpy as np\n",
    "from sklearn.model_selection import StratifiedKFold\n",
    "X = np.array([[1, 2], [3, 4], [1, 2], [3, 4],[1, 2], [3, 4]])\n",
    "y = np.array([0, 0, 1, 1,1,1])\n",
    "skf = StratifiedKFold(n_splits=2)\n",
    "skf.get_n_splits(X, y)\n",
    "#2\n",
    "print(skf)\n",
    "# StratifiedKFold(n_splits=2, random_state=None, shuffle=False)\n",
    "for train_index, test_index in skf.split(X, y):\n",
    "    print(f'train_index:{train_index},test_index:{test_index},y的训练值：{y[train_index]}')\n",
    "    X_train, X_test = X[train_index], X[test_index]\n",
    "    y_train, y_test = y[train_index], y[test_index]\n",
    "    print('train value ',y_train)"
   ],
   "metadata": {
    "collapsed": false,
    "ExecuteTime": {
     "end_time": "2023-05-20T11:52:34.306188700Z",
     "start_time": "2023-05-20T11:52:34.275192Z"
    }
   }
  },
  {
   "cell_type": "markdown",
   "source": [
    "# Notes\n",
    "The implementation is designed to:\n",
    "Generate test sets such that all contain the same distribution of classes, or as close as possible.\n",
    "Be invariant to class label: relabelling y = [\"Happy\", \"Sad\"] to y = [1, 0] should not change the indices generated.\n",
    "Preserve order dependencies in the dataset ordering, when shuffle=False: all samples from class k in some test set were contiguous in y, or separated in y by samples from classes other than k.\n",
    "Generate test sets where the smallest and largest differ by at most one sample.\n",
    "See Also\n",
    " RepeatedStratifiedKFold Repeats Stratified K-Fold n times.\n",
    "Params:\n",
    "n_splits – Number of folds. Must be at least 2.\n",
    "shuffle – Whether to shuffle each class's samples before splitting into batches. Note that the samples within each split will not be shuffled.\n",
    "random_state – When shuffle is True, random_state affects the ordering of the indices, which controls the randomness of each fold for each class. Otherwise, leave random_state as None. Pass an int for reproducible output across multiple function calls. See Glossary  .\n",
    "\n",
    "实现的设计目的是：\n",
    "生成测试集，使所有测试集包含尽可能相同的类分布。\n",
    "对类标签不变：将 y = [\"Happy\", \"Sad\"] 重新标记为 y = [1, 0] 不应改变生成的索引。\n",
    "在 shuffle=False 时保留数据集排序中的顺序依赖关系：在某个测试集中，类 k 的所有样本在 y 中是连续的，或者与其他类的样本分隔开。\n",
    "生成测试集，使最小和最大的差距最多为一个样本。\n",
    "另请参阅\n",
    " RepeatedStratifiedKFold 重复分层 K-折 n 次。\n",
    "参数：\n",
    "n_splits - 折叠次数。必须至少为 2。\n",
    "shuffle - 是否在将每个类的样本分成批次之前进行洗牌。请注意，每个分割中的样本不会被洗牌。\n",
    "   random_state - 当 shuffle 为 True 时，random_state 影响索引的顺序，从而控制每个类的每个折叠的随机性。否则，将 random_state 保留为 None。传递一个整数以在多个函数调用之间产生可重现的输出。请参阅术语表。"
   ],
   "metadata": {
    "collapsed": false
   }
  },
  {
   "cell_type": "code",
   "execution_count": 10,
   "outputs": [
    {
     "name": "stdout",
     "output_type": "stream",
     "text": [
      "StratifiedKFold(n_splits=3, random_state=None, shuffle=False)\n",
      "train_index:[1 3 4 5],test_index:[0 2],y的训练值：[0 1 1 1]\n",
      "train_index:[0 2 4 5],test_index:[1 3],y的训练值：[0 1 1 1]\n",
      "train_index:[0 1 2 3],test_index:[4 5],y的训练值：[0 0 1 1]\n"
     ]
    },
    {
     "name": "stderr",
     "output_type": "stream",
     "text": [
      "d:\\tool\\python36\\lib\\site-packages\\sklearn\\model_selection\\_split.py:672: UserWarning: The least populated class in y has only 2 members, which is less than n_splits=3.\n",
      "  % (min_groups, self.n_splits)), UserWarning)\n"
     ]
    }
   ],
   "source": [
    "skf = StratifiedKFold(n_splits=3)\n",
    "print(skf)\n",
    "for train_index, test_index in skf.split(X, y):\n",
    "    print(f'train_index:{train_index},test_index:{test_index},y的训练值：{y[train_index]}')"
   ],
   "metadata": {
    "collapsed": false,
    "ExecuteTime": {
     "end_time": "2023-05-20T11:54:10.520918100Z",
     "start_time": "2023-05-20T11:54:10.492921700Z"
    }
   }
  },
  {
   "cell_type": "code",
   "execution_count": 13,
   "outputs": [
    {
     "name": "stdout",
     "output_type": "stream",
     "text": [
      "train_index:[3 4 5],test_index:[0 1 2],y的训练值：[1 1 1]\n",
      "train_index:[0 1 2],test_index:[3 4 5],y的训练值：[0 0 1]\n"
     ]
    }
   ],
   "source": [
    "from sklearn.model_selection import KFold\n",
    "\n",
    "kfold=KFold(n_splits=2)\n",
    "kfold.get_n_splits(X,y)\n",
    "for (train_index,test_index) in kfold.split(X,y):\n",
    "    print(f'train_index:{train_index},test_index:{test_index},y的训练值：{y[train_index]}')"
   ],
   "metadata": {
    "collapsed": false,
    "ExecuteTime": {
     "end_time": "2023-05-20T11:56:00.222231700Z",
     "start_time": "2023-05-20T11:56:00.193721Z"
    }
   }
  }
 ],
 "metadata": {
  "kernelspec": {
   "display_name": "Python 3",
   "language": "python",
   "name": "python3"
  },
  "language_info": {
   "codemirror_mode": {
    "name": "ipython",
    "version": 2
   },
   "file_extension": ".py",
   "mimetype": "text/x-python",
   "name": "python",
   "nbconvert_exporter": "python",
   "pygments_lexer": "ipython2",
   "version": "2.7.6"
  }
 },
 "nbformat": 4,
 "nbformat_minor": 0
}
