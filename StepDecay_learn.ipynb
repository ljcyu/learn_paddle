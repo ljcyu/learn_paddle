{
 "cells": [
  {
   "cell_type": "markdown",
   "source": [
    "该接口提供一种学习率按指定 间隔 轮数衰减的策略。\n",
    "\n",
    "衰减过程可以参考以下代码：\n",
    "```\n",
    "learning_rate = 0.5\n",
    "step_size = 30\n",
    "gamma = 0.1\n",
    "\n",
    "learning_rate = 0.5     if epoch < 30\n",
    "learning_rate = 0.05    if 30 <= epoch < 60\n",
    "learning_rate = 0.005   if 60 <= epoch < 90\n",
    "```"
   ],
   "metadata": {
    "collapsed": false
   }
  },
  {
   "cell_type": "code",
   "execution_count": null,
   "outputs": [],
   "source": [
    "import paddle\n",
    "import numpy as np\n",
    "\n",
    "# train on default dynamic graph mode\n",
    "linear = paddle.nn.Linear(10, 10)\n",
    "scheduler = paddle.optimizer.lr.StepDecay(learning_rate=0.5, step_size=5, gamma=0.8, verbose=True)\n",
    "sgd = paddle.optimizer.SGD(learning_rate=scheduler, parameters=linear.parameters())\n",
    "for epoch in range(20):\n",
    "    for batch_id in range(5):\n",
    "        x = paddle.uniform([10, 10])\n",
    "        out = linear(x)\n",
    "        loss = paddle.mean(out)\n",
    "        loss.backward()\n",
    "        sgd.step()\n",
    "        sgd.clear_gradients()\n",
    "        #scheduler.step()    # If you update learning rate each step\n",
    "    scheduler.step()        # If you update learning rate each epoch\n"
   ],
   "metadata": {
    "collapsed": false,
    "pycharm": {
     "is_executing": true
    }
   }
  },
  {
   "cell_type": "markdown",
   "source": [
    "# 结果\n",
    "\n",
    "```plain\n",
    "Epoch 0: StepDecay set learning rate to 0.5.\n",
    "Epoch 1: StepDecay set learning rate to 0.5.\n",
    "Epoch 2: StepDecay set learning rate to 0.5.\n",
    "Epoch 3: StepDecay set learning rate to 0.5.\n",
    "Epoch 4: StepDecay set learning rate to 0.5.\n",
    "Epoch 5: StepDecay set learning rate to 0.4.\n",
    "Epoch 6: StepDecay set learning rate to 0.4.\n",
    "Epoch 7: StepDecay set learning rate to 0.4.\n",
    "Epoch 8: StepDecay set learning rate to 0.4.\n",
    "Epoch 9: StepDecay set learning rate to 0.4.\n",
    "Epoch 10: StepDecay set learning rate to 0.32000000000000006.\n",
    "Epoch 11: StepDecay set learning rate to 0.32000000000000006.\n",
    "Epoch 12: StepDecay set learning rate to 0.32000000000000006.\n",
    "Epoch 13: StepDecay set learning rate to 0.32000000000000006.\n",
    "Epoch 14: StepDecay set learning rate to 0.32000000000000006.\n",
    "Epoch 15: StepDecay set learning rate to 0.25600000000000006.\n",
    "Epoch 16: StepDecay set learning rate to 0.25600000000000006.\n",
    "Epoch 17: StepDecay set learning rate to 0.25600000000000006.\n",
    "Epoch 18: StepDecay set learning rate to 0.25600000000000006.\n",
    "Epoch 19: StepDecay set learning rate to 0.25600000000000006.\n",
    "Epoch 20: StepDecay set learning rate to 0.20480000000000004.\n",
    "```"
   ],
   "metadata": {
    "collapsed": false
   }
  },
  {
   "cell_type": "code",
   "execution_count": null,
   "outputs": [],
   "source": [],
   "metadata": {
    "collapsed": false
   }
  }
 ],
 "metadata": {
  "kernelspec": {
   "display_name": "Python 3",
   "language": "python",
   "name": "python3"
  },
  "language_info": {
   "codemirror_mode": {
    "name": "ipython",
    "version": 2
   },
   "file_extension": ".py",
   "mimetype": "text/x-python",
   "name": "python",
   "nbconvert_exporter": "python",
   "pygments_lexer": "ipython2",
   "version": "2.7.6"
  }
 },
 "nbformat": 4,
 "nbformat_minor": 0
}
