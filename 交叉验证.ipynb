{
 "cells": [
  {
   "cell_type": "code",
   "execution_count": 1,
   "metadata": {
    "collapsed": true
   },
   "outputs": [
    {
     "name": "stdout",
     "output_type": "stream",
     "text": [
      "2\n"
     ]
    }
   ],
   "source": [
    "import numpy as np\n",
    "from sklearn.model_selection import KFold\n",
    "X = np.array([[1, 2], [3, 4], [1, 2], [3, 4]])\n",
    "Y = np.array([1, 2, 3, 4])\n",
    "kf = KFold(n_splits=2)\n",
    "print( kf.get_n_splits(X))"
   ]
  },
  {
   "cell_type": "code",
   "execution_count": 7,
   "outputs": [
    {
     "name": "stdout",
     "output_type": "stream",
     "text": [
      "index [2 3],[0 1]\n",
      "[[1 2]\n",
      " [3 4]] [[1 2]\n",
      " [3 4]]\n",
      "index [0 1],[2 3]\n",
      "[[1 2]\n",
      " [3 4]] [[1 2]\n",
      " [3 4]]\n"
     ]
    }
   ],
   "source": [
    "for train_index,test_index in kf.split(X):\n",
    "    print(f'index {train_index},{test_index}')\n",
    "    x_train,x_test=X[train_index],X[test_index]\n",
    "    print(x_train,x_test)"
   ],
   "metadata": {
    "collapsed": false
   }
  },
  {
   "cell_type": "code",
   "execution_count": 4,
   "outputs": [
    {
     "name": "stdout",
     "output_type": "stream",
     "text": [
      "index [10 11 12 13 14 15 16 17 18 19],[0 1 2 3 4 5 6 7 8 9]\n",
      "[10 11 12 13 14 15 16 17 18 19] [0 1 2 3 4 5 6 7 8 9]\n",
      "index [0 1 2 3 4 5 6 7 8 9],[10 11 12 13 14 15 16 17 18 19]\n",
      "[0 1 2 3 4 5 6 7 8 9] [10 11 12 13 14 15 16 17 18 19]\n"
     ]
    }
   ],
   "source": [
    "n=np.arange(20)\n",
    "for train_index,test_index in kf.split(n):\n",
    "    print(f'index {train_index},{test_index}')\n",
    "    x_train,x_test=n[train_index],n[test_index]\n",
    "    print(x_train,x_test)"
   ],
   "metadata": {
    "collapsed": false
   }
  },
  {
   "cell_type": "code",
   "execution_count": 8,
   "outputs": [
    {
     "name": "stdout",
     "output_type": "stream",
     "text": [
      "0 [ 4  5  6  7  8  9 10 11 12 13 14 15 16 17 18 19] [0 1 2 3]\n",
      "1 [ 0  1  2  3  8  9 10 11 12 13 14 15 16 17 18 19] [4 5 6 7]\n",
      "2 [ 0  1  2  3  4  5  6  7 12 13 14 15 16 17 18 19] [ 8  9 10 11]\n",
      "3 [ 0  1  2  3  4  5  6  7  8  9 10 11 16 17 18 19] [12 13 14 15]\n",
      "4 [ 0  1  2  3  4  5  6  7  8  9 10 11 12 13 14 15] [16 17 18 19]\n"
     ]
    }
   ],
   "source": [
    "kf2=KFold(n_splits=5)\n",
    "for id,(train_index,test_index) in enumerate(kf2.split(n)):\n",
    "    print(f'{id} {train_index} {test_index}')"
   ],
   "metadata": {
    "collapsed": false
   }
  }
 ],
 "metadata": {
  "kernelspec": {
   "display_name": "Python 3",
   "language": "python",
   "name": "python3"
  },
  "language_info": {
   "codemirror_mode": {
    "name": "ipython",
    "version": 2
   },
   "file_extension": ".py",
   "mimetype": "text/x-python",
   "name": "python",
   "nbconvert_exporter": "python",
   "pygments_lexer": "ipython2",
   "version": "2.7.6"
  }
 },
 "nbformat": 4,
 "nbformat_minor": 0
}
